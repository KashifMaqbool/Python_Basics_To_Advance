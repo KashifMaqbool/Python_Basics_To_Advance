{
 "cells": [
  {
   "cell_type": "markdown",
   "id": "88d1aff1-2e8c-4d5f-8275-93499e64d8bd",
   "metadata": {},
   "source": [
    "# 1.ConfigParser Module\n",
    "- ConfigParser is a handy module, useful for structuring configuration files.  \n",
    "- These configuration files can be used by your applications to read or write settings as required.  \n",
    "- It follows a simple structure, making it easy to align settings in a readable manner.  \n",
    "- The structure is similar to that of INI files by Windows.  \n",
    "- It can create configuration files directly through dictionaries by automatically parsing files read as strings.  \n",
    "\n",
    "#### ConfigParser Common Usage\n",
    "1. The most common use for a configuration file is to have a user or system administrator edit the file with a regular text editor to set application behavior defaults.  \n",
    "2. The application then reads the file, parses it, and acts based on its contents.  \n",
    "\n",
    "#### ConfigParser INI File\n",
    "A sample configuration file with section **`bug_tracker`** and three options would look like:\n",
    "\n",
    "```ini\n",
    "[bug_tracker]\n",
    "url = http://localhost:8080/bugs/\n",
    "username = dhellmann\n",
    "password = SECRET"
   ]
  },
  {
   "cell_type": "markdown",
   "id": "e86ffaf2-a980-427c-87b3-b590e467a89b",
   "metadata": {},
   "source": [
    "## 1.1 ConfigParser .ini files"
   ]
  },
  {
   "cell_type": "code",
   "execution_count": 55,
   "id": "1cf25b01-fbeb-4fad-b273-51a6ebe3f3ff",
   "metadata": {},
   "outputs": [
    {
     "data": {
      "text/plain": [
       "['main',\n",
       " 'update_manager',\n",
       " 'toolbar',\n",
       " 'statusbar',\n",
       " 'internal_console',\n",
       " 'main_interpreter',\n",
       " 'ipython_console',\n",
       " 'variable_explorer',\n",
       " 'debugger',\n",
       " 'run',\n",
       " 'plots',\n",
       " 'editor',\n",
       " 'historylog',\n",
       " 'help',\n",
       " 'onlinehelp',\n",
       " 'outline_explorer',\n",
       " 'preferences',\n",
       " 'project_explorer',\n",
       " 'explorer',\n",
       " 'find_in_files',\n",
       " 'completions',\n",
       " 'profiler',\n",
       " 'pylint',\n",
       " 'workingdir',\n",
       " 'tours',\n",
       " 'shortcuts',\n",
       " 'appearance',\n",
       " 'remoteclient']"
      ]
     },
     "execution_count": 55,
     "metadata": {},
     "output_type": "execute_result"
    }
   ],
   "source": [
    "import configparser\n",
    "\n",
    "# Creates an instance/object of ConfigParser called config,\n",
    "config = configparser.ConfigParser()\n",
    "\n",
    "# Use .read() method of ConfigParser() with the help of the object(config),\n",
    "# and read the .ini file inside spyder directory\n",
    "config.read('/Users/kashifmaqbool/.spyder-py3/config/spyder.ini')\n",
    "config.sections()"
   ]
  },
  {
   "cell_type": "code",
   "execution_count": 56,
   "id": "e799a5bf-1251-4d25-ae56-83a0d2aa2d7d",
   "metadata": {},
   "outputs": [
    {
     "data": {
      "text/plain": [
       "['enable',\n",
       " 'max_history_entries',\n",
       " 'wrap',\n",
       " 'connect/editor',\n",
       " 'connect/ipython_console',\n",
       " 'math',\n",
       " 'automatic_import',\n",
       " 'plain_mode',\n",
       " 'rich_mode',\n",
       " 'show_source',\n",
       " 'locked',\n",
       " 'window_was_undocked_before_hiding',\n",
       " 'first_time',\n",
       " 'undocked_on_window_close']"
      ]
     },
     "execution_count": 56,
     "metadata": {},
     "output_type": "execute_result"
    }
   ],
   "source": [
    "# Going into the section of the help and view all available setting options\n",
    "[option for option in config['help']]"
   ]
  },
  {
   "cell_type": "markdown",
   "id": "1b17978c-321f-4208-98d1-87df3a9d03d3",
   "metadata": {},
   "source": [
    "## 1.2 Config Parser reading dictionaries"
   ]
  },
  {
   "cell_type": "code",
   "execution_count": 57,
   "id": "29e37767-bb2d-4d26-96bf-ad68ac7fff19",
   "metadata": {},
   "outputs": [
    {
     "name": "stdout",
     "output_type": "stream",
     "text": [
      "Printing Sections of the dictionary.\n",
      "['Section_1', 'Section_2', 'Section_3']\n",
      "\n",
      "Printing Settings of Section_2\n",
      "['setting1', 'setting2', 'setting3']\n",
      "\n",
      "Printing Value of Setting2 in Section_1\n"
     ]
    },
    {
     "data": {
      "text/plain": [
       "'Video Call'"
      ]
     },
     "execution_count": 57,
     "metadata": {},
     "output_type": "execute_result"
    }
   ],
   "source": [
    "dictionary = {\n",
    "    'Section_1':\n",
    "    {\"Setting1\" : \"Voice Call\", \"Setting2\" : \"Video Call\", \"Setting3\" : \"Simple Call\"},\n",
    "    'Section_2':\n",
    "    {\"Setting1\" : \"Light Theme\", \"Setting2\" : \"Dark Theme\", \"Setting3\" : \"Night Theme\"},\n",
    "    'Section_3':\n",
    "    {\"Setting1\" : \"Volume Up\", \"Setting2\" : \"Volume Down\", \"Setting3\" : \"Dolby Atmos\"},\n",
    "}\n",
    "\n",
    "import configparser\n",
    "\n",
    "parser = configparser.ConfigParser()\n",
    "parser.read_dict(dictionary)\n",
    "\n",
    "print('Printing Sections of the dictionary.')\n",
    "print(parser.sections())\n",
    "print(\"\")\n",
    "\n",
    "print('Printing Settings of Section_2')\n",
    "print([option for option in parser['Section_2']])\n",
    "print(\"\")\n",
    "\n",
    "print('Printing Value of Setting2 in Section_1')\n",
    "parser['Section_1']['Setting2']"
   ]
  },
  {
   "cell_type": "markdown",
   "id": "bbfcc2a6-4231-4105-8894-5fc6502438e9",
   "metadata": {},
   "source": [
    "## 1.3 Config parser Reading the Strings"
   ]
  },
  {
   "cell_type": "code",
   "execution_count": 58,
   "id": "1d2fda0f-1038-4f5d-af27-fbcf135a75cb",
   "metadata": {},
   "outputs": [
    {
     "name": "stdout",
     "output_type": "stream",
     "text": [
      "Section:  ['My Settings']\n",
      "User's Value:  username\n"
     ]
    }
   ],
   "source": [
    "sample_config =\"\"\"\n",
    "    [My Settings]\n",
    "    user = username\n",
    "    profile = /my/directory/to/profile.png *\n",
    "    gender = male\n",
    "\"\"\"\n",
    "\n",
    "config = configparser.ConfigParser()\n",
    "\n",
    "config.read_string(sample_config)\n",
    "print(\"Section: \", config.sections())\n",
    "print(\"User's Value: \", config[\"My Settings\"][\"user\"])"
   ]
  },
  {
   "cell_type": "markdown",
   "id": "2dc31904-1430-4890-a8d0-3436de7c2938",
   "metadata": {},
   "source": [
    "## 1.4 Exercise\n",
    "Your team has just finished creating a software product for a marketing company.  \n",
    "The software reports summary statistics for data plugged in.  \n",
    "\n",
    "You are required to create a configuration file that takes the following information for the software to pick up and use:  \n",
    "\n",
    "| Setting              | Description                             |\n",
    "|-----------------------|-----------------------------------------|\n",
    "| root directory        | Path to the main directory              |\n",
    "| Username              | User credentials                        |\n",
    "| number of databases   | Total number of connected databases     |\n",
    "| summary unit          | Percent or absolute values              |\n",
    "\n",
    "#### Instructions\n",
    "- Create your own default values.  \n",
    "- Save your file as **`configuration.txt`**.  \n",
    "- Use the appropriate library (`configparser`).  \n"
   ]
  },
  {
   "cell_type": "code",
   "execution_count": 59,
   "id": "48b128e4-2c58-466c-8a27-33639a5b5f55",
   "metadata": {},
   "outputs": [
    {
     "name": "stdout",
     "output_type": "stream",
     "text": [
      "Configuration Loaded:\n",
      "Root Directory      : /Users/kashif/marketing_software\n",
      "Username            : admin_user\n",
      "Number of Databases : 3\n",
      "Summary Unit        : percent\n"
     ]
    }
   ],
   "source": [
    "import configparser\n",
    "\n",
    "# Creating a ConfigParser object\n",
    "config = configparser.ConfigParser()\n",
    "\n",
    "# Reading the configuration file\n",
    "config.read(\"2.1_configuration.txt\")\n",
    "\n",
    "# Accessing values inside the section\n",
    "root_dir = config[\"Settings\"][\"root_directory\"]\n",
    "username = config[\"Settings\"][\"username\"]\n",
    "num_databases = config[\"Settings\"][\"number_of_databases\"]\n",
    "summary_unit = config[\"Settings\"][\"summary_unit\"]\n",
    "\n",
    "# Display the values of Settings of Section\n",
    "print(\"Configuration Loaded:\")\n",
    "print(f\"Root Directory      : {root_dir}\")\n",
    "print(f\"Username            : {username}\")\n",
    "print(f\"Number of Databases : {num_databases}\")\n",
    "print(f\"Summary Unit        : {summary_unit}\")\n"
   ]
  }
 ],
 "metadata": {
  "kernelspec": {
   "display_name": "Python (ds_env)",
   "language": "python",
   "name": "ds_env"
  },
  "language_info": {
   "codemirror_mode": {
    "name": "ipython",
    "version": 3
   },
   "file_extension": ".py",
   "mimetype": "text/x-python",
   "name": "python",
   "nbconvert_exporter": "python",
   "pygments_lexer": "ipython3",
   "version": "3.13.5"
  }
 },
 "nbformat": 4,
 "nbformat_minor": 5
}
