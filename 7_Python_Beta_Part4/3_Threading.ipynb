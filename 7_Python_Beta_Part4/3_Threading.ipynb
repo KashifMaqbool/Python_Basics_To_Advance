{
 "cells": [
  {
   "cell_type": "markdown",
   "id": "64660f13-eac6-4699-84cf-df7cd0d31f07",
   "metadata": {},
   "source": [
    "# 1. Threading\n",
    "\n",
    "- Python interpreter executes code in a line-by-line fashion.  \n",
    "- This means it cannot move ahead unless it is done executing a line.  \n",
    "- But what if you need to **simultaneously run more than one code execution** within a single script?  \n",
    "- A **thread** is a flow of execution. It allows your program to run more than one independent task at once, using **threading**.  \n",
    "- However, depending on the Python implementation, it may or may not support true parallel threading but can appear to run simultaneously.  \n",
    "- **`threading`** is a built-in Python library that allows working with threads\n",
    "#### Thread Method\n",
    "- `.start()` → Initiates the thread and runs the respective method.  \n",
    "- `.join()` → Waits for the thread to finish before continuing execution.\n",
    "#### Advantages and Cautions of Threading\n",
    "- ✅ Threading allows your program to run multiple tasks simultaneously without immediate error breaks.  \n",
    "- ⚠️ If used **recklessly**, threading may reduce speed, efficiency, and code clarity.  \n",
    "- **Key takeaway:** Use threading only where necessary and with caution.  \n"
   ]
  },
  {
   "cell_type": "markdown",
   "id": "239bda8f-f49b-4f48-b79c-e46a77781e87",
   "metadata": {},
   "source": [
    "## 1.2 Example 1\n",
    "- We can create two methods:  \n",
    "  1. `get_cubic()` → Cubes the input.  \n",
    "  2. `get_inverse()` → Inverts the input.  \n",
    "- Using the **Thread** class, we pass the method and its respective arguments.  \n",
    "- This lets both methods run simultaneously.  \n"
   ]
  },
  {
   "cell_type": "code",
   "execution_count": 6,
   "id": "fb40b66c-369b-4e70-9a9e-6a05fe61fe1d",
   "metadata": {},
   "outputs": [
    {
     "name": "stdout",
     "output_type": "stream",
     "text": [
      "2025-09-17 17:58:21.138949\n",
      "Cube of  5  is:  125\n",
      "\n",
      "2025-09-17 17:58:21.139673\n",
      "Inverse of  1545  is:  0.0006472491909385113\n",
      "Finish Threading!\n"
     ]
    }
   ],
   "source": [
    "import threading\n",
    "import datetime\n",
    "\n",
    "def get_cube(num):\n",
    "    print(datetime.datetime.now())\n",
    "    print(\"Cube of \", num, \" is: \", (num * num * num))\n",
    "    print(\"\")\n",
    "    \n",
    "\n",
    "def get_inverse(num):\n",
    "    print(datetime.datetime.now())\n",
    "    print(\"Inverse of \", num, \" is: \", (1/num))\n",
    "\n",
    "    \n",
    "if __name__ == '__main__':\n",
    "    # Creating Threads\n",
    "    t1 = threading.Thread(target=get_cube, args=(5,))\n",
    "    t2 = threading.Thread(target=get_inverse, args=(1545,))\n",
    "\n",
    "    # Starting Threads\n",
    "    t1.start()\n",
    "    t2.start()\n",
    "\n",
    "    # Waiting for each to finish\n",
    "    t1.join()  # t1 waits until t2 executes\n",
    "\n",
    "\n",
    "    print(\"Finish Threading!\")"
   ]
  },
  {
   "cell_type": "markdown",
   "id": "d0344457-8304-4a8e-8262-7ad85c68da68",
   "metadata": {},
   "source": [
    "### 1.2.1 Example 1 with some syntax changes"
   ]
  },
  {
   "cell_type": "code",
   "execution_count": 7,
   "id": "dc5d6451-1ab6-4c2c-a47f-41b518b10a11",
   "metadata": {},
   "outputs": [
    {
     "name": "stdout",
     "output_type": "stream",
     "text": [
      "2025-09-17 17:59:28.636428\n",
      "Cube is: 300763\n",
      "\n",
      "2025-09-17 17:59:28.636867\n",
      "Inverse is: 0.06666666666666667\n",
      "Finish Threading!\n"
     ]
    }
   ],
   "source": [
    "import threading\n",
    "import datetime\n",
    "\n",
    "def get_cube(num):\n",
    "    print(datetime.datetime.now())\n",
    "    print(\"Cube is: {}\" .format(num * num * num))\n",
    "    print(\"\")\n",
    "    \n",
    "\n",
    "def get_inverse(num):\n",
    "    print(datetime.datetime.now())\n",
    "    print(\"Inverse is: {}\" .format(1/num))\n",
    "\n",
    "    \n",
    "if __name__ == '__main__':\n",
    "    # Creating Threads\n",
    "    t1 = threading.Thread(get_cube(67))\n",
    "    t2 = threading.Thread(get_inverse(15))\n",
    "\n",
    "    # Starting Threads\n",
    "    t1.start()\n",
    "    t2.start()\n",
    "\n",
    "    # Waiting for each to finish\n",
    "    t2.join()  # t2 waits until t1 executes\n",
    "\n",
    "\n",
    "    print(\"Finish Threading!\")"
   ]
  },
  {
   "cell_type": "markdown",
   "id": "fe162c9c-a175-4976-8ba4-938ae6ad3916",
   "metadata": {},
   "source": [
    "## 1.3 Example 2\n",
    "- If `10` (a number) is passed, it works fine.  \n",
    "- If `'10'` (a string) is passed to `get_inverse()`, it will throw an error.  \n",
    "- Since threading is used, the program does not completely crash—it will continue execution after handling the thread’s error.  "
   ]
  },
  {
   "cell_type": "code",
   "execution_count": 9,
   "id": "3ee1c00b-c8db-4ccc-a6a8-f5863af5387c",
   "metadata": {},
   "outputs": [
    {
     "name": "stdout",
     "output_type": "stream",
     "text": [
      "2025-09-17 18:01:55.399540\n",
      "Cube is: 300763\n",
      "\n",
      "2025-09-17 18:01:55.400554\n"
     ]
    },
    {
     "ename": "TypeError",
     "evalue": "unsupported operand type(s) for /: 'int' and 'str'",
     "output_type": "error",
     "traceback": [
      "\u001b[31m---------------------------------------------------------------------------\u001b[39m",
      "\u001b[31mTypeError\u001b[39m                                 Traceback (most recent call last)",
      "\u001b[36mCell\u001b[39m\u001b[36m \u001b[39m\u001b[32mIn[9]\u001b[39m\u001b[32m, line 18\u001b[39m\n\u001b[32m     15\u001b[39m \u001b[38;5;28;01mif\u001b[39;00m \u001b[34m__name__\u001b[39m == \u001b[33m'\u001b[39m\u001b[33m__main__\u001b[39m\u001b[33m'\u001b[39m:\n\u001b[32m     16\u001b[39m     \u001b[38;5;66;03m# Creating Threads\u001b[39;00m\n\u001b[32m     17\u001b[39m     t1 = threading.Thread(get_cube(\u001b[32m67\u001b[39m))\n\u001b[32m---> \u001b[39m\u001b[32m18\u001b[39m     t2 = threading.Thread(get_inverse(\u001b[33m'\u001b[39m\u001b[33m15\u001b[39m\u001b[33m'\u001b[39m))\n\u001b[32m     20\u001b[39m     \u001b[38;5;66;03m# Starting Threads\u001b[39;00m\n\u001b[32m     21\u001b[39m     t1.start()\n",
      "\u001b[36mCell\u001b[39m\u001b[36m \u001b[39m\u001b[32mIn[9]\u001b[39m\u001b[32m, line 12\u001b[39m, in \u001b[36mget_inverse\u001b[39m\u001b[34m(num)\u001b[39m\n\u001b[32m     10\u001b[39m \u001b[38;5;28;01mdef\u001b[39;00m\u001b[38;5;250m \u001b[39m\u001b[34mget_inverse\u001b[39m(num):\n\u001b[32m     11\u001b[39m     \u001b[38;5;28mprint\u001b[39m(datetime.datetime.now())\n\u001b[32m---> \u001b[39m\u001b[32m12\u001b[39m     \u001b[38;5;28mprint\u001b[39m(\u001b[33m\"\u001b[39m\u001b[33mInverse is: \u001b[39m\u001b[38;5;132;01m{}\u001b[39;00m\u001b[33m\"\u001b[39m .format(\u001b[32m1\u001b[39m/num))\n",
      "\u001b[31mTypeError\u001b[39m: unsupported operand type(s) for /: 'int' and 'str'"
     ]
    }
   ],
   "source": [
    "import threading\n",
    "import datetime\n",
    "\n",
    "def get_cube(num):\n",
    "    print(datetime.datetime.now())\n",
    "    print(\"Cube is: {}\" .format(num * num * num))\n",
    "    print(\"\")\n",
    "    \n",
    "\n",
    "def get_inverse(num):\n",
    "    print(datetime.datetime.now())\n",
    "    print(\"Inverse is: {}\" .format(1/num))\n",
    "\n",
    "    \n",
    "if __name__ == '__main__':\n",
    "    # Creating Threads\n",
    "    t1 = threading.Thread(get_cube(67))\n",
    "    t2 = threading.Thread(get_inverse('15'))\n",
    "\n",
    "    # Starting Threads\n",
    "    t1.start()\n",
    "    t2.start()\n",
    "\n",
    "    # Waiting for each to finish\n",
    "    t1.join()  # t1 waits until t2 executes\n",
    "    t2.join()  # t2 waits until t1 executes\n",
    "\n",
    "\n",
    "    print(\"Finish Threading!\")"
   ]
  },
  {
   "cell_type": "markdown",
   "id": "f19f820c-f411-43b7-9275-7ab250a7e147",
   "metadata": {},
   "source": [
    "## 1.4 Exercise 1\n",
    "\n",
    "You are required to conduct an analysis on **temperature readings** from a plant.  \n",
    "\n",
    "- Dataset: **`temperatures.csv`**  \n",
    "- Tasks:  \n",
    "\n",
    "| Task No. | Required Calculation                          |\n",
    "|----------|-----------------------------------------------|\n",
    "| 1        | Average time lapse in readings                |\n",
    "| 2        | Average per hour temperature recording        |\n",
    "| 3        | Largest spike in data (percentage)            |\n",
    "| 4        | Overall deviation in the data                 |\n",
    "\n",
    "- Conduct the above **4 calculations using two threads**:  \n",
    "  - Thread 1 → Task 1 & 2  \n",
    "  - Thread 2 → Task 3 & 4  \n",
    "- Measure execution time **with and without threads**.  \n",
    "- Log results in: **`section_four/temperature.txt`** using the appropriate library.  "
   ]
  },
  {
   "cell_type": "code",
   "execution_count": 14,
   "id": "f41baa0d-4059-4d09-be7f-160fe294f9fd",
   "metadata": {},
   "outputs": [
    {
     "name": "stdout",
     "output_type": "stream",
     "text": [
      "The time lapse is: 562.5\n",
      "The largest spike in temperature is: 1.3157894736842104\n",
      "Average hourly temperatures are  [21.01, 16.83, 15.7]\n",
      "Deviation in temperature is:  5.60796517075502\n",
      "With threading it took: 0.0010330677 seconds.\n",
      "\n",
      "The time lapse is: 562.5\n",
      "The largest spike in temperature is: 1.3157894736842104\n",
      "Average hourly temperatures are  [21.01, 16.83, 15.7]\n",
      "Deviation in temperature is:  5.60796517075502\n",
      "Without threading it took: 0.000138998 seconds\n"
     ]
    }
   ],
   "source": [
    "import logging\n",
    "import time\n",
    "import datetime \n",
    "import threading \n",
    "import csv \n",
    "\n",
    "# read file from csv \n",
    "file = \"3.1_temperature.csv\"\n",
    "\n",
    "# read data \n",
    "temp_list = []\n",
    "time_list = []\n",
    "with open(file, 'r', encoding=\"utf-8-sig\") as f:  # utf-8-sig removes BOM\n",
    "    reader = csv.reader(f)\n",
    "    for row in reader:\n",
    "        time_check, temp = row\n",
    "        time_check = datetime.datetime.strptime(time_check.strip(), '%H:%M:%S')\n",
    "        temp = float(temp)\n",
    "        temp_list.append(temp)\n",
    "        time_list.append(time_check)\n",
    "\n",
    "# define method for time lapse \n",
    "def caclulate_time_lapse(time_data):\n",
    "    assert type(time_data) == list \n",
    "    all_time_lapses = []\n",
    "    for ind in range(1, len(time_data)):\n",
    "        lapse = (time_data[ind] - time_data[ind-1]).total_seconds()\n",
    "        all_time_lapses.append(lapse) \n",
    "    avg_time_lapse = sum(all_time_lapses)/len(all_time_lapses)\n",
    "    return avg_time_lapse\n",
    "\n",
    "# define method for largest spike in temperature \n",
    "def calculate_largest_spike(temperature_data):\n",
    "    pct_change = []\n",
    "    for ind in range(1, len(temperature_data)):\n",
    "        diff = (temperature_data[ind] - temperature_data[ind-1]) / temperature_data[ind-1]\n",
    "        pct_change.append(diff)\n",
    "    return max(pct_change)\n",
    "\n",
    "# define method for calculating hourly temperature \n",
    "def calculate_hourly_temperature(time_data, temp_data):\n",
    "    time_in_hours = [time_val.hour for time_val in time_data]\n",
    "    unique_hours = set(time_in_hours)   \n",
    "    avg_readings = []\n",
    "    for unique_hour in unique_hours:\n",
    "        hour_readings = [temp_data[ind] for ind in range(len(time_in_hours)) if time_in_hours[ind] == unique_hour]\n",
    "        avg = sum(hour_readings) / len(hour_readings)\n",
    "        avg_readings.append(round(avg, 2))\n",
    "    return avg_readings\n",
    "\n",
    "# define method for calculating standard deviation in temperature \n",
    "def calculate_deviation_temperature(temperature_data):\n",
    "    avg_temperature = sum(temperature_data) / len(temperature_data)\n",
    "    total_observations = len(temperature_data)\n",
    "    sq_diff = [(value - avg_temperature) ** 2 for value in temperature_data]\n",
    "    sum_squared_avg = sum(sq_diff) / total_observations\n",
    "    standard_deviation = sum_squared_avg ** 0.5\n",
    "    return standard_deviation\n",
    "\n",
    "# define method for first thread calculations\n",
    "def first_thread_function():\n",
    "    tl = caclulate_time_lapse(time_list)\n",
    "    print('The time lapse is:', tl)\n",
    "    ls = calculate_largest_spike(temp_list)\n",
    "    print('The largest spike in temperature is:', ls)\n",
    "    return \n",
    "\n",
    "# define method for second thread calculations \n",
    "def second_thread_function():\n",
    "    av_temp = calculate_hourly_temperature(time_list, temp_list)\n",
    "    print('Average hourly temperatures are ', av_temp)\n",
    "    std = calculate_deviation_temperature(temp_list)\n",
    "    print('Deviation in temperature is: ', std)\n",
    "    return \n",
    "\n",
    "def get_time(start, end):\n",
    "    return round(end - start, 10)\n",
    "\n",
    "def main():\n",
    "    # with threading\n",
    "    start = time.time()\n",
    "    t1 = threading.Thread(target=first_thread_function) \n",
    "    t2 = threading.Thread(target=second_thread_function) \n",
    "    t1.start(); t2.start()\n",
    "    t1.join(); t2.join()\n",
    "    end = time.time()\n",
    "    print('With threading it took: {} seconds.'.format(get_time(start, end)))\n",
    "    print(\"\")\n",
    "\n",
    "    # without threading\n",
    "    start2 = time.time()\n",
    "    first_thread_function()\n",
    "    second_thread_function()\n",
    "    end2 = time.time()\n",
    "    print('Without threading it took: {} seconds'.format(get_time(start2, end2)))\n",
    "\n",
    "main()\n"
   ]
  },
  {
   "cell_type": "code",
   "execution_count": null,
   "id": "7d65a366-a28d-4006-8054-413665d71855",
   "metadata": {},
   "outputs": [],
   "source": []
  },
  {
   "cell_type": "code",
   "execution_count": null,
   "id": "1fbf97fc-65f0-4c92-912d-3b1b0c3aa87a",
   "metadata": {},
   "outputs": [],
   "source": []
  },
  {
   "cell_type": "code",
   "execution_count": null,
   "id": "f264d156-646f-48ed-840a-33e7f5619e38",
   "metadata": {},
   "outputs": [],
   "source": []
  },
  {
   "cell_type": "code",
   "execution_count": null,
   "id": "f553e098-695d-4243-8131-50eb5b93d94b",
   "metadata": {},
   "outputs": [],
   "source": []
  }
 ],
 "metadata": {
  "kernelspec": {
   "display_name": "Python (ds_env)",
   "language": "python",
   "name": "ds_env"
  },
  "language_info": {
   "codemirror_mode": {
    "name": "ipython",
    "version": 3
   },
   "file_extension": ".py",
   "mimetype": "text/x-python",
   "name": "python",
   "nbconvert_exporter": "python",
   "pygments_lexer": "ipython3",
   "version": "3.13.5"
  }
 },
 "nbformat": 4,
 "nbformat_minor": 5
}
