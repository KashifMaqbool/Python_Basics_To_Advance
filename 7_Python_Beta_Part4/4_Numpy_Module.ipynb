{
 "cells": [
  {
   "cell_type": "code",
   "execution_count": null,
   "id": "07ae3752-0554-4d51-8283-3d9bbf019fbb",
   "metadata": {},
   "outputs": [],
   "source": [
    "# One dimensional array"
   ]
  },
  {
   "cell_type": "code",
   "execution_count": 5,
   "id": "a12d19a3-034d-4cf1-98fc-1d5986473318",
   "metadata": {},
   "outputs": [
    {
     "name": "stdout",
     "output_type": "stream",
     "text": [
      "[0 1 2 3 4 5 6 7 8 9]\n"
     ]
    }
   ],
   "source": [
    "import numpy as np\n",
    "arr = np.array([0,1,2,3,4,5,6,7,8,9])\n",
    "print(arr)"
   ]
  },
  {
   "cell_type": "code",
   "execution_count": 27,
   "id": "adf41d23-ae7d-4c56-8af7-87ba749d4ffc",
   "metadata": {},
   "outputs": [
    {
     "name": "stdout",
     "output_type": "stream",
     "text": [
      "0\n",
      "1\n",
      "2\n",
      "3\n",
      "4\n",
      "5\n",
      "6\n",
      "7\n",
      "8\n",
      "9\n"
     ]
    }
   ],
   "source": [
    "for i in arr:\n",
    "    print(arr[i])\n"
   ]
  },
  {
   "cell_type": "code",
   "execution_count": 28,
   "id": "e5cdb685-f68a-4e32-9ce9-54a9036a5854",
   "metadata": {},
   "outputs": [
    {
     "name": "stdout",
     "output_type": "stream",
     "text": [
      "0\n",
      "1\n",
      "2\n",
      "3\n",
      "4\n"
     ]
    }
   ],
   "source": [
    "for i in arr:\n",
    "    if arr[i] <= 4:\n",
    "        print(arr[i])"
   ]
  },
  {
   "cell_type": "code",
   "execution_count": 24,
   "id": "54804455-9e3a-4cf2-81cf-d4d092f482ef",
   "metadata": {},
   "outputs": [
    {
     "name": "stdout",
     "output_type": "stream",
     "text": [
      "[0 1 2]\n",
      "[0 1 2]\n",
      "1\n",
      "[0 1 2 3 4 5 6 7 8 9]\n"
     ]
    }
   ],
   "source": [
    "print(arr[0:3])\n",
    "print(arr[0:3, ]) # Printing row from 0 to 3 but no column.\n",
    "print(arr[1])     # printing second column but zero row\n",
    "print(arr[0: ])   # Printing first row and zero column"
   ]
  },
  {
   "cell_type": "code",
   "execution_count": null,
   "id": "c2c50ca0-635d-4c76-8e94-5032f74bdd98",
   "metadata": {},
   "outputs": [],
   "source": [
    "# Two Dimensional Array"
   ]
  },
  {
   "cell_type": "code",
   "execution_count": 33,
   "id": "a12338b9-2785-4d5c-8cfe-f5deb69693dd",
   "metadata": {},
   "outputs": [
    {
     "name": "stdout",
     "output_type": "stream",
     "text": [
      "[[ 1  2  3  4  5]\n",
      " [ 6  7  8  9 10]]\n"
     ]
    }
   ],
   "source": [
    "arr1 = np.array([[1, 2, 3, 4, 5],\n",
    "                [6, 7, 8, 9, 10]])\n",
    "print(arr1)"
   ]
  },
  {
   "cell_type": "code",
   "execution_count": 39,
   "id": "fc9cd28e-c568-47bb-8fb9-6a93f0d258cb",
   "metadata": {},
   "outputs": [
    {
     "name": "stdout",
     "output_type": "stream",
     "text": [
      "Element at (0,0) =  1\n",
      "Element at (0,1) =  2\n",
      "Element at (0,2) =  3\n",
      "Element at (0,3) =  4\n",
      "Element at (0,4) =  5\n",
      "Element at (1,0) =  6\n",
      "Element at (1,1) =  7\n",
      "Element at (1,2) =  8\n",
      "Element at (1,3) =  9\n",
      "Element at (1,4) =  10\n"
     ]
    }
   ],
   "source": [
    "# Accessing array elements via loop\n",
    "arr1 = np.array([[1, 2, 3, 4, 5],\n",
    "                [6, 7, 8, 9, 10]])\n",
    "rows, col = arr1.shape\n",
    "\n",
    "for i in range(rows):\n",
    "    for j in range(col):\n",
    "        print(f\"Element at ({i},{j}) = \", arr1[i][j])"
   ]
  },
  {
   "cell_type": "code",
   "execution_count": 111,
   "id": "1b48d96a-016c-4c02-ab7b-6e182c0aa70f",
   "metadata": {
    "scrolled": true
   },
   "outputs": [
    {
     "name": "stdout",
     "output_type": "stream",
     "text": [
      "1. Printing first row:\n",
      " [1 2 3 4 5] \n",
      "\n",
      "2. Printing second row:\n",
      " [ 6  7  8  9 10] \n",
      "\n",
      "3. Printing all row upto 1(not included 1) and all columns:\n",
      " [[1 2 3 4 5]] \n",
      "\n",
      "4. Printing all rows from 0 to above:\n",
      " [[ 1  2  3  4  5]\n",
      " [ 6  7  8  9 10]] \n",
      "\n",
      "5. Printing all rows from 1 to above:\n",
      " [[ 6  7  8  9 10]] \n",
      "\n",
      "6. Printing rows and columns from 0 to above:\n",
      " [[ 1  2  3  4  5]\n",
      " [ 6  7  8  9 10]] \n",
      "\n",
      "7. Printing all rows and 3 columns:\n",
      " [[1 2 3]\n",
      " [6 7 8]] \n",
      "\n",
      "8. Printing first row and 3 columns:\n",
      " [1 2 3] \n",
      "\n",
      "9. Printing first row and all columns:\n",
      " [1 2 3 4 5] \n",
      "\n",
      "10. Printing second row and 5 columns:\n",
      " [ 6  7  8  9 10] \n",
      "\n",
      "11. Printing 0 to above all rows and all columns:\n",
      " [[ 1  2  3  4  5]\n",
      " [ 6  7  8  9 10]] \n",
      "\n",
      "12. Printing 0 to above all rows and 3rd and 4th column:\n",
      " [[3 4]\n",
      " [8 9]] \n",
      "\n",
      "13. Remove last row and last column:\n",
      " [[1 2 3 4]] \n",
      "\n",
      "14. Print all rows and remove last column:\n",
      " [[1 2 3 4]\n",
      " [6 7 8 9]] \n",
      "\n",
      "14. Remove all rows and print last column means nothing or empty:\n",
      " [] \n",
      "\n",
      "14. Remove one row from last or end and print 5th column:\n",
      " [5] \n",
      "\n"
     ]
    }
   ],
   "source": [
    "print(\"1. Printing first row:\\n\",arr1[0],\"\\n\") \n",
    "print(\"2. Printing second row:\\n\",arr1[1],\"\\n\")\n",
    "\n",
    "print(\"3. Printing all row upto 1(not included 1) and all columns:\\n\",arr1[0:1],\"\\n\") \n",
    "print(\"4. Printing all rows from 0 to above:\\n\",arr1[0: ],\"\\n\") \n",
    "print(\"5. Printing all rows from 1 to above:\\n\",arr1[1:],\"\\n\") \n",
    "\n",
    "print(\"6. Printing rows and columns from 0 to above:\\n\",arr1[0: , 0:],\"\\n\")\n",
    "print(\"7. Printing all rows and 3 columns:\\n\",arr1[0: , 0:3],\"\\n\")\n",
    "print(\"8. Printing first row and 3 columns:\\n\",arr1[0, 0:3],\"\\n\") \n",
    "print(\"9. Printing first row and all columns:\\n\",arr1[0, 0:],\"\\n\") \n",
    "print(\"10. Printing second row and 5 columns:\\n\",arr1[1, 0:5],\"\\n\") \n",
    "\n",
    "\n",
    "\n",
    "print(\"11. Printing 0 to above all rows and all columns:\\n\",arr1[0:, ],\"\\n\") \n",
    "print(\"12. Printing 0 to above all rows and 3rd and 4th column:\\n\",arr1[0:, 2:4 ],\"\\n\") \n",
    "\n",
    "print(\"13. Remove last row and last column:\\n\", arr1[:-1 , :-1], \"\\n\")\n",
    "print(\"14. Print all rows and remove last column:\\n\", arr1[ : , :-1], \"\\n\")\n",
    "print(\"14. Remove all rows and print last column means nothing or empty:\\n\", arr1[ :-2 , 4], \"\\n\")\n",
    "print(\"14. Remove one row from last or end and print 5th column:\\n\", arr1[ :-1 , 4], \"\\n\")"
   ]
  },
  {
   "cell_type": "code",
   "execution_count": null,
   "id": "d0edba53-297a-46e8-ab8d-6d2af4ee9f81",
   "metadata": {},
   "outputs": [],
   "source": [
    "# Broadcasting in Numpy"
   ]
  },
  {
   "cell_type": "code",
   "execution_count": 114,
   "id": "0fde5d4a-ec25-4d42-a87e-c8ef685a3214",
   "metadata": {},
   "outputs": [
    {
     "name": "stdout",
     "output_type": "stream",
     "text": [
      "Sum of matrix4_3 + matrixx4_3:\n",
      " [[ 0  1  2]\n",
      " [10 11 12]\n",
      " [20 21 22]\n",
      " [30 31 32]]\n"
     ]
    }
   ],
   "source": [
    "matrix4_3 = np.array([\n",
    "                [0, 0, 0],\n",
    "                [10, 10, 10],\n",
    "                [20, 20, 20],\n",
    "                [30, 30, 30]])\n",
    "\n",
    "matrixx4_3 = np.array([\n",
    "                [0, 1, 2],\n",
    "                [0, 1, 2],\n",
    "                [0, 1, 2],\n",
    "                [0, 1, 2]])\n",
    "\n",
    "print(\"Sum of matrix4_3 + matrixx4_3:\\n\", matrix4_3 + matrixx4_3)"
   ]
  },
  {
   "cell_type": "code",
   "execution_count": 115,
   "id": "402a68ef-c6e5-4cde-b19d-04948156281c",
   "metadata": {},
   "outputs": [
    {
     "name": "stdout",
     "output_type": "stream",
     "text": [
      "Sum of matrix4_3 + matrix1_3:\n",
      " [[ 0  1  2]\n",
      " [10 11 12]\n",
      " [20 21 22]\n",
      " [30 31 32]]\n"
     ]
    }
   ],
   "source": [
    "matrix1_3 = np.array(\n",
    "                [0, 1, 2])\n",
    "print(\"Sum of matrix4_3 + matrix1_3:\\n\", matrix4_3 + matrix1_3)"
   ]
  },
  {
   "cell_type": "code",
   "execution_count": 116,
   "id": "9023569f-7269-4769-ba1e-6e3e350a7ca8",
   "metadata": {},
   "outputs": [
    {
     "name": "stdout",
     "output_type": "stream",
     "text": [
      "Sum of matrix4_1 + matrix1_3:\n",
      " [[ 0  1  2]\n",
      " [10 11 12]\n",
      " [20 21 22]\n",
      " [30 31 32]]\n"
     ]
    }
   ],
   "source": [
    "matrix4_1 = np.array([\n",
    "                [0],\n",
    "                [10],\n",
    "                [20],\n",
    "                [30]])\n",
    "print(\"Sum of matrix4_1 + matrix1_3:\\n\", matrix4_1 + matrix1_3)"
   ]
  },
  {
   "cell_type": "code",
   "execution_count": null,
   "id": "c207cdb3-53fa-4a2c-b04a-98207866f9f3",
   "metadata": {},
   "outputs": [],
   "source": [
    "# Shape of the matrix"
   ]
  },
  {
   "cell_type": "code",
   "execution_count": 120,
   "id": "c8851273-535f-4e43-98b6-2e7e140d5d7c",
   "metadata": {},
   "outputs": [
    {
     "name": "stdout",
     "output_type": "stream",
     "text": [
      "The shape of the matrix is:  (4, 3)\n"
     ]
    }
   ],
   "source": [
    "matrix = np.array([\n",
    "                 [0,  1,  2],\n",
    "                 [10, 11, 12],\n",
    "                 [20, 21, 22],\n",
    "                 [30, 31, 32]])\n",
    "print(\"The shape of the matrix is: \", matrix.shape)"
   ]
  },
  {
   "cell_type": "code",
   "execution_count": null,
   "id": "666ea930-6974-4018-ad0a-95aef01a04b7",
   "metadata": {},
   "outputs": [],
   "source": [
    "# Reshaping the matrix\n",
    "### Matrix can be reshaped to any shape that is consistent with the data size"
   ]
  },
  {
   "cell_type": "code",
   "execution_count": 125,
   "id": "523516fd-2732-4a7c-8db6-252ec47448e8",
   "metadata": {},
   "outputs": [
    {
     "name": "stdout",
     "output_type": "stream",
     "text": [
      "Reshaped matrix4_3 into matrix2_6:\n",
      " [[ 0  1  2 10 11 12]\n",
      " [20 21 22 30 31 32]]\n",
      "Reshaped matrix4_3 into matrix3_4:\n",
      " [[ 0  1  2 10]\n",
      " [11 12 20 21]\n",
      " [22 30 31 32]]\n"
     ]
    }
   ],
   "source": [
    "new_matrix = matrix.reshape(2,6)\n",
    "new_matrix1 = matrix.reshape(3,4)\n",
    "\n",
    "print(\"Reshaped matrix4_3 into matrix2_6:\\n\", new_matrix)\n",
    "print(\"Reshaped matrix4_3 into matrix3_4:\\n\", new_matrix1)"
   ]
  },
  {
   "cell_type": "code",
   "execution_count": null,
   "id": "231aff74-308a-4828-af44-9ec365cdaec2",
   "metadata": {},
   "outputs": [],
   "source": [
    "# Transpose of Matrix"
   ]
  },
  {
   "cell_type": "code",
   "execution_count": 132,
   "id": "6a4175f0-2551-49a8-abb0-e5cc168dff14",
   "metadata": {},
   "outputs": [
    {
     "name": "stdout",
     "output_type": "stream",
     "text": [
      "new_matrix is:\n",
      " [[ 0  1  2 10 11 12]\n",
      " [20 21 22 30 31 32]]\n",
      "Shape of the new_matrix is:\n",
      " (2, 6) \n",
      "\n",
      "Transpose of new_matrix is:\n",
      " [[ 0 20]\n",
      " [ 1 21]\n",
      " [ 2 22]\n",
      " [10 30]\n",
      " [11 31]\n",
      " [12 32]]\n",
      "Shape of the transpose_matrix:\n",
      " (6, 2)\n"
     ]
    }
   ],
   "source": [
    "transpose_matrix = new_matrix.T\n",
    "\n",
    "print(\"new_matrix is:\\n\", new_matrix)\n",
    "print(\"Shape of the new_matrix is:\\n\", new_matrix.shape, \"\\n\")\n",
    "print(\"Transpose of new_matrix is:\\n\", transpose_matrix)\n",
    "print(\"Shape of the transpose_matrix:\\n\", transpose_matrix.shape)"
   ]
  },
  {
   "cell_type": "code",
   "execution_count": null,
   "id": "7f56a692-a3a1-437c-be8e-b2679ced415b",
   "metadata": {},
   "outputs": [],
   "source": [
    "# Diagonal Matrices"
   ]
  },
  {
   "cell_type": "code",
   "execution_count": 135,
   "id": "f26d7c6c-816a-4405-a549-91eac1d4737b",
   "metadata": {},
   "outputs": [
    {
     "name": "stdout",
     "output_type": "stream",
     "text": [
      "Diagonal matrix of the 1-d array is:\n",
      " [[1 0 0 0 0]\n",
      " [0 2 0 0 0]\n",
      " [0 0 3 0 0]\n",
      " [0 0 0 4 0]\n",
      " [0 0 0 0 5]]\n"
     ]
    }
   ],
   "source": [
    "diag = np.diag([1,2,3,4,5])\n",
    "print(\"Diagonal matrix of the 1-d array is:\\n\", diag)"
   ]
  },
  {
   "cell_type": "code",
   "execution_count": null,
   "id": "9f8f4f3d-7696-4eb9-89cd-b99821f3e0f7",
   "metadata": {},
   "outputs": [],
   "source": [
    "# Indentity Matrices"
   ]
  },
  {
   "cell_type": "code",
   "execution_count": 137,
   "id": "68230e19-879b-40c6-b68c-ef774582f6aa",
   "metadata": {},
   "outputs": [
    {
     "name": "stdout",
     "output_type": "stream",
     "text": [
      "Identity matrix is:\n",
      " [[1. 0. 0. 0. 0. 0. 0. 0. 0. 0.]\n",
      " [0. 1. 0. 0. 0. 0. 0. 0. 0. 0.]\n",
      " [0. 0. 1. 0. 0. 0. 0. 0. 0. 0.]\n",
      " [0. 0. 0. 1. 0. 0. 0. 0. 0. 0.]\n",
      " [0. 0. 0. 0. 1. 0. 0. 0. 0. 0.]\n",
      " [0. 0. 0. 0. 0. 1. 0. 0. 0. 0.]\n",
      " [0. 0. 0. 0. 0. 0. 1. 0. 0. 0.]\n",
      " [0. 0. 0. 0. 0. 0. 0. 1. 0. 0.]\n",
      " [0. 0. 0. 0. 0. 0. 0. 0. 1. 0.]\n",
      " [0. 0. 0. 0. 0. 0. 0. 0. 0. 1.]]\n"
     ]
    }
   ],
   "source": [
    "# A 10 * 10 matrix with ones at diagonal and rest are zeros\n",
    "identity = np.identity(10)\n",
    "print(\"Identity matrix is:\\n\", identity)"
   ]
  },
  {
   "cell_type": "code",
   "execution_count": null,
   "id": "b887074c-41c2-4301-bfc2-7ca1431ebcca",
   "metadata": {},
   "outputs": [],
   "source": [
    "# Arrays of random numbers or sequences"
   ]
  },
  {
   "cell_type": "code",
   "execution_count": 139,
   "id": "f6bb2410-138d-48e6-b6ae-027d789acd65",
   "metadata": {},
   "outputs": [
    {
     "name": "stdout",
     "output_type": "stream",
     "text": [
      "Random Array:\n",
      " [ 0  5 10 15 20 25 30 35 40 45 50 55 60 65 70 75 80 85 90 95]\n"
     ]
    }
   ],
   "source": [
    "# Creating a random array, starting from 5, with a step of 5 and ending at 100.\n",
    "seq = np.arange(start = 0, stop = 100, step = 5)\n",
    "print(\"Random Array:\\n\", seq)"
   ]
  },
  {
   "cell_type": "code",
   "execution_count": null,
   "id": "8566cfba-2348-4f0a-9076-8147a6c9b6d4",
   "metadata": {},
   "outputs": [],
   "source": [
    "# One-Dimensional random Vector"
   ]
  },
  {
   "cell_type": "code",
   "execution_count": 141,
   "id": "c4fe3eda-1d4e-4d77-bdd6-2408c1631374",
   "metadata": {},
   "outputs": [
    {
     "name": "stdout",
     "output_type": "stream",
     "text": [
      "One-Dimensional random vector:\n",
      " [0.81149304 0.76611955 0.86544247 0.92211424 0.45072375 0.92886791\n",
      " 0.47642147 0.76753489 0.34329791 0.37107317]\n"
     ]
    }
   ],
   "source": [
    "rand_1d_vector = np.random.rand(10)\n",
    "print(\"One-Dimensional random vector:\\n\", rand_1d_vector)"
   ]
  },
  {
   "cell_type": "code",
   "execution_count": null,
   "id": "32475d7d-9cb3-419f-90a4-933ae634449b",
   "metadata": {},
   "outputs": [],
   "source": [
    "# Two-Dimensional random Vector"
   ]
  },
  {
   "cell_type": "code",
   "execution_count": 143,
   "id": "48d6755f-9197-4419-b549-b82237ec6e14",
   "metadata": {},
   "outputs": [
    {
     "name": "stdout",
     "output_type": "stream",
     "text": [
      "Two-Dimensional random vector:\n",
      " [[0.44877786 0.79773685 0.65423428 0.07002123 0.77812458 0.74285224\n",
      "  0.09307951 0.83522991 0.42794147 0.39872276]\n",
      " [0.75020515 0.4947253  0.61080779 0.77596738 0.24284791 0.76576027\n",
      "  0.74196756 0.06880805 0.24179253 0.29798927]\n",
      " [0.6468812  0.39994207 0.48840111 0.57694265 0.57677969 0.18641002\n",
      "  0.83511563 0.41949157 0.38872066 0.62161858]\n",
      " [0.09630446 0.15696254 0.43571831 0.28991476 0.3280421  0.284879\n",
      "  0.63085827 0.52117619 0.76063122 0.01531273]\n",
      " [0.79729004 0.73288946 0.6640342  0.89654991 0.45156364 0.65005407\n",
      "  0.27087288 0.27819332 0.7983602  0.33568873]\n",
      " [0.8759933  0.90788096 0.60859991 0.31062405 0.53919806 0.11335634\n",
      "  0.25622879 0.5302027  0.14464378 0.99359039]\n",
      " [0.61752184 0.86467987 0.99519105 0.21908507 0.84414157 0.39727712\n",
      "  0.97074351 0.15839896 0.16142972 0.82449265]\n",
      " [0.15656922 0.64078349 0.58169819 0.19586627 0.05599648 0.64293591\n",
      "  0.10165978 0.55359997 0.15750069 0.60928962]\n",
      " [0.39990649 0.74437274 0.33754749 0.39955327 0.90786637 0.73495457\n",
      "  0.0046734  0.31566624 0.29675843 0.98168575]\n",
      " [0.14285965 0.8842578  0.21935905 0.74464135 0.77120578 0.43009298\n",
      "  0.53431027 0.52317572 0.40239227 0.65449045]]\n"
     ]
    }
   ],
   "source": [
    "rand_2d_vector = np.random.rand(10, 10)\n",
    "print(\"Two-Dimensional random vector:\\n\", rand_2d_vector)"
   ]
  },
  {
   "cell_type": "code",
   "execution_count": null,
   "id": "7238d854-5c1e-474e-8423-60e3535f944f",
   "metadata": {},
   "outputs": [],
   "source": [
    "# Min-Max and Index of Min-Max"
   ]
  },
  {
   "cell_type": "code",
   "execution_count": 146,
   "id": "fb4bc010-1a48-40cc-bb85-6dfb9d933f36",
   "metadata": {},
   "outputs": [
    {
     "name": "stdout",
     "output_type": "stream",
     "text": [
      "The max is 10 at index 9\n",
      "The min is 1 at index 0\n"
     ]
    }
   ],
   "source": [
    "my_matrix = np.array([1,2,3,4,5,6,7,8,9,10])\n",
    "print(\"The max is {} at index {}\".format(my_matrix.max(), my_matrix.argmax()))\n",
    "print(\"The min is {} at index {}\".format(my_matrix.min(), my_matrix.argmin()))"
   ]
  },
  {
   "cell_type": "code",
   "execution_count": null,
   "id": "86bad1f9-5efc-463e-a110-02dfe51fa9be",
   "metadata": {},
   "outputs": [],
   "source": [
    "# Dot Product of matrices in seconds"
   ]
  },
  {
   "cell_type": "code",
   "execution_count": 148,
   "id": "6beed678-e9b2-45b8-860b-fb75da0c95e9",
   "metadata": {},
   "outputs": [
    {
     "name": "stdout",
     "output_type": "stream",
     "text": [
      "It took 0.0372 seconds to calculate the dot product!\n"
     ]
    }
   ],
   "source": [
    "import time\n",
    "my_matrix = np.random.rand(1000,1000)\n",
    "my_matrix1 = np.random.rand(1000, 1000)\n",
    "\n",
    "start = time.time()\n",
    "# Make sure that dimensions should be agree!\n",
    "dot_product = my_matrix.dot(my_matrix1)\n",
    "end = time.time()\n",
    "\n",
    "print(\"It took {} seconds to calculate the dot product!\".format(round(end-start, 4)))"
   ]
  },
  {
   "cell_type": "code",
   "execution_count": null,
   "id": "14bf6ef4-5e88-46f1-9d16-d18e59aa3b33",
   "metadata": {},
   "outputs": [],
   "source": [
    "# Linear Algebra"
   ]
  },
  {
   "cell_type": "code",
   "execution_count": null,
   "id": "83ed769c-0661-47dc-a30a-109a32f49077",
   "metadata": {},
   "outputs": [],
   "source": [
    "# Determinent of a Matrix"
   ]
  },
  {
   "cell_type": "code",
   "execution_count": 173,
   "id": "74d55186-43c8-4184-856b-5de0ffe7f901",
   "metadata": {},
   "outputs": [
    {
     "name": "stdout",
     "output_type": "stream",
     "text": [
      "The determinant of my_matrix is:\n",
      " 1499.9999999999986\n"
     ]
    }
   ],
   "source": [
    "import numpy.linalg as la\n",
    "my_matrix = np.array([\n",
    "                [5, 5, 5, 5],\n",
    "                [10, 10, 16, 10],\n",
    "                [20, 15, 20, 20],\n",
    "                [30, 25, 30, 40]])\n",
    "det = la.det(my_matrix)\n",
    "print(\"The determinant of my_matrix is:\\n\", det)"
   ]
  },
  {
   "cell_type": "code",
   "execution_count": null,
   "id": "66d2b203-0e96-4b3f-90fa-ff85b6ec42bf",
   "metadata": {},
   "outputs": [],
   "source": [
    "# Inverse of a matrix\n",
    "## Inverse = adj(matrix)/det(matrix)\n",
    "## Note: Make sure its SINGULAR"
   ]
  },
  {
   "cell_type": "code",
   "execution_count": 157,
   "id": "d11b0d9d-4b41-4ac8-8501-29f384061b4b",
   "metadata": {},
   "outputs": [
    {
     "name": "stdout",
     "output_type": "stream",
     "text": [
      "The Inverse of my_matrix is:\n",
      " [[-6.66666667e-02 -1.66666667e-01  3.00000000e-01 -1.00000000e-01]\n",
      " [ 8.00000000e-01 -6.66133815e-17 -2.00000000e-01  9.99200722e-17]\n",
      " [-3.33333333e-01  1.66666667e-01  0.00000000e+00 -3.70074342e-17]\n",
      " [-2.00000000e-01 -3.33066907e-17 -1.00000000e-01  1.00000000e-01]]\n"
     ]
    }
   ],
   "source": [
    "inv = la.inv(my_matrix)\n",
    "print(\"The Inverse of my_matrix is:\\n\", inv)"
   ]
  },
  {
   "cell_type": "code",
   "execution_count": null,
   "id": "b000a054-0120-424a-8572-e3decf53a18f",
   "metadata": {},
   "outputs": [],
   "source": [
    "# Calculate eigen values\n",
    "## NOTE: make sure the matrix is SQUARE [eigen values do not exit for matrix whose dimensions are mxn where m!=n]!"
   ]
  },
  {
   "cell_type": "code",
   "execution_count": 165,
   "id": "057378c5-37ef-48e2-895c-8761bf8cfa44",
   "metadata": {},
   "outputs": [
    {
     "name": "stdout",
     "output_type": "stream",
     "text": [
      "The eigen values are:\n",
      " [69.85210005+0.j         -0.29132439+1.91374116j -0.29132439-1.91374116j\n",
      "  5.73054872+0.j        ] \n",
      "\n",
      "The eigen vectors are:\n",
      " [[-0.12174611+0.j          0.15379405+0.41454187j  0.15379405-0.41454187j\n",
      "  -0.17947102+0.j        ]\n",
      " [-0.28357858+0.j         -0.76794736+0.j         -0.76794736-0.j\n",
      "  -0.5803796 +0.j        ]\n",
      " [-0.46668595+0.j          0.31666357-0.30279403j  0.31666357+0.30279403j\n",
      "  -0.21149313+0.j        ]\n",
      " [-0.8288337 +0.j          0.12986378-0.07703668j  0.12986378+0.07703668j\n",
      "   0.76565026+0.j        ]] \n",
      "\n"
     ]
    }
   ],
   "source": [
    "eigen_values, eigen_vectors = la.eig(my_matrix)\n",
    "print(\"The eigen values are:\\n\", eigen_values, \"\\n\")\n",
    "print(\"The eigen vectors are:\\n\", eigen_vectors, \"\\n\")"
   ]
  },
  {
   "cell_type": "code",
   "execution_count": null,
   "id": "f65732e0-ea6f-4174-93b2-e78ee8d8a759",
   "metadata": {},
   "outputs": [],
   "source": [
    "# Cholesky factorization. \n",
    "## NOTE: make sure matrix is Positive Definite!"
   ]
  },
  {
   "cell_type": "code",
   "execution_count": 168,
   "id": "0ff71c70-4001-402e-8697-f9c9e6276507",
   "metadata": {},
   "outputs": [
    {
     "name": "stdout",
     "output_type": "stream",
     "text": [
      "The Cholesky factorization of my_matrix1 is:\n",
      " [[ 2.          0.          0.        ]\n",
      " [ 0.5         1.6583124   0.        ]\n",
      " [ 0.5        -0.15075567  1.31425748]]\n"
     ]
    }
   ],
   "source": [
    "my_matrix1 = np.array([\n",
    "                [4, 1, 1],\n",
    "                [1, 3, 0],\n",
    "                [1, 0, 2]])\n",
    "\n",
    "cholesky = la.cholesky(my_matrix1)\n",
    "print(\"The Cholesky factorization of my_matrix1 is:\\n\", cholesky)"
   ]
  },
  {
   "cell_type": "code",
   "execution_count": null,
   "id": "96e5d0e7-3a4f-4ef6-98ac-1b9d9ee63bc2",
   "metadata": {},
   "outputs": [],
   "source": [
    "# Rank of a matrix. \n",
    "## Rank of a matrix is the number of linearly independent columns/rows in a matrix."
   ]
  },
  {
   "cell_type": "code",
   "execution_count": 172,
   "id": "7ba252ef-4a5b-4386-a963-382f624f9bd5",
   "metadata": {},
   "outputs": [
    {
     "name": "stdout",
     "output_type": "stream",
     "text": [
      "The rank of my_matrix is:\n",
      " 4\n",
      "The rank of my_matrix1 is:\n",
      " 3\n"
     ]
    }
   ],
   "source": [
    "rank = la.matrix_rank(my_matrix)\n",
    "rank1 = la.matrix_rank(my_matrix1)\n",
    "\n",
    "print(\"The rank of my_matrix is:\\n\", rank)\n",
    "print(\"The rank of my_matrix1 is:\\n\", rank1)"
   ]
  },
  {
   "cell_type": "code",
   "execution_count": null,
   "id": "d776849a-1a6b-47fb-b02a-c2eaa7a03f41",
   "metadata": {},
   "outputs": [],
   "source": [
    "# Numpy Exercise"
   ]
  },
  {
   "cell_type": "code",
   "execution_count": null,
   "id": "31d58f22-dfb2-435c-a40a-9c65e3ab444c",
   "metadata": {},
   "outputs": [],
   "source": [
    "# 1. Write a NumPy program to extract upper triangular part of a NumPy matrix."
   ]
  },
  {
   "cell_type": "code",
   "execution_count": 177,
   "id": "95f1fc6e-b367-4939-9708-75f45d0da6d8",
   "metadata": {},
   "outputs": [
    {
     "name": "stdout",
     "output_type": "stream",
     "text": [
      "The Upper Triangle of the exercise_matrix is:\n",
      " [[6 2 1 1]\n",
      " [0 5 2 1]\n",
      " [0 0 4 1]\n",
      " [0 0 0 3]] \n",
      "\n",
      "The Lower Triangle of the exercise_matrix is:\n",
      " [[6 0 0 0]\n",
      " [2 5 0 0]\n",
      " [1 2 4 0]\n",
      " [1 1 1 3]]\n"
     ]
    }
   ],
   "source": [
    "exercise_matrix = np.array([\n",
    "    [6, 2, 1, 1],\n",
    "    [2, 5, 2, 1],\n",
    "    [1, 2, 4, 1],\n",
    "    [1, 1, 1, 3]\n",
    "])\n",
    "# Upper Triangle part\n",
    "upper_triangle = np.triu(exercise_matrix)\n",
    "print(\"The Upper Triangle of the exercise_matrix is:\\n\", upper_triangle, \"\\n\")\n",
    "\n",
    "# Lower Triangle part\n",
    "lower_triangle = np.tril(exercise_matrix)\n",
    "print(\"The Lower Triangle of the exercise_matrix is:\\n\", lower_triangle)"
   ]
  },
  {
   "cell_type": "code",
   "execution_count": null,
   "id": "4c625f01-7bae-45d8-9e58-ae4466b51efe",
   "metadata": {},
   "outputs": [],
   "source": [
    "# 2. Write a NumPy program to extract all the elements of the second and third columns from a given (4x4) my_array."
   ]
  },
  {
   "cell_type": "code",
   "execution_count": 179,
   "id": "567893ac-f960-40b0-8b30-264c8d541982",
   "metadata": {},
   "outputs": [
    {
     "name": "stdout",
     "output_type": "stream",
     "text": [
      "The elements of second and third columns are:\n",
      " [[2 1]\n",
      " [5 2]\n",
      " [2 4]\n",
      " [1 1]]\n"
     ]
    }
   ],
   "source": [
    "print(\"The elements of second and third columns are:\\n\", exercise_matrix[0: , 1:3])"
   ]
  },
  {
   "cell_type": "code",
   "execution_count": null,
   "id": "cd11bcdf-dbfa-4daf-9f78-1f8c53c9e470",
   "metadata": {},
   "outputs": [],
   "source": [
    "# 3. Write a NumPy program to count the occurrence of a specified item in a given NumPy my_array."
   ]
  },
  {
   "cell_type": "code",
   "execution_count": 184,
   "id": "5e6d8ea0-fb05-40ac-a296-27182b779cce",
   "metadata": {},
   "outputs": [
    {
     "name": "stdout",
     "output_type": "stream",
     "text": [
      "The occurence of 2 inside exercixe_matrix by count() method is:\n",
      " 4 \n",
      "\n",
      "The occurence of 2 inside exercixe_matrix by sum() method is:\n",
      " 4\n"
     ]
    }
   ],
   "source": [
    "# By .count_nonzero() method\n",
    "count_1 = np.count_nonzero(exercise_matrix == 2)\n",
    "print(\"The occurence of 2 inside exercixe_matrix by count() method is:\\n\", count_1, \"\\n\")\n",
    "\n",
    "# By .sum() method\n",
    "count_2 = (exercise_matrix == 2).sum()\n",
    "print(\"The occurence of 2 inside exercixe_matrix by sum() method is:\\n\", count_2)"
   ]
  },
  {
   "cell_type": "code",
   "execution_count": null,
   "id": "d1da085d-c652-4171-9501-7489b7b97b9c",
   "metadata": {},
   "outputs": [],
   "source": [
    "# 4.Write a NumPy program to sum and compute the product of a NumPy my_array elements."
   ]
  },
  {
   "cell_type": "code",
   "execution_count": 189,
   "id": "d0c293ca-adef-4f00-89a4-48579514e028",
   "metadata": {},
   "outputs": [
    {
     "name": "stdout",
     "output_type": "stream",
     "text": [
      "The sum of elements inside the exercise_matrix is:\n",
      " 34 \n",
      "\n",
      "The product of elements inside the exercise_matrix is:\n",
      " 5760\n"
     ]
    }
   ],
   "source": [
    "# Sum of matrix elements\n",
    "sum = np.sum(exercise_matrix)\n",
    "print(\"The sum of elements inside the exercise_matrix is:\\n\", sum, \"\\n\")\n",
    "\n",
    "# Product of matrix elements\n",
    "product = np.prod(exercise_matrix)\n",
    "print(\"The product of elements inside the exercise_matrix is:\\n\", product)"
   ]
  },
  {
   "cell_type": "code",
   "execution_count": null,
   "id": "b30786fa-15fa-44d3-b1d1-577dfea3d1a0",
   "metadata": {},
   "outputs": [],
   "source": []
  }
 ],
 "metadata": {
  "kernelspec": {
   "display_name": "Python (ds_env)",
   "language": "python",
   "name": "ds_env"
  },
  "language_info": {
   "codemirror_mode": {
    "name": "ipython",
    "version": 3
   },
   "file_extension": ".py",
   "mimetype": "text/x-python",
   "name": "python",
   "nbconvert_exporter": "python",
   "pygments_lexer": "ipython3",
   "version": "3.13.5"
  }
 },
 "nbformat": 4,
 "nbformat_minor": 5
}
