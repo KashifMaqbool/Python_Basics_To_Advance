{
 "cells": [
  {
   "cell_type": "markdown",
   "id": "4617beb1-e15b-454a-a03a-747b336f4555",
   "metadata": {},
   "source": [
    "# 1 NumPy Module\n",
    "\n",
    "- Computers make it very easy to perform complex computations in a matter of seconds.  \n",
    "- Python has a dedicated library for numeric computation known as **NumPy**.  \n",
    "- The applications of NumPy are diverse, but here we will focus on **matrix multiplication**.  \n",
    "- At the base of it all, it uses the `numpy.ndarray` data type that can function as a vector or matrix of any dimension.  \n",
    "- Once your data is in the `ndarray` form, you can perform a multitude of operations on it.  \n",
    "\n",
    "---\n",
    "\n",
    "#### Exploring NumPy Arrays\n",
    "\n",
    "- Before we move further, let’s have a look at **NumPy arrays** first.  \n",
    "- NumPy arrays are very similar to lists but have additional operations such as:  \n",
    "  - **Multi-indexing**: lets you slice and subset with respect to rows and columns.  \n",
    "\n",
    "##### Array Indexing & Slicing in NumPy\n",
    "\n",
    "| Operator        | Description                                    |\n",
    "|-----------------|------------------------------------------------|\n",
    "| `my_array[i]`   | 1D array element at index `i`                  |\n",
    "| `my_array[i, j]`| 2D array element at row `i`, column `j`        |\n",
    "| `my_array[i<4]` | Boolean indexing (e.g., values less than 4)    |\n",
    "| `my_array[0:3]` | Select items of index 0, 1, and 2              |\n",
    "| `my_array[0:2,1]` | Select items of rows 0 and 1 at column 1     |\n",
    "| `my_array[:1]`  | Select items of row 0 (`my_array[0:1, :]`)     |\n",
    "| `my_array[1:2, :]` | Select items of row 1                       |\n",
    "| `my_array[::-1]`| Reverse the array                              |\n",
    "\n",
    "---"
   ]
  },
  {
   "cell_type": "markdown",
   "id": "b9a24693-e736-41a3-967c-aef1f6a66e75",
   "metadata": {},
   "source": [
    "## 1.1 One dimensional Numpy Array"
   ]
  },
  {
   "cell_type": "code",
   "execution_count": 1,
   "id": "a12d19a3-034d-4cf1-98fc-1d5986473318",
   "metadata": {},
   "outputs": [
    {
     "name": "stdout",
     "output_type": "stream",
     "text": [
      "[0 1 2 3 4 5 6 7 8 9]\n"
     ]
    }
   ],
   "source": [
    "import numpy as np\n",
    "arr = np.array([0,1,2,3,4,5,6,7,8,9])\n",
    "print(arr)"
   ]
  },
  {
   "cell_type": "code",
   "execution_count": 2,
   "id": "adf41d23-ae7d-4c56-8af7-87ba749d4ffc",
   "metadata": {},
   "outputs": [
    {
     "name": "stdout",
     "output_type": "stream",
     "text": [
      "0\n",
      "1\n",
      "2\n",
      "3\n",
      "4\n",
      "5\n",
      "6\n",
      "7\n",
      "8\n",
      "9\n"
     ]
    }
   ],
   "source": [
    "# Accessing the array elements via loop\n",
    "for i in arr:\n",
    "    print(arr[i])"
   ]
  },
  {
   "cell_type": "code",
   "execution_count": 3,
   "id": "e5cdb685-f68a-4e32-9ce9-54a9036a5854",
   "metadata": {},
   "outputs": [
    {
     "name": "stdout",
     "output_type": "stream",
     "text": [
      "0\n",
      "1\n",
      "2\n",
      "3\n",
      "4\n"
     ]
    }
   ],
   "source": [
    "for i in arr:\n",
    "    if arr[i] <= 4:\n",
    "        print(arr[i])"
   ]
  },
  {
   "cell_type": "code",
   "execution_count": 4,
   "id": "54804455-9e3a-4cf2-81cf-d4d092f482ef",
   "metadata": {},
   "outputs": [
    {
     "name": "stdout",
     "output_type": "stream",
     "text": [
      "[0 1 2]\n",
      "[0 1 2]\n",
      "1\n",
      "[0 1 2 3 4 5 6 7 8 9]\n"
     ]
    }
   ],
   "source": [
    "print(arr[0:3])\n",
    "print(arr[0:3, ]) # Printing row from 0 to 3 but no column.\n",
    "print(arr[1])     # printing second column but zero row\n",
    "print(arr[0: ])   # Printing first row and zero column"
   ]
  },
  {
   "cell_type": "markdown",
   "id": "54452010-3e30-4ec9-9f84-a972c06f1dc2",
   "metadata": {},
   "source": [
    "## 1.2. Two Dimensional Numpy Array"
   ]
  },
  {
   "cell_type": "code",
   "execution_count": 5,
   "id": "a12338b9-2785-4d5c-8cfe-f5deb69693dd",
   "metadata": {},
   "outputs": [
    {
     "name": "stdout",
     "output_type": "stream",
     "text": [
      "[[ 1  2  3  4  5]\n",
      " [ 6  7  8  9 10]]\n"
     ]
    }
   ],
   "source": [
    "arr1 = np.array([[1, 2, 3, 4, 5],\n",
    "                [6, 7, 8, 9, 10]])\n",
    "print(arr1)"
   ]
  },
  {
   "cell_type": "code",
   "execution_count": 6,
   "id": "fc9cd28e-c568-47bb-8fb9-6a93f0d258cb",
   "metadata": {},
   "outputs": [
    {
     "name": "stdout",
     "output_type": "stream",
     "text": [
      "Element at (0,0) =  1\n",
      "Element at (0,1) =  2\n",
      "Element at (0,2) =  3\n",
      "Element at (0,3) =  4\n",
      "Element at (0,4) =  5\n",
      "Element at (1,0) =  6\n",
      "Element at (1,1) =  7\n",
      "Element at (1,2) =  8\n",
      "Element at (1,3) =  9\n",
      "Element at (1,4) =  10\n"
     ]
    }
   ],
   "source": [
    "# Accessing array elements via loop\n",
    "arr1 = np.array([[1, 2, 3, 4, 5],\n",
    "                [6, 7, 8, 9, 10]])\n",
    "rows, col = arr1.shape\n",
    "\n",
    "for i in range(rows):\n",
    "    for j in range(col):\n",
    "        print(f\"Element at ({i},{j}) = \", arr1[i][j])"
   ]
  },
  {
   "cell_type": "code",
   "execution_count": 7,
   "id": "1b48d96a-016c-4c02-ab7b-6e182c0aa70f",
   "metadata": {
    "scrolled": true
   },
   "outputs": [
    {
     "name": "stdout",
     "output_type": "stream",
     "text": [
      "1. Printing first row:\n",
      " [1 2 3 4 5] \n",
      "\n",
      "2. Printing second row:\n",
      " [ 6  7  8  9 10] \n",
      "\n",
      "3. Printing all row upto 1(not included 1) and all columns:\n",
      " [[1 2 3 4 5]] \n",
      "\n",
      "4. Printing all rows from 0 to above:\n",
      " [[ 1  2  3  4  5]\n",
      " [ 6  7  8  9 10]] \n",
      "\n",
      "5. Printing all rows from 1 to above:\n",
      " [[ 6  7  8  9 10]] \n",
      "\n",
      "6. Printing rows and columns from 0 to above:\n",
      " [[ 1  2  3  4  5]\n",
      " [ 6  7  8  9 10]] \n",
      "\n",
      "7. Printing all rows and 3 columns:\n",
      " [[1 2 3]\n",
      " [6 7 8]] \n",
      "\n",
      "8. Printing first row and 3 columns:\n",
      " [1 2 3] \n",
      "\n",
      "9. Printing first row and all columns:\n",
      " [1 2 3 4 5] \n",
      "\n",
      "10. Printing second row and 5 columns:\n",
      " [ 6  7  8  9 10] \n",
      "\n",
      "11. Printing 0 to above all rows and all columns:\n",
      " [[ 1  2  3  4  5]\n",
      " [ 6  7  8  9 10]] \n",
      "\n",
      "12. Printing 0 to above all rows and 3rd and 4th column:\n",
      " [[3 4]\n",
      " [8 9]] \n",
      "\n",
      "13. Remove last row and last column:\n",
      " [[1 2 3 4]] \n",
      "\n",
      "14. Print all rows and remove last column:\n",
      " [[1 2 3 4]\n",
      " [6 7 8 9]] \n",
      "\n",
      "14. Remove all rows and print last column means nothing or empty:\n",
      " [] \n",
      "\n",
      "14. Remove one row from last or end and print 5th column:\n",
      " [5] \n",
      "\n"
     ]
    }
   ],
   "source": [
    "print(\"1. Printing first row:\\n\",arr1[0],\"\\n\") \n",
    "print(\"2. Printing second row:\\n\",arr1[1],\"\\n\")\n",
    "\n",
    "print(\"3. Printing all row upto 1(not included 1) and all columns:\\n\",arr1[0:1],\"\\n\") \n",
    "print(\"4. Printing all rows from 0 to above:\\n\",arr1[0: ],\"\\n\") \n",
    "print(\"5. Printing all rows from 1 to above:\\n\",arr1[1:],\"\\n\") \n",
    "\n",
    "print(\"6. Printing rows and columns from 0 to above:\\n\",arr1[0: , 0:],\"\\n\")\n",
    "print(\"7. Printing all rows and 3 columns:\\n\",arr1[0: , 0:3],\"\\n\")\n",
    "print(\"8. Printing first row and 3 columns:\\n\",arr1[0, 0:3],\"\\n\") \n",
    "print(\"9. Printing first row and all columns:\\n\",arr1[0, 0:],\"\\n\") \n",
    "print(\"10. Printing second row and 5 columns:\\n\",arr1[1, 0:5],\"\\n\") \n",
    "\n",
    "\n",
    "\n",
    "print(\"11. Printing 0 to above all rows and all columns:\\n\",arr1[0:, ],\"\\n\") \n",
    "print(\"12. Printing 0 to above all rows and 3rd and 4th column:\\n\",arr1[0:, 2:4 ],\"\\n\") \n",
    "\n",
    "print(\"13. Remove last row and last column:\\n\", arr1[:-1 , :-1], \"\\n\")\n",
    "print(\"14. Print all rows and remove last column:\\n\", arr1[ : , :-1], \"\\n\")\n",
    "print(\"14. Remove all rows and print last column means nothing or empty:\\n\", arr1[ :-2 , 4], \"\\n\")\n",
    "print(\"14. Remove one row from last or end and print 5th column:\\n\", arr1[ :-1 , 4], \"\\n\")"
   ]
  },
  {
   "cell_type": "markdown",
   "id": "f5cfa74f-d241-4cb1-ad23-77af80a80c13",
   "metadata": {},
   "source": [
    "## 1.3 Broadcasting in Arrays (Python – NumPy)\n",
    "\n",
    "##### Definition\n",
    "**Broadcasting** is the ability of NumPy to perform arithmetic operations on arrays of different shapes by automatically stretching (broadcasting) the smaller array to match the shape of the larger one without actually copying data.  \n",
    "\n",
    "- Makes array operations **fast** and **memory efficient**.  \n",
    "- If two arrays are of the same size, arithmetic operations occur **element-wise**.  \n"
   ]
  },
  {
   "cell_type": "code",
   "execution_count": 8,
   "id": "0fde5d4a-ec25-4d42-a87e-c8ef685a3214",
   "metadata": {},
   "outputs": [
    {
     "name": "stdout",
     "output_type": "stream",
     "text": [
      "Sum of matrix4_3 + matrixx4_3:\n",
      " [[ 0  1  2]\n",
      " [10 11 12]\n",
      " [20 21 22]\n",
      " [30 31 32]]\n"
     ]
    }
   ],
   "source": [
    "# Example 1\n",
    "matrix4_3 = np.array([\n",
    "                [0, 0, 0],\n",
    "                [10, 10, 10],\n",
    "                [20, 20, 20],\n",
    "                [30, 30, 30]])\n",
    "\n",
    "matrixx4_3 = np.array([\n",
    "                [0, 1, 2],\n",
    "                [0, 1, 2],\n",
    "                [0, 1, 2],\n",
    "                [0, 1, 2]])\n",
    "\n",
    "print(\"Sum of matrix4_3 + matrixx4_3:\\n\", matrix4_3 + matrixx4_3)"
   ]
  },
  {
   "cell_type": "code",
   "execution_count": 9,
   "id": "402a68ef-c6e5-4cde-b19d-04948156281c",
   "metadata": {},
   "outputs": [
    {
     "name": "stdout",
     "output_type": "stream",
     "text": [
      "Sum of matrix4_3 + matrix1_3:\n",
      " [[ 0  1  2]\n",
      " [10 11 12]\n",
      " [20 21 22]\n",
      " [30 31 32]]\n"
     ]
    }
   ],
   "source": [
    "# Example 2\n",
    "matrix1_3 = np.array(\n",
    "                [0, 1, 2])\n",
    "print(\"Sum of matrix4_3 + matrix1_3:\\n\", matrix4_3 + matrix1_3)"
   ]
  },
  {
   "cell_type": "code",
   "execution_count": 10,
   "id": "9023569f-7269-4769-ba1e-6e3e350a7ca8",
   "metadata": {},
   "outputs": [
    {
     "name": "stdout",
     "output_type": "stream",
     "text": [
      "Sum of matrix4_1 + matrix1_3:\n",
      " [[ 0  1  2]\n",
      " [10 11 12]\n",
      " [20 21 22]\n",
      " [30 31 32]]\n"
     ]
    }
   ],
   "source": [
    "# Example 3\n",
    "matrix4_1 = np.array([\n",
    "                [0],\n",
    "                [10],\n",
    "                [20],\n",
    "                [30]])\n",
    "print(\"Sum of matrix4_1 + matrix1_3:\\n\", matrix4_1 + matrix1_3)"
   ]
  },
  {
   "cell_type": "markdown",
   "id": "ee17e220-5149-4031-9a0e-f879507797e0",
   "metadata": {},
   "source": [
    "## 1.4. Basic NumPy Operations\n",
    "\n",
    "We can perform several useful operations on NumPy arrays such as:\n",
    "\n",
    "1. Creating random sequences  \n",
    "2. Creating patterned sequences  \n",
    "3. Creating 1D and 2D arrays  \n",
    "4. Finding minimum and maximum values  \n",
    "5. Finding indices of minimum and maximum values  \n",
    "6. Creating identity and diagonal matrices  \n",
    "7. Performing transpose and dot products  "
   ]
  },
  {
   "cell_type": "markdown",
   "id": "d630be56-25b7-473d-905f-a358eeef93e8",
   "metadata": {},
   "source": [
    "### 1.4.1 Shape of the matrix"
   ]
  },
  {
   "cell_type": "code",
   "execution_count": 11,
   "id": "c8851273-535f-4e43-98b6-2e7e140d5d7c",
   "metadata": {},
   "outputs": [
    {
     "name": "stdout",
     "output_type": "stream",
     "text": [
      "The shape of the matrix is:  (4, 3)\n"
     ]
    }
   ],
   "source": [
    "matrix = np.array([\n",
    "                 [0,  1,  2],\n",
    "                 [10, 11, 12],\n",
    "                 [20, 21, 22],\n",
    "                 [30, 31, 32]])\n",
    "print(\"The shape of the matrix is: \", matrix.shape)"
   ]
  },
  {
   "cell_type": "markdown",
   "id": "1485ff16-e362-4fe3-80f5-30e63b33d38f",
   "metadata": {},
   "source": [
    "### 1.4.2 Reshaping the matrix\n",
    "##### Matrix can be reshaped to any shape that is consistent with the data size"
   ]
  },
  {
   "cell_type": "code",
   "execution_count": 12,
   "id": "523516fd-2732-4a7c-8db6-252ec47448e8",
   "metadata": {},
   "outputs": [
    {
     "name": "stdout",
     "output_type": "stream",
     "text": [
      "Reshaped matrix4_3 into matrix2_6:\n",
      " [[ 0  1  2 10 11 12]\n",
      " [20 21 22 30 31 32]]\n",
      "Reshaped matrix4_3 into matrix3_4:\n",
      " [[ 0  1  2 10]\n",
      " [11 12 20 21]\n",
      " [22 30 31 32]]\n"
     ]
    }
   ],
   "source": [
    "new_matrix = matrix.reshape(2,6)\n",
    "new_matrix1 = matrix.reshape(3,4)\n",
    "\n",
    "print(\"Reshaped matrix4_3 into matrix2_6:\\n\", new_matrix)\n",
    "print(\"Reshaped matrix4_3 into matrix3_4:\\n\", new_matrix1)"
   ]
  },
  {
   "cell_type": "markdown",
   "id": "4c9b221b-1dd6-4ea3-896d-62b6401f5d31",
   "metadata": {},
   "source": [
    "### 1.4.3 Transpose of Matrix"
   ]
  },
  {
   "cell_type": "code",
   "execution_count": 13,
   "id": "6a4175f0-2551-49a8-abb0-e5cc168dff14",
   "metadata": {},
   "outputs": [
    {
     "name": "stdout",
     "output_type": "stream",
     "text": [
      "new_matrix is:\n",
      " [[ 0  1  2 10 11 12]\n",
      " [20 21 22 30 31 32]]\n",
      "Shape of the new_matrix is:\n",
      " (2, 6) \n",
      "\n",
      "Transpose of new_matrix is:\n",
      " [[ 0 20]\n",
      " [ 1 21]\n",
      " [ 2 22]\n",
      " [10 30]\n",
      " [11 31]\n",
      " [12 32]]\n",
      "Shape of the transpose_matrix:\n",
      " (6, 2)\n"
     ]
    }
   ],
   "source": [
    "transpose_matrix = new_matrix.T\n",
    "\n",
    "print(\"new_matrix is:\\n\", new_matrix)\n",
    "print(\"Shape of the new_matrix is:\\n\", new_matrix.shape, \"\\n\")\n",
    "print(\"Transpose of new_matrix is:\\n\", transpose_matrix)\n",
    "print(\"Shape of the transpose_matrix:\\n\", transpose_matrix.shape)"
   ]
  },
  {
   "cell_type": "markdown",
   "id": "e45882da-d09e-4e77-b3ee-f1104a4942e3",
   "metadata": {},
   "source": [
    "### 1.4.4 Diagonal Matrices"
   ]
  },
  {
   "cell_type": "code",
   "execution_count": 14,
   "id": "f26d7c6c-816a-4405-a549-91eac1d4737b",
   "metadata": {},
   "outputs": [
    {
     "name": "stdout",
     "output_type": "stream",
     "text": [
      "Diagonal matrix of the 1-d array is:\n",
      " [[1 0 0 0 0]\n",
      " [0 2 0 0 0]\n",
      " [0 0 3 0 0]\n",
      " [0 0 0 4 0]\n",
      " [0 0 0 0 5]]\n"
     ]
    }
   ],
   "source": [
    "diag = np.diag([1,2,3,4,5])\n",
    "print(\"Diagonal matrix of the 1-d array is:\\n\", diag)"
   ]
  },
  {
   "cell_type": "markdown",
   "id": "26289702-41dc-4f1d-bf87-0755d7b0c75c",
   "metadata": {},
   "source": [
    "### 1.4.5 Indentity Matrices"
   ]
  },
  {
   "cell_type": "code",
   "execution_count": 15,
   "id": "68230e19-879b-40c6-b68c-ef774582f6aa",
   "metadata": {},
   "outputs": [
    {
     "name": "stdout",
     "output_type": "stream",
     "text": [
      "Identity matrix is:\n",
      " [[1. 0. 0. 0. 0. 0. 0. 0. 0. 0.]\n",
      " [0. 1. 0. 0. 0. 0. 0. 0. 0. 0.]\n",
      " [0. 0. 1. 0. 0. 0. 0. 0. 0. 0.]\n",
      " [0. 0. 0. 1. 0. 0. 0. 0. 0. 0.]\n",
      " [0. 0. 0. 0. 1. 0. 0. 0. 0. 0.]\n",
      " [0. 0. 0. 0. 0. 1. 0. 0. 0. 0.]\n",
      " [0. 0. 0. 0. 0. 0. 1. 0. 0. 0.]\n",
      " [0. 0. 0. 0. 0. 0. 0. 1. 0. 0.]\n",
      " [0. 0. 0. 0. 0. 0. 0. 0. 1. 0.]\n",
      " [0. 0. 0. 0. 0. 0. 0. 0. 0. 1.]]\n"
     ]
    }
   ],
   "source": [
    "# A 10 * 10 matrix with ones at diagonal and rest are zeros\n",
    "identity = np.identity(10)\n",
    "print(\"Identity matrix is:\\n\", identity)"
   ]
  },
  {
   "cell_type": "markdown",
   "id": "37b43bfe-23af-44e2-976e-df17f37e2e56",
   "metadata": {},
   "source": [
    "### 1.4.6 Arrays of random numbers or sequences"
   ]
  },
  {
   "cell_type": "code",
   "execution_count": 16,
   "id": "f6bb2410-138d-48e6-b6ae-027d789acd65",
   "metadata": {},
   "outputs": [
    {
     "name": "stdout",
     "output_type": "stream",
     "text": [
      "Random Array:\n",
      " [ 0  5 10 15 20 25 30 35 40 45 50 55 60 65 70 75 80 85 90 95]\n"
     ]
    }
   ],
   "source": [
    "# Creating a random array, starting from 5, with a step of 5 and ending at 100.\n",
    "seq = np.arange(start = 0, stop = 100, step = 5)\n",
    "print(\"Random Array:\\n\", seq)"
   ]
  },
  {
   "cell_type": "markdown",
   "id": "32320368-fc5d-4a1d-893e-552957d37730",
   "metadata": {},
   "source": [
    "### 1.4.7 One-Dimensional random Vector"
   ]
  },
  {
   "cell_type": "code",
   "execution_count": 17,
   "id": "c4fe3eda-1d4e-4d77-bdd6-2408c1631374",
   "metadata": {},
   "outputs": [
    {
     "name": "stdout",
     "output_type": "stream",
     "text": [
      "One-Dimensional random vector:\n",
      " [0.69420432 0.4791952  0.62313177 0.54014949 0.58871817 0.00364749\n",
      " 0.70537882 0.3779039  0.14606241 0.22808252]\n"
     ]
    }
   ],
   "source": [
    "rand_1d_vector = np.random.rand(10)\n",
    "print(\"One-Dimensional random vector:\\n\", rand_1d_vector)"
   ]
  },
  {
   "cell_type": "markdown",
   "id": "d76c86ca-45b4-468d-84cd-befdc42228e2",
   "metadata": {},
   "source": [
    "### 1.4.8 Two-Dimensional random Vector"
   ]
  },
  {
   "cell_type": "code",
   "execution_count": 18,
   "id": "48d6755f-9197-4419-b549-b82237ec6e14",
   "metadata": {},
   "outputs": [
    {
     "name": "stdout",
     "output_type": "stream",
     "text": [
      "Two-Dimensional random vector:\n",
      " [[0.27333747 0.18499486 0.52369453 0.45194676 0.45722778 0.34044445\n",
      "  0.40314545 0.6479299  0.71395017 0.32113309]\n",
      " [0.08460509 0.70304351 0.56628909 0.03639312 0.67351781 0.86344901\n",
      "  0.37294461 0.70093306 0.75800938 0.53361779]\n",
      " [0.13974946 0.40603329 0.31771239 0.61118614 0.211458   0.1267857\n",
      "  0.63125707 0.82401444 0.47376896 0.89701251]\n",
      " [0.25600587 0.42744626 0.65850076 0.10639028 0.1532328  0.16233029\n",
      "  0.35766184 0.96190756 0.99455604 0.20292164]\n",
      " [0.28640094 0.50777923 0.2446217  0.77653018 0.84427869 0.45749655\n",
      "  0.01561827 0.01516191 0.44164842 0.87823   ]\n",
      " [0.1271288  0.72719945 0.18046294 0.5835891  0.34820734 0.84364175\n",
      "  0.4000404  0.60428856 0.40137252 0.17023808]\n",
      " [0.96174529 0.66475848 0.947169   0.73098777 0.69586614 0.15577084\n",
      "  0.46618842 0.18270348 0.52301841 0.52495263]\n",
      " [0.06859957 0.63258    0.4508505  0.6339283  0.43475939 0.14949913\n",
      "  0.87226199 0.18766032 0.93505854 0.51938445]\n",
      " [0.39987405 0.90155378 0.1405646  0.88738658 0.34259389 0.57193398\n",
      "  0.00896309 0.76647669 0.66969476 0.42415386]\n",
      " [0.59073742 0.36724295 0.15223986 0.00713551 0.88391737 0.25864028\n",
      "  0.07510898 0.44331627 0.88912242 0.44417735]]\n"
     ]
    }
   ],
   "source": [
    "rand_2d_vector = np.random.rand(10, 10)\n",
    "print(\"Two-Dimensional random vector:\\n\", rand_2d_vector)"
   ]
  },
  {
   "cell_type": "markdown",
   "id": "a9c24cb4-6a28-47bb-b785-8ca93c405013",
   "metadata": {},
   "source": [
    "### 1.4.9 Min-Max and Index of Min-Max"
   ]
  },
  {
   "cell_type": "code",
   "execution_count": 19,
   "id": "fb4bc010-1a48-40cc-bb85-6dfb9d933f36",
   "metadata": {},
   "outputs": [
    {
     "name": "stdout",
     "output_type": "stream",
     "text": [
      "The max is 10 at index 9\n",
      "The min is 1 at index 0\n"
     ]
    }
   ],
   "source": [
    "my_matrix = np.array([1,2,3,4,5,6,7,8,9,10])\n",
    "print(\"The max is {} at index {}\".format(my_matrix.max(), my_matrix.argmax()))\n",
    "print(\"The min is {} at index {}\".format(my_matrix.min(), my_matrix.argmin()))"
   ]
  },
  {
   "cell_type": "markdown",
   "id": "37a78752-53ee-4384-903f-6a1e066d72c6",
   "metadata": {},
   "source": [
    "### 1.4.10 Dot Product of matrices in seconds"
   ]
  },
  {
   "cell_type": "code",
   "execution_count": 20,
   "id": "6beed678-e9b2-45b8-860b-fb75da0c95e9",
   "metadata": {},
   "outputs": [
    {
     "name": "stdout",
     "output_type": "stream",
     "text": [
      "It took 0.0248 seconds to calculate the dot product!\n"
     ]
    }
   ],
   "source": [
    "import time\n",
    "my_matrix = np.random.rand(1000,1000)\n",
    "my_matrix1 = np.random.rand(1000, 1000)\n",
    "\n",
    "start = time.time()\n",
    "# Make sure that dimensions should be agree!\n",
    "dot_product = my_matrix.dot(my_matrix1)\n",
    "end = time.time()\n",
    "\n",
    "print(\"It took {} seconds to calculate the dot product!\".format(round(end-start, 4)))"
   ]
  },
  {
   "cell_type": "markdown",
   "id": "6f6e7a47-b4ec-4d63-99fc-be904a7801e9",
   "metadata": {},
   "source": [
    "## 1.5 Linear Algebra with NumPy\n",
    "\n",
    "Within NumPy, there is a **sub-module `linalg`** (short for *linear algebra*) that contains commonly used functions:\n",
    "\n",
    "- Determinant of a matrix  \n",
    "- Inverse of a matrix  \n",
    "- Cholesky factorization of a matrix  \n",
    "- Eigenvalues of a matrix  \n",
    "- Rank of a matrix  \n"
   ]
  },
  {
   "cell_type": "markdown",
   "id": "e593c85f-ac63-4b24-9071-b14071764383",
   "metadata": {},
   "source": [
    "### 1.5.1 Determinent of a Matrix"
   ]
  },
  {
   "cell_type": "code",
   "execution_count": 21,
   "id": "74d55186-43c8-4184-856b-5de0ffe7f901",
   "metadata": {},
   "outputs": [
    {
     "name": "stdout",
     "output_type": "stream",
     "text": [
      "The determinant of my_matrix is:\n",
      " 1499.9999999999986\n"
     ]
    }
   ],
   "source": [
    "import numpy.linalg as la\n",
    "my_matrix = np.array([\n",
    "                [5, 5, 5, 5],\n",
    "                [10, 10, 16, 10],\n",
    "                [20, 15, 20, 20],\n",
    "                [30, 25, 30, 40]])\n",
    "det = la.det(my_matrix)\n",
    "print(\"The determinant of my_matrix is:\\n\", det)"
   ]
  },
  {
   "cell_type": "markdown",
   "id": "d5bbd1a8-69e3-465f-bcd9-7c90b3336327",
   "metadata": {},
   "source": [
    "### 1.5.2 Inverse of a matrix\n",
    "##### Inverse = adj(matrix)/det(matrix)\n",
    "##### Note: Make sure its SINGULAR"
   ]
  },
  {
   "cell_type": "code",
   "execution_count": 22,
   "id": "d11b0d9d-4b41-4ac8-8501-29f384061b4b",
   "metadata": {},
   "outputs": [
    {
     "name": "stdout",
     "output_type": "stream",
     "text": [
      "The Inverse of my_matrix is:\n",
      " [[-6.66666667e-02 -1.66666667e-01  3.00000000e-01 -1.00000000e-01]\n",
      " [ 8.00000000e-01 -6.66133815e-17 -2.00000000e-01  9.99200722e-17]\n",
      " [-3.33333333e-01  1.66666667e-01  0.00000000e+00 -3.70074342e-17]\n",
      " [-2.00000000e-01 -3.33066907e-17 -1.00000000e-01  1.00000000e-01]]\n"
     ]
    }
   ],
   "source": [
    "inv = la.inv(my_matrix)\n",
    "print(\"The Inverse of my_matrix is:\\n\", inv)"
   ]
  },
  {
   "cell_type": "markdown",
   "id": "da8d6d81-d3f6-4ee3-9077-9a3c537f9f4d",
   "metadata": {},
   "source": [
    "### 1.5.3 Calculate eigen values\n",
    "##### NOTE: make sure the matrix is SQUARE [eigen values do not exit for matrix whose dimensions are mxn where m!=n]!"
   ]
  },
  {
   "cell_type": "code",
   "execution_count": 23,
   "id": "057378c5-37ef-48e2-895c-8761bf8cfa44",
   "metadata": {},
   "outputs": [
    {
     "name": "stdout",
     "output_type": "stream",
     "text": [
      "The eigen values are:\n",
      " [69.85210005+0.j         -0.29132439+1.91374116j -0.29132439-1.91374116j\n",
      "  5.73054872+0.j        ] \n",
      "\n",
      "The eigen vectors are:\n",
      " [[-0.12174611+0.j          0.15379405+0.41454187j  0.15379405-0.41454187j\n",
      "  -0.17947102+0.j        ]\n",
      " [-0.28357858+0.j         -0.76794736+0.j         -0.76794736-0.j\n",
      "  -0.5803796 +0.j        ]\n",
      " [-0.46668595+0.j          0.31666357-0.30279403j  0.31666357+0.30279403j\n",
      "  -0.21149313+0.j        ]\n",
      " [-0.8288337 +0.j          0.12986378-0.07703668j  0.12986378+0.07703668j\n",
      "   0.76565026+0.j        ]] \n",
      "\n"
     ]
    }
   ],
   "source": [
    "eigen_values, eigen_vectors = la.eig(my_matrix)\n",
    "print(\"The eigen values are:\\n\", eigen_values, \"\\n\")\n",
    "print(\"The eigen vectors are:\\n\", eigen_vectors, \"\\n\")"
   ]
  },
  {
   "cell_type": "markdown",
   "id": "117e6725-2536-4e63-8963-10fd13b93110",
   "metadata": {},
   "source": [
    "### 1.5.4 Cholesky factorization. \n",
    "##### NOTE: make sure matrix is Positive Definite!"
   ]
  },
  {
   "cell_type": "code",
   "execution_count": 24,
   "id": "0ff71c70-4001-402e-8697-f9c9e6276507",
   "metadata": {},
   "outputs": [
    {
     "name": "stdout",
     "output_type": "stream",
     "text": [
      "The Cholesky factorization of my_matrix1 is:\n",
      " [[ 2.          0.          0.        ]\n",
      " [ 0.5         1.6583124   0.        ]\n",
      " [ 0.5        -0.15075567  1.31425748]]\n"
     ]
    }
   ],
   "source": [
    "my_matrix1 = np.array([\n",
    "                [4, 1, 1],\n",
    "                [1, 3, 0],\n",
    "                [1, 0, 2]])\n",
    "\n",
    "cholesky = la.cholesky(my_matrix1)\n",
    "print(\"The Cholesky factorization of my_matrix1 is:\\n\", cholesky)"
   ]
  },
  {
   "cell_type": "markdown",
   "id": "60cbd98f-8c54-4014-8da4-ad316eb292a7",
   "metadata": {},
   "source": [
    "### 1.5.5 Rank of a matrix. \n",
    "##### Rank of a matrix is the number of linearly independent columns/rows in a matrix."
   ]
  },
  {
   "cell_type": "code",
   "execution_count": 25,
   "id": "7ba252ef-4a5b-4386-a963-382f624f9bd5",
   "metadata": {},
   "outputs": [
    {
     "name": "stdout",
     "output_type": "stream",
     "text": [
      "The rank of my_matrix is:\n",
      " 4\n",
      "The rank of my_matrix1 is:\n",
      " 3\n"
     ]
    }
   ],
   "source": [
    "rank = la.matrix_rank(my_matrix)\n",
    "rank1 = la.matrix_rank(my_matrix1)\n",
    "\n",
    "print(\"The rank of my_matrix is:\\n\", rank)\n",
    "print(\"The rank of my_matrix1 is:\\n\", rank1)"
   ]
  },
  {
   "cell_type": "markdown",
   "id": "5b66ea96-bc0c-49fb-97b0-5a3698d89664",
   "metadata": {},
   "source": [
    "## 1.6 Numpy Exercise"
   ]
  },
  {
   "cell_type": "markdown",
   "id": "00e4bfd3-a552-4cad-8113-6ca64128c5c6",
   "metadata": {},
   "source": [
    "### 1.6.1 Write a NumPy program to extract upper triangular part of a NumPy matrix."
   ]
  },
  {
   "cell_type": "code",
   "execution_count": 26,
   "id": "95f1fc6e-b367-4939-9708-75f45d0da6d8",
   "metadata": {},
   "outputs": [
    {
     "name": "stdout",
     "output_type": "stream",
     "text": [
      "The Upper Triangle of the exercise_matrix is:\n",
      " [[6 2 1 1]\n",
      " [0 5 2 1]\n",
      " [0 0 4 1]\n",
      " [0 0 0 3]] \n",
      "\n",
      "The Lower Triangle of the exercise_matrix is:\n",
      " [[6 0 0 0]\n",
      " [2 5 0 0]\n",
      " [1 2 4 0]\n",
      " [1 1 1 3]]\n"
     ]
    }
   ],
   "source": [
    "exercise_matrix = np.array([\n",
    "    [6, 2, 1, 1],\n",
    "    [2, 5, 2, 1],\n",
    "    [1, 2, 4, 1],\n",
    "    [1, 1, 1, 3]\n",
    "])\n",
    "# Upper Triangle part\n",
    "upper_triangle = np.triu(exercise_matrix)\n",
    "print(\"The Upper Triangle of the exercise_matrix is:\\n\", upper_triangle, \"\\n\")\n",
    "\n",
    "# Lower Triangle part\n",
    "lower_triangle = np.tril(exercise_matrix)\n",
    "print(\"The Lower Triangle of the exercise_matrix is:\\n\", lower_triangle)"
   ]
  },
  {
   "cell_type": "markdown",
   "id": "d4cd361d-df7b-4e7f-8307-0b1f8614b937",
   "metadata": {},
   "source": [
    "### 1.6.2 Write a NumPy program to extract all the elements of the second and third columns from a given (4x4) my_array."
   ]
  },
  {
   "cell_type": "code",
   "execution_count": 27,
   "id": "567893ac-f960-40b0-8b30-264c8d541982",
   "metadata": {},
   "outputs": [
    {
     "name": "stdout",
     "output_type": "stream",
     "text": [
      "The elements of second and third columns are:\n",
      " [[2 1]\n",
      " [5 2]\n",
      " [2 4]\n",
      " [1 1]]\n"
     ]
    }
   ],
   "source": [
    "print(\"The elements of second and third columns are:\\n\", exercise_matrix[0: , 1:3])"
   ]
  },
  {
   "cell_type": "markdown",
   "id": "44b27178-fa00-43f4-8d5e-ad3c95d951f8",
   "metadata": {},
   "source": [
    "### 1.6.3 Write a NumPy program to count the occurrence of a specified item in a given NumPy my_array."
   ]
  },
  {
   "cell_type": "code",
   "execution_count": 28,
   "id": "5e6d8ea0-fb05-40ac-a296-27182b779cce",
   "metadata": {},
   "outputs": [
    {
     "name": "stdout",
     "output_type": "stream",
     "text": [
      "The occurence of 2 inside exercixe_matrix by count() method is:\n",
      " 4 \n",
      "\n",
      "The occurence of 2 inside exercixe_matrix by sum() method is:\n",
      " 4\n"
     ]
    }
   ],
   "source": [
    "# By .count_nonzero() method\n",
    "count_1 = np.count_nonzero(exercise_matrix == 2)\n",
    "print(\"The occurence of 2 inside exercixe_matrix by count() method is:\\n\", count_1, \"\\n\")\n",
    "\n",
    "# By .sum() method\n",
    "count_2 = (exercise_matrix == 2).sum()\n",
    "print(\"The occurence of 2 inside exercixe_matrix by sum() method is:\\n\", count_2)"
   ]
  },
  {
   "cell_type": "markdown",
   "id": "6b2414ac-7bee-4df0-aad4-094dfc3cb9d9",
   "metadata": {},
   "source": [
    "### 1.6.4 Write a NumPy program to sum and compute the product of a NumPy my_array elements."
   ]
  },
  {
   "cell_type": "code",
   "execution_count": 29,
   "id": "d0c293ca-adef-4f00-89a4-48579514e028",
   "metadata": {},
   "outputs": [
    {
     "name": "stdout",
     "output_type": "stream",
     "text": [
      "The sum of elements inside the exercise_matrix is:\n",
      " 34 \n",
      "\n",
      "The product of elements inside the exercise_matrix is:\n",
      " 5760\n"
     ]
    }
   ],
   "source": [
    "# Sum of matrix elements\n",
    "sum = np.sum(exercise_matrix)\n",
    "print(\"The sum of elements inside the exercise_matrix is:\\n\", sum, \"\\n\")\n",
    "\n",
    "# Product of matrix elements\n",
    "product = np.prod(exercise_matrix)\n",
    "print(\"The product of elements inside the exercise_matrix is:\\n\", product)"
   ]
  },
  {
   "cell_type": "markdown",
   "id": "18a21146-675d-4f3d-8f2d-0138ba817cee",
   "metadata": {},
   "source": [
    "#Recap\n",
    "\n",
    "- Installing Modules  \n",
    "- Parsing XML with LXML  \n",
    "- Config Parser  \n",
    "- Threading  \n",
    "- NumPy  \n"
   ]
  }
 ],
 "metadata": {
  "kernelspec": {
   "display_name": "Python (ds_env)",
   "language": "python",
   "name": "ds_env"
  },
  "language_info": {
   "codemirror_mode": {
    "name": "ipython",
    "version": 3
   },
   "file_extension": ".py",
   "mimetype": "text/x-python",
   "name": "python",
   "nbconvert_exporter": "python",
   "pygments_lexer": "ipython3",
   "version": "3.13.5"
  }
 },
 "nbformat": 4,
 "nbformat_minor": 5
}
