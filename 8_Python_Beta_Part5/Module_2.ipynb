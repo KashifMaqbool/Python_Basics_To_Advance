{
 "cells": [
  {
   "cell_type": "markdown",
   "id": "305096ef-8392-4385-b147-3836aa58ee2e",
   "metadata": {},
   "source": [
    "# Lists"
   ]
  },
  {
   "cell_type": "markdown",
   "id": "25ad1810-d48f-40f8-921b-7fe7476887d0",
   "metadata": {},
   "source": [
    "A list is a sequenced collection of different objects such as integers, strings, and even other lists as well. The address of each element within a list is called an <b>index</b>. An index is used to access and refer to items within a list.\n"
   ]
  },
  {
   "cell_type": "markdown",
   "id": "a80e7b12-4a20-479e-a184-e1944b8f3a27",
   "metadata": {},
   "source": [
    "### Copy and Clone List"
   ]
  },
  {
   "cell_type": "markdown",
   "id": "66fc14c8-ae0c-436f-ab02-472fd3de5c6a",
   "metadata": {},
   "source": [
    "When we set one variable <b>B</b> equal to <b>A</b>, both <b>A</b> and <b>B</b> are referencing the same list in memory:"
   ]
  },
  {
   "cell_type": "code",
   "execution_count": 1,
   "id": "0d96b99d-7972-4f9d-8471-be73afbc3fe7",
   "metadata": {},
   "outputs": [
    {
     "name": "stdout",
     "output_type": "stream",
     "text": [
      "A: ['hard rock', 10, 1.2]\n",
      "B: ['hard rock', 10, 1.2]\n"
     ]
    }
   ],
   "source": [
    "# Copy (copy by reference) the list A\n",
    "\n",
    "A = [\"hard rock\", 10, 1.2]\n",
    "B = A\n",
    "print('A:', A)\n",
    "print('B:', B)"
   ]
  },
  {
   "cell_type": "markdown",
   "id": "21d0004b-5041-42be-b32a-5c4cda960bc0",
   "metadata": {},
   "source": [
    "Initially, the value of the first element in <b>B</b> is set as \"hard rock\". If we change the first element in <b>A</b> to <b>\"Apple\"</b>, we get an unexpected side effect.  As <b>A</b> and <b>B</b> are referencing the same list, if we change list <b>A</b>, then list <b>B</b> also changes. If we check the first element of <b>B</b> we get \"Apple\" instead of \"hard rock\":\n"
   ]
  },
  {
   "cell_type": "code",
   "execution_count": 3,
   "id": "edbf7269-5d82-42d2-bf2e-93167c93a6e4",
   "metadata": {},
   "outputs": [
    {
     "name": "stdout",
     "output_type": "stream",
     "text": [
      "B[0]:  hard rock\n",
      "B[0]:  Apple\n"
     ]
    }
   ],
   "source": [
    "print(\"B[0]: \", B[0])\n",
    "A[0] = \"Apple\"\n",
    "print(\"B[0]: \", B[0])"
   ]
  },
  {
   "cell_type": "markdown",
   "id": "4c95f064-4709-4af1-a8af-0bd4ed0ed7f5",
   "metadata": {},
   "source": [
    "#### Clone(Clone by Value) the List A"
   ]
  },
  {
   "cell_type": "code",
   "execution_count": 4,
   "id": "51330dc5-2b58-48f8-a70d-d94f93443173",
   "metadata": {},
   "outputs": [
    {
     "data": {
      "text/plain": [
       "['Apple', 10, 1.2]"
      ]
     },
     "execution_count": 4,
     "metadata": {},
     "output_type": "execute_result"
    }
   ],
   "source": [
    "B = A[:]\n",
    "B"
   ]
  },
  {
   "cell_type": "markdown",
   "id": "2cbec69f-93f6-4dc6-b840-caf9f2cbd3a7",
   "metadata": {},
   "source": [
    "Now If you change A B will not be changed."
   ]
  },
  {
   "cell_type": "code",
   "execution_count": 12,
   "id": "ec623a49-81c9-4d7e-809b-7505192542c3",
   "metadata": {},
   "outputs": [
    {
     "name": "stdout",
     "output_type": "stream",
     "text": [
      "B[0]:  Apple\n",
      "A[0]:  Banana\n",
      "B[0]:  Apple\n"
     ]
    }
   ],
   "source": [
    "print(\"B[0]: \", B[0])\n",
    "A[0] = \"Banana\"\n",
    "print(\"A[0]: \", A[0])\n",
    "print(\"B[0]: \", B[0])"
   ]
  },
  {
   "cell_type": "markdown",
   "id": "c6ce5752-1fce-493e-8e1d-5cc9ffc9e65e",
   "metadata": {},
   "source": [
    "# Tuples"
   ]
  },
  {
   "cell_type": "markdown",
   "id": "aea9e116-7205-4116-a872-556f6bb38f7c",
   "metadata": {},
   "source": [
    "### Nested Tuples"
   ]
  },
  {
   "cell_type": "code",
   "execution_count": 14,
   "id": "b74b7440-5713-4698-beb2-965450d17973",
   "metadata": {},
   "outputs": [
    {
     "data": {
      "text/plain": [
       "(1, 2, ('pop', 'rock'), (3, 4), ('disco', (1, 2)))"
      ]
     },
     "execution_count": 14,
     "metadata": {},
     "output_type": "execute_result"
    }
   ],
   "source": [
    "NestedT =(1, 2, (\"pop\", \"rock\") ,(3,4),(\"disco\",(1,2)))\n",
    "NestedT"
   ]
  },
  {
   "cell_type": "code",
   "execution_count": 15,
   "id": "1da72142-aab2-4d30-9acb-557ed1f08733",
   "metadata": {},
   "outputs": [
    {
     "name": "stdout",
     "output_type": "stream",
     "text": [
      "Element 0 of Tuple:  1\n",
      "Element 1 of Tuple:  2\n",
      "Element 2 of Tuple:  ('pop', 'rock')\n",
      "Element 3 of Tuple:  (3, 4)\n",
      "Element 4 of Tuple:  ('disco', (1, 2))\n"
     ]
    }
   ],
   "source": [
    "print(\"Element 0 of Tuple: \", NestedT[0])\n",
    "print(\"Element 1 of Tuple: \", NestedT[1])\n",
    "print(\"Element 2 of Tuple: \", NestedT[2])\n",
    "print(\"Element 3 of Tuple: \", NestedT[3])\n",
    "print(\"Element 4 of Tuple: \", NestedT[4])"
   ]
  },
  {
   "cell_type": "code",
   "execution_count": 16,
   "id": "e53dd797-5e86-4208-b791-c251d1ab4775",
   "metadata": {},
   "outputs": [
    {
     "name": "stdout",
     "output_type": "stream",
     "text": [
      "Element 2, 0 of Tuple:  pop\n",
      "Element 2, 1 of Tuple:  rock\n",
      "Element 3, 0 of Tuple:  3\n",
      "Element 3, 1 of Tuple:  4\n",
      "Element 4, 0 of Tuple:  disco\n",
      "Element 4, 1 of Tuple:  (1, 2)\n"
     ]
    }
   ],
   "source": [
    "# Print element on each index, including nest indexes\n",
    "\n",
    "print(\"Element 2, 0 of Tuple: \",   NestedT[2][0])\n",
    "print(\"Element 2, 1 of Tuple: \",   NestedT[2][1])\n",
    "print(\"Element 3, 0 of Tuple: \",   NestedT[3][0])\n",
    "print(\"Element 3, 1 of Tuple: \",   NestedT[3][1])\n",
    "print(\"Element 4, 0 of Tuple: \",   NestedT[4][0])\n",
    "print(\"Element 4, 1 of Tuple: \",   NestedT[4][1])"
   ]
  },
  {
   "cell_type": "code",
   "execution_count": 17,
   "id": "5256ff91-7c72-462d-9e4e-afbbaceb54d4",
   "metadata": {},
   "outputs": [
    {
     "data": {
      "text/plain": [
       "'r'"
      ]
     },
     "execution_count": 17,
     "metadata": {},
     "output_type": "execute_result"
    }
   ],
   "source": [
    "# Print the first element in the second nested tuples\n",
    "\n",
    "NestedT[2][1][0]"
   ]
  },
  {
   "cell_type": "code",
   "execution_count": 18,
   "id": "7838d626-3be2-478d-81bf-c1a651838d43",
   "metadata": {},
   "outputs": [
    {
     "data": {
      "text/plain": [
       "2"
      ]
     },
     "execution_count": 18,
     "metadata": {},
     "output_type": "execute_result"
    }
   ],
   "source": [
    "NestedT[4][1][1]"
   ]
  },
  {
   "cell_type": "markdown",
   "id": "c2f289cc-61e2-419a-8c34-92b7fed35532",
   "metadata": {},
   "source": [
    "# Dictionaries"
   ]
  },
  {
   "cell_type": "markdown",
   "id": "eaf339e8-ca7e-4864-9208-485a26188268",
   "metadata": {},
   "source": [
    "A dictionary consists of keys and values. It is helpful to compare a dictionary to a list. Instead of being indexed numerically like a list, dictionaries have keys. These keys are the keys that are used to access values within a dictionary.   \n",
    "\n",
    "\n",
    "The best example of a dictionary can be accessing person's detais using the **social security number**.   \n",
    "Here the social security number which is a unique number will be the **key** and the details of the people will be the **values** associated with it.\n"
   ]
  },
  {
   "cell_type": "code",
   "execution_count": 20,
   "id": "5070c605-00df-4f4c-a134-c4144dd493d8",
   "metadata": {},
   "outputs": [
    {
     "data": {
      "text/plain": [
       "dict_keys(['a', 'b'])"
      ]
     },
     "execution_count": 20,
     "metadata": {},
     "output_type": "execute_result"
    }
   ],
   "source": [
    "dice = {\"a\":1,\"b\":2}\n",
    "dice.keys()"
   ]
  },
  {
   "cell_type": "markdown",
   "id": "091a36aa-df96-4d97-a7e4-45cff2145437",
   "metadata": {},
   "source": [
    "# Sets"
   ]
  },
  {
   "cell_type": "markdown",
   "id": "39d39aba-b865-4151-87c2-3fafe083495c",
   "metadata": {},
   "source": [
    "## Sets Logic Operations"
   ]
  },
  {
   "cell_type": "code",
   "execution_count": 22,
   "id": "d209ce0f-e4eb-4bdf-8db8-1e19e11d6b0e",
   "metadata": {},
   "outputs": [],
   "source": [
    "album_set1 = set([\"Thriller\", 'AC/DC', 'Back in Black'])\n",
    "album_set2 = set([ \"AC/DC\", \"Back in Black\", \"The Dark Side of the Moon\"])"
   ]
  },
  {
   "cell_type": "code",
   "execution_count": 23,
   "id": "51555c1c-561f-4da6-8e56-966105846ed5",
   "metadata": {},
   "outputs": [
    {
     "data": {
      "text/plain": [
       "({'AC/DC', 'Back in Black', 'Thriller'},\n",
       " {'AC/DC', 'Back in Black', 'The Dark Side of the Moon'})"
      ]
     },
     "execution_count": 23,
     "metadata": {},
     "output_type": "execute_result"
    }
   ],
   "source": [
    "album_set1, album_set2"
   ]
  },
  {
   "cell_type": "code",
   "execution_count": 24,
   "id": "eea0cf8f-f1f3-4576-8fa7-8c478f0ece31",
   "metadata": {},
   "outputs": [
    {
     "data": {
      "text/plain": [
       "{'AC/DC', 'Back in Black'}"
      ]
     },
     "execution_count": 24,
     "metadata": {},
     "output_type": "execute_result"
    }
   ],
   "source": [
    "# Find the intersections\n",
    "\n",
    "intersection = album_set1 & album_set2\n",
    "intersection"
   ]
  },
  {
   "cell_type": "code",
   "execution_count": 25,
   "id": "3b433585-7d66-471e-a14d-8bfd6662d75d",
   "metadata": {},
   "outputs": [
    {
     "data": {
      "text/plain": [
       "{'Thriller'}"
      ]
     },
     "execution_count": 25,
     "metadata": {},
     "output_type": "execute_result"
    }
   ],
   "source": [
    "# Find the difference in set1 but not set2\n",
    "\n",
    "album_set1.difference(album_set2) "
   ]
  },
  {
   "cell_type": "code",
   "execution_count": 26,
   "id": "7b0da23b-8f29-41a3-90ff-f42ead4eb011",
   "metadata": {},
   "outputs": [
    {
     "data": {
      "text/plain": [
       "{'The Dark Side of the Moon'}"
      ]
     },
     "execution_count": 26,
     "metadata": {},
     "output_type": "execute_result"
    }
   ],
   "source": [
    "album_set2.difference(album_set1) "
   ]
  },
  {
   "cell_type": "code",
   "execution_count": 27,
   "id": "c182253d-876e-4539-b44e-b9915e427ac0",
   "metadata": {},
   "outputs": [
    {
     "data": {
      "text/plain": [
       "{'AC/DC', 'Back in Black'}"
      ]
     },
     "execution_count": 27,
     "metadata": {},
     "output_type": "execute_result"
    }
   ],
   "source": [
    "# Use intersection method to find the intersection of album_list1 and album_list2\n",
    "\n",
    "album_set1.intersection(album_set2)   "
   ]
  },
  {
   "cell_type": "code",
   "execution_count": 28,
   "id": "2274c976-cfa5-4a25-8304-5f04790247a2",
   "metadata": {},
   "outputs": [
    {
     "data": {
      "text/plain": [
       "{'AC/DC', 'Back in Black', 'The Dark Side of the Moon', 'Thriller'}"
      ]
     },
     "execution_count": 28,
     "metadata": {},
     "output_type": "execute_result"
    }
   ],
   "source": [
    "# Find the union of two sets\n",
    "\n",
    "album_set1.union(album_set2)"
   ]
  },
  {
   "cell_type": "code",
   "execution_count": 29,
   "id": "9dcaf456-b45a-49bd-81c2-929e64956346",
   "metadata": {},
   "outputs": [
    {
     "data": {
      "text/plain": [
       "False"
      ]
     },
     "execution_count": 29,
     "metadata": {},
     "output_type": "execute_result"
    }
   ],
   "source": [
    "# Check if superset\n",
    "\n",
    "set(album_set1).issuperset(album_set2)   "
   ]
  },
  {
   "cell_type": "code",
   "execution_count": 30,
   "id": "2699e43c-194a-41a9-b794-e66a91033342",
   "metadata": {},
   "outputs": [
    {
     "data": {
      "text/plain": [
       "False"
      ]
     },
     "execution_count": 30,
     "metadata": {},
     "output_type": "execute_result"
    }
   ],
   "source": [
    "# Check if subset\n",
    "\n",
    "set(album_set2).issubset(album_set1)   "
   ]
  },
  {
   "cell_type": "markdown",
   "id": "122ef003-aeca-4ee7-bd0b-8caa5b04f0ac",
   "metadata": {},
   "source": [
    "Consider the list <code>A = \\[1, 2, 2, 1]</code> and set <code>B = set(\\[1, 2, 2, 1])</code>, does <code>sum(A) == sum(B)</code>?\n"
   ]
  },
  {
   "cell_type": "code",
   "execution_count": 31,
   "id": "6b6acef1-84e0-4b92-a996-d76a2d2661a9",
   "metadata": {},
   "outputs": [
    {
     "name": "stdout",
     "output_type": "stream",
     "text": [
      "the sum of A is: 6\n",
      "the sum of B is: 3\n"
     ]
    }
   ],
   "source": [
    "# Set property to remove duplicates\n",
    "A = [1, 2, 2, 1]  \n",
    "B = set([1, 2, 2, 1])\n",
    "print(\"the sum of A is:\", sum(A))\n",
    "print(\"the sum of B is:\", sum(B))"
   ]
  },
  {
   "cell_type": "code",
   "execution_count": null,
   "id": "3f0dd2ab-6c28-4e11-aa00-d478d93115e1",
   "metadata": {},
   "outputs": [],
   "source": []
  }
 ],
 "metadata": {
  "kernelspec": {
   "display_name": "Python (ds_env)",
   "language": "python",
   "name": "ds_env"
  },
  "language_info": {
   "codemirror_mode": {
    "name": "ipython",
    "version": 3
   },
   "file_extension": ".py",
   "mimetype": "text/x-python",
   "name": "python",
   "nbconvert_exporter": "python",
   "pygments_lexer": "ipython3",
   "version": "3.13.5"
  }
 },
 "nbformat": 4,
 "nbformat_minor": 5
}
