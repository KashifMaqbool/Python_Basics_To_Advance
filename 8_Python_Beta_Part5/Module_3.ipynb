{
 "cells": [
  {
   "cell_type": "markdown",
   "id": "0bc64dbd-cfcc-41ae-ba7c-47ebdc6cebc8",
   "metadata": {},
   "source": [
    "# Branching"
   ]
  },
  {
   "cell_type": "markdown",
   "id": "406c3b28-c874-4f2b-8e4c-3438afcaa5e0",
   "metadata": {},
   "source": [
    "Branching allows us to run different statements for different inputs. It is helpful to think of an **if statement** as a locked room, if the statement is **True** we can enter the room and your program will run some predefined tasks, but if the statement is **False** the program will ignore the task.\n",
    "For example, consider the blue rectangle representing an ACDC concert. If the individual is older than 18, they can enter the ACDC concert. If they are 18 or younger, they cannot enter the concert.\n",
    "\n",
    "We can use the condition statements learned before as the conditions that need to be checked in the **if statement**. The syntax is as simple as <code> if <i>condition statement</i> :</code>, which contains a word <code>if</code>, any condition statement, and a colon at the end. Start your tasks which need to be executed under this condition in a new line with an indent. The lines of code after the colon and with an indent will only be executed when the **if statement** is **True**. The tasks will end when the line of code does not contain the indent.\n",
    "\n",
    "In the case below, the code <code>print(“you can enter”)</code> is executed only if the variable <code>age</code> is greater than 18 is a True case because this line of code has the indent. However, the execution of <code>print(“move on”)</code> will not be influenced by the if statement."
   ]
  },
  {
   "cell_type": "code",
   "execution_count": 1,
   "id": "d28870cb-7aa5-4e6a-bf32-0ecc59fa16f4",
   "metadata": {},
   "outputs": [
    {
     "name": "stdout",
     "output_type": "stream",
     "text": [
      "you can enter\n",
      "move on\n"
     ]
    }
   ],
   "source": [
    "# If statement example\n",
    "\n",
    "age = 19\n",
    "#age = 18\n",
    "\n",
    "#expression that can be true or false\n",
    "if age > 18:\n",
    "    \n",
    "    #within an indent, we have the expression that is run if the condition is true\n",
    "    print(\"you can enter\" )\n",
    "\n",
    "#The statements after the if statement will run regardless if the condition is true or false \n",
    "print(\"move on\")"
   ]
  },
  {
   "cell_type": "markdown",
   "id": "3b2454f9-cf86-4766-b030-0a0e97cdd1ee",
   "metadata": {},
   "source": [
    "# Loops"
   ]
  },
  {
   "cell_type": "markdown",
   "id": "0b7a16ba-c3ee-44ee-9981-fbfcd841d0be",
   "metadata": {},
   "source": [
    "#### The Loop Flow  \n",
    "\n",
    "Both **for** and **while** loops have their special moves, but they follow a common pattern:  \n",
    "\n",
    "1. **Initialization** – You set up things like a starting point or conditions.  \n",
    "2. **Condition** – You decide when the loop should keep going and when it should stop.  \n",
    "3. **Execution** – You perform the task inside the loop.  \n",
    "4. **Update** – You make changes to your starting point or conditions to move forward.  \n",
    "5. **Repeat** – The loop goes back to step 2 until the condition is no longer true.  \n",
    "\n",
    "---\n",
    "\n",
    "#### When to Use Each  \n",
    "\n",
    "| Loop Type   | Best Use Case |\n",
    "|-------------|---------------|\n",
    "| **For Loops** | Use when you know the number of iterations in advance and want to process each element in a sequence. Best suited for iterating over collections and sequences where the length is known. |\n",
    "| **While Loops** | Use when you need to perform a task repeatedly as long as a certain condition holds true. Particularly useful when the number of iterations is uncertain or when waiting for a specific condition to be met. |\n"
   ]
  },
  {
   "cell_type": "markdown",
   "id": "beda9fe9-83ab-4722-8010-cc93b20fe0ec",
   "metadata": {},
   "source": [
    "# Functions"
   ]
  },
  {
   "cell_type": "markdown",
   "id": "76390682-b86b-425c-a435-d705081ba806",
   "metadata": {},
   "source": [
    "## Modifying Data Structures with Functions"
   ]
  },
  {
   "cell_type": "code",
   "execution_count": 4,
   "id": "8b171c40-2fb8-4806-b612-08029ac9788c",
   "metadata": {},
   "outputs": [
    {
     "name": "stdout",
     "output_type": "stream",
     "text": [
      "Current list: [42, 17, 99]\n",
      "55 not found in the list.\n",
      "Updated list: [42, 99]\n"
     ]
    }
   ],
   "source": [
    "# Initial list\n",
    "my_list = []\n",
    "\n",
    "\n",
    "# Function to add elements\n",
    "def add_element(data_structure, element):\n",
    "    data_structure.append(element)\n",
    "\n",
    "\n",
    "# Function to remove elements\n",
    "def remove_element(data_structure, element):\n",
    "    if element in data_structure:\n",
    "        data_structure.remove(element)\n",
    "    else:\n",
    "        print(f\"{element} not found in the list.\")\n",
    "\n",
    "\n",
    "# Add elements\n",
    "add_element(my_list, 42)\n",
    "add_element(my_list, 17)\n",
    "add_element(my_list, 99)\n",
    "\n",
    "\n",
    "print(\"Current list:\", my_list)\n",
    "\n",
    "\n",
    "# Remove elements\n",
    "remove_element(my_list, 17)\n",
    "remove_element(my_list, 55) # Not found\n",
    "\n",
    "\n",
    "print(\"Updated list:\", my_list)"
   ]
  },
  {
   "cell_type": "markdown",
   "id": "a7ad9e44-949b-480e-ba41-4d7e2fdbf12c",
   "metadata": {},
   "source": [
    "## Collections and Functions"
   ]
  },
  {
   "cell_type": "markdown",
   "id": "e1ffe715-fccb-4231-8140-3051ff40b310",
   "metadata": {},
   "source": [
    "When the number of arguments are unknown for a function, They can all be packed into a tuple as shown:"
   ]
  },
  {
   "cell_type": "code",
   "execution_count": 5,
   "id": "32b210fb-533c-439e-8aa7-0ebdae8cb263",
   "metadata": {},
   "outputs": [
    {
     "name": "stdout",
     "output_type": "stream",
     "text": [
      "No of arguments: 3\n",
      "Horsefeather\n",
      "Adonis\n",
      "Bone\n",
      "No of arguments: 4\n",
      "Sidecar\n",
      "Long Island\n",
      "Mudslide\n",
      "Carriage\n"
     ]
    }
   ],
   "source": [
    "def printAll(*args): # All the arguments are 'packed' into args which can be treated like a tuple\n",
    "    print(\"No of arguments:\", len(args)) \n",
    "    for argument in args:\n",
    "        print(argument)\n",
    "#printAll with 3 arguments\n",
    "printAll('Horsefeather','Adonis','Bone')\n",
    "#printAll with 4 arguments\n",
    "printAll('Sidecar','Long Island','Mudslide','Carriage')"
   ]
  },
  {
   "cell_type": "markdown",
   "id": "4bfc4de2-1597-40e0-9300-aa8a6457e999",
   "metadata": {},
   "source": [
    "Similarly, The arguments can also be packed into a dictionary as shown:"
   ]
  },
  {
   "cell_type": "code",
   "execution_count": 6,
   "id": "77754d7c-4561-4db1-b605-e7d7fd329101",
   "metadata": {},
   "outputs": [
    {
     "name": "stdout",
     "output_type": "stream",
     "text": [
      "Country : Canada\n",
      "Province : Ontario\n",
      "City : Toronto\n"
     ]
    }
   ],
   "source": [
    "def printDictionary(**args):\n",
    "    for key in args:\n",
    "        print(key + \" : \" + args[key])\n",
    "\n",
    "printDictionary(Country='Canada',Province='Ontario',City='Toronto')\n",
    "    "
   ]
  },
  {
   "cell_type": "code",
   "execution_count": 7,
   "id": "e43b28cf-2f46-4082-95c1-bc6be0046885",
   "metadata": {},
   "outputs": [
    {
     "data": {
      "text/plain": [
       "['One', 'Two', 'Three', 'Four']"
      ]
     },
     "execution_count": 7,
     "metadata": {},
     "output_type": "execute_result"
    }
   ],
   "source": [
    "def addItems(list):\n",
    "    list.append(\"Three\")\n",
    "    list.append(\"Four\")\n",
    "\n",
    "myList = [\"One\",\"Two\"]\n",
    "\n",
    "addItems(myList)\n",
    "\n",
    "myList\n",
    "    "
   ]
  },
  {
   "cell_type": "markdown",
   "id": "802f5d57-83b1-48cb-bb0f-527c6c7832db",
   "metadata": {},
   "source": [
    "# Exception Handling"
   ]
  },
  {
   "cell_type": "code",
   "execution_count": 13,
   "id": "40241837-c69d-4452-a874-02bacea61212",
   "metadata": {},
   "outputs": [
    {
     "name": "stdin",
     "output_type": "stream",
     "text": [
      "Please enter a number to divide a -3\n"
     ]
    },
    {
     "name": "stdout",
     "output_type": "stream",
     "text": [
      "success a= -0.3333333333333333\n",
      "Processing Complete\n"
     ]
    }
   ],
   "source": [
    "a = 1\n",
    "\n",
    "try:\n",
    "    b = int(input(\"Please enter a number to divide a\"))\n",
    "    a = a/b\n",
    "except ZeroDivisionError:\n",
    "    print(\"The number you provided cant divide 1 because it is 0\")\n",
    "except ValueError:\n",
    "    print(\"You did not provide a number\")\n",
    "except:\n",
    "    print(\"Something went wrong\")\n",
    "else:\n",
    "    print(\"success a=\",a)\n",
    "finally:\n",
    "    print(\"Processing Complete\")"
   ]
  },
  {
   "cell_type": "markdown",
   "id": "df13f48f-f1d7-4a51-a4d4-53d145d0954b",
   "metadata": {},
   "source": [
    "### Handling ZeroDivisionError"
   ]
  },
  {
   "cell_type": "code",
   "execution_count": 14,
   "id": "11f88c2a-3237-4e43-b084-187deca3d251",
   "metadata": {},
   "outputs": [
    {
     "name": "stdin",
     "output_type": "stream",
     "text": [
      "Enter the numerator value:- 5\n",
      "Enter the denominator value:- 6\n"
     ]
    },
    {
     "name": "stdout",
     "output_type": "stream",
     "text": [
      "0.8333333333333334\n"
     ]
    }
   ],
   "source": [
    "def safe_divide(numerator,denominator):\n",
    "    try:\n",
    "        result = numerator / denominator\n",
    "        return result\n",
    "    except ZeroDivisionError:\n",
    "        print(\"Error: Cannot divide by zero.\")\n",
    "        return None\n",
    "\n",
    "numerator=int(input(\"Enter the numerator value:-\"))\n",
    "denominator=int(input(\"Enter the denominator value:-\"))\n",
    "print(safe_divide(numerator,denominator))"
   ]
  },
  {
   "cell_type": "markdown",
   "id": "49ab67f5-5265-46f3-8a97-ea085e3ad394",
   "metadata": {},
   "source": [
    "### Handling ValueError¶"
   ]
  },
  {
   "cell_type": "code",
   "execution_count": null,
   "id": "11205bf9-1b64-46aa-bbbb-58606922d0ed",
   "metadata": {},
   "outputs": [],
   "source": [
    "import math\n",
    "\n",
    "def perform_calculation(number1):\n",
    "    try:\n",
    "        result = math.sqrt(number1)\n",
    "        print(f\"Result: {result}\")\n",
    "    except ValueError:\n",
    "        print(\"Error: Invalid input! Please enter a positive integer or a float value.\")\n",
    "# Taking Input\n",
    "number1=float(input(\"Enter the number:-\"))\n",
    "perform_calculation(number1)"
   ]
  },
  {
   "cell_type": "markdown",
   "id": "5c525b6f-0ef2-405e-a2f3-eb91779ebde6",
   "metadata": {},
   "source": [
    "### Handling Generic Exceptions"
   ]
  },
  {
   "cell_type": "code",
   "execution_count": null,
   "id": "ee771bc3-8931-4428-9477-ab79079ca82d",
   "metadata": {},
   "outputs": [],
   "source": [
    "def complex_calculation(num):\n",
    "    try:\n",
    "        result = num / (num - 5)\n",
    "        print (f\"Result: {result}\")\n",
    "    except Exception as e:\n",
    "        print(\"An error occurred during calculation.\")\n",
    "# Input part\n",
    "user_input = float(input(\"Enter a number: \"))\n",
    "complex_calculation(user_input)"
   ]
  },
  {
   "cell_type": "markdown",
   "id": "3bb50e5a-fb7c-44cc-abb3-c99104c24345",
   "metadata": {},
   "source": [
    "# Classes and Objects"
   ]
  },
  {
   "cell_type": "markdown",
   "id": "e01f63a3-3be2-4f53-9424-a83d4e37f539",
   "metadata": {},
   "source": [
    "<center>\n",
    "    \n",
    "# Scenario: Car dealership's inventory management system\n",
    "\n",
    "</center>"
   ]
  },
  {
   "cell_type": "markdown",
   "id": "492e02c9-9dc3-48dc-acdf-65f3541308ef",
   "metadata": {},
   "source": [
    "### Task-1. You are tasked with creating a Python program to represent vehicles using a class. Each car should have attributes for maximum speed and mileage. "
   ]
  },
  {
   "cell_type": "code",
   "execution_count": 15,
   "id": "ca435300-184a-406f-9fef-5fdc856dc3c0",
   "metadata": {},
   "outputs": [],
   "source": [
    "class Vehicle:\n",
    "    def __init__(self, max_speed, mileage):\n",
    "        self.max_speed = max_speed\n",
    "        self.mileage = mileage"
   ]
  },
  {
   "cell_type": "markdown",
   "id": "dd237588-16d7-42f6-8c63-eca2a23396d5",
   "metadata": {},
   "source": [
    "### Task-2. Update the class with the default color for all vehicles,\" white\"."
   ]
  },
  {
   "cell_type": "code",
   "execution_count": 16,
   "id": "c36e334e-1b16-41c6-8309-bcd4df0e40da",
   "metadata": {},
   "outputs": [],
   "source": [
    "class Vehicle:\n",
    "    color = \"white\"\n",
    "\n",
    "    def __init__(self, max_speed, mileage):\n",
    "        self.max_speed = max_speed\n",
    "        self.mileage = mileage"
   ]
  },
  {
   "cell_type": "markdown",
   "id": "ea53bd11-8faf-4488-bc5d-75acc1a20bc8",
   "metadata": {},
   "source": [
    "### Task-3. Additionally, you need to create methods in the Vehicle class to assign seating capacity to a vehicle. "
   ]
  },
  {
   "cell_type": "code",
   "execution_count": 17,
   "id": "b82ee46c-4b05-478b-823c-26644e09173e",
   "metadata": {},
   "outputs": [],
   "source": [
    "class Vehicle:\n",
    "    color = \"white\"\n",
    "\n",
    "    def __init__(self, max_speed, mileage):\n",
    "        self.max_speed = max_speed\n",
    "        self.mileage = mileage\n",
    "        self.seating_capacity = None\n",
    "\n",
    "    def assign_seating_capacity(self, seating_capacity):\n",
    "        self.seating_capacity = seating_capacity"
   ]
  },
  {
   "cell_type": "markdown",
   "id": "60d7e127-d606-4646-afb8-395966806a64",
   "metadata": {},
   "source": [
    "### Task-4. Create a method to display all the properties of an object of the class."
   ]
  },
  {
   "cell_type": "code",
   "execution_count": 18,
   "id": "b563804f-7d4f-4080-851b-7e44e7986d2e",
   "metadata": {},
   "outputs": [],
   "source": [
    "class Vehicle:\n",
    "    color = \"white\"\n",
    "\n",
    "    def __init__(self, max_speed, mileage):\n",
    "        self.max_speed = max_speed\n",
    "        self.mileage = mileage\n",
    "        self.seating_capacity = None\n",
    "\n",
    "    def assign_seating_capacity(self, seating_capacity):\n",
    "        self.seating_capacity = seating_capacity\n",
    "\n",
    "    def display_properties(self):\n",
    "        print(\"Properties of the Vehicle:\")\n",
    "        print(\"Color:\", self.color)\n",
    "        print(\"Maximum Speed:\", self.max_speed)\n",
    "        print(\"Mileage:\", self.mileage)\n",
    "        print(\"Seating Capacity:\", self.seating_capacity)"
   ]
  },
  {
   "cell_type": "markdown",
   "id": "e03c91d1-497c-431b-919c-f22e7439a55f",
   "metadata": {},
   "source": [
    "### Task-5. Additionally, you need to create two objects of the Vehicle class object that should have a max speed of 200kmph and mileage of 20kmpl with five seating capacities, and another car object should have a max speed of 180kmph and mileage of 25kmpl with four seating capacities."
   ]
  },
  {
   "cell_type": "code",
   "execution_count": 19,
   "id": "7848a124-d1c0-4ba8-b0f0-8f10e427bdff",
   "metadata": {},
   "outputs": [
    {
     "name": "stdout",
     "output_type": "stream",
     "text": [
      "Properties of the Vehicle:\n",
      "Color: white\n",
      "Maximum Speed: 200\n",
      "Mileage: 20\n",
      "Seating Capacity: 5\n",
      "Properties of the Vehicle:\n",
      "Color: white\n",
      "Maximum Speed: 180\n",
      "Mileage: 25\n",
      "Seating Capacity: 4\n"
     ]
    }
   ],
   "source": [
    "class Vehicle:\n",
    "    color = \"white\"\n",
    "\n",
    "    def __init__(self, max_speed, mileage):\n",
    "        self.max_speed = max_speed\n",
    "        self.mileage = mileage\n",
    "        self.seating_capacity = None\n",
    "\n",
    "    def assign_seating_capacity(self, seating_capacity):\n",
    "        self.seating_capacity = seating_capacity\n",
    "\n",
    "    def display_properties(self):\n",
    "        print(\"Properties of the Vehicle:\")\n",
    "        print(\"Color:\", self.color)\n",
    "        print(\"Maximum Speed:\", self.max_speed)\n",
    "        print(\"Mileage:\", self.mileage)\n",
    "        print(\"Seating Capacity:\", self.seating_capacity)\n",
    "\n",
    "# Creating objects of the Vehicle class\n",
    "vehicle1 = Vehicle(200, 20)\n",
    "vehicle1.assign_seating_capacity(5)\n",
    "vehicle1.display_properties()\n",
    "\n",
    "vehicle2 = Vehicle(180, 25)\n",
    "vehicle2.assign_seating_capacity(4)\n",
    "vehicle2.display_properties()"
   ]
  },
  {
   "cell_type": "markdown",
   "id": "48fb8725-992d-4bbb-b4f5-5e1383506e6e",
   "metadata": {},
   "source": [
    "# Text Analysis"
   ]
  },
  {
   "cell_type": "markdown",
   "id": "e2cf9f14-0460-45cd-8e5e-723d539657ba",
   "metadata": {},
   "source": [
    "<center>\n",
    "    \n",
    "# **Scenario: Text Analysis**\n",
    "\n",
    "</center>\n"
   ]
  },
  {
   "cell_type": "markdown",
   "id": "7f0bbc76-ae3b-4ae4-b11c-ed4909e8c755",
   "metadata": {},
   "source": [
    "# What is text analysis?\n",
    "Text analysis, also known as text mining or text analytics, refers to the process of extracting meaningful information and insights from textual data.\n"
   ]
  },
  {
   "cell_type": "markdown",
   "id": "ac944844-cd08-4c9f-94de-df2584c8e082",
   "metadata": {},
   "source": [
    "## Objectives\n",
    " \n",
    "After completing this lab, we will be able to:\n",
    "- Use Python commands to perform text analysis.\n",
    "- Convert the text to lowercase and then find and count the frequency of all unique words, as well as a specified word.\n"
   ]
  },
  {
   "cell_type": "markdown",
   "id": "410faede-b580-4cca-88a2-a73a7b664abd",
   "metadata": {},
   "source": [
    "## Setup\n"
   ]
  },
  {
   "cell_type": "markdown",
   "id": "fd2aa275-3384-4ca2-ad2c-094e0ab017fa",
   "metadata": {},
   "source": [
    "For this lab, I am using the following data types:\n",
    "* List\n",
    "* Strings\n",
    "* Classes and objects\n"
   ]
  },
  {
   "cell_type": "markdown",
   "id": "d6bf050b-639e-4a64-b2c1-23adbfcb2731",
   "metadata": {},
   "source": [
    "**Let's consider a real-life scenario where we are analyzing customer feedback for a product. You have a large data set of customer reviews in the form of strings, and you want to extract useful information from them using the three identified tasks:**\n",
    "\n",
    "**Task 1. String in lowercase:**\n",
    "I want to pre-process the customer feedback by converting all the text to lowercase. This step helps standardize the text. Lower casing the text allows me to focus on the content rather than the specific letter casing.\n",
    "\n",
    "**Task 2. Frequency of all words in a given string:**\n",
    "After converting the text to lowercase, I want to determine the frequency of each word in the customer feedback. This information will help me identify which words are used more frequently, indicating the key aspects or topics that customers are mentioning in their reviews. By analyzing the word frequencies, I can gain insights into the most common issues raised by customers.\n",
    "\n",
    "**Task 3. Frequency of a specific word:**\n",
    "In addition to analyzing the overall word frequencies, I want to specifically track the frequency of a particular word that is relevant to my analysis. For example, I am interested in monitoring how often the word \"reliable\" appears in customer reviews to gauge customer sentiment about the product's reliability. By focusing on the frequency of a specific word, I can gain a deeper understanding of customer opinions or preferences related to that particular aspect.\n",
    "\n",
    "By performing these tasks on the customer feedback dataset, I can gain valuable insights into customer sentiment\n"
   ]
  },
  {
   "cell_type": "markdown",
   "id": "eafa158f-eab0-4854-9892-8fccf52afc26",
   "metadata": {},
   "source": [
    "<center>\n",
    "    \n",
    "# Part-A\n"
   ]
  },
  {
   "cell_type": "markdown",
   "id": "004cb4d7-d150-446a-b6bd-ee7462ea2bd9",
   "metadata": {},
   "source": [
    "<center>\n",
    "    \n",
    "**Note: In Part A, we would not be getting any output, as wee are just storing the string and creating a class.**\n",
    "    </center>\n",
    "    \n"
   ]
  },
  {
   "cell_type": "markdown",
   "id": "174ffb33-0fdd-4718-9430-b84eec4fa82a",
   "metadata": {},
   "source": [
    "## Step 1: Define a string\n",
    "\"Lorem ipsum dolor! diam amet, consetetur Lorem magna. sed diam nonumy eirmod tempor. diam et labore? et diam magna. et diam amet.\" <br>"
   ]
  },
  {
   "cell_type": "code",
   "execution_count": 20,
   "id": "4094e34f-65ef-4851-b92e-bab54847391a",
   "metadata": {},
   "outputs": [],
   "source": [
    "givenstring=\"Lorem ipsum dolor! diam amet, consetetur Lorem magna. sed diam nonumy eirmod tempor. diam et labore? et diam magna. et diam amet.\""
   ]
  },
  {
   "cell_type": "markdown",
   "id": "887488f3-03a1-44c0-ac44-418f227ca09d",
   "metadata": {},
   "source": [
    "#### To achieve the tasks mentioned in the scenario, we need to create a class with three different methods.\n"
   ]
  },
  {
   "cell_type": "markdown",
   "id": "cacf4a90-9f78-45eb-bc2e-2b012178b970",
   "metadata": {},
   "source": [
    "## Step 2: Define the class and its attributes\n"
   ]
  },
  {
   "cell_type": "markdown",
   "id": "697caa39-37d9-490b-88b2-2b5b0e9310fa",
   "metadata": {},
   "source": [
    "1. Create a class named TextAnalyzer.\n",
    "2. Define the constructor `__init__` method that takes a text argument.\n"
   ]
  },
  {
   "cell_type": "code",
   "execution_count": 21,
   "id": "69d2063b-e319-4ad3-8507-9a0831bc96b1",
   "metadata": {},
   "outputs": [],
   "source": [
    "# Creating a class called TextAnalyzer to analyze text.\n",
    "class TextAnalyzer(object):\n",
    "    # The __init__ method initializes the class with a 'text' parameter.\n",
    "    # We will store the provided 'text' as an instance variable.\n",
    "    def __init__(self, text):\n",
    "        pass"
   ]
  },
  {
   "cell_type": "markdown",
   "id": "055edbab-4abc-4632-b53b-470751cbb6bc",
   "metadata": {},
   "source": [
    "## Step 3: Implement a code to format the text in lowercase\n"
   ]
  },
  {
   "cell_type": "markdown",
   "id": "28f56433-dce3-4268-aecb-63d62a269da5",
   "metadata": {},
   "source": [
    "1. Inside the constructor, convert the text argument to lowercase using the `lower()` method.\n",
    "2. Then, remove punctuation marks (periods, exclamation marks, commas, and question marks) from the text using the `replace()` method.\n",
    "3. Finally, assign the formatted text to a new attribute called fmtText.\n",
    "\n",
    "**Here you will be updating the above `TextAnalyzer` class with the points mentioned above.**\n"
   ]
  },
  {
   "cell_type": "code",
   "execution_count": 22,
   "id": "c0b00497-47dc-4531-b3a6-966ad6bfd3ed",
   "metadata": {},
   "outputs": [],
   "source": [
    "class TextAnalyzer(object):\n",
    "    \n",
    "    def __init__ (self, text):\n",
    "        # removing punctuation\n",
    "        formatted_text = text.replace('.','').replace(',','').replace('?','').replace('!','')\n",
    "        # making the text lowercase\n",
    "        formatted_text = formatted_text.lower()\n",
    "        # Storing the formatted text in fmtText\n",
    "        self.fmtText = formattedText"
   ]
  },
  {
   "cell_type": "markdown",
   "id": "e4defc0e-13c9-41f6-82ae-88608d7f51d2",
   "metadata": {},
   "source": [
    "## Step 4: Implement a code to count the frequency of all unique words\n"
   ]
  },
  {
   "cell_type": "markdown",
   "id": "632eaf3e-7ed5-4995-9130-45d302706838",
   "metadata": {},
   "source": [
    "* In this step, you will implement the `freqAll()` method with the below parameters:\n",
    "     1. Split the fmtText attribute into individual words using the `split()` method.\n",
    "     2. Create an empty dictionary to store the word frequency.\n",
    "     3. Iterate over the list of words and update the frequency dictionary accordingly.\n",
    "     4. Use `count` method for counting the occurence.\n",
    "     5. Return the frequency dictionary."
   ]
  },
  {
   "cell_type": "code",
   "execution_count": 23,
   "id": "3ea80dbb-9575-462a-8ea3-ed7ee08ff29e",
   "metadata": {},
   "outputs": [],
   "source": [
    "class TextAnalyzer(object):\n",
    "    \n",
    "    def __init__ (self, text):\n",
    "        # removing punctuation\n",
    "        formatted_text = text.replace('.','').replace(',','').replace('?','').replace('!','')\n",
    "        # making the text lowercase\n",
    "        formatted_text = formatted_text.lower()\n",
    "        # Storing the formatted text in fmtText\n",
    "        self.fmtText = formattedText\n",
    "\n",
    "    def freqAll(self):\n",
    "        # Splitting Text into words\n",
    "        wordList = self.fmtText.split(' ')\n",
    "\n",
    "        # Creating an empty dictionary to store the frequency of words\n",
    "        freqMap = {}\n",
    "        for word in set(wordList):  # Using set to remove duplicates in the wordList\n",
    "            freqMap[word] = wordList.count(word)\n",
    "\n",
    "        return freqMap"
   ]
  },
  {
   "cell_type": "markdown",
   "id": "4077628f-ab4b-426a-b937-26385b9a0c0c",
   "metadata": {},
   "source": [
    "## Step 5: Implement a code to count the frequency of a specific word\n"
   ]
  },
  {
   "cell_type": "markdown",
   "id": "4eb6ef2d-1f50-4e35-8c94-70d1a395e5be",
   "metadata": {},
   "source": [
    "In step-5, you have to implement the `freqOf(word)` method that takes a word argument:\n",
    "   1. Create a method and pass the word that needs to be found.\n",
    "   2. Get the `freqAll` method to look for count and check if that word is in the list.\n",
    "   3. Return the count. If the word is not found, the count returned is 0.\n",
    "   \n",
    "**Update the above `TextAnalyzer` class with the points mentioned above.**\n"
   ]
  },
  {
   "cell_type": "code",
   "execution_count": 24,
   "id": "0fc7881b-b343-48ae-97d3-b65c267633fa",
   "metadata": {},
   "outputs": [],
   "source": [
    "class TextAnalyzer(object):\n",
    "    \n",
    "    def __init__ (self, text):\n",
    "        # remove punctuation\n",
    "        formattedText = text.replace('.','').replace('!','').replace('?','').replace(',','')\n",
    "        \n",
    "        # make text lowercase\n",
    "        formattedText = formattedText.lower()\n",
    "        \n",
    "        self.fmtText = formattedText\n",
    "        \n",
    "    def freqAll(self):        \n",
    "        # split text into words\n",
    "        wordList = self.fmtText.split(' ')\n",
    "        \n",
    "        # Create dictionary\n",
    "        freqMap = {}\n",
    "        for word in set(wordList): # use set to remove duplicates in list\n",
    "            freqMap[word] = wordList.count(word)\n",
    "        \n",
    "        return freqMap\n",
    "    \n",
    "    def freqOf(self, word):\n",
    "        # get frequency map\n",
    "        freqDict = self.freqAll()\n",
    "        \n",
    "        if word in freqDict:\n",
    "            return freqDict[word]\n",
    "        else:\n",
    "            return 0"
   ]
  },
  {
   "cell_type": "markdown",
   "id": "b9ded828-ca2e-44f8-abbc-0d12d21f2bac",
   "metadata": {},
   "source": [
    "#### Now, you have successfully created a class with three methods.\n"
   ]
  },
  {
   "cell_type": "markdown",
   "id": "1e4ed496-b7e1-4f2a-80b7-f4279001fa84",
   "metadata": {},
   "source": [
    "<center>\n",
    "    \n",
    "# Part-B \n",
    "  \n"
   ]
  },
  {
   "cell_type": "markdown",
   "id": "cf9f78cb-e945-468b-80fe-cefe051fc855",
   "metadata": {},
   "source": [
    "<center>\n",
    "    \n",
    "**In Part B, I will call the functions created in Part A, allowing the functions to execute and generate output.**\n",
    "    </center>\n"
   ]
  },
  {
   "cell_type": "markdown",
   "id": "edfab0ec-ff84-4dea-b89c-db923783064c",
   "metadata": {},
   "source": [
    "## Step 1: Create an instance of TextAnalyzer class\n",
    "* Instantiate the TextAnalyzer class by passing the given string as an argument.\n"
   ]
  },
  {
   "cell_type": "code",
   "execution_count": 25,
   "id": "e7c4349c-79d6-48c1-a19a-b8a7ba4eeaad",
   "metadata": {},
   "outputs": [],
   "source": [
    "# type your code here\n",
    "analyzed = TextAnalyzer(givenstring)"
   ]
  },
  {
   "cell_type": "markdown",
   "id": "890b2641-4c05-40f7-b0a1-65698c39b9c9",
   "metadata": {},
   "source": [
    "## Step 2: Call the function that converts the data into lowercase\n"
   ]
  },
  {
   "cell_type": "code",
   "execution_count": 26,
   "id": "d4571b92-02ee-409f-959b-467d75d00c43",
   "metadata": {
    "scrolled": true
   },
   "outputs": [
    {
     "name": "stdout",
     "output_type": "stream",
     "text": [
      "Formatted Text:  lorem ipsum dolor diam amet consetetur lorem magna sed diam nonumy eirmod tempor diam et labore et diam magna et diam amet\n"
     ]
    }
   ],
   "source": [
    "print(\"Formatted Text: \", analyzed.fmtText)"
   ]
  },
  {
   "cell_type": "markdown",
   "id": "6cf35a3a-bb58-470e-8945-d7812ab602c8",
   "metadata": {},
   "source": [
    "Now, we have successfully converted string into lowercase.\n"
   ]
  },
  {
   "cell_type": "markdown",
   "id": "4b57044f-107b-4256-9898-6552fc1a7a06",
   "metadata": {},
   "source": [
    "## Step 3: Call the function that counts the frequency of all unique words from the data\n"
   ]
  },
  {
   "cell_type": "code",
   "execution_count": 27,
   "id": "d829f2c6-87b8-4a7e-818d-c2859716aba8",
   "metadata": {},
   "outputs": [
    {
     "name": "stdout",
     "output_type": "stream",
     "text": [
      "{'diam': 5, 'magna': 2, 'eirmod': 1, 'amet': 2, 'ipsum': 1, 'lorem': 2, 'sed': 1, 'tempor': 1, 'nonumy': 1, 'dolor': 1, 'et': 3, 'consetetur': 1, 'labore': 1}\n"
     ]
    }
   ],
   "source": [
    "# Press Shift+Enter to run the code.\n",
    "freqMap = analyzed.freqAll()\n",
    "print(freqMap)"
   ]
  },
  {
   "cell_type": "markdown",
   "id": "051c0824-8ce8-417e-a7f8-e6da811c1cd6",
   "metadata": {},
   "source": [
    "Now, we have successfully calculated the frequency of all unique words in the string.\n"
   ]
  },
  {
   "cell_type": "markdown",
   "id": "ce9bb61e-c0bb-497f-853b-9cca9f19cf1f",
   "metadata": {},
   "source": [
    "## Step 4: Call the function that counts the frequency of a specific word\n",
    "Here, I will call the function that counts the frequency of the word \"lorem\".\n",
    "<br>\n",
    "\n",
    "Print the output.**\n"
   ]
  },
  {
   "cell_type": "code",
   "execution_count": 28,
   "id": "83ab5dc8-3b39-4fce-ba83-10b33af44d33",
   "metadata": {},
   "outputs": [
    {
     "name": "stdout",
     "output_type": "stream",
     "text": [
      "The word lorem appears 2 times.\n"
     ]
    }
   ],
   "source": [
    "word = \"lorem\"\n",
    "frequency = analyzed.freqOf(word)\n",
    "print(\"The word\",word,\"appears\",frequency,\"times.\")"
   ]
  },
  {
   "cell_type": "markdown",
   "id": "094423bd-0045-40c3-8707-c151f861a534",
   "metadata": {},
   "source": [
    "You have successfully calculated the frequency of all specified words.\n"
   ]
  }
 ],
 "metadata": {
  "kernelspec": {
   "display_name": "Python (ds_env)",
   "language": "python",
   "name": "ds_env"
  },
  "language_info": {
   "codemirror_mode": {
    "name": "ipython",
    "version": 3
   },
   "file_extension": ".py",
   "mimetype": "text/x-python",
   "name": "python",
   "nbconvert_exporter": "python",
   "pygments_lexer": "ipython3",
   "version": "3.13.5"
  }
 },
 "nbformat": 4,
 "nbformat_minor": 5
}
