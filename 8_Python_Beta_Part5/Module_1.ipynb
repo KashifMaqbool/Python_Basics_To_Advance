{
 "cells": [
  {
   "cell_type": "markdown",
   "id": "a694fa5a-1d1b-4ada-9420-a307ed39b2cf",
   "metadata": {},
   "source": [
    "# Python Version"
   ]
  },
  {
   "cell_type": "code",
   "execution_count": 1,
   "id": "556d7371-420b-4a86-9296-cddfdd33024d",
   "metadata": {},
   "outputs": [
    {
     "name": "stdout",
     "output_type": "stream",
     "text": [
      "3.13.5 | packaged by Anaconda, Inc. | (main, Jun 12 2025, 11:09:21) [Clang 14.0.6 ]\n"
     ]
    }
   ],
   "source": [
    "# Check the Python Version\n",
    "\n",
    "import sys\n",
    "print(sys.version)"
   ]
  },
  {
   "cell_type": "markdown",
   "id": "0f5151fd-61b7-4cdd-b6e4-ca75cab0ce23",
   "metadata": {},
   "source": [
    "# Errors in Python"
   ]
  },
  {
   "cell_type": "markdown",
   "id": "5c258a1f-9caf-487d-8312-9c3c5da1a5eb",
   "metadata": {},
   "source": [
    "### Does Python know about your error before it runs your code?\n",
    "Python is what is called an <em>interpreted language</em>. Compiled languages examine your entire program at compile time, \n",
    "and are able to warn you about a whole class of errors prior to execution. In contrast, Python interprets your script line by line \n",
    "as it executes it. Python will stop executing the entire program when it encounters an error (unless the error is expected \n",
    "and handled by the programmer, a more advanced subject that we'll cover later on in this course).\n"
   ]
  },
  {
   "cell_type": "markdown",
   "id": "af9ab77f-ff93-4890-a324-3b6bee6b60a6",
   "metadata": {},
   "source": [
    "# Types in Python"
   ]
  },
  {
   "cell_type": "code",
   "execution_count": 2,
   "id": "b7590db3-2250-41e2-98f5-94bf233830ab",
   "metadata": {},
   "outputs": [
    {
     "data": {
      "text/plain": [
       "sys.float_info(max=1.7976931348623157e+308, max_exp=1024, max_10_exp=308, min=2.2250738585072014e-308, min_exp=-1021, min_10_exp=-307, dig=15, mant_dig=53, epsilon=2.220446049250313e-16, radix=2, rounds=1)"
      ]
     },
     "execution_count": 2,
     "metadata": {},
     "output_type": "execute_result"
    }
   ],
   "source": [
    "# System settings about float type\n",
    "import sys\n",
    "sys.float_info"
   ]
  },
  {
   "cell_type": "code",
   "execution_count": 3,
   "id": "16c08cf5-144f-4d18-99a8-49ea8109e4f8",
   "metadata": {},
   "outputs": [
    {
     "data": {
      "text/plain": [
       "float"
      ]
     },
     "execution_count": 3,
     "metadata": {},
     "output_type": "execute_result"
    }
   ],
   "source": [
    "type(6/2)"
   ]
  },
  {
   "cell_type": "code",
   "execution_count": 4,
   "id": "8da28e8b-cccd-4910-94d7-a8d0ecf6c6a6",
   "metadata": {},
   "outputs": [
    {
     "data": {
      "text/plain": [
       "int"
      ]
     },
     "execution_count": 4,
     "metadata": {},
     "output_type": "execute_result"
    }
   ],
   "source": [
    "type(6 // 2)"
   ]
  },
  {
   "cell_type": "code",
   "execution_count": 5,
   "id": "efdea885-403f-4711-a2cc-61a41d05567f",
   "metadata": {},
   "outputs": [
    {
     "data": {
      "text/plain": [
       "bool"
      ]
     },
     "execution_count": 5,
     "metadata": {},
     "output_type": "execute_result"
    }
   ],
   "source": [
    "type(\"hello\" == \"world\")"
   ]
  },
  {
   "cell_type": "code",
   "execution_count": 7,
   "id": "44db62e1-5b05-4665-bb50-d384b8e8645f",
   "metadata": {},
   "outputs": [
    {
     "data": {
      "text/plain": [
       "'123-456-7890'"
      ]
     },
     "execution_count": 7,
     "metadata": {},
     "output_type": "execute_result"
    }
   ],
   "source": [
    "# Write the code to convert this phone number 123-456-7890 to a string\n",
    "str('123-456-7890')"
   ]
  },
  {
   "cell_type": "code",
   "execution_count": 8,
   "id": "9dd4c59c-910f-430a-a5ea-9d3b16810d9b",
   "metadata": {},
   "outputs": [
    {
     "data": {
      "text/plain": [
       "3"
      ]
     },
     "execution_count": 8,
     "metadata": {},
     "output_type": "execute_result"
    }
   ],
   "source": [
    "int(3.9)"
   ]
  },
  {
   "cell_type": "markdown",
   "id": "d14a1b1c-5262-4d0b-8ae2-3d06f876dc5e",
   "metadata": {},
   "source": [
    "# Expressions in Python"
   ]
  },
  {
   "cell_type": "code",
   "execution_count": 9,
   "id": "6441ea37-1f40-4d83-a179-a18bf9a76b05",
   "metadata": {},
   "outputs": [
    {
     "data": {
      "text/plain": [
       "4"
      ]
     },
     "execution_count": 9,
     "metadata": {},
     "output_type": "execute_result"
    }
   ],
   "source": [
    "# Integer division operation expression\n",
    "\n",
    "25 // 6"
   ]
  },
  {
   "cell_type": "code",
   "execution_count": 11,
   "id": "3d2e164b-473d-414e-bfb7-9d93ad672c8c",
   "metadata": {},
   "outputs": [
    {
     "data": {
      "text/plain": [
       "2.6666666666666665"
      ]
     },
     "execution_count": 11,
     "metadata": {},
     "output_type": "execute_result"
    }
   ],
   "source": [
    "# write an expression that calculates how many hours there are in 160 minutes\n",
    "160 / 60"
   ]
  },
  {
   "cell_type": "code",
   "execution_count": 12,
   "id": "d54ce18a-3e12-4470-a4a3-b7787c8957e6",
   "metadata": {},
   "outputs": [
    {
     "data": {
      "text/plain": [
       "2"
      ]
     },
     "execution_count": 12,
     "metadata": {},
     "output_type": "execute_result"
    }
   ],
   "source": [
    "160 // 60"
   ]
  },
  {
   "cell_type": "markdown",
   "id": "e8ebdf0e-7286-43e4-839b-682a816663ac",
   "metadata": {},
   "source": [
    "# Strings in Python"
   ]
  },
  {
   "cell_type": "markdown",
   "id": "744ad9f3-296d-43ae-aedd-5d1efd9c8be0",
   "metadata": {},
   "source": [
    "### String interpolation (f-strings)\n",
    "Introduced in Python 3.6, f-strings are a new way to format strings in Python. They are prefixed with 'f' and use curly braces {} to enclose the variables that will be formatted."
   ]
  },
  {
   "cell_type": "code",
   "execution_count": 13,
   "id": "a4ad8e9d-8319-485e-8564-fad7a767d6c5",
   "metadata": {},
   "outputs": [
    {
     "name": "stdout",
     "output_type": "stream",
     "text": [
      "My name is John and I am 30 years old.\n"
     ]
    }
   ],
   "source": [
    "name = \"John\"\n",
    "age = 30\n",
    "print(f\"My name is {name} and I am {age} years old.\")"
   ]
  },
  {
   "cell_type": "markdown",
   "id": "a1adb2c3-625b-4896-8cca-b314d1a174b9",
   "metadata": {},
   "source": [
    "### str.format()\n",
    "This is another way to format strings in Python. It uses curly braces {} as placeholders for variables which are passed as arguments in the format() method. "
   ]
  },
  {
   "cell_type": "code",
   "execution_count": 14,
   "id": "b2f4f965-ecf3-453d-aa02-215e7a819e28",
   "metadata": {},
   "outputs": [
    {
     "name": "stdout",
     "output_type": "stream",
     "text": [
      "My name is John and I am 50 years old.\n"
     ]
    }
   ],
   "source": [
    "name = \"John\"\n",
    "age = 50\n",
    "print(\"My name is {} and I am {} years old.\".format(name, age))"
   ]
  },
  {
   "cell_type": "markdown",
   "id": "871611a6-2b97-4f4f-b879-85720bc17310",
   "metadata": {},
   "source": [
    "### % Operator\n",
    "This is one of the oldest ways to format strings in Python. It uses the % operator to replace variables in the string. For example:\n"
   ]
  },
  {
   "cell_type": "code",
   "execution_count": 15,
   "id": "02c0eca3-85ae-4b6d-8c4d-57e12d158c47",
   "metadata": {},
   "outputs": [
    {
     "name": "stdout",
     "output_type": "stream",
     "text": [
      "My name is Johnathan and I am 30 years old.\n"
     ]
    }
   ],
   "source": [
    "name = \"Johnathan\"\n",
    "age = 30\n",
    "print(\"My name is %s and I am %d years old.\" % (name, age))"
   ]
  },
  {
   "cell_type": "markdown",
   "id": "203f1379-957a-4dd5-bae6-90c5bc95c315",
   "metadata": {},
   "source": [
    "“My name is %s and I am %d years old.“: This is a string that includes format specifiers:\n",
    "\n",
    "%s: This is a placeholder for a string.\n",
    "%d: This is a placeholder for an integer.\n",
    "% (name, age): This is a tuple containing the variables name and age. The values of these variables will replace the placeholders in the string.\n",
    "\n",
    "Each of these methods has its own advantages and use cases. However, f-strings are generally considered the most modern and preferred way to format strings in Python due to their readability and performance."
   ]
  },
  {
   "cell_type": "code",
   "execution_count": 17,
   "id": "946a43df-4879-440c-a9f4-f334f0dff404",
   "metadata": {},
   "outputs": [
    {
     "name": "stdout",
     "output_type": "stream",
     "text": [
      "The sum of x and y is 30.\n"
     ]
    }
   ],
   "source": [
    "# F-strings are also able to evaluate expressions inside the curly braces, which can be very handy. For example:\n",
    "\n",
    "x = 10\n",
    "y = 20\n",
    "print(f\"The sum of x and y is {x+y}.\")"
   ]
  },
  {
   "cell_type": "markdown",
   "id": "027eee29-d3dc-4b97-9a91-5b483dee640e",
   "metadata": {},
   "source": [
    "### Raw String (r’’)\n",
    "In Python, raw strings are a powerful tool for handling textual data, especially when dealing with escape characters. By prefixing a string literal with the letter ‘r’, Python treats the string as raw, meaning it interprets backslashes as literal characters rather than escape sequences."
   ]
  },
  {
   "cell_type": "code",
   "execution_count": 26,
   "id": "9098e3aa-da54-455e-8754-44b528ee508d",
   "metadata": {},
   "outputs": [
    {
     "name": "stdout",
     "output_type": "stream",
     "text": [
      "Regular String: /Users/kashifmaqbool/Python_for_AI/2_Python_Alpha\n",
      "7.1 test.txt\n"
     ]
    }
   ],
   "source": [
    "# Regular String\n",
    "regular_string = \"/Users/kashifmaqbool/Python_for_AI/2_Python_Alpha\\n7.1 test.txt\"\n",
    "print(\"Regular String:\", regular_string)"
   ]
  },
  {
   "cell_type": "markdown",
   "id": "d7a42784-764c-466a-919d-9cb22ebfef35",
   "metadata": {},
   "source": [
    "In the regular string regular_string variable, the backslashes (\\n) are interpreted as escape sequences. Therefore, \\n represents a newline character, which would lead to an incorrect file path representation."
   ]
  },
  {
   "cell_type": "code",
   "execution_count": 27,
   "id": "4e689848-4119-4217-b00c-3871b167d914",
   "metadata": {},
   "outputs": [
    {
     "name": "stdout",
     "output_type": "stream",
     "text": [
      "Raw String: /Users/kashifmaqbool/Python_for_AI/2_Python_Alpha\\n7.1 test.txt\n"
     ]
    }
   ],
   "source": [
    "# Raw String\n",
    "raw_string = r\"/Users/kashifmaqbool/Python_for_AI/2_Python_Alpha\\n7.1 test.txt\"\n",
    "print(\"Raw String:\", raw_string)    "
   ]
  },
  {
   "cell_type": "markdown",
   "id": "aa6e7070-fc48-4153-8d04-e110321bc9e0",
   "metadata": {},
   "source": [
    "However, in the raw string raw_string, the backslashes are treated as literal characters. This means that \\n is not interpreted as a newline character, but rather as two separate characters, \\ and n. Consequently, the file path is represented exactly as it appears."
   ]
  },
  {
   "cell_type": "code",
   "execution_count": 28,
   "id": "286446fd-3581-4ca3-ba5f-256f6d50cdb7",
   "metadata": {},
   "outputs": [
    {
     "data": {
      "text/plain": [
       "1"
      ]
     },
     "execution_count": 28,
     "metadata": {},
     "output_type": "execute_result"
    }
   ],
   "source": [
    "# Find the substring in the string. Only the index of the first elment of substring in string will be the output\n",
    "\n",
    "name = \"The BodyGuard\"\n",
    "name.find('he')"
   ]
  },
  {
   "cell_type": "markdown",
   "id": "830241ae-a2c5-44d4-8a8a-a43964aedbc1",
   "metadata": {},
   "source": [
    "# Regular Expression(RegEx)"
   ]
  },
  {
   "cell_type": "markdown",
   "id": "67ca9b02-5175-4b21-a777-fe1649c05f0f",
   "metadata": {},
   "source": [
    "In Python, RegEx (short for Regular Expression) is a tool for matching and handling strings.\n",
    "\n",
    "This RegEx module provides several functions for working with regular expressions, including search, split, findall, and sub"
   ]
  },
  {
   "cell_type": "markdown",
   "id": "ebaa01ed-599d-43fd-9081-4520eed53c5f",
   "metadata": {},
   "source": [
    "## search() function"
   ]
  },
  {
   "cell_type": "code",
   "execution_count": 31,
   "id": "4df70c26-f102-4cb6-a06a-ae9eed8e3df3",
   "metadata": {},
   "outputs": [
    {
     "name": "stdout",
     "output_type": "stream",
     "text": [
      "Pattern has found\n",
      "Pattern is:  <re.Match object; span=(3, 7), match='name'>\n"
     ]
    }
   ],
   "source": [
    "import re\n",
    "string = \"My name is Kashif Maqbool.\"\n",
    "# Pattern to search from the string\n",
    "pattern = r\"name\"\n",
    "result = re.search(pattern, string)\n",
    "\n",
    "# checking the result\n",
    "if result:\n",
    "    print(\"Pattern has found\")\n",
    "    print(\"Pattern is: \", result)\n",
    "else:\n",
    "    print(\"Pattern not found\")"
   ]
  },
  {
   "cell_type": "markdown",
   "id": "2ff1f4ef-6df4-4828-8606-b9c1c6b30482",
   "metadata": {},
   "source": [
    "## Special Sequences"
   ]
  },
  {
   "cell_type": "markdown",
   "id": "7bc07dc1-6314-474d-a8ab-e9ec03fc6080",
   "metadata": {},
   "source": [
    "Regular expressions (RegEx) are patterns used to match and manipulate strings of text. There are several special sequences in RegEx that can be used to match specific characters or patterns.\n",
    "\n",
    "| Special Sequence | Meaning                 | \tExample             |\n",
    "| -----------  | ----------------------- | ----------------------|\n",
    "| \\d|Matches any digit character (0-9)|\"123\" matches \"\\d\\d\\d\"|\n",
    "|\\D|Matches any non-digit character|\"hello\" matches \"\\D\\D\\D\\D\\D\"|\n",
    "|\\w|Matches any word character (a-z, A-Z, 0-9, and _)|\"hello_world\" matches \"\\w\\w\\w\\w\\w\\w\\w\\w\\w\\w\\w\"|\n",
    "|\\W|Matches any non-word character|\t\"@#$%\" matches \"\\W\\W\\W\\W\"|\n",
    "|\\s|Matches any whitespace character (space, tab, newline, etc.)|\"hello world\" matches \"\\w\\w\\w\\w\\w\\s\\w\\w\\w\\w\\w\"|\n",
    "|\\S|Matches any non-whitespace character|\"hello_world\" matches \"\\S\\S\\S\\S\\S\\S\\S\\S\\S\\S\\S\"|\n",
    "|\\b|Matches the boundary between a word character and a non-word character|\"cat\" matches \"\\bcat\\b\" in \"The cat sat on the mat\"|\n",
    "|\\B|Matches any position that is not a word boundary|\"cat\" matches \"\\Bcat\\B\" in \"category\" but not in \"The cat sat on the mat\"|\n"
   ]
  },
  {
   "cell_type": "code",
   "execution_count": 32,
   "id": "c4302a1c-9c31-4ddf-a43a-896c881c6b84",
   "metadata": {},
   "outputs": [
    {
     "name": "stdout",
     "output_type": "stream",
     "text": [
      "Match found:  0123456789\n"
     ]
    }
   ],
   "source": [
    "# Matching Digits\n",
    "pattern = r\"\\d\\d\\d\\d\\d\\d\\d\\d\\d\\d\"  # It will match any 10 consecutive digits\n",
    "s1 = \"My phone number is 0123456789\"\n",
    "\n",
    "match = re.search(pattern, s1)\n",
    "if match:\n",
    "    print(\"Match found: \", match.group())\n",
    "else:\n",
    "    print(\"Match not found\")"
   ]
  },
  {
   "cell_type": "markdown",
   "id": "e507e413-5d58-4207-bd85-95eb05c63e73",
   "metadata": {},
   "source": [
    "The match.group() method is used in Python's re module to retrieve the part of the string where the regular expression pattern matched. Here's a detailed explanation:\n",
    "\n",
    "**Purpose**\n",
    "- Extract Matched Text: match.group() returns the exact substring that matched the pattern.\n",
    " \n",
    "**Usage**\n",
    "- When you use functions like re.search() or re.match(), they return a match object if the pattern is found. You can then use match.group() to get the matched text.\n",
    "\n",
    "Here `match.group()` retrieves the substring 1234567890 from the text, which is the part that matched the pattern.\n"
   ]
  },
  {
   "cell_type": "code",
   "execution_count": 33,
   "id": "29fb0cef-f901-4ab9-bd11-ab1bcbb432e0",
   "metadata": {},
   "outputs": [
    {
     "name": "stdout",
     "output_type": "stream",
     "text": [
      "Matches:  ['-', '-', '!']\n"
     ]
    }
   ],
   "source": [
    "# Matching non word characters\n",
    "pattern = r\"\\W\"\n",
    "s2 = \"Assalam-o-Alaikum!\"\n",
    "matches = re.findall(pattern, s2)\n",
    "print(\"Matches: \", matches)"
   ]
  },
  {
   "cell_type": "markdown",
   "id": "361e385c-e8db-42fc-9ad6-db8757899a97",
   "metadata": {},
   "source": [
    "The regular expression pattern is defined as r\"\\W\", which uses the \\W special sequence to match any character that is not a word character (a-z, A-Z, 0-9, or _). The string we're searching for matches in is \"Hello, world!\"."
   ]
  },
  {
   "cell_type": "code",
   "execution_count": 36,
   "id": "e2d7f4ed-699c-4f72-a028-cc049e32b368",
   "metadata": {},
   "outputs": [
    {
     "name": "stdout",
     "output_type": "stream",
     "text": [
      "['am', 'am']\n"
     ]
    }
   ],
   "source": [
    "# The findall() function finds all occurrences of a specified pattern within a string.\n",
    "s2 = \"My name is Kashif Maqbool Joiya. I am a graduate.\"\n",
    "\n",
    "\n",
    "# Use the findall() function to find all occurrences of the \"st\" in the string\n",
    "result = re.findall(\"am\", s2)\n",
    "\n",
    "# Print out the list of matched words\n",
    "print(result)"
   ]
  },
  {
   "cell_type": "code",
   "execution_count": 37,
   "id": "10a66502-34ea-4e15-8875-ac8fda414f7a",
   "metadata": {},
   "outputs": [
    {
     "name": "stdout",
     "output_type": "stream",
     "text": [
      "['My', 'name', 'is', 'Kashif', 'Maqbool', 'Joiya.', 'I', 'am', 'a', 'graduate.']\n"
     ]
    }
   ],
   "source": [
    "# Use the split function to split the string by the \"\\s\"\n",
    "split_result = re.split(r\"\\s\", s2)\n",
    "\n",
    "# Array contains s2 words or elements seperaed by the spaces.\n",
    "print(split_result)"
   ]
  },
  {
   "cell_type": "markdown",
   "id": "004453b4-abb2-4a52-934a-9682fa2e6274",
   "metadata": {},
   "source": [
    "Here's a detailed explanation:\n",
    "\n",
    "re.split(\"\\s\", s2):\n",
    "\n",
    "re.split: This function splits a string by the occurrences of a pattern.\n",
    "\n",
    "r\"\\s\": This is a regular expression pattern that matches any whitespace character (spaces, tabs, newlines, etc.).\n",
    "s2: This is the string that you want to split."
   ]
  },
  {
   "cell_type": "markdown",
   "id": "9722da43-9efe-40e9-83cf-b463f1209f57",
   "metadata": {},
   "source": [
    "### The <code>sub</code> function of a regular expression in Python is used to replace all occurrences of a pattern in a string with a specified replacement."
   ]
  },
  {
   "cell_type": "code",
   "execution_count": 38,
   "id": "b186defd-8c23-4caf-8d4d-ec25d174aef3",
   "metadata": {},
   "outputs": [
    {
     "name": "stdout",
     "output_type": "stream",
     "text": [
      "My full name is Kashif Maqbool Joiya. I am a graduate.\n"
     ]
    }
   ],
   "source": [
    "# Define the regular expression pattern to search for\n",
    "pattern = r\"name\"\n",
    "\n",
    "# Define the replacement string\n",
    "replacement = \"full name\"\n",
    "\n",
    "# Use the sub function to replace the pattern with the replacement string\n",
    "new_string = re.sub(pattern, replacement, s2, flags=re.IGNORECASE)\n",
    "\n",
    "# The new_string contains the original string with the pattern replaced by the replacement string\n",
    "print(new_string) "
   ]
  }
 ],
 "metadata": {
  "kernelspec": {
   "display_name": "Python (ds_env)",
   "language": "python",
   "name": "ds_env"
  },
  "language_info": {
   "codemirror_mode": {
    "name": "ipython",
    "version": 3
   },
   "file_extension": ".py",
   "mimetype": "text/x-python",
   "name": "python",
   "nbconvert_exporter": "python",
   "pygments_lexer": "ipython3",
   "version": "3.13.5"
  }
 },
 "nbformat": 4,
 "nbformat_minor": 5
}
