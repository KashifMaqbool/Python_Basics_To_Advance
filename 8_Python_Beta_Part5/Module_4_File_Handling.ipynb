{
 "cells": [
  {
   "cell_type": "markdown",
   "id": "586b351e-435e-4816-bf0f-f3fde996dc25",
   "metadata": {},
   "source": [
    "# File Writing and Saving in Python\n",
    "<hr>"
   ]
  },
  {
   "cell_type": "markdown",
   "id": "0e52d72e-3c24-4ddc-a792-a07632234aee",
   "metadata": {},
   "source": [
    "<h2>Table of Contents</h2>\n",
    "<div class=\"alert alert-block alert-info\" style=\"margin-top: 20px\">\n",
    "    <ul>\n",
    "        <li><a href=\"#Writing-Files\">Writing Files</a></li>\n",
    "        <li><a href=\"#Appending-Files\">Appending Files</a></li>\n",
    "        <li><a href=\"#Additional-File-modes\">Additional File modes</a></li>\n",
    "        <li><a href=\"#Copy-a-File\">Copy a File</a></li>\n",
    "    </ul>\n",
    "\n",
    "</div>\n"
   ]
  },
  {
   "cell_type": "markdown",
   "id": "0ded44b1-21e7-4425-9460-4e9014021516",
   "metadata": {},
   "source": [
    "## Writing Files\n"
   ]
  },
  {
   "cell_type": "markdown",
   "id": "1a8c747c-2b47-4030-88e7-2f0d27089730",
   "metadata": {},
   "source": [
    " We can open a file object using the method <code>write()</code> to save the text file to a list. To write to a file, the mode argument must be set to **w**. Let’s write a file.\n"
   ]
  },
  {
   "cell_type": "code",
   "execution_count": 1,
   "id": "2f0c20f8-963a-4348-af08-d1e27ab59cd6",
   "metadata": {},
   "outputs": [],
   "source": [
    "# Write line to file\n",
    "\n",
    "exmp1 = 'Asset_Files/Module_4_File_Handling_Example1.txt'\n",
    "with open(exmp1, 'w') as writefile:\n",
    "    writefile.write(\"I am Kashif Maabool.\\n\")\n",
    "    writefile.write(\"I am a Computer Scientist.\\n\")\n",
    "    writefile.write(\"I am an AI Engineer specialized in Offensive Security & Autonomous Systems Engineerig.\\n\")"
   ]
  },
  {
   "cell_type": "markdown",
   "id": "03777f92-215f-4a70-8595-bcb79e104634",
   "metadata": {},
   "source": [
    " We can read the file to see if it worked:\n"
   ]
  },
  {
   "cell_type": "code",
   "execution_count": 2,
   "id": "91e5d243-05be-431e-98d5-a056fea4b55a",
   "metadata": {},
   "outputs": [
    {
     "name": "stdout",
     "output_type": "stream",
     "text": [
      "I am Kashif Maabool.\n",
      "I am a Computer Scientist.\n",
      "I am an AI Engineer specialized in Offensive Security & Autonomous Systems Engineerig.\n",
      "\n"
     ]
    }
   ],
   "source": [
    "# Read file\n",
    "\n",
    "with open(exmp1, 'r') as testwritefile:\n",
    "    print(testwritefile.read())"
   ]
  },
  {
   "cell_type": "markdown",
   "id": "28119492-f8c9-47dd-a3a0-22c3ea39009c",
   "metadata": {},
   "source": [
    "### Writing List to a file"
   ]
  },
  {
   "cell_type": "code",
   "execution_count": 3,
   "id": "7db7fe84-4aa9-487a-b43f-f524dbb2a0b7",
   "metadata": {},
   "outputs": [
    {
     "data": {
      "text/plain": [
       "['This is line A\\n', 'This is line B\\n', 'This is line C\\n']"
      ]
     },
     "execution_count": 3,
     "metadata": {},
     "output_type": "execute_result"
    }
   ],
   "source": [
    "# Sample list of text\n",
    "\n",
    "Lines = [\"This is line A\\n\", \"This is line B\\n\", \"This is line C\\n\"]\n",
    "Lines"
   ]
  },
  {
   "cell_type": "code",
   "execution_count": 4,
   "id": "18081907-2765-4876-91bc-da8528922b44",
   "metadata": {},
   "outputs": [
    {
     "name": "stdout",
     "output_type": "stream",
     "text": [
      "This is line A\n",
      "\n",
      "This is line B\n",
      "\n",
      "This is line C\n",
      "\n"
     ]
    }
   ],
   "source": [
    "# Write the strings in the list to text file\n",
    "\n",
    "with open('Asset_Files/Module_4_File_Handling_Example1.txt', 'w') as writefile:\n",
    "    for line in Lines:\n",
    "        print(line)\n",
    "        writefile.write(line)"
   ]
  },
  {
   "cell_type": "markdown",
   "id": "ce6afda5-c7c9-49a3-93ae-71618208b47d",
   "metadata": {},
   "source": [
    " We can verify the file is written by reading it and printing out the values:  \n"
   ]
  },
  {
   "cell_type": "code",
   "execution_count": 5,
   "id": "6c83c22b-ad36-45b1-b21f-824f496d600a",
   "metadata": {},
   "outputs": [
    {
     "name": "stdout",
     "output_type": "stream",
     "text": [
      "This is line A\n",
      "This is line B\n",
      "This is line C\n",
      "\n"
     ]
    }
   ],
   "source": [
    "# Reading the updated file because the already present content is overwritten by the new content.\n",
    "\n",
    "with open('Asset_Files/Module_4_File_Handling_Example1.txt', 'r') as testwritefile:\n",
    "    print(testwritefile.read())"
   ]
  },
  {
   "cell_type": "markdown",
   "id": "503cdd3b-652b-4c15-8790-9779be3abd78",
   "metadata": {},
   "source": [
    "## Appending Files\n"
   ]
  },
  {
   "cell_type": "markdown",
   "id": "17fd3351-b2b7-4c8f-8b40-393e0199926c",
   "metadata": {},
   "source": [
    " We can write to files without losing any of the existing data as follows by setting the mode argument to append: **a**.  you can append a new line as follows:\n"
   ]
  },
  {
   "cell_type": "code",
   "execution_count": 6,
   "id": "2a7b9c11-5fd3-4afa-9944-2e2d768c078e",
   "metadata": {},
   "outputs": [],
   "source": [
    "with open(\"Asset_Files/Module_4_File_Handling_Example1.txt\", 'a') as testwritefile:\n",
    "    testwritefile.write(\"This is Line D\\n\")\n",
    "    testwritefile.write(\"This is Line E\\n\")\n",
    "    testwritefile.write(\"This is Line F\\n\")"
   ]
  },
  {
   "cell_type": "code",
   "execution_count": 7,
   "id": "773874da-76f2-478e-bd3c-b245644a0020",
   "metadata": {},
   "outputs": [
    {
     "name": "stdout",
     "output_type": "stream",
     "text": [
      "This is line A\n",
      "This is line B\n",
      "This is line C\n",
      "This is Line D\n",
      "This is Line E\n",
      "This is Line F\n",
      "\n"
     ]
    }
   ],
   "source": [
    "# Reading the appended or updated file without overwritten\n",
    "\n",
    "with open('Asset_Files/Module_4_File_Handling_Example1.txt', 'r') as testwritefile:\n",
    "    print(testwritefile.read())"
   ]
  },
  {
   "cell_type": "markdown",
   "id": "92f3f231-3577-478c-9f0e-d027934a4484",
   "metadata": {},
   "source": [
    "## Additional modes\n"
   ]
  },
  {
   "cell_type": "markdown",
   "id": "c1b27318-4702-49af-ba2c-4f768601af06",
   "metadata": {},
   "source": [
    "It's fairly ineffecient to open the file in **a** or **w** and then reopening it in **r** to read any lines. Luckily we can access the file in the following modes:\n",
    "- **r+** : Reading and writing. Cannot truncate the file.\n",
    "- **w+** : Writing and reading. Truncates the file.\n",
    "- **a+** : Appending and Reading. Creates a new file, if none exists.\n",
    "\n"
   ]
  },
  {
   "cell_type": "markdown",
   "id": "f467e9e1-adfc-4e84-9314-11d0a38c1213",
   "metadata": {},
   "source": [
    "Let's try out the __a+__ mode:\n"
   ]
  },
  {
   "cell_type": "code",
   "execution_count": 8,
   "id": "11a02e64-b4de-4c61-9eaf-9e42495ca60c",
   "metadata": {},
   "outputs": [],
   "source": [
    "with open('Asset_Files/Module_4_File_Handling_Example1.txt', 'a+') as testwritefile:\n",
    "    testwritefile.write(\"This is line G\\n\")"
   ]
  },
  {
   "cell_type": "code",
   "execution_count": 9,
   "id": "ca21d94e-53e4-41a4-94ef-11fc4d88a681",
   "metadata": {},
   "outputs": [
    {
     "name": "stdout",
     "output_type": "stream",
     "text": [
      "This is line A\n",
      "This is line B\n",
      "This is line C\n",
      "This is Line D\n",
      "This is Line E\n",
      "This is Line F\n",
      "This is line G\n",
      "\n"
     ]
    }
   ],
   "source": [
    "with open('Asset_Files/Module_4_File_Handling_Example1.txt', 'r') as testwritefile:\n",
    "    print(testwritefile.read())"
   ]
  },
  {
   "cell_type": "markdown",
   "id": "493b3273-9dca-42ec-ae8e-c411b55545f6",
   "metadata": {},
   "source": [
    "There were no errors but <code>read()</code> also did not output anything. This is because of our location in the file.\n"
   ]
  },
  {
   "cell_type": "markdown",
   "id": "b0e52b0f-0a38-4b26-ab4a-bdc12dc74ab7",
   "metadata": {},
   "source": [
    "Most of the file methods we've looked at work in a certain location in the file. <code>.write() </code> writes at a certain location in the file. <code>.read()</code> reads at a certain location in the file and so on. You can think of this as moving your pointer around in the notepad to make changes at specific location.\n"
   ]
  },
  {
   "cell_type": "markdown",
   "id": "23514169-cdf0-43ae-994c-ae483e7c42cc",
   "metadata": {},
   "source": [
    "Opening the file in **w** is akin to opening the .txt file, moving your cursor to the beginning of the text file, writing new text and deleting everything that follows.\n",
    "Whereas opening the file in **a** is similiar to opening the .txt file, moving your cursor to the very end and then adding the new pieces of text. <br>\n",
    "It is often very useful to know where the 'cursor' is in a file and be able to control it. The following methods allow us to do precisely this -\n",
    "- <code>.tell()</code> - returns the current position in bytes\n",
    "- <code>.seek(offset,from)</code> - changes the position by 'offset' bytes with respect to 'from'. From can take the value of 0,1,2 corresponding to beginning, relative to current position and end\n"
   ]
  },
  {
   "cell_type": "markdown",
   "id": "5acd3d5e-f3e4-4c69-9a4a-a65c70224eaf",
   "metadata": {},
   "source": [
    "Now lets revisit **a+**\n"
   ]
  },
  {
   "cell_type": "code",
   "execution_count": 10,
   "id": "b6463f52-0432-4b96-bffc-85352667ee4d",
   "metadata": {},
   "outputs": [
    {
     "name": "stdout",
     "output_type": "stream",
     "text": [
      "Initial Location: 105\n",
      "Read nothing\n",
      "\n",
      "New Location : 0\n",
      "This is line A\n",
      "This is line B\n",
      "This is line C\n",
      "This is Line D\n",
      "This is Line E\n",
      "This is Line F\n",
      "This is line G\n",
      "\n",
      "Location after read: 105\n"
     ]
    }
   ],
   "source": [
    "with open('Asset_Files/Module_4_File_Handling_Example1.txt', 'a+') as testwritefile:\n",
    "    print(\"Initial Location: {}\".format(testwritefile.tell()))\n",
    "    \n",
    "    data = testwritefile.read()\n",
    "    if (not data):  #empty strings return false in python\n",
    "            print('Read nothing') \n",
    "    else: \n",
    "            print(testwritefile.read())\n",
    "            \n",
    "    testwritefile.seek(0,0) # move 0 bytes from beginning.\n",
    "    \n",
    "    print(\"\\nNew Location : {}\".format(testwritefile.tell()))\n",
    "    data = testwritefile.read()\n",
    "    if (not data): \n",
    "            print('Read nothing') \n",
    "    else: \n",
    "            print(data)\n",
    "    \n",
    "    print(\"Location after read: {}\".format(testwritefile.tell()) )"
   ]
  },
  {
   "cell_type": "code",
   "execution_count": 11,
   "id": "f7aaf885-41b4-4911-9c62-885ddaebcdf7",
   "metadata": {},
   "outputs": [
    {
     "name": "stdout",
     "output_type": "stream",
     "text": [
      "Line 1\n",
      "Line 2\n",
      "Line 3\n",
      "Line 4\n",
      "finished\n",
      " line C\n",
      "This is Line D\n",
      "This is Line E\n",
      "This is Line F\n",
      "This is line G\n",
      "\n"
     ]
    }
   ],
   "source": [
    "with open('Asset_Files/Module_4_File_Handling_Example1.txt', 'r+') as testwritefile:\n",
    "    testwritefile.seek(0,0) #write at beginning of file\n",
    "    testwritefile.write(\"Line 1\" + \"\\n\")\n",
    "    testwritefile.write(\"Line 2\" + \"\\n\")\n",
    "    testwritefile.write(\"Line 3\" + \"\\n\")\n",
    "    testwritefile.write(\"Line 4\" + \"\\n\")\n",
    "    testwritefile.write(\"finished\\n\")\n",
    "    testwritefile.seek(0,0)\n",
    "    print(testwritefile.read())"
   ]
  },
  {
   "cell_type": "markdown",
   "id": "b6f28027-4e86-4449-b975-f72811b032c6",
   "metadata": {},
   "source": [
    "#### Explanation\n",
    "\n",
    "In the second code cell, the file was opened in **`r+` mode**, which allows **reading and writing** without truncating the existing content.  \n",
    "\n",
    "- The command **`seek(0, 0)`** moved the cursor to the **start of the file**.  \n",
    "- The five new lines written (**Line 1 to finished**) **overwrote the first 37 characters** of the original file.  \n",
    "- Since **`r+` mode** doesn’t erase the remaining content, the rest of the original text (from *\"line C\"* onward) stayed **unchanged**, resulting in a **mixed output**.\n"
   ]
  },
  {
   "cell_type": "markdown",
   "id": "18e1f51d-b271-483a-9d5b-d2376a59fc72",
   "metadata": {},
   "source": [
    "To work with a file on existing data, use **r+** and **a+**. While using **r+**, it can be useful to add a <code>.truncate()</code> method at the end of your data. This will reduce the file to your data and delete everything that follows. <br>\n"
   ]
  },
  {
   "cell_type": "code",
   "execution_count": 12,
   "id": "8312ceec-10c5-4b4a-8d45-1eec28abe39b",
   "metadata": {},
   "outputs": [
    {
     "name": "stdout",
     "output_type": "stream",
     "text": [
      "Line 1\n",
      "Line 2\n",
      "Line 3\n",
      "Line 4\n",
      "finished\n",
      "\n"
     ]
    }
   ],
   "source": [
    "with open('Asset_Files/Module_4_File_Handling_Example1.txt', 'r+') as testwritefile:\n",
    "    testwritefile.seek(0,0) #write at beginning of file\n",
    "    testwritefile.write(\"Line 1\" + \"\\n\")\n",
    "    testwritefile.write(\"Line 2\" + \"\\n\")\n",
    "    testwritefile.write(\"Line 3\" + \"\\n\")\n",
    "    testwritefile.write(\"Line 4\" + \"\\n\")\n",
    "    testwritefile.write(\"finished\\n\")\n",
    "\n",
    "    testwritefile.truncate()  # Now .truncate() method will delete the data remaining after overwritten at the beginning.\n",
    "    testwritefile.seek(0,0)\n",
    "    print(testwritefile.read())\n",
    "    "
   ]
  },
  {
   "cell_type": "markdown",
   "id": "015c18bd-d64b-4994-a270-47c42d30b859",
   "metadata": {},
   "source": [
    "## Copy a File \n"
   ]
  },
  {
   "cell_type": "markdown",
   "id": "16d4947c-f070-49c0-9f35-6d031d43b962",
   "metadata": {},
   "source": [
    "Let's copy the file **Example1.txt** to the file **Example2.txt**:\n"
   ]
  },
  {
   "cell_type": "code",
   "execution_count": 13,
   "id": "09dad291-717a-42c7-bdea-3546272afd7a",
   "metadata": {},
   "outputs": [],
   "source": [
    "# Copy file to another\n",
    "\n",
    "with open('Asset_Files/Module_4_File_Handling_Example1.txt','r') as readfile:\n",
    "    with open('Asset_Files/Module_4_File_Handling_Example2.txt','w') as writefile:\n",
    "          for line in readfile:\n",
    "                writefile.write(line)"
   ]
  },
  {
   "cell_type": "code",
   "execution_count": 14,
   "id": "33ecb4e5-ec47-4041-8742-bd899fc3caeb",
   "metadata": {},
   "outputs": [
    {
     "name": "stdout",
     "output_type": "stream",
     "text": [
      "Line 1\n",
      "Line 2\n",
      "Line 3\n",
      "Line 4\n",
      "finished\n",
      "\n"
     ]
    }
   ],
   "source": [
    "# Reading the Example2 file\n",
    "\n",
    "with open('Asset_Files/Module_4_File_Handling_Example2.txt','r') as readfile:\n",
    "    print(readfile.read()) "
   ]
  },
  {
   "cell_type": "code",
   "execution_count": 15,
   "id": "4ecf2f68-a924-4f75-a4f2-38c0c6db9ce7",
   "metadata": {},
   "outputs": [],
   "source": [
    "# Writing new content in Example2 file\n",
    "\n",
    "with open('Asset_Files/Module_4_File_Handling_Example2.txt','w') as writefile:\n",
    "    writefile.write(\"I am Kashif Maabool.\\n\")\n",
    "    writefile.write(\"I am a Computer Scientist.\\n\")\n",
    "    writefile.write(\"I am an AI Engineer specialized in Offensive Security & Autonomous Systems Engineerig.\\n\")"
   ]
  },
  {
   "cell_type": "code",
   "execution_count": 17,
   "id": "bb9b1cba-1685-46d6-860a-e210b7d9201e",
   "metadata": {},
   "outputs": [
    {
     "name": "stdout",
     "output_type": "stream",
     "text": [
      "I am Kashif Maabool.\n",
      "I am a Computer Scientist.\n",
      "I am an AI Engineer specialized in Offensive Security & Autonomous Systems Engineerig.\n",
      "\n"
     ]
    }
   ],
   "source": [
    "# Reading the Example2 file\n",
    "\n",
    "with open('Asset_Files/Module_4_File_Handling_Example2.txt','r') as readfile:\n",
    "    print(readfile.read()) "
   ]
  },
  {
   "cell_type": "markdown",
   "id": "3b04080e-f9c1-4f23-854e-15481e9e78ec",
   "metadata": {},
   "source": [
    " After reading files, we can also write data into files and save them in different file formats like **.txt, .csv, .xls (for excel files) etc**. You will come across these in further examples\n"
   ]
  },
  {
   "cell_type": "markdown",
   "id": "09999872-bd04-4001-9a05-48aaece501ce",
   "metadata": {},
   "source": [
    "# Files Reading in Python\n",
    "<hr>"
   ]
  },
  {
   "cell_type": "markdown",
   "id": "b3e70869-a6c9-48bd-b3dc-1951e2bbff31",
   "metadata": {},
   "source": [
    "## Reading Text Files\n"
   ]
  },
  {
   "cell_type": "markdown",
   "id": "c9d91012-f286-4012-b269-f7d7edef1908",
   "metadata": {},
   "source": [
    "One way to read or write a file in Python is to use the built-in <code>open</code> function. The <code>open</code> function provides a **File object** that contains the methods and attributes you need in order to read, save, and manipulate the file. In this notebook, we will only cover **.txt** files. The first parameter you need is the file path and the file name. An example is shown as follow:\n"
   ]
  },
  {
   "cell_type": "code",
   "execution_count": 18,
   "id": "599b05e9-1162-448b-8bca-5f27a808b32b",
   "metadata": {},
   "outputs": [],
   "source": [
    "# Read the Example1.txt\n",
    "example1 = \"Asset_Files/Module_4_File_Handling_Example2.txt\"\n",
    "file1 = open(example1, \"r\")\n"
   ]
  },
  {
   "cell_type": "markdown",
   "id": "460ba1fe-41e5-461a-9c67-638665bb1337",
   "metadata": {},
   "source": [
    "We can view the attributes of the file.\n"
   ]
  },
  {
   "cell_type": "markdown",
   "id": "a333d4fd-fca2-4e8a-ad23-de03356bce11",
   "metadata": {},
   "source": [
    "The name of the file:\n"
   ]
  },
  {
   "cell_type": "code",
   "execution_count": 19,
   "id": "c53032c1-8d17-4989-a618-7c3c726fdf6e",
   "metadata": {},
   "outputs": [
    {
     "data": {
      "text/plain": [
       "'Asset_Files/Module_4_File_Handling_Example2.txt'"
      ]
     },
     "execution_count": 19,
     "metadata": {},
     "output_type": "execute_result"
    }
   ],
   "source": [
    "# Print the path of the file\n",
    "\n",
    "file1.name"
   ]
  },
  {
   "cell_type": "markdown",
   "id": "708fb4c7-9a16-42e6-b90c-bfd6489920e6",
   "metadata": {},
   "source": [
    "The mode the file object is in:\n"
   ]
  },
  {
   "cell_type": "code",
   "execution_count": 20,
   "id": "dbadb20f-9a68-44e7-9c2a-203e816456df",
   "metadata": {},
   "outputs": [
    {
     "data": {
      "text/plain": [
       "'r'"
      ]
     },
     "execution_count": 20,
     "metadata": {},
     "output_type": "execute_result"
    }
   ],
   "source": [
    "# Print the mode of file, either 'r' or 'w'\n",
    "\n",
    "file1.mode"
   ]
  },
  {
   "cell_type": "markdown",
   "id": "2e22668b-4a2c-4ba5-bf94-2e4de7408584",
   "metadata": {},
   "source": [
    "We can read the file and assign it to a variable :\n"
   ]
  },
  {
   "cell_type": "code",
   "execution_count": 21,
   "id": "6718ec8f-293e-411c-8973-64357596cf8e",
   "metadata": {
    "scrolled": true
   },
   "outputs": [
    {
     "data": {
      "text/plain": [
       "'I am Kashif Maabool.\\nI am a Computer Scientist.\\nI am an AI Engineer specialized in Offensive Security & Autonomous Systems Engineerig.\\n'"
      ]
     },
     "execution_count": 21,
     "metadata": {},
     "output_type": "execute_result"
    }
   ],
   "source": [
    "# Read the file\n",
    "\n",
    "FileContent = file1.read()\n",
    "FileContent"
   ]
  },
  {
   "cell_type": "markdown",
   "id": "75744141-a1cc-445e-b13a-65008142a67b",
   "metadata": {},
   "source": [
    "The **/n** means that there is a new line.\n"
   ]
  },
  {
   "cell_type": "markdown",
   "id": "e494462d-63ff-487a-a832-3639974450f5",
   "metadata": {},
   "source": [
    "We can print the file:\n"
   ]
  },
  {
   "cell_type": "code",
   "execution_count": 22,
   "id": "2004f502-00f4-4412-a14e-39e571393431",
   "metadata": {},
   "outputs": [
    {
     "name": "stdout",
     "output_type": "stream",
     "text": [
      "I am Kashif Maabool.\n",
      "I am a Computer Scientist.\n",
      "I am an AI Engineer specialized in Offensive Security & Autonomous Systems Engineerig.\n",
      "\n"
     ]
    }
   ],
   "source": [
    "# Print the file with '\\n' as a new line\n",
    "\n",
    "print(FileContent)"
   ]
  },
  {
   "cell_type": "markdown",
   "id": "ce65bd00-38a1-47bd-a7a5-4ef51264a94a",
   "metadata": {},
   "source": [
    "The file is of type string:\n"
   ]
  },
  {
   "cell_type": "code",
   "execution_count": 23,
   "id": "63aef53b-7024-402d-a013-cd1009cfd5cc",
   "metadata": {},
   "outputs": [
    {
     "data": {
      "text/plain": [
       "str"
      ]
     },
     "execution_count": 23,
     "metadata": {},
     "output_type": "execute_result"
    }
   ],
   "source": [
    "# Type of file content\n",
    "\n",
    "type(FileContent)"
   ]
  },
  {
   "cell_type": "markdown",
   "id": "1aea358a-8683-4fda-a09a-166a18b06324",
   "metadata": {},
   "source": [
    "It is very important that the file is closed in the end. This frees up resources and ensures consistency across different python versions.\n"
   ]
  },
  {
   "cell_type": "code",
   "execution_count": 24,
   "id": "34aeefeb-612a-4f46-a8cd-040dc77ac7d6",
   "metadata": {},
   "outputs": [],
   "source": [
    "# Close file after finish\n",
    "\n",
    "file1.close()"
   ]
  },
  {
   "cell_type": "markdown",
   "id": "204b84f6-4e62-4aaa-9bf0-0636c80ec75c",
   "metadata": {},
   "source": [
    "## A Better Way to Open a File\n"
   ]
  },
  {
   "cell_type": "markdown",
   "id": "dd52f706-43d6-4462-b186-9fa7581110d3",
   "metadata": {},
   "source": [
    "Using the <code>with</code> statement is better practice, it automatically closes the file even if the code encounters an exception. The code will run everything in the indent block then close the file object.\n"
   ]
  },
  {
   "cell_type": "code",
   "execution_count": 25,
   "id": "0f8a41f2-9ba7-4f1e-9bc3-5d5627a2dd82",
   "metadata": {},
   "outputs": [
    {
     "name": "stdout",
     "output_type": "stream",
     "text": [
      "I am Kashif Maabool.\n",
      "I am a Computer Scientist.\n",
      "I am an AI Engineer specialized in Offensive Security & Autonomous Systems Engineerig.\n",
      "\n"
     ]
    }
   ],
   "source": [
    "# Open file using with\n",
    "\n",
    "with open(example1, \"r\") as file1:\n",
    "    FileContent = file1.read()\n",
    "    print(FileContent)"
   ]
  },
  {
   "cell_type": "markdown",
   "id": "de6b8ab5-1324-4912-9940-a3b21e14e7dd",
   "metadata": {},
   "source": [
    "The file object is closed, you can verify it by running the following cell:\n"
   ]
  },
  {
   "cell_type": "code",
   "execution_count": 26,
   "id": "7af01235-79cf-4ab2-9347-f1c93c1e2f1a",
   "metadata": {},
   "outputs": [
    {
     "data": {
      "text/plain": [
       "True"
      ]
     },
     "execution_count": 26,
     "metadata": {},
     "output_type": "execute_result"
    }
   ],
   "source": [
    "# Verify if the file is closed\n",
    "\n",
    "file1.closed"
   ]
  },
  {
   "cell_type": "markdown",
   "id": "14c9a5d5-cf9e-4d57-9b9f-1d12fa0d5e8e",
   "metadata": {},
   "source": [
    "We can see the info in the file:\n"
   ]
  },
  {
   "cell_type": "code",
   "execution_count": 27,
   "id": "4eaee713-e0a9-48e7-8960-5f8cb8869620",
   "metadata": {},
   "outputs": [
    {
     "name": "stdout",
     "output_type": "stream",
     "text": [
      "I am Kashif Maabool.\n",
      "I am a Computer Scientist.\n",
      "I am an AI Engineer specialized in Offensive Security & Autonomous Systems Engineerig.\n",
      "\n"
     ]
    }
   ],
   "source": [
    "# See the content of file\n",
    "\n",
    "print(FileContent)"
   ]
  },
  {
   "cell_type": "code",
   "execution_count": 28,
   "id": "bd2c10b2-5227-4007-90d1-17bbb38ea65c",
   "metadata": {},
   "outputs": [
    {
     "name": "stdout",
     "output_type": "stream",
     "text": [
      "I am\n"
     ]
    }
   ],
   "source": [
    "# Read first four characters\n",
    "\n",
    "with open(example1, \"r\") as file1:\n",
    "    print(file1.read(4))"
   ]
  },
  {
   "cell_type": "markdown",
   "id": "4416f86f-8905-45a8-8ac2-16b0e6754b52",
   "metadata": {},
   "source": [
    "Once the method <code>.read(4)</code> is called the first 4 characters are called. If we call the method again, the next 4 characters are called. The output for the following cell will demonstrate the process for different inputs to the method <code>read()</code>:\n"
   ]
  },
  {
   "cell_type": "code",
   "execution_count": 29,
   "id": "667b23a7-5251-494d-b68b-db911f4ff427",
   "metadata": {},
   "outputs": [
    {
     "name": "stdout",
     "output_type": "stream",
     "text": [
      "I am\n",
      " Kas\n",
      "hif Maa\n",
      "bool.\n",
      "I am a Co\n"
     ]
    }
   ],
   "source": [
    "# Read certain amount of characters\n",
    "\n",
    "with open(example1, \"r\") as file1:\n",
    "    print(file1.read(4))\n",
    "    print(file1.read(4))\n",
    "    print(file1.read(7))\n",
    "    print(file1.read(15))"
   ]
  },
  {
   "cell_type": "markdown",
   "id": "abaf56c6-1829-494a-b54d-ef6c0fb62430",
   "metadata": {},
   "source": [
    "Here is an example using the same file, but instead we read 16, 5, and then 9 characters at a time:\n"
   ]
  },
  {
   "cell_type": "code",
   "execution_count": 30,
   "id": "4e482dcb-1c57-4253-953c-aa94b117f3db",
   "metadata": {},
   "outputs": [
    {
     "name": "stdout",
     "output_type": "stream",
     "text": [
      "I am Kashif Maab\n",
      "ool.\n",
      "\n",
      "I am a Co\n"
     ]
    }
   ],
   "source": [
    "# Read certain amount of characters\n",
    "\n",
    "with open(example1, \"r\") as file1:\n",
    "    print(file1.read(16))\n",
    "    print(file1.read(5))\n",
    "    print(file1.read(9))"
   ]
  },
  {
   "cell_type": "markdown",
   "id": "80ab6161-4f12-49a4-9271-a773fd9ccb8f",
   "metadata": {},
   "source": [
    "We can also read one line of the file at a time using the method <code>readline()</code>:\n"
   ]
  },
  {
   "cell_type": "code",
   "execution_count": 31,
   "id": "a5266c70-d91b-40d2-9aa3-ad238369df4e",
   "metadata": {},
   "outputs": [
    {
     "name": "stdout",
     "output_type": "stream",
     "text": [
      "first line: I am Kashif Maabool.\n",
      "\n"
     ]
    }
   ],
   "source": [
    "# Read one line\n",
    "\n",
    "with open(example1, \"r\") as file1:\n",
    "    print(\"first line: \" + file1.readline())"
   ]
  },
  {
   "cell_type": "markdown",
   "id": "a934c3b1-c913-452c-949b-c17008fa9a02",
   "metadata": {},
   "source": [
    "We can also pass an argument to <code> readline() </code> to specify the number of charecters we want to read. However, unlike <code> read()</code>, <code> readline()</code> can only read one line at most.\n"
   ]
  },
  {
   "cell_type": "code",
   "execution_count": 32,
   "id": "e2ecdb15-115e-43e6-bc77-17adf572a425",
   "metadata": {},
   "outputs": [
    {
     "name": "stdout",
     "output_type": "stream",
     "text": [
      "I am Kashif Maabool.\n",
      "\n",
      "I am a Computer Sci\n"
     ]
    }
   ],
   "source": [
    "with open(example1, \"r\") as file1:\n",
    "    print(file1.readline(20)) # does not read past the end of line\n",
    "    print(file1.read(20)) # Returns the next 20 chars\n"
   ]
  },
  {
   "cell_type": "markdown",
   "id": "d912335b-bb5a-4ac8-a9d8-bccb54290711",
   "metadata": {},
   "source": [
    "We can use a loop to iterate through each line:\n"
   ]
  },
  {
   "cell_type": "code",
   "execution_count": 33,
   "id": "46702217-c781-49d0-907c-ac17a4337cc3",
   "metadata": {},
   "outputs": [
    {
     "name": "stdout",
     "output_type": "stream",
     "text": [
      "Iteration 0 :  I am Kashif Maabool.\n",
      "\n",
      "Iteration 1 :  I am a Computer Scientist.\n",
      "\n",
      "Iteration 2 :  I am an AI Engineer specialized in Offensive Security & Autonomous Systems Engineerig.\n",
      "\n"
     ]
    }
   ],
   "source": [
    "# Iterate through the lines\n",
    "\n",
    "with open(example1,\"r\") as file1:\n",
    "        i = 0;\n",
    "        for line in file1:\n",
    "            print(\"Iteration\", str(i), \": \", line)\n",
    "            i = i + 1"
   ]
  },
  {
   "cell_type": "markdown",
   "id": "2b8438b3-d6e0-4086-a6ca-c0437b616ad5",
   "metadata": {},
   "source": [
    "We can use the method <code>readlines()</code> to save the text file to a list:\n"
   ]
  },
  {
   "cell_type": "code",
   "execution_count": 34,
   "id": "e83f57d6-9361-4d78-ad95-5e7b3e1601b6",
   "metadata": {},
   "outputs": [],
   "source": [
    "# Read all lines and save as a list\n",
    "\n",
    "with open(example1, \"r\") as file1:\n",
    "    FileasList = file1.readlines()"
   ]
  },
  {
   "cell_type": "markdown",
   "id": "395fbac3-3467-4cc5-9fe1-a81abdea9929",
   "metadata": {},
   "source": [
    "Each element of the list corresponds to a line of text:\n"
   ]
  },
  {
   "cell_type": "code",
   "execution_count": 35,
   "id": "00931792-f629-4970-b6e2-ea9a21bf215c",
   "metadata": {},
   "outputs": [
    {
     "data": {
      "text/plain": [
       "'I am Kashif Maabool.\\n'"
      ]
     },
     "execution_count": 35,
     "metadata": {},
     "output_type": "execute_result"
    }
   ],
   "source": [
    "# Print the first line\n",
    "\n",
    "FileasList[0]"
   ]
  },
  {
   "cell_type": "code",
   "execution_count": 36,
   "id": "4ddf4a06-08ac-4610-bef9-48ffdd1fc831",
   "metadata": {},
   "outputs": [
    {
     "data": {
      "text/plain": [
       "'I am a Computer Scientist.\\n'"
      ]
     },
     "execution_count": 36,
     "metadata": {},
     "output_type": "execute_result"
    }
   ],
   "source": [
    "# Print the second line\n",
    "\n",
    "FileasList[1]"
   ]
  },
  {
   "cell_type": "code",
   "execution_count": 37,
   "id": "419e1539-15d9-490a-8321-22797ea02e8b",
   "metadata": {},
   "outputs": [
    {
     "data": {
      "text/plain": [
       "'I am an AI Engineer specialized in Offensive Security & Autonomous Systems Engineerig.\\n'"
      ]
     },
     "execution_count": 37,
     "metadata": {},
     "output_type": "execute_result"
    }
   ],
   "source": [
    "# Print the third line\n",
    "\n",
    "FileasList[2]"
   ]
  }
 ],
 "metadata": {
  "kernelspec": {
   "display_name": "Python (ds_env)",
   "language": "python",
   "name": "ds_env"
  },
  "language_info": {
   "codemirror_mode": {
    "name": "ipython",
    "version": 3
   },
   "file_extension": ".py",
   "mimetype": "text/x-python",
   "name": "python",
   "nbconvert_exporter": "python",
   "pygments_lexer": "ipython3",
   "version": "3.13.5"
  }
 },
 "nbformat": 4,
 "nbformat_minor": 5
}
