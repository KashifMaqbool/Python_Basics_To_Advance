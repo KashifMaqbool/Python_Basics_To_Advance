{
 "cells": [
  {
   "cell_type": "markdown",
   "id": "c5437819",
   "metadata": {},
   "source": [
    "# 1. If elif and else operations\n"
   ]
  },
  {
   "cell_type": "code",
   "execution_count": 3,
   "id": "f37f4b44",
   "metadata": {},
   "outputs": [
    {
     "name": "stdout",
     "output_type": "stream",
     "text": [
      "This is a true statement\n"
     ]
    }
   ],
   "source": [
    "# if statement\n",
    "var = 10\n",
    "if var==10:\n",
    "    print(\"This is a true statement\")"
   ]
  },
  {
   "cell_type": "code",
   "execution_count": 5,
   "id": "b6356dc9",
   "metadata": {},
   "outputs": [
    {
     "name": "stdout",
     "output_type": "stream",
     "text": [
      "This is a false statement\n"
     ]
    }
   ],
   "source": [
    "# else statement\n",
    "var = 15\n",
    "if var==10:\n",
    "    print(\"This is a true statement\")\n",
    "else:\n",
    "    print(\"This is a false statement\")"
   ]
  },
  {
   "cell_type": "code",
   "execution_count": 7,
   "id": "7e1e938f",
   "metadata": {},
   "outputs": [
    {
     "name": "stdout",
     "output_type": "stream",
     "text": [
      "variables has different value\n"
     ]
    }
   ],
   "source": [
    "# elif statement\n",
    "var1 = 10\n",
    "var2 = 20\n",
    "if var1 == var2:\n",
    "    print(\"variables are equal\")\n",
    "elif var1>var2:\n",
    "    print(\"variables has different value\")\n",
    "elif var2>var1:\n",
    "    print(\"variables has different value\")\n",
    "else:\n",
    "    print(\"This is headache\")"
   ]
  },
  {
   "cell_type": "markdown",
   "id": "cbeafee5",
   "metadata": {},
   "source": [
    "# 2. Boolean Operations"
   ]
  },
  {
   "cell_type": "code",
   "execution_count": 9,
   "id": "0893b46f",
   "metadata": {},
   "outputs": [
    {
     "name": "stdout",
     "output_type": "stream",
     "text": [
      "variables two is greater\n"
     ]
    }
   ],
   "source": [
    "# And operations\n",
    "var1 = 10\n",
    "var2 = 20\n",
    "if var1 == var2 and var2 == var1:\n",
    "    print(\"variables are equal\")\n",
    "elif var1>var2 and var2 < var1:\n",
    "    print(\"variable one is greater\")\n",
    "elif var2>var1 and var1<var2:\n",
    "    print(\"variables two is greater\")\n",
    "else:\n",
    "    print(\"This is headache\")"
   ]
  },
  {
   "cell_type": "code",
   "execution_count": 11,
   "id": "4e10790a",
   "metadata": {},
   "outputs": [
    {
     "name": "stdout",
     "output_type": "stream",
     "text": [
      "variables two is greater\n"
     ]
    }
   ],
   "source": [
    "# or operations\n",
    "var1 = 10\n",
    "var2 = 20\n",
    "if var1 == var2 or var2 == var1:\n",
    "    print(\"variables are equal\")\n",
    "elif var1>var2 or var2 < var1:\n",
    "    print(\"variable one is greater\")\n",
    "elif var2>var1 or var1 == var2:\n",
    "    print(\"variables two is greater\")\n",
    "else:\n",
    "    print(\"This is headache\")"
   ]
  },
  {
   "cell_type": "code",
   "execution_count": 13,
   "id": "3a002a4f",
   "metadata": {},
   "outputs": [
    {
     "name": "stdout",
     "output_type": "stream",
     "text": [
      "Value is not equal fifteen\n"
     ]
    }
   ],
   "source": [
    "# not operations\n",
    "var = 10\n",
    "if var != 15:\n",
    "    print(\"Value is not equal fifteen\")"
   ]
  },
  {
   "cell_type": "code",
   "execution_count": 15,
   "id": "c3dcf1b4",
   "metadata": {},
   "outputs": [
    {
     "name": "stdout",
     "output_type": "stream",
     "text": [
      "number is present in the list\n"
     ]
    }
   ],
   "source": [
    "# not operations in a list\n",
    "list = [3,4,6,7,10]\n",
    "x = 10\n",
    "if x not in list:\n",
    "    print(\"number is not present in the list\")\n",
    "else:\n",
    "    print(\"number is present in the list\")\n"
   ]
  },
  {
   "cell_type": "code",
   "execution_count": 17,
   "id": "20faab56",
   "metadata": {},
   "outputs": [
    {
     "name": "stdout",
     "output_type": "stream",
     "text": [
      "conditions is false\n"
     ]
    }
   ],
   "source": [
    "# complex example of \"and\" and \"not\"\n",
    "list = [3,4,6,7]\n",
    "x = 10\n",
    "y = 20\n",
    "if x not in list and x == y:\n",
    "    print(\"codition is true\")\n",
    "else:\n",
    "    print(\"conditions is false\")"
   ]
  },
  {
   "cell_type": "code",
   "execution_count": 19,
   "id": "552c960a",
   "metadata": {},
   "outputs": [
    {
     "name": "stdout",
     "output_type": "stream",
     "text": [
      "codition is true\n"
     ]
    }
   ],
   "source": [
    "# complex example of \"or\" and \"not\" \n",
    "list = [3,4,6,7]\n",
    "x = 10\n",
    "y = 20\n",
    "if x not in list or x == y:\n",
    "    print(\"codition is true\")\n",
    "else:\n",
    "    print(\"conditions is false\")"
   ]
  },
  {
   "cell_type": "markdown",
   "id": "71777ad3",
   "metadata": {},
   "source": [
    "# 3. Checking for nothing"
   ]
  },
  {
   "cell_type": "code",
   "execution_count": 23,
   "id": "fdbf41e2",
   "metadata": {},
   "outputs": [],
   "source": [
    "# None examples\n",
    "empty_string = \"\"\n",
    "empty_tuple = ()\n",
    "empty_list = []\n",
    "nothing = None"
   ]
  },
  {
   "cell_type": "code",
   "execution_count": 27,
   "id": "39f9af5d",
   "metadata": {},
   "outputs": [
    {
     "name": "stdout",
     "output_type": "stream",
     "text": [
      "It's an empty list!\n",
      "It's an empty tuple!\n",
      "This is an empty string!\n",
      "This is nothing\n"
     ]
    }
   ],
   "source": [
    "if empty_list == []:\n",
    "    print(\"It's an empty list!\")\n",
    "if empty_tuple == ():\n",
    "    print(\"It's an empty tuple!\")\n",
    "if not empty_string:\n",
    "    print(\"This is an empty string!\")\n",
    "if not nothing:\n",
    "    print(\"This is nothing\")"
   ]
  },
  {
   "cell_type": "code",
   "execution_count": 35,
   "id": "d5c1112b",
   "metadata": {},
   "outputs": [
    {
     "name": "stdout",
     "output_type": "stream",
     "text": [
      "this is'nt an empty string.\n"
     ]
    }
   ],
   "source": [
    "string = 'someting'\n",
    "if string != \"\":\n",
    "    print(\"this is'nt an empty string.\")\n",
    "else:\n",
    "    print(\"this is an empty string\")"
   ]
  },
  {
   "cell_type": "markdown",
   "id": "ab321a6a",
   "metadata": {},
   "source": [
    "# 4. special characters"
   ]
  },
  {
   "cell_type": "code",
   "execution_count": 50,
   "id": "5ec51dc9",
   "metadata": {},
   "outputs": [
    {
     "name": "stdout",
     "output_type": "stream",
     "text": [
      "This is a new line \n",
      " which is example of new line.\n"
     ]
    }
   ],
   "source": [
    "# new line (\\n)\n",
    "print(\"This is a new line \\n which is example of new line.\")"
   ]
  },
  {
   "cell_type": "code",
   "execution_count": 51,
   "id": "6d954110",
   "metadata": {},
   "outputs": [
    {
     "name": "stdout",
     "output_type": "stream",
     "text": [
      "This is a new line \t which is example of new line.\n"
     ]
    }
   ],
   "source": [
    "# tab(\\t)\n",
    "print(\"This is a new line \\t which is example of new line.\")"
   ]
  },
  {
   "cell_type": "code",
   "execution_count": 52,
   "id": "c009684b",
   "metadata": {},
   "outputs": [
    {
     "name": "stdout",
     "output_type": "stream",
     "text": [
      "This is a new line which is example of new line \\.\n"
     ]
    }
   ],
   "source": [
    "# backslash(\\)\n",
    "print(\"This is a new line which is example of new line \\\\.\")"
   ]
  },
  {
   "cell_type": "code",
   "execution_count": null,
   "id": "197c61b2",
   "metadata": {},
   "outputs": [],
   "source": []
  }
 ],
 "metadata": {
  "kernelspec": {
   "display_name": "Python 3 (ipykernel)",
   "language": "python",
   "name": "python3"
  },
  "language_info": {
   "codemirror_mode": {
    "name": "ipython",
    "version": 3
   },
   "file_extension": ".py",
   "mimetype": "text/x-python",
   "name": "python",
   "nbconvert_exporter": "python",
   "pygments_lexer": "ipython3",
   "version": "3.12.2"
  }
 },
 "nbformat": 4,
 "nbformat_minor": 5
}
