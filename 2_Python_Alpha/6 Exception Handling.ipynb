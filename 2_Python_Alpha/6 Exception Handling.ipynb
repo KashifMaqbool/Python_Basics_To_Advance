{
 "cells": [
  {
   "cell_type": "markdown",
   "id": "1656ef61",
   "metadata": {},
   "source": [
    "# 1.Zero Division Error"
   ]
  },
  {
   "cell_type": "code",
   "execution_count": 2,
   "id": "52df1494",
   "metadata": {},
   "outputs": [
    {
     "ename": "ZeroDivisionError",
     "evalue": "division by zero",
     "output_type": "error",
     "traceback": [
      "\u001b[0;31m---------------------------------------------------------------------------\u001b[0m",
      "\u001b[0;31mZeroDivisionError\u001b[0m                         Traceback (most recent call last)",
      "Cell \u001b[0;32mIn[2], line 3\u001b[0m\n\u001b[1;32m      1\u001b[0m \u001b[38;5;66;03m#This will give and error that is zeroDivisionError\u001b[39;00m\n\u001b[0;32m----> 3\u001b[0m \u001b[38;5;241m1\u001b[39m\u001b[38;5;241m/\u001b[39m\u001b[38;5;241m0\u001b[39m\n",
      "\u001b[0;31mZeroDivisionError\u001b[0m: division by zero"
     ]
    }
   ],
   "source": [
    "#This will give and error that is zeroDivisionError\n",
    "\n",
    "1/0"
   ]
  },
  {
   "cell_type": "code",
   "execution_count": 12,
   "id": "c96e02d4",
   "metadata": {},
   "outputs": [
    {
     "name": "stdout",
     "output_type": "stream",
     "text": [
      "You cannot divide a number by zero\n"
     ]
    }
   ],
   "source": [
    "try:\n",
    "    1/0\n",
    "except ZeroDivisionError:\n",
    "    print(\"You cannot divide a number by zero\")"
   ]
  },
  {
   "cell_type": "markdown",
   "id": "1f699315",
   "metadata": {},
   "source": [
    "# 2. Bare Concept"
   ]
  },
  {
   "cell_type": "code",
   "execution_count": 6,
   "id": "2675a5b0",
   "metadata": {},
   "outputs": [
    {
     "name": "stdout",
     "output_type": "stream",
     "text": [
      "you are not known about specific error.\n"
     ]
    }
   ],
   "source": [
    "try:\n",
    "    1/0\n",
    "except:\n",
    "    print(\"you are not known about specific error.\")"
   ]
  },
  {
   "cell_type": "markdown",
   "id": "c9654442",
   "metadata": {},
   "source": [
    "# 3. key Error in dictionary"
   ]
  },
  {
   "cell_type": "code",
   "execution_count": 14,
   "id": "afa2884c",
   "metadata": {},
   "outputs": [
    {
     "name": "stdout",
     "output_type": "stream",
     "text": [
      "This key is not present in this dictionary\n"
     ]
    }
   ],
   "source": [
    "dict = {1:'A', 2:'B', 3:'C' }\n",
    "try:\n",
    "    dict[5]\n",
    "except KeyError:\n",
    "    print(\"This key is not present in this dictionary\")"
   ]
  },
  {
   "cell_type": "markdown",
   "id": "1adf40f9",
   "metadata": {},
   "source": [
    "# 4. Index Error in lists"
   ]
  },
  {
   "cell_type": "code",
   "execution_count": 22,
   "id": "c9e7155b",
   "metadata": {},
   "outputs": [
    {
     "name": "stdout",
     "output_type": "stream",
     "text": [
      "That index is not present in this list.\n"
     ]
    }
   ],
   "source": [
    "list = [1,3,4,5,6,7,8,9,10]\n",
    "try:\n",
    "    list = list[12]\n",
    "    print(list)\n",
    "except IndexError:\n",
    "    print(\"That index is not present in this list.\")"
   ]
  },
  {
   "cell_type": "markdown",
   "id": "374d3db6",
   "metadata": {},
   "source": [
    "## Catching multiple errors"
   ]
  },
  {
   "cell_type": "code",
   "execution_count": 44,
   "id": "b23f3ed3",
   "metadata": {},
   "outputs": [
    {
     "name": "stdout",
     "output_type": "stream",
     "text": [
      "This key is not present in this dictionary\n"
     ]
    }
   ],
   "source": [
    "# First Method\n",
    "\n",
    "dict = {1:'A', 2:'B', 3:'C' }\n",
    "try:\n",
    "    dict[\"d\"]\n",
    "    # dict.values[5]\n",
    "except KeyError:\n",
    "    print(\"This key is not present in this dictionary\")\n",
    "except IndexError:\n",
    "    print(\"That index isn't present in this dictionary.\")\n",
    "except:\n",
    "    print(\"This is another error than Index Error and Key Error.\")"
   ]
  },
  {
   "cell_type": "code",
   "execution_count": 62,
   "id": "b7cf44e3",
   "metadata": {},
   "outputs": [
    {
     "name": "stdout",
     "output_type": "stream",
     "text": [
      "This is another type of error\n"
     ]
    }
   ],
   "source": [
    "# Second Method(The first method is recommended because second method does'nt tell the correct type of error or exception\n",
    "\n",
    "list = [1,3,4,5,6,7,8,9,10]\n",
    "try:\n",
    "    list[5]\n",
    "    # list['5']\n",
    "except(KeyError, IndexError):\n",
    "    print(\"That index is not present in this list.\")\n",
    "except:\n",
    "    print(\"This is another type of error\")"
   ]
  },
  {
   "cell_type": "code",
   "execution_count": 64,
   "id": "cbbe1f7f",
   "metadata": {},
   "outputs": [
    {
     "name": "stdout",
     "output_type": "stream",
     "text": [
      "That index is not present in this list.\n"
     ]
    }
   ],
   "source": [
    "tuple = (2,5,5,56,7,8,9)\n",
    "try:\n",
    "    tuple[13]\n",
    "except(KeyError, IndexError):\n",
    "    print(\"That index is not present in this list.\")\n",
    "except:\n",
    "    print(\"This is another error than Index Error and Key Error.\")"
   ]
  },
  {
   "cell_type": "markdown",
   "id": "31b15382",
   "metadata": {},
   "source": [
    "# 5. Finally Statement"
   ]
  },
  {
   "cell_type": "code",
   "execution_count": null,
   "id": "8ece371f",
   "metadata": {},
   "outputs": [],
   "source": [
    "# finally statement with try and except \n",
    "\n",
    "dict = {'A':1, 'B':2, 'C':3}\n",
    "try:\n",
    "    value = dict['d']\n",
    "    print(value)\n",
    "except KeyError:\n",
    "    print('There is an KeyError!')\n",
    "finally:\n",
    "    print('finally statement will always print!')\n",
    "    "
   ]
  },
  {
   "cell_type": "markdown",
   "id": "17bb6fd1",
   "metadata": {},
   "source": [
    "# 6. Else Statement"
   ]
  },
  {
   "cell_type": "code",
   "execution_count": null,
   "id": "ab7bc03d",
   "metadata": {},
   "outputs": [],
   "source": [
    "# else statement with try and except\n",
    "\n",
    "dict = {'A':1, 'B':2, 'C':3}\n",
    "try:\n",
    "    value = dict['A']\n",
    "    print(value)\n",
    "except KeyError:\n",
    "    print('There is an KeyError!')\n",
    "else:\n",
    "    print('No error found!')"
   ]
  },
  {
   "cell_type": "markdown",
   "id": "9f201bde",
   "metadata": {},
   "source": [
    "# 7. All Statements together"
   ]
  },
  {
   "cell_type": "code",
   "execution_count": 66,
   "id": "878d2811",
   "metadata": {},
   "outputs": [
    {
     "name": "stdout",
     "output_type": "stream",
     "text": [
      "There is an KeyError!\n",
      "finally statement will always print!\n"
     ]
    }
   ],
   "source": [
    "# try, except, else and finally altogether\n",
    "\n",
    "dict = {'A':1, 'B':2, 'C':3}\n",
    "try:\n",
    "    value = dict['d']\n",
    "    print(value)\n",
    "except KeyError:\n",
    "    print('There is an KeyError!')\n",
    "else:\n",
    "    print('No error found!')\n",
    "finally:\n",
    "    print(\"finally statement will always print!\")"
   ]
  }
 ],
 "metadata": {
  "kernelspec": {
   "display_name": "Python 3 (ipykernel)",
   "language": "python",
   "name": "python3"
  },
  "language_info": {
   "codemirror_mode": {
    "name": "ipython",
    "version": 3
   },
   "file_extension": ".py",
   "mimetype": "text/x-python",
   "name": "python",
   "nbconvert_exporter": "python",
   "pygments_lexer": "ipython3",
   "version": "3.12.2"
  }
 },
 "nbformat": 4,
 "nbformat_minor": 5
}
