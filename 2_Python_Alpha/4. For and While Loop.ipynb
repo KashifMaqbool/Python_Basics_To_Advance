{
 "cells": [
  {
   "cell_type": "markdown",
   "id": "8e688a54",
   "metadata": {},
   "source": [
    "# 1. For Loop"
   ]
  },
  {
   "cell_type": "code",
   "execution_count": 12,
   "id": "8440a26e",
   "metadata": {},
   "outputs": [
    {
     "data": {
      "text/plain": [
       "[0, 1, 2, 3, 4]"
      ]
     },
     "execution_count": 12,
     "metadata": {},
     "output_type": "execute_result"
    }
   ],
   "source": [
    "# range functions\n",
    "\n",
    "# range(5)\n",
    "# range(1,6)\n",
    "list(range(5))"
   ]
  },
  {
   "cell_type": "code",
   "execution_count": 10,
   "id": "aa3da3a4",
   "metadata": {},
   "outputs": [
    {
     "name": "stdout",
     "output_type": "stream",
     "text": [
      "0\n",
      "1\n",
      "2\n",
      "3\n",
      "4\n"
     ]
    }
   ],
   "source": [
    "# for loop using range function\n",
    "\n",
    "for number in range(5):\n",
    "    print(number)"
   ]
  },
  {
   "cell_type": "code",
   "execution_count": 14,
   "id": "ef4fa7e2",
   "metadata": {},
   "outputs": [
    {
     "name": "stdout",
     "output_type": "stream",
     "text": [
      "0\n",
      "1\n",
      "2\n",
      "3\n",
      "4\n"
     ]
    }
   ],
   "source": [
    "# for loop using range list\n",
    "\n",
    "for number in (0,1,2,3,4):\n",
    "    print(number)"
   ]
  },
  {
   "cell_type": "code",
   "execution_count": 16,
   "id": "c078c642",
   "metadata": {},
   "outputs": [
    {
     "name": "stdout",
     "output_type": "stream",
     "text": [
      "a\n",
      "b\n",
      "c\n",
      "d\n"
     ]
    }
   ],
   "source": [
    "# for loop using dictionary\n",
    "dict = {'a': 1, 'b':2 , 'c':3, 'd':4}\n",
    "for number in dict:\n",
    "    print(number)"
   ]
  },
  {
   "cell_type": "code",
   "execution_count": 34,
   "id": "275a67fb",
   "metadata": {},
   "outputs": [
    {
     "name": "stdout",
     "output_type": "stream",
     "text": [
      "1\n",
      "3\n",
      "5\n",
      "10\n"
     ]
    }
   ],
   "source": [
    "# printing dictionary keys\n",
    "dict = {1:'a', 5:'b', 3:'c', 10:'d'}\n",
    "keys = dict.keys()\n",
    "keyss = sorted(keys)\n",
    "for i in keyss:\n",
    "    print(i)"
   ]
  },
  {
   "cell_type": "code",
   "execution_count": 38,
   "id": "78656816",
   "metadata": {},
   "outputs": [
    {
     "name": "stdout",
     "output_type": "stream",
     "text": [
      "a\n",
      "b\n",
      "c\n",
      "d\n"
     ]
    }
   ],
   "source": [
    "# printing dictionary values\n",
    "dict = {1:'b', 5:'a', 3:'d', 10:'c'}\n",
    "keys = dict.values()\n",
    "keyss= sorted(keys)\n",
    "for i in keyss:\n",
    "    print(i)"
   ]
  },
  {
   "cell_type": "code",
   "execution_count": 40,
   "id": "aa5ba389",
   "metadata": {},
   "outputs": [
    {
     "name": "stdout",
     "output_type": "stream",
     "text": [
      "0\n",
      "2\n",
      "4\n",
      "6\n",
      "8\n"
     ]
    }
   ],
   "source": [
    "# complex example\n",
    "keys = range(10)\n",
    "for i in keys:\n",
    "    if i % 2 ==0:\n",
    "        print(i)"
   ]
  },
  {
   "cell_type": "code",
   "execution_count": 42,
   "id": "faea55fe",
   "metadata": {},
   "outputs": [
    {
     "name": "stdout",
     "output_type": "stream",
     "text": [
      "0\n",
      "2\n",
      "4\n",
      "6\n",
      "8\n",
      "10\n",
      "12\n",
      "14\n"
     ]
    }
   ],
   "source": [
    "# complex example\n",
    "for i in range(15):\n",
    "    if i%2 ==0:\n",
    "        print(i)"
   ]
  },
  {
   "cell_type": "markdown",
   "id": "42474d01",
   "metadata": {},
   "source": [
    "# 2. While Loop"
   ]
  },
  {
   "cell_type": "code",
   "execution_count": 44,
   "id": "d3dcfad4",
   "metadata": {},
   "outputs": [
    {
     "name": "stdout",
     "output_type": "stream",
     "text": [
      "1\n",
      "2\n",
      "3\n",
      "4\n",
      "5\n",
      "6\n",
      "7\n",
      "8\n",
      "9\n",
      "10\n"
     ]
    }
   ],
   "source": [
    "# infinite loop \n",
    "\n",
    "i = 0\n",
    "while i<10:\n",
    "    # i= i+1\n",
    "    print(i)"
   ]
  },
  {
   "cell_type": "code",
   "execution_count": 1,
   "id": "e992f8d9",
   "metadata": {},
   "outputs": [
    {
     "name": "stdout",
     "output_type": "stream",
     "text": [
      "1\n",
      "2\n",
      "3\n",
      "4\n",
      "5\n",
      "6\n",
      "7\n",
      "8\n",
      "9\n",
      "10\n"
     ]
    }
   ],
   "source": [
    "# finite loop\n",
    "i = 0\n",
    "while i<10:\n",
    "    i = i+1\n",
    "    print(i)\n",
    "    "
   ]
  },
  {
   "cell_type": "code",
   "execution_count": 3,
   "id": "9eb19284",
   "metadata": {},
   "outputs": [
    {
     "name": "stdout",
     "output_type": "stream",
     "text": [
      "0\n",
      "1\n",
      "2\n",
      "3\n",
      "4\n"
     ]
    }
   ],
   "source": [
    "# while loop with break statement\n",
    "\n",
    "i = 0\n",
    "while i<10:\n",
    "    print(i)\n",
    "    i = i+1\n",
    "    if i == 5:\n",
    "        break\n"
   ]
  },
  {
   "cell_type": "code",
   "execution_count": 5,
   "id": "851f2ecf",
   "metadata": {},
   "outputs": [
    {
     "name": "stdout",
     "output_type": "stream",
     "text": [
      "0\n",
      "1\n",
      "2\n",
      "3\n",
      "4\n",
      "5\n",
      "6\n",
      "7\n",
      "8\n",
      "9\n",
      "10\n",
      "11\n"
     ]
    }
   ],
   "source": [
    "# while loop with continue statement\n",
    "\n",
    "i=0\n",
    "while i <15:\n",
    "    print(i)\n",
    "    i += 1\n",
    "    if i==8:\n",
    "        continue\n",
    "        \n",
    "    elif i==12:\n",
    "        break"
   ]
  },
  {
   "cell_type": "code",
   "execution_count": 7,
   "id": "881ae7c7",
   "metadata": {},
   "outputs": [
    {
     "name": "stdout",
     "output_type": "stream",
     "text": [
      "Number not found\n",
      "3\n",
      "Number not found\n",
      "5\n",
      "Number not found\n",
      "66\n",
      "Number not found\n",
      "83\n",
      "Number has found\n"
     ]
    }
   ],
   "source": [
    "# for loop with if else and list\n",
    "\n",
    "list = [3,5,66,83,99,77,35,25]\n",
    "\n",
    "for i in list:\n",
    "    if i==99:\n",
    "        print(\"Number has found\")\n",
    "        break\n",
    "    else:\n",
    "        print(\"Number not found\")\n",
    "        print(i)\n",
    "        "
   ]
  },
  {
   "cell_type": "code",
   "execution_count": null,
   "id": "69fe0ed7",
   "metadata": {},
   "outputs": [],
   "source": []
  }
 ],
 "metadata": {
  "kernelspec": {
   "display_name": "Python 3 (ipykernel)",
   "language": "python",
   "name": "python3"
  },
  "language_info": {
   "codemirror_mode": {
    "name": "ipython",
    "version": 3
   },
   "file_extension": ".py",
   "mimetype": "text/x-python",
   "name": "python",
   "nbconvert_exporter": "python",
   "pygments_lexer": "ipython3",
   "version": "3.12.2"
  }
 },
 "nbformat": 4,
 "nbformat_minor": 5
}
