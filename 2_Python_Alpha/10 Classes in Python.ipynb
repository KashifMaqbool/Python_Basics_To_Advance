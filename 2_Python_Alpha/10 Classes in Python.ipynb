{
 "cells": [
  {
   "cell_type": "markdown",
   "id": "c28f0302-acc4-4397-aaae-83fc62c45224",
   "metadata": {},
   "source": [
    "# Classes in Python"
   ]
  },
  {
   "cell_type": "markdown",
   "id": "cdf8cca4-f2f6-427a-81f4-9adf6ef259fb",
   "metadata": {},
   "source": [
    "## Class in Python3"
   ]
  },
  {
   "cell_type": "code",
   "execution_count": 5,
   "id": "144bbcb2",
   "metadata": {},
   "outputs": [],
   "source": [
    "class vehicle:\n",
    "    \"\"\"docstring\"\"\"\n",
    "    def init(self):\n",
    "        \"\"\"constructor\"\"\"\n",
    "        pass"
   ]
  },
  {
   "cell_type": "markdown",
   "id": "0b1c9838-b921-4319-9391-4b3ab64180ef",
   "metadata": {},
   "source": [
    "## class in Python 2"
   ]
  },
  {
   "cell_type": "code",
   "execution_count": 10,
   "id": "e2cc22c3",
   "metadata": {},
   "outputs": [],
   "source": [
    "class Vehicle(object):\n",
    "    \"\"\"docstring\"\"\"\n",
    "    def function(self):\n",
    "        \"\"\"constructor\"\"\"\n",
    "        pass"
   ]
  },
  {
   "cell_type": "code",
   "execution_count": 12,
   "id": "2157314a",
   "metadata": {},
   "outputs": [
    {
     "name": "stdout",
     "output_type": "stream",
     "text": [
      "None\n"
     ]
    }
   ],
   "source": [
    "class Vehicle(object):\n",
    "    \"\"\"docstring\"\"\"\n",
    "    def function(self):\n",
    "        \"\"\"constructor\"\"\"\n",
    "        pass\n",
    "    print(function(\"Nooor\"))"
   ]
  },
  {
   "cell_type": "markdown",
   "id": "d127cd79-3ba7-401e-9fd8-444c829c4d97",
   "metadata": {},
   "source": [
    "### What’s happening here\n",
    "\n",
    "###### self refers to the current object being created.\n",
    "###### Doors, color, tires are the parameters you pass when creating the object.\n",
    "###### self.doors, self.color, self.tires become object attributes that store the values for each object separately."
   ]
  },
  {
   "cell_type": "code",
   "execution_count": 44,
   "id": "8a6eb725",
   "metadata": {},
   "outputs": [
    {
     "name": "stdout",
     "output_type": "stream",
     "text": [
      "Stop the car\n",
      "Drive the car\n"
     ]
    }
   ],
   "source": [
    "# self is used to define the features or attributes of classes.\n",
    "\n",
    "class Vehicle(object):\n",
    "    def __init__(self,door,color,tires):\n",
    "        self.door = door\n",
    "        self.color= color\n",
    "        self.tires=tires\n",
    "\n",
    "    def stop(self):\n",
    "        # print(\"Stop the car\")\n",
    "        return \"Stop the car\"\n",
    "    def drive(self):\n",
    "        # print(\"Drive the car\")\n",
    "        return \"Drive the car\"\n",
    "        \n",
    "car = Vehicle(4,\"RED\",4)\n",
    "print(car.stop())\n",
    "print(car.drive())"
   ]
  },
  {
   "cell_type": "code",
   "execution_count": null,
   "id": "bfe66e80",
   "metadata": {},
   "outputs": [],
   "source": []
  }
 ],
 "metadata": {
  "kernelspec": {
   "display_name": "Python 3 (ipykernel)",
   "language": "python",
   "name": "python3"
  },
  "language_info": {
   "codemirror_mode": {
    "name": "ipython",
    "version": 3
   },
   "file_extension": ".py",
   "mimetype": "text/x-python",
   "name": "python",
   "nbconvert_exporter": "python",
   "pygments_lexer": "ipython3",
   "version": "3.12.2"
  }
 },
 "nbformat": 4,
 "nbformat_minor": 5
}
