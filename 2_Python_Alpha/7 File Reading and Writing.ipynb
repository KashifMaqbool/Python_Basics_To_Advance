{
 "cells": [
  {
   "cell_type": "markdown",
   "id": "a417a613",
   "metadata": {},
   "source": [
    "# 1. File Reading using cmd in window "
   ]
  },
  {
   "cell_type": "markdown",
   "id": "e579be97",
   "metadata": {},
   "source": [
    "# 2. File Reading using jupyter notebook"
   ]
  },
  {
   "cell_type": "markdown",
   "id": "37613e32",
   "metadata": {},
   "source": [
    "## Open() method"
   ]
  },
  {
   "cell_type": "code",
   "execution_count": 10,
   "id": "fd8f3ae7",
   "metadata": {},
   "outputs": [],
   "source": [
    "# file reading by giving path of the specific file.\n",
    "# Open method used to open file whose path is given, but it will not show as open, just open in backend and read the data.\n",
    "# \"r\" means that \"Treat backslashes \\ as literal characters — don’t interpret them as escape sequences.\"\n",
    "\n",
    "x = open(r\"/Users/kashifmaqbool/Python for AI/2_Python_Alpha/7.1 test.txt\",\"r\")"
   ]
  },
  {
   "cell_type": "code",
   "execution_count": 12,
   "id": "feffa7ee",
   "metadata": {},
   "outputs": [
    {
     "name": "stdout",
     "output_type": "stream",
     "text": [
      "/Users/kashifmaqbool/Python for AI/2_Python_Alpha/7.1 test.txt r\n"
     ]
    }
   ],
   "source": [
    "# raw string 'r' in above line.\n",
    "print(\"/Users/kashifmaqbool/Python for AI/2_Python_Alpha/7.1 test.txt\",\"r\")"
   ]
  },
  {
   "cell_type": "code",
   "execution_count": 14,
   "id": "30367f76",
   "metadata": {},
   "outputs": [
    {
     "name": "stdout",
     "output_type": "stream",
     "text": [
      "/Users/kashifmaqbool/Python for AI/2_Python_Alpha/7.1 test.txt r\n"
     ]
    }
   ],
   "source": [
    "# now by using raw string 'r'\n",
    "# now r will print whole string and r at last position \"r\" is used to read string\n",
    "\n",
    "print(r\"/Users/kashifmaqbool/Python for AI/2_Python_Alpha/7.1 test.txt\",\"r\")"
   ]
  },
  {
   "cell_type": "markdown",
   "id": "06449312",
   "metadata": {},
   "source": [
    "## Read() Method"
   ]
  },
  {
   "cell_type": "code",
   "execution_count": 24,
   "id": "26b20132",
   "metadata": {},
   "outputs": [
    {
     "name": "stdout",
     "output_type": "stream",
     "text": [
      "My name is Kashif Maqbool.\n",
      "I am 24 years old.\n",
      "I study Computer Science.\n",
      "I've completed my graduation from COMSATS, SAHIWAL CAMPUS.\n",
      "Allah Hafiz!\n",
      "\n"
     ]
    }
   ],
   "source": [
    "# reading file and printing it.\n",
    "# using read() method, it will read method line by line.\n",
    "\n",
    "x = open(r\"/Users/kashifmaqbool/Python for AI/2_Python_Alpha/7.1 test.txt\",\"r\")\n",
    "data = x.read()\n",
    "print(data)\n",
    "x.close()"
   ]
  },
  {
   "cell_type": "markdown",
   "id": "33e9551e",
   "metadata": {},
   "source": [
    "## Readline() Method"
   ]
  },
  {
   "cell_type": "code",
   "execution_count": 28,
   "id": "0397c031",
   "metadata": {},
   "outputs": [
    {
     "name": "stdout",
     "output_type": "stream",
     "text": [
      "My name is Kashif Maqbool.\n",
      "\n"
     ]
    }
   ],
   "source": [
    "# using readline() method which will read only first line.\n",
    "# close() method is used to close the open file\n",
    "\n",
    "x = open(r\"/Users/kashifmaqbool/Python for AI/2_Python_Alpha/7.1 test.txt\",\"r\")\n",
    "data = x.readline()\n",
    "print(data)\n",
    "x.close()"
   ]
  },
  {
   "cell_type": "markdown",
   "id": "379114d3",
   "metadata": {},
   "source": [
    "## Readlines() Mehtod"
   ]
  },
  {
   "cell_type": "code",
   "execution_count": 30,
   "id": "9beaead2",
   "metadata": {},
   "outputs": [
    {
     "name": "stdout",
     "output_type": "stream",
     "text": [
      "['My name is Kashif Maqbool.\\n', 'I am 24 years old.\\n', 'I study Computer Science.\\n', \"I've completed my graduation from COMSATS, SAHIWAL CAMPUS.\\n\", 'Allah Hafiz!\\n']\n"
     ]
    }
   ],
   "source": [
    "# readlines() method used to read lines as lists\n",
    "\n",
    "x = open(r\"/Users/kashifmaqbool/Python for AI/2_Python_Alpha/7.1 test.txt\",\"r\")\n",
    "data = x.readlines()\n",
    "print(data)\n",
    "x.close()"
   ]
  },
  {
   "cell_type": "markdown",
   "id": "1c7ff68f",
   "metadata": {},
   "source": [
    "# 3. File writing "
   ]
  },
  {
   "cell_type": "code",
   "execution_count": 44,
   "id": "334ddfbe",
   "metadata": {},
   "outputs": [],
   "source": [
    "# using 'w' you can write a data inside file, if data already present in file it will be overwritten.\n",
    "\n",
    "x = open(r\"/Users/kashifmaqbool/Python for AI/2_Python_Alpha/7.1 test.txt\",\"w\")\n",
    "x.write(\"This is as example of File Writing. \\n\")\n",
    "x.write(\"All the data which is already present in the file will be overwritten by these lines.\")\n",
    "x.close()"
   ]
  },
  {
   "cell_type": "code",
   "execution_count": 46,
   "id": "1c4942ba",
   "metadata": {},
   "outputs": [
    {
     "name": "stdout",
     "output_type": "stream",
     "text": [
      "This is as example of File Writing. \n",
      "All the data which is already present in the file will be overwritten by these lines.\n"
     ]
    }
   ],
   "source": [
    "x = open(r\"/Users/kashifmaqbool/Python for AI/2_Python_Alpha/7.1 test.txt\", \"r\")\n",
    "data = x.read()\n",
    "print(data)\n",
    "x.close()"
   ]
  },
  {
   "cell_type": "code",
   "execution_count": null,
   "id": "5886f40f",
   "metadata": {},
   "outputs": [],
   "source": []
  },
  {
   "cell_type": "code",
   "execution_count": null,
   "id": "94964c39",
   "metadata": {},
   "outputs": [],
   "source": []
  }
 ],
 "metadata": {
  "kernelspec": {
   "display_name": "Python 3 (ipykernel)",
   "language": "python",
   "name": "python3"
  },
  "language_info": {
   "codemirror_mode": {
    "name": "ipython",
    "version": 3
   },
   "file_extension": ".py",
   "mimetype": "text/x-python",
   "name": "python",
   "nbconvert_exporter": "python",
   "pygments_lexer": "ipython3",
   "version": "3.12.2"
  }
 },
 "nbformat": 4,
 "nbformat_minor": 5
}
