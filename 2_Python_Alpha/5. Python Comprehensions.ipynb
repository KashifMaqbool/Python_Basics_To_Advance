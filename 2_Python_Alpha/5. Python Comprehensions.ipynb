{
 "cells": [
  {
   "cell_type": "markdown",
   "id": "52f44010",
   "metadata": {},
   "source": [
    "# 1. List Comprehensions\n"
   ]
  },
  {
   "cell_type": "code",
   "execution_count": null,
   "id": "a3be3f9b-f394-4c3e-aceb-c4e85f9bbd94",
   "metadata": {},
   "outputs": [],
   "source": [
    "# List Comprehennsion\n",
    "# list comprehension = “Create a new list in one line using loop + condition.”"
   ]
  },
  {
   "cell_type": "code",
   "execution_count": 14,
   "id": "1c5752e4",
   "metadata": {},
   "outputs": [
    {
     "data": {
      "text/plain": [
       "['P', 'a', 'k', 'i', 's', 't', 'a', 'n']"
      ]
     },
     "execution_count": 14,
     "metadata": {},
     "output_type": "execute_result"
    }
   ],
   "source": [
    "# old python code\n",
    "\n",
    "string = 'Pakistan'\n",
    "list = []\n",
    "for letter in string:\n",
    "    list.append(letter)\n",
    "list"
   ]
  },
  {
   "cell_type": "code",
   "execution_count": 15,
   "id": "05a80c02",
   "metadata": {},
   "outputs": [
    {
     "data": {
      "text/plain": [
       "['K', 'a', 's', 'h', 'i', 'f', 'M', 'a', 'q', 'b', 'o', 'o', 'l']"
      ]
     },
     "execution_count": 15,
     "metadata": {},
     "output_type": "execute_result"
    }
   ],
   "source": [
    "# list comprehension code\n",
    "\n",
    "string = 'KashifMaqbool'\n",
    "list = [letter for letter in string]\n",
    "list"
   ]
  },
  {
   "cell_type": "code",
   "execution_count": 17,
   "id": "3afb0b88",
   "metadata": {},
   "outputs": [
    {
     "data": {
      "text/plain": [
       "['K', 'a', 's', 'h', 'i', 'f', 'M', 'a', 'q', 'b', 'o', 'o', 'l']"
      ]
     },
     "execution_count": 17,
     "metadata": {},
     "output_type": "execute_result"
    }
   ],
   "source": [
    "# another way of comprehension\n",
    "\n",
    "list = [letter for letter in 'KashifMaqbool']\n",
    "list"
   ]
  },
  {
   "cell_type": "code",
   "execution_count": 18,
   "id": "56d7033e",
   "metadata": {},
   "outputs": [
    {
     "data": {
      "text/plain": [
       "['K', 'a', 's', 'h', 'i', 'f', 'M', 'a', 'q', 'b', 'o', 'o', 'l']"
      ]
     },
     "execution_count": 18,
     "metadata": {},
     "output_type": "execute_result"
    }
   ],
   "source": [
    "# OR\n",
    "name = [x for x in \"KashifMaqbool\"]\n",
    "name"
   ]
  },
  {
   "cell_type": "code",
   "execution_count": 19,
   "id": "14dda216",
   "metadata": {},
   "outputs": [
    {
     "data": {
      "text/plain": [
       "[0, 1, 2, 3, 4, 5, 6, 7, 8, 9]"
      ]
     },
     "execution_count": 19,
     "metadata": {},
     "output_type": "execute_result"
    }
   ],
   "source": [
    "# list comprehension with range function\n",
    "\n",
    "name = [number for number in range(10)]\n",
    "name"
   ]
  },
  {
   "cell_type": "code",
   "execution_count": 21,
   "id": "01a02bed",
   "metadata": {},
   "outputs": [
    {
     "data": {
      "text/plain": [
       "[0, 1, 2, 3, 4, 5, 6, 7, 8, 9]"
      ]
     },
     "execution_count": 21,
     "metadata": {},
     "output_type": "execute_result"
    }
   ],
   "source": [
    "name = [number for number in range(0,10)]\n",
    "name"
   ]
  },
  {
   "cell_type": "code",
   "execution_count": 24,
   "id": "e10c3d11",
   "metadata": {},
   "outputs": [
    {
     "data": {
      "text/plain": [
       "[33, 34, 35, 36, 37, 38, 39, 40, 41, 42, 43]"
      ]
     },
     "execution_count": 24,
     "metadata": {},
     "output_type": "execute_result"
    }
   ],
   "source": [
    "list = [num for num in range(33,44)]\n",
    "list"
   ]
  },
  {
   "cell_type": "markdown",
   "id": "2b4c6d5a",
   "metadata": {},
   "source": [
    "## list comprehensions in lectur 2"
   ]
  },
  {
   "cell_type": "code",
   "execution_count": 25,
   "id": "2700d7c0",
   "metadata": {},
   "outputs": [
    {
     "data": {
      "text/plain": [
       "[0, 1, 2, 3, 4, 5]"
      ]
     },
     "execution_count": 25,
     "metadata": {},
     "output_type": "execute_result"
    }
   ],
   "source": [
    "# simple list comprehension\n",
    "x = [i for i in range(6)]\n",
    "x"
   ]
  },
  {
   "cell_type": "code",
   "execution_count": 24,
   "id": "bcd0efb2",
   "metadata": {},
   "outputs": [
    {
     "name": "stdout",
     "output_type": "stream",
     "text": [
      "['My name is Kashif Maqbool', 'Kashif Maqbool is learning Python.']\n"
     ]
    }
   ],
   "source": [
    "# another example which parse files and pick some sort of data\n",
    "list = [\"Hello World\", \"My name is Kashif Maqbool\", \"Python is fun\", \"Kashif Maqbool is learning Python.\"]\n",
    "result = [i for i in list if \"Kashif Maqbool\" in i]\n",
    "print(result)\n"
   ]
  },
  {
   "cell_type": "code",
   "execution_count": 27,
   "id": "48d59ca2",
   "metadata": {},
   "outputs": [
    {
     "data": {
      "text/plain": [
       "[3, 5, 6, 4, 9]"
      ]
     },
     "execution_count": 27,
     "metadata": {},
     "output_type": "execute_result"
    }
   ],
   "source": [
    "# casting strings into integers\n",
    "x = ['3','5','6','4','9']\n",
    "y = [int(i) for i in x]\n",
    "y"
   ]
  },
  {
   "cell_type": "code",
   "execution_count": 34,
   "id": "d3470016",
   "metadata": {},
   "outputs": [
    {
     "name": "stdout",
     "output_type": "stream",
     "text": [
      "['My name is Kashif Maqbool.']\n"
     ]
    }
   ],
   "source": [
    "# strip the list to remove e.g. white spaces from list\n",
    "mystringlist = [\"   My name is Kashif Maqbool.    \"]\n",
    "mystring = [s.strip() for s in mystringlist]\n",
    "print(mystring)"
   ]
  },
  {
   "cell_type": "code",
   "execution_count": 36,
   "id": "b7d7571f",
   "metadata": {},
   "outputs": [
    {
     "data": {
      "text/plain": [
       "[1, 3, 4, 1, 3, 4, 1, 3, 4]"
      ]
     },
     "execution_count": 36,
     "metadata": {},
     "output_type": "execute_result"
    }
   ],
   "source": [
    "# nested list comprehensions\n",
    "\n",
    "list = [[1,3,4],[1,3,4],[1,3,4]]\n",
    "[num for elem in list for num in elem]"
   ]
  },
  {
   "cell_type": "markdown",
   "id": "62aa3119",
   "metadata": {},
   "source": [
    "# 2. Dictionary Comprehensions"
   ]
  },
  {
   "cell_type": "code",
   "execution_count": 35,
   "id": "7f72927b",
   "metadata": {},
   "outputs": [
    {
     "name": "stdout",
     "output_type": "stream",
     "text": [
      "{0: '0', 1: '1', 2: '2', 3: '3', 4: '4'}\n"
     ]
    }
   ],
   "source": [
    "# it will create an integer key and a string value for each element in range.\n",
    "\n",
    "print({i:str(i) for i in range(5)})"
   ]
  },
  {
   "cell_type": "code",
   "execution_count": 36,
   "id": "2e1d2db8",
   "metadata": {},
   "outputs": [
    {
     "name": "stdout",
     "output_type": "stream",
     "text": [
      "{'dog': 1, 'elephant': 2, 'cat': 3, 'horse': 5, 'monkey': 6}\n"
     ]
    }
   ],
   "source": [
    "# this dictionary code prints values first and then print the keys of dictionary\n",
    "\n",
    "dict = {1:'dog', 2:'elephant', 3:'cat',5:'horse', 6:'monkey'}\n",
    "print({value:key for key, value in dict.items()})"
   ]
  },
  {
   "cell_type": "markdown",
   "id": "2c336306",
   "metadata": {},
   "source": [
    "# 3. Set Comprehensions"
   ]
  },
  {
   "cell_type": "code",
   "execution_count": 1,
   "id": "8de76bf7",
   "metadata": {},
   "outputs": [
    {
     "data": {
      "text/plain": [
       "{1, 3, 5, 6, 9, 10}"
      ]
     },
     "execution_count": 1,
     "metadata": {},
     "output_type": "execute_result"
    }
   ],
   "source": [
    "# set comprehensions basically removes duplicates in your list\n",
    "\n",
    "list = [3,3,5,6,9,6,9,10,1]\n",
    "set = set(list)\n",
    "set"
   ]
  },
  {
   "cell_type": "code",
   "execution_count": 38,
   "id": "f6ccffed",
   "metadata": {},
   "outputs": [
    {
     "data": {
      "text/plain": [
       "{1, 3, 5, 6, 9, 10}"
      ]
     },
     "execution_count": 38,
     "metadata": {},
     "output_type": "execute_result"
    }
   ],
   "source": [
    "# this is another way of using set function because we have changed square brackets used for list comprehensions to \n",
    "# curly brackets which uses for dictionary comprehensios \n",
    "\n",
    "list = [3,3,5,6,9,6,9,10,1]\n",
    "set = {x for x in list}\n",
    "set"
   ]
  },
  {
   "cell_type": "code",
   "execution_count": null,
   "id": "ef867013",
   "metadata": {},
   "outputs": [],
   "source": []
  },
  {
   "cell_type": "code",
   "execution_count": null,
   "id": "583bb512",
   "metadata": {},
   "outputs": [],
   "source": []
  }
 ],
 "metadata": {
  "kernelspec": {
   "display_name": "Python 3 (ipykernel)",
   "language": "python",
   "name": "python3"
  },
  "language_info": {
   "codemirror_mode": {
    "name": "ipython",
    "version": 3
   },
   "file_extension": ".py",
   "mimetype": "text/x-python",
   "name": "python",
   "nbconvert_exporter": "python",
   "pygments_lexer": "ipython3",
   "version": "3.12.2"
  }
 },
 "nbformat": 4,
 "nbformat_minor": 5
}
