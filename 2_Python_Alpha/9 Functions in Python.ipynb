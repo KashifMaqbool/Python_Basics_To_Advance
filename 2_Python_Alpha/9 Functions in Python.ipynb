{
 "cells": [
  {
   "cell_type": "markdown",
   "id": "c4ebd95a",
   "metadata": {},
   "source": [
    "# Fucntions"
   ]
  },
  {
   "cell_type": "markdown",
   "id": "cfddfe96",
   "metadata": {},
   "source": [
    "## Creating a function"
   ]
  },
  {
   "cell_type": "code",
   "execution_count": 3,
   "id": "9de64411",
   "metadata": {},
   "outputs": [
    {
     "name": "stdout",
     "output_type": "stream",
     "text": [
      "We are creating a function\n"
     ]
    }
   ],
   "source": [
    "def function():\n",
    "    print(\"We are creating a function\")\n",
    "function()"
   ]
  },
  {
   "cell_type": "code",
   "execution_count": 1,
   "id": "99152357",
   "metadata": {},
   "outputs": [],
   "source": [
    "# Empty function e.g. pass will give null value.\n",
    "def function():\n",
    "    pass\n",
    "function()"
   ]
  },
  {
   "cell_type": "markdown",
   "id": "6f9f233d",
   "metadata": {},
   "source": [
    "## Passing Arguments"
   ]
  },
  {
   "cell_type": "code",
   "execution_count": 3,
   "id": "f33b72cb",
   "metadata": {},
   "outputs": [],
   "source": [
    "# First Example\n",
    "\n",
    "def add(a,b):\n",
    "    return(a+b)"
   ]
  },
  {
   "cell_type": "code",
   "execution_count": 9,
   "id": "a669b0a5",
   "metadata": {},
   "outputs": [
    {
     "data": {
      "text/plain": [
       "8"
      ]
     },
     "execution_count": 9,
     "metadata": {},
     "output_type": "execute_result"
    }
   ],
   "source": [
    "def add(a,b):\n",
    "    return(a+b)\n",
    "add(3,5)"
   ]
  },
  {
   "cell_type": "code",
   "execution_count": 11,
   "id": "2911bc52",
   "metadata": {},
   "outputs": [
    {
     "data": {
      "text/plain": [
       "3"
      ]
     },
     "execution_count": 11,
     "metadata": {},
     "output_type": "execute_result"
    }
   ],
   "source": [
    "def add(a):\n",
    "    return(a)\n",
    "add(3)"
   ]
  },
  {
   "cell_type": "code",
   "execution_count": 13,
   "id": "a34b2656",
   "metadata": {},
   "outputs": [
    {
     "data": {
      "text/plain": [
       "13"
      ]
     },
     "execution_count": 13,
     "metadata": {},
     "output_type": "execute_result"
    }
   ],
   "source": [
    "# second exmaple\n",
    "\n",
    "def add(a,b,c):\n",
    "    return(a+b+c)\n",
    "add(3,5,5)"
   ]
  },
  {
   "cell_type": "code",
   "execution_count": 15,
   "id": "226b3180",
   "metadata": {},
   "outputs": [
    {
     "data": {
      "text/plain": [
       "11"
      ]
     },
     "execution_count": 15,
     "metadata": {},
     "output_type": "execute_result"
    }
   ],
   "source": [
    "def add(a,b,c):\n",
    "    return(a+b+3)\n",
    "add(3,5,'a')"
   ]
  },
  {
   "cell_type": "code",
   "execution_count": 17,
   "id": "0518b894",
   "metadata": {},
   "outputs": [
    {
     "data": {
      "text/plain": [
       "11"
      ]
     },
     "execution_count": 17,
     "metadata": {},
     "output_type": "execute_result"
    }
   ],
   "source": [
    "def add(a,b,c):\n",
    "    return(a+b+3)\n",
    "add(3,5,5)"
   ]
  },
  {
   "cell_type": "code",
   "execution_count": 19,
   "id": "bad088e6",
   "metadata": {},
   "outputs": [
    {
     "data": {
      "text/plain": [
       "14"
      ]
     },
     "execution_count": 19,
     "metadata": {},
     "output_type": "execute_result"
    }
   ],
   "source": [
    "# Third Exmaple\n",
    "\n",
    "def add(a,b,c):\n",
    "    return(a+b+c)\n",
    "add(a=8,b=4,c=2)"
   ]
  },
  {
   "cell_type": "code",
   "execution_count": 23,
   "id": "e5f08293",
   "metadata": {},
   "outputs": [
    {
     "name": "stdout",
     "output_type": "stream",
     "text": [
      "9\n"
     ]
    }
   ],
   "source": [
    "def add(a,b,c):\n",
    "    return(a+b+c)\n",
    "Total = add(a=2,b=3,c=4)\n",
    "print(Total)"
   ]
  },
  {
   "cell_type": "code",
   "execution_count": 27,
   "id": "50851649",
   "metadata": {},
   "outputs": [
    {
     "name": "stdout",
     "output_type": "stream",
     "text": [
      "14\n"
     ]
    }
   ],
   "source": [
    "def add(a,b,c,d):\n",
    "    return(a+b+c+d)\n",
    "Total = add(a=2,b=3,c=4,d=5)\n",
    "print(Total)"
   ]
  },
  {
   "cell_type": "markdown",
   "id": "45102a6b",
   "metadata": {},
   "source": [
    "## Keyword Arguments"
   ]
  },
  {
   "cell_type": "code",
   "execution_count": 29,
   "id": "cf7a4390",
   "metadata": {},
   "outputs": [
    {
     "data": {
      "text/plain": [
       "11"
      ]
     },
     "execution_count": 29,
     "metadata": {},
     "output_type": "execute_result"
    }
   ],
   "source": [
    "def function(a=3, b=4):\n",
    "    return a+b\n",
    "function(5,6)"
   ]
  },
  {
   "cell_type": "markdown",
   "id": "04aaea21",
   "metadata": {},
   "source": [
    "### Default Keyword Argument"
   ]
  },
  {
   "cell_type": "code",
   "execution_count": 31,
   "id": "75d28c8b",
   "metadata": {},
   "outputs": [
    {
     "data": {
      "text/plain": [
       "7"
      ]
     },
     "execution_count": 31,
     "metadata": {},
     "output_type": "execute_result"
    }
   ],
   "source": [
    "def function(a=3, b=4):\n",
    "    return a+b\n",
    "function()"
   ]
  },
  {
   "cell_type": "markdown",
   "id": "9248221f",
   "metadata": {},
   "source": [
    "### Mixed Functions"
   ]
  },
  {
   "cell_type": "code",
   "execution_count": 33,
   "id": "3a1cf0ed",
   "metadata": {},
   "outputs": [
    {
     "data": {
      "text/plain": [
       "16"
      ]
     },
     "execution_count": 33,
     "metadata": {},
     "output_type": "execute_result"
    }
   ],
   "source": [
    "def mixed_function(a,b=4,c=5):\n",
    "    return a+b+c\n",
    "mixed_function(3,6,7)"
   ]
  },
  {
   "cell_type": "code",
   "execution_count": 35,
   "id": "ce31b0c9",
   "metadata": {},
   "outputs": [
    {
     "data": {
      "text/plain": [
       "12"
      ]
     },
     "execution_count": 35,
     "metadata": {},
     "output_type": "execute_result"
    }
   ],
   "source": [
    "def mixed_function(a,b=4,c=5):\n",
    "    return a+b+c\n",
    "mixed_function(3)"
   ]
  },
  {
   "cell_type": "markdown",
   "id": "b0883f59",
   "metadata": {},
   "source": [
    "## Infinite arguments and keyword arguments"
   ]
  },
  {
   "cell_type": "code",
   "execution_count": 41,
   "id": "0dc2752b",
   "metadata": {},
   "outputs": [
    {
     "name": "stdout",
     "output_type": "stream",
     "text": [
      "(1, 2, 3)\n",
      "{'Name': 'Allah', 'Name1': 'Muhammad(P.B.U.H)'}\n"
     ]
    }
   ],
   "source": [
    "# in it *args will convert first numbers into a list and next names into tuples.\n",
    "\n",
    "def many_arguments(*args, **kwargs):\n",
    "    print(args)\n",
    "    print(kwargs)\n",
    "many_arguments(1,2,3,Name = 'Allah' , Name1 = 'Muhammad(P.B.U.H)')"
   ]
  },
  {
   "cell_type": "markdown",
   "id": "d7369aa8",
   "metadata": {},
   "source": [
    "## global scope and local scope of variables"
   ]
  },
  {
   "cell_type": "code",
   "execution_count": 37,
   "id": "096fe92f",
   "metadata": {},
   "outputs": [
    {
     "name": "stdout",
     "output_type": "stream",
     "text": [
      "3\n"
     ]
    },
    {
     "ename": "NameError",
     "evalue": "name 'a' is not defined",
     "output_type": "error",
     "traceback": [
      "\u001b[0;31m---------------------------------------------------------------------------\u001b[0m",
      "\u001b[0;31mNameError\u001b[0m                                 Traceback (most recent call last)",
      "Cell \u001b[0;32mIn[37], line 10\u001b[0m\n\u001b[1;32m      8\u001b[0m     \u001b[38;5;28;01mreturn\u001b[39;00m a\u001b[38;5;241m+\u001b[39mc\n\u001b[1;32m      9\u001b[0m \u001b[38;5;28mprint\u001b[39m(function1())\n\u001b[0;32m---> 10\u001b[0m \u001b[38;5;28mprint\u001b[39m(function2())\n",
      "Cell \u001b[0;32mIn[37], line 8\u001b[0m, in \u001b[0;36mfunction2\u001b[0;34m()\u001b[0m\n\u001b[1;32m      6\u001b[0m \u001b[38;5;28;01mdef\u001b[39;00m \u001b[38;5;21mfunction2\u001b[39m():\n\u001b[1;32m      7\u001b[0m     c\u001b[38;5;241m=\u001b[39m\u001b[38;5;241m3\u001b[39m\n\u001b[0;32m----> 8\u001b[0m     \u001b[38;5;28;01mreturn\u001b[39;00m a\u001b[38;5;241m+\u001b[39mc\n",
      "\u001b[0;31mNameError\u001b[0m: name 'a' is not defined"
     ]
    }
   ],
   "source": [
    "# false because a is present locally in function 1\n",
    "def function1():\n",
    "    a=1\n",
    "    b=2\n",
    "    return a+b\n",
    "def function2():\n",
    "    c=3\n",
    "    return a+c\n",
    "print(function1())\n",
    "print(function2())"
   ]
  },
  {
   "cell_type": "code",
   "execution_count": 39,
   "id": "dfb00522",
   "metadata": {},
   "outputs": [
    {
     "name": "stdout",
     "output_type": "stream",
     "text": [
      "3\n",
      "4\n"
     ]
    }
   ],
   "source": [
    "# True\n",
    "def function1():\n",
    "    global a\n",
    "    a=1\n",
    "    b=2\n",
    "    return a+b\n",
    "def function2():\n",
    "    c=3\n",
    "    return a+c\n",
    "print(function1())\n",
    "print(function2())"
   ]
  }
 ],
 "metadata": {
  "kernelspec": {
   "display_name": "Python 3 (ipykernel)",
   "language": "python",
   "name": "python3"
  },
  "language_info": {
   "codemirror_mode": {
    "name": "ipython",
    "version": 3
   },
   "file_extension": ".py",
   "mimetype": "text/x-python",
   "name": "python",
   "nbconvert_exporter": "python",
   "pygments_lexer": "ipython3",
   "version": "3.12.2"
  }
 },
 "nbformat": 4,
 "nbformat_minor": 5
}
