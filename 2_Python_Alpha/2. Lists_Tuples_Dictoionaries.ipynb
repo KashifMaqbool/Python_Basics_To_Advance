{
 "cells": [
  {
   "cell_type": "markdown",
   "id": "47d1c0d1",
   "metadata": {},
   "source": [
    "# Lists"
   ]
  },
  {
   "cell_type": "code",
   "execution_count": 3,
   "id": "ac10e3c5",
   "metadata": {},
   "outputs": [
    {
     "name": "stdout",
     "output_type": "stream",
     "text": [
      "[]\n"
     ]
    }
   ],
   "source": [
    "# creation of lists\n",
    "listt = []\n",
    "my_list = list()\n",
    "print(my_list)"
   ]
  },
  {
   "cell_type": "code",
   "execution_count": 4,
   "id": "f9b683b2",
   "metadata": {},
   "outputs": [
    {
     "name": "stdout",
     "output_type": "stream",
     "text": [
      "[3, 5] ['a', 'b', 'c'] ['a', 5, '6']\n"
     ]
    }
   ],
   "source": [
    "#list examples\n",
    "list1 = [3,5]\n",
    "list2 = ['a','b','c']\n",
    "list3 = ['a',5,'6']\n",
    "print(list1, list2, list3)"
   ]
  },
  {
   "cell_type": "code",
   "execution_count": 5,
   "id": "36fe2662",
   "metadata": {},
   "outputs": [
    {
     "name": "stdout",
     "output_type": "stream",
     "text": [
      "[[3, 5], ['a', 'b', 'c'], ['a', 5, '6']]\n"
     ]
    }
   ],
   "source": [
    "# nested lists\n",
    "list1 = [3,5]\n",
    "list2 = ['a','b','c']\n",
    "list3 = ['a',5,'6']\n",
    "list4 = [list1,list2,list3]\n",
    "print(list4)"
   ]
  },
  {
   "cell_type": "code",
   "execution_count": 6,
   "id": "a8da92dc",
   "metadata": {},
   "outputs": [
    {
     "data": {
      "text/plain": [
       "[3, 5, 'a', 'b', 'a', 'b', 6, 7]"
      ]
     },
     "execution_count": 6,
     "metadata": {},
     "output_type": "execute_result"
    }
   ],
   "source": [
    "# list extends methods\n",
    "list = [3,5,'a','b']\n",
    "list1 =  ['a', 'b', 6,7]\n",
    "list.extend(list1)\n",
    "list"
   ]
  },
  {
   "cell_type": "code",
   "execution_count": 7,
   "id": "2b53f7db",
   "metadata": {},
   "outputs": [
    {
     "data": {
      "text/plain": [
       "[3, 5, 'a', 'b', 'a', 'b', 6, 7]"
      ]
     },
     "execution_count": 7,
     "metadata": {},
     "output_type": "execute_result"
    }
   ],
   "source": [
    "list = [3,5,'a','b']\n",
    "list1 =  ['a', 'b', 6,7]\n",
    "list2 = list.extend(list1)\n",
    "list"
   ]
  },
  {
   "cell_type": "code",
   "execution_count": 8,
   "id": "1653312b",
   "metadata": {},
   "outputs": [
    {
     "name": "stdout",
     "output_type": "stream",
     "text": [
      "['I am ', 'Kashif Maqbool']\n"
     ]
    }
   ],
   "source": [
    "# addition of lists\n",
    "list = ['I am ']\n",
    "list2 = ['Kashif Maqbool']\n",
    "list3 = list + list2\n",
    "print(list3)"
   ]
  },
  {
   "cell_type": "code",
   "execution_count": 9,
   "id": "4c2fba38",
   "metadata": {},
   "outputs": [
    {
     "data": {
      "text/plain": [
       "[1, 2, 3, 5, 6, 7, 10]"
      ]
     },
     "execution_count": 9,
     "metadata": {},
     "output_type": "execute_result"
    }
   ],
   "source": [
    "# sorting of lists\n",
    "list = [5,6,1,2,3,10,7]\n",
    "list.sort()\n",
    "list"
   ]
  },
  {
   "cell_type": "code",
   "execution_count": 10,
   "id": "2909e419",
   "metadata": {},
   "outputs": [
    {
     "name": "stdout",
     "output_type": "stream",
     "text": [
      "None\n"
     ]
    }
   ],
   "source": [
    "# assigninig sorted list to a vairable.\n",
    "# if we assign a sorted list to a variable then it will return a \"None\" object which is considered as \"Null\" object or value because sort() method\n",
    "# sort the list in place and whenever we assign the sorted list result from its original to new variable it will give the \"None\".\n",
    "\n",
    "list = [5,6,1,2,3,10,7]\n",
    "list2 = list.sort()\n",
    "print(list2)"
   ]
  },
  {
   "cell_type": "code",
   "execution_count": 11,
   "id": "30d45744",
   "metadata": {},
   "outputs": [
    {
     "name": "stdout",
     "output_type": "stream",
     "text": [
      "[5, 6, 1, 2]\n"
     ]
    },
    {
     "data": {
      "text/plain": [
       "[1, 2, 3, 5]"
      ]
     },
     "execution_count": 11,
     "metadata": {},
     "output_type": "execute_result"
    }
   ],
   "source": [
    "# slicing a list\n",
    "\n",
    "list = [5,6,1,2,3,10,7]\n",
    "print(list[0:4])\n",
    "\n",
    "list.sort()\n",
    "list[0:4]"
   ]
  },
  {
   "cell_type": "markdown",
   "id": "e6c373a8",
   "metadata": {},
   "source": [
    "# Tuples"
   ]
  },
  {
   "cell_type": "code",
   "execution_count": 13,
   "id": "76bf9ef1",
   "metadata": {},
   "outputs": [
    {
     "name": "stdout",
     "output_type": "stream",
     "text": [
      "()\n"
     ]
    }
   ],
   "source": [
    "# creation of tuple Or empty tuple\n",
    "m_tuple = tuple()\n",
    "print(m_tuple)"
   ]
  },
  {
   "cell_type": "code",
   "execution_count": 14,
   "id": "f34c40de",
   "metadata": {},
   "outputs": [
    {
     "name": "stdout",
     "output_type": "stream",
     "text": [
      "(3, 5, 6, 7, 8)\n"
     ]
    }
   ],
   "source": [
    "# tuple examples\n",
    "tuple = (3,5,6,7,8)\n",
    "print(tuple)"
   ]
  },
  {
   "cell_type": "code",
   "execution_count": 15,
   "id": "3daadc1e",
   "metadata": {},
   "outputs": [
    {
     "data": {
      "text/plain": [
       "(5, 6)"
      ]
     },
     "execution_count": 15,
     "metadata": {},
     "output_type": "execute_result"
    }
   ],
   "source": [
    "# slicing of tuple\n",
    "tlist = (3,5,6,7,8)\n",
    "tlist[1:3]"
   ]
  },
  {
   "cell_type": "code",
   "execution_count": 29,
   "id": "dc507c6a",
   "metadata": {},
   "outputs": [
    {
     "name": "stdout",
     "output_type": "stream",
     "text": [
      "[3, 5, 2, 1]\n"
     ]
    }
   ],
   "source": [
    "# tuple casting(list into tuple)\n",
    "tuple = ([3,5,2,1])\n",
    "print(tuple)"
   ]
  },
  {
   "cell_type": "code",
   "execution_count": 5,
   "id": "7b734ad6-55ee-4a3b-825d-1342b0ef52e4",
   "metadata": {},
   "outputs": [
    {
     "name": "stdout",
     "output_type": "stream",
     "text": [
      "This is list\n",
      "[3, 5, 2, 1]\n",
      "List converted into tuple\n",
      "(3, 5, 2, 1)\n",
      "Tuple converted into list\n",
      "[3, 5, 2, 1]\n"
     ]
    }
   ],
   "source": [
    "# Creating list\n",
    "my_list = [3, 5, 2, 1]\n",
    "print(\"This is list\")\n",
    "print(my_list)\n",
    "\n",
    "# Convet list into tuple\n",
    "my_tuple = tuple(my_list) \n",
    "print(\"List converted into tuple\")\n",
    "print(my_tuple)\n",
    "\n",
    "# Now convert tuple back into list\n",
    "listt = list(my_tuple)\n",
    "print(\"Tuple converted into list\")\n",
    "print(listt)"
   ]
  },
  {
   "cell_type": "markdown",
   "id": "88b6fa4f",
   "metadata": {},
   "source": [
    "# Dictionaries"
   ]
  },
  {
   "cell_type": "code",
   "execution_count": 9,
   "id": "9a790b2f",
   "metadata": {},
   "outputs": [
    {
     "name": "stdout",
     "output_type": "stream",
     "text": [
      "{}\n"
     ]
    }
   ],
   "source": [
    "# creation of dictionary\n",
    "dict = {}\n",
    "print(dict)\n"
   ]
  },
  {
   "cell_type": "code",
   "execution_count": 11,
   "id": "539d6c36",
   "metadata": {},
   "outputs": [
    {
     "data": {
      "text/plain": [
       "{'one': 1, 'two': 2, 'three': 3}"
      ]
     },
     "execution_count": 11,
     "metadata": {},
     "output_type": "execute_result"
    }
   ],
   "source": [
    "# dictionary example\n",
    "dict = {'one': 1,'two':2, 'three':3}\n",
    "dict"
   ]
  },
  {
   "cell_type": "code",
   "execution_count": 13,
   "id": "16a17406",
   "metadata": {},
   "outputs": [
    {
     "data": {
      "text/plain": [
       "1"
      ]
     },
     "execution_count": 13,
     "metadata": {},
     "output_type": "execute_result"
    }
   ],
   "source": [
    "# accessing dictionary elements\n",
    "dict = {'one': 1,'two':2, 'three':3}\n",
    "dict['one']"
   ]
  },
  {
   "cell_type": "code",
   "execution_count": 15,
   "id": "3318da48",
   "metadata": {},
   "outputs": [
    {
     "data": {
      "text/plain": [
       "dict_keys(['one', 'two', 'three'])"
      ]
     },
     "execution_count": 15,
     "metadata": {},
     "output_type": "execute_result"
    }
   ],
   "source": [
    "# checking all keys in dictionarie\n",
    "dict = {'one': 1,'two':2, 'three':3}\n",
    "dict.keys()"
   ]
  },
  {
   "cell_type": "code",
   "execution_count": 17,
   "id": "ed9dbead",
   "metadata": {},
   "outputs": [
    {
     "data": {
      "text/plain": [
       "dict_values([1, 2, 3])"
      ]
     },
     "execution_count": 17,
     "metadata": {},
     "output_type": "execute_result"
    }
   ],
   "source": [
    "# checking all values of keys in a dictionarie\n",
    "dict = {'one': 1,'two':2, 'three':3}\n",
    "dict.values()"
   ]
  },
  {
   "cell_type": "code",
   "execution_count": 19,
   "id": "3899913a",
   "metadata": {},
   "outputs": [
    {
     "data": {
      "text/plain": [
       "{'one': 1, 'two': 2, 'three': 2}"
      ]
     },
     "execution_count": 19,
     "metadata": {},
     "output_type": "execute_result"
    }
   ],
   "source": [
    "# duplicate keys and values will not be printed and last same value will be printed\n",
    "dict = {'one': 1,\n",
    "        'two':2, \n",
    "        'three':3,\n",
    "        'three':2\n",
    "       }\n",
    "dict"
   ]
  },
  {
   "cell_type": "code",
   "execution_count": 21,
   "id": "3f626dce",
   "metadata": {},
   "outputs": [
    {
     "data": {
      "text/plain": [
       "2"
      ]
     },
     "execution_count": 21,
     "metadata": {},
     "output_type": "execute_result"
    }
   ],
   "source": [
    "dict = {'one': 1,\n",
    "        'two':2, \n",
    "        'three':3,\n",
    "        'three':2\n",
    "       }\n",
    "dict['three']"
   ]
  },
  {
   "cell_type": "code",
   "execution_count": 25,
   "id": "5be2406a",
   "metadata": {},
   "outputs": [
    {
     "name": "stdout",
     "output_type": "stream",
     "text": [
      "3\n"
     ]
    }
   ],
   "source": [
    "# dictionary length\n",
    "dict = {'one': 1,\n",
    "        'two':2, \n",
    "        'three':3,\n",
    "       }\n",
    "print(len(dict))"
   ]
  },
  {
   "cell_type": "code",
   "execution_count": 27,
   "id": "c5449e66",
   "metadata": {},
   "outputs": [
    {
     "name": "stdout",
     "output_type": "stream",
     "text": [
      "3\n",
      "<class 'dict'>\n"
     ]
    }
   ],
   "source": [
    "# print data type of an dictionary\n",
    "dict = {'one': 1,\n",
    "        'two':2, \n",
    "        'three':3,\n",
    "       }\n",
    "print(len(dict))\n",
    "print(type(dict))"
   ]
  },
  {
   "cell_type": "code",
   "execution_count": 31,
   "id": "d79d3103",
   "metadata": {},
   "outputs": [
    {
     "name": "stdout",
     "output_type": "stream",
     "text": [
      "True\n"
     ]
    }
   ],
   "source": [
    "# you can define a dictionary as true\n",
    "dict = {'one': 1,\n",
    "        'two':2, \n",
    "        'three':3,\n",
    "        'three':2\n",
    "       }\n",
    "True"
   ]
  },
  {
   "cell_type": "code",
   "execution_count": 33,
   "id": "373361bb",
   "metadata": {},
   "outputs": [
    {
     "data": {
      "text/plain": [
       "False"
      ]
     },
     "execution_count": 33,
     "metadata": {},
     "output_type": "execute_result"
    }
   ],
   "source": [
    "# you can define a dictionarie as  false\n",
    "dict = {'one': 1,\n",
    "        'two':2, \n",
    "        'three':3,\n",
    "        'three':2\n",
    "       }\n",
    "False"
   ]
  },
  {
   "cell_type": "code",
   "execution_count": 35,
   "id": "615af94a",
   "metadata": {},
   "outputs": [
    {
     "name": "stdout",
     "output_type": "stream",
     "text": [
      "True\n"
     ]
    }
   ],
   "source": [
    "dict = {'one': 1,\n",
    "        'two':2, \n",
    "        'three':3,\n",
    "        'three':2\n",
    "       }\n",
    "\n",
    "print(bool(dict))"
   ]
  }
 ],
 "metadata": {
  "kernelspec": {
   "display_name": "Python 3 (ipykernel)",
   "language": "python",
   "name": "python3"
  },
  "language_info": {
   "codemirror_mode": {
    "name": "ipython",
    "version": 3
   },
   "file_extension": ".py",
   "mimetype": "text/x-python",
   "name": "python",
   "nbconvert_exporter": "python",
   "pygments_lexer": "ipython3",
   "version": "3.12.2"
  }
 },
 "nbformat": 4,
 "nbformat_minor": 5
}
