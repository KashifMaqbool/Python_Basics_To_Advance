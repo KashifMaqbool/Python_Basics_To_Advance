{
 "cells": [
  {
   "cell_type": "markdown",
   "id": "933bdf1e",
   "metadata": {},
   "source": [
    "# Strings"
   ]
  },
  {
   "cell_type": "markdown",
   "id": "24be5e80",
   "metadata": {},
   "source": [
    "## 1. creation of  Strings"
   ]
  },
  {
   "cell_type": "code",
   "execution_count": 2,
   "id": "70eddf49",
   "metadata": {},
   "outputs": [
    {
     "name": "stdout",
     "output_type": "stream",
     "text": [
      "I am a DevOps Engineer\n"
     ]
    }
   ],
   "source": [
    "single_String = 'I am a DevOps Engineer'\n",
    "print(single_String)"
   ]
  },
  {
   "cell_type": "code",
   "execution_count": 4,
   "id": "699b54ea",
   "metadata": {},
   "outputs": [
    {
     "name": "stdout",
     "output_type": "stream",
     "text": [
      "There is only one greatest personality in this world and \"Allah\" is the greatest.\n"
     ]
    }
   ],
   "source": [
    "# Single quotes\n",
    "string = 'There is only one greatest personality in this world and \"Allah\" is the greatest.'\n",
    "print(string)"
   ]
  },
  {
   "cell_type": "code",
   "execution_count": 6,
   "id": "61225166",
   "metadata": {},
   "outputs": [
    {
     "name": "stdout",
     "output_type": "stream",
     "text": [
      "I am a 'DevOps' Engineer\n"
     ]
    }
   ],
   "source": [
    "# Double quotes\n",
    "double_String = \"I am a 'DevOps' Engineer\"\n",
    "print(double_String)"
   ]
  },
  {
   "cell_type": "code",
   "execution_count": 8,
   "id": "fcb7cfe9",
   "metadata": {},
   "outputs": [
    {
     "name": "stdout",
     "output_type": "stream",
     "text": [
      "Allaha is the Only Greatest Power.\n"
     ]
    }
   ],
   "source": [
    "# Tripple quotes\n",
    "tripple_string = \"\"\"Allaha is the Only Greatest Power.\"\"\"\n",
    "print(tripple_string)"
   ]
  },
  {
   "cell_type": "code",
   "execution_count": 10,
   "id": "26fd6a5f",
   "metadata": {},
   "outputs": [
    {
     "name": "stdout",
     "output_type": "stream",
     "text": [
      "I told my friend that,\"Momin is the person for which everything is Allah and its Rasool\"\n"
     ]
    }
   ],
   "source": [
    "# Quotes problem:\n",
    "# The string quotes must not be equal to string inside quotes.e.g. if quotes of inside string are of two then the quotes outside\n",
    "# the string must be one or three as given in the below example.\n",
    "\n",
    "string = '''I told my friend that,\"Momin is the person for which everything is Allah and its Rasool\"'''\n",
    "print(string)"
   ]
  },
  {
   "cell_type": "code",
   "execution_count": 12,
   "id": "c46c0f83",
   "metadata": {},
   "outputs": [
    {
     "name": "stdout",
     "output_type": "stream",
     "text": [
      "I told my friend that,'Momin is the person for which everything is Allah and its Rasool'\n"
     ]
    }
   ],
   "source": [
    "\n",
    "string = \"I told my friend that,'Momin is the person for which everything is Allah and its Rasool'\"\n",
    "print(string)"
   ]
  },
  {
   "cell_type": "markdown",
   "id": "3b79e852",
   "metadata": {},
   "source": [
    "### Casting: "
   ]
  },
  {
   "cell_type": "code",
   "execution_count": 14,
   "id": "9e2c5513",
   "metadata": {},
   "outputs": [
    {
     "name": "stdout",
     "output_type": "stream",
     "text": [
      "123\n"
     ]
    }
   ],
   "source": [
    "# you can change a number into a string.\n",
    "integer = str(123)\n",
    "print(integer)"
   ]
  },
  {
   "cell_type": "code",
   "execution_count": 16,
   "id": "7b3255d1",
   "metadata": {},
   "outputs": [
    {
     "ename": "ValueError",
     "evalue": "invalid literal for int() with base 10: 'ABC'",
     "output_type": "error",
     "traceback": [
      "\u001b[0;31m---------------------------------------------------------------------------\u001b[0m",
      "\u001b[0;31mValueError\u001b[0m                                Traceback (most recent call last)",
      "Cell \u001b[0;32mIn[16], line 2\u001b[0m\n\u001b[1;32m      1\u001b[0m \u001b[38;5;66;03m# but you cannot convert a string into a number always.below example will throw an example.\u001b[39;00m\n\u001b[0;32m----> 2\u001b[0m string \u001b[38;5;241m=\u001b[39m \u001b[38;5;28mint\u001b[39m(\u001b[38;5;124m'\u001b[39m\u001b[38;5;124mABC\u001b[39m\u001b[38;5;124m'\u001b[39m)\n",
      "\u001b[0;31mValueError\u001b[0m: invalid literal for int() with base 10: 'ABC'"
     ]
    }
   ],
   "source": [
    "# but you cannot convert a string into a number always.below example will throw an example.\n",
    "string = int('ABC')"
   ]
  },
  {
   "cell_type": "code",
   "execution_count": 20,
   "id": "19c24ce8",
   "metadata": {},
   "outputs": [
    {
     "name": "stdout",
     "output_type": "stream",
     "text": [
      "1345\n"
     ]
    }
   ],
   "source": [
    "# but you can change a numeric string into a number e.g.\n",
    "string = int('1345')\n",
    "print(string)"
   ]
  },
  {
   "cell_type": "code",
   "execution_count": 22,
   "id": "caf364d6",
   "metadata": {},
   "outputs": [
    {
     "ename": "TypeError",
     "evalue": "'str' object does not support item assignment",
     "output_type": "error",
     "traceback": [
      "\u001b[0;31m---------------------------------------------------------------------------\u001b[0m",
      "\u001b[0;31mTypeError\u001b[0m                                 Traceback (most recent call last)",
      "Cell \u001b[0;32mIn[22], line 4\u001b[0m\n\u001b[1;32m      1\u001b[0m \u001b[38;5;66;03m# The below example will throw and error because strings are immutable in python. the reason is that once you have created a \u001b[39;00m\n\u001b[1;32m      2\u001b[0m \u001b[38;5;66;03m# string then you cannot change its value.\u001b[39;00m\n\u001b[1;32m      3\u001b[0m string \u001b[38;5;241m=\u001b[39m \u001b[38;5;124m'\u001b[39m\u001b[38;5;124mABC\u001b[39m\u001b[38;5;124m'\u001b[39m\n\u001b[0;32m----> 4\u001b[0m string[\u001b[38;5;241m1\u001b[39m]\u001b[38;5;241m=\u001b[39m \u001b[38;5;124m'\u001b[39m\u001b[38;5;124md\u001b[39m\u001b[38;5;124m'\u001b[39m\n\u001b[1;32m      5\u001b[0m \u001b[38;5;28mprint\u001b[39m(string)\n",
      "\u001b[0;31mTypeError\u001b[0m: 'str' object does not support item assignment"
     ]
    }
   ],
   "source": [
    "# The below example will throw and error because strings are immutable in python. the reason is that once you have created a \n",
    "# string then you cannot change its value.\n",
    "string = 'ABC'\n",
    "string[1]= 'd'\n",
    "print(string)"
   ]
  },
  {
   "cell_type": "markdown",
   "id": "db4a2ca4",
   "metadata": {},
   "source": [
    "## 2. String concatenation"
   ]
  },
  {
   "cell_type": "code",
   "execution_count": 24,
   "id": "d4b6bb86",
   "metadata": {},
   "outputs": [
    {
     "name": "stdout",
     "output_type": "stream",
     "text": [
      "My name is Kashif Maqbool\n"
     ]
    }
   ],
   "source": [
    "string1 = 'My name is '\n",
    "string2 = 'Kashif Maqbool'\n",
    "string3 = string1 + string2\n",
    "print(string3)"
   ]
  },
  {
   "cell_type": "markdown",
   "id": "32fd3fff",
   "metadata": {},
   "source": [
    "## 3. String Methods"
   ]
  },
  {
   "cell_type": "code",
   "execution_count": 26,
   "id": "4f8f7986",
   "metadata": {},
   "outputs": [
    {
     "data": {
      "text/plain": [
       "'kashif maqbool'"
      ]
     },
     "execution_count": 26,
     "metadata": {},
     "output_type": "execute_result"
    }
   ],
   "source": [
    "# Lower Case\n",
    "string2 = 'Kashif Maqbool'\n",
    "string2.lower()"
   ]
  },
  {
   "cell_type": "code",
   "execution_count": 28,
   "id": "d89eda66",
   "metadata": {},
   "outputs": [
    {
     "data": {
      "text/plain": [
       "'KASHIF MAQBOOL'"
      ]
     },
     "execution_count": 28,
     "metadata": {},
     "output_type": "execute_result"
    }
   ],
   "source": [
    "# Upper Case\n",
    "string2 = 'Kashif Maqbool'\n",
    "string2.upper()"
   ]
  },
  {
   "cell_type": "markdown",
   "id": "b8019cc3",
   "metadata": {},
   "source": [
    "### all strings commands\n"
   ]
  },
  {
   "cell_type": "code",
   "execution_count": 30,
   "id": "c79ae92f",
   "metadata": {},
   "outputs": [
    {
     "data": {
      "text/plain": [
       "['__add__',\n",
       " '__class__',\n",
       " '__contains__',\n",
       " '__delattr__',\n",
       " '__dir__',\n",
       " '__doc__',\n",
       " '__eq__',\n",
       " '__format__',\n",
       " '__ge__',\n",
       " '__getattribute__',\n",
       " '__getitem__',\n",
       " '__getnewargs__',\n",
       " '__getstate__',\n",
       " '__gt__',\n",
       " '__hash__',\n",
       " '__init__',\n",
       " '__init_subclass__',\n",
       " '__iter__',\n",
       " '__le__',\n",
       " '__len__',\n",
       " '__lt__',\n",
       " '__mod__',\n",
       " '__mul__',\n",
       " '__ne__',\n",
       " '__new__',\n",
       " '__reduce__',\n",
       " '__reduce_ex__',\n",
       " '__repr__',\n",
       " '__rmod__',\n",
       " '__rmul__',\n",
       " '__setattr__',\n",
       " '__sizeof__',\n",
       " '__str__',\n",
       " '__subclasshook__',\n",
       " 'capitalize',\n",
       " 'casefold',\n",
       " 'center',\n",
       " 'count',\n",
       " 'encode',\n",
       " 'endswith',\n",
       " 'expandtabs',\n",
       " 'find',\n",
       " 'format',\n",
       " 'format_map',\n",
       " 'index',\n",
       " 'isalnum',\n",
       " 'isalpha',\n",
       " 'isascii',\n",
       " 'isdecimal',\n",
       " 'isdigit',\n",
       " 'isidentifier',\n",
       " 'islower',\n",
       " 'isnumeric',\n",
       " 'isprintable',\n",
       " 'isspace',\n",
       " 'istitle',\n",
       " 'isupper',\n",
       " 'join',\n",
       " 'ljust',\n",
       " 'lower',\n",
       " 'lstrip',\n",
       " 'maketrans',\n",
       " 'partition',\n",
       " 'removeprefix',\n",
       " 'removesuffix',\n",
       " 'replace',\n",
       " 'rfind',\n",
       " 'rindex',\n",
       " 'rjust',\n",
       " 'rpartition',\n",
       " 'rsplit',\n",
       " 'rstrip',\n",
       " 'split',\n",
       " 'splitlines',\n",
       " 'startswith',\n",
       " 'strip',\n",
       " 'swapcase',\n",
       " 'title',\n",
       " 'translate',\n",
       " 'upper',\n",
       " 'zfill']"
      ]
     },
     "execution_count": 30,
     "metadata": {},
     "output_type": "execute_result"
    }
   ],
   "source": [
    "# This command will help to find all string commands.\n",
    "dir(string)"
   ]
  },
  {
   "cell_type": "markdown",
   "id": "d2eb8c1a",
   "metadata": {},
   "source": [
    "### Asking for help in python"
   ]
  },
  {
   "cell_type": "code",
   "execution_count": 32,
   "id": "1c480b82",
   "metadata": {},
   "outputs": [
    {
     "name": "stdout",
     "output_type": "stream",
     "text": [
      "Help on built-in function upper:\n",
      "\n",
      "upper() method of builtins.str instance\n",
      "    Return a copy of the string converted to uppercase.\n",
      "\n"
     ]
    }
   ],
   "source": [
    "# simple find any command by using dir(string) mehod and to search about the command use help() method with command inside its \n",
    "# brackets.\n",
    "\n",
    "help(string.upper)"
   ]
  },
  {
   "cell_type": "code",
   "execution_count": 34,
   "id": "effb416d",
   "metadata": {},
   "outputs": [
    {
     "name": "stdout",
     "output_type": "stream",
     "text": [
      "Help on built-in function lower:\n",
      "\n",
      "lower() method of builtins.str instance\n",
      "    Return a copy of the string converted to lowercase.\n",
      "\n"
     ]
    }
   ],
   "source": [
    "help(string.lower)"
   ]
  },
  {
   "cell_type": "code",
   "execution_count": 36,
   "id": "fa08ae35",
   "metadata": {},
   "outputs": [
    {
     "name": "stdout",
     "output_type": "stream",
     "text": [
      "Help on built-in function translate:\n",
      "\n",
      "translate(table, /) method of builtins.str instance\n",
      "    Replace each character in the string using the given translation table.\n",
      "\n",
      "      table\n",
      "        Translation table, which must be a mapping of Unicode ordinals to\n",
      "        Unicode ordinals, strings, or None.\n",
      "\n",
      "    The table must implement lookup/indexing via __getitem__, for instance a\n",
      "    dictionary or list.  If this operation raises LookupError, the character is\n",
      "    left untouched.  Characters mapped to None are deleted.\n",
      "\n"
     ]
    }
   ],
   "source": [
    "help(string.translate)"
   ]
  },
  {
   "cell_type": "code",
   "execution_count": 40,
   "id": "bc6c1886-db0b-47b3-bdaf-d5d5a0c92bfc",
   "metadata": {},
   "outputs": [
    {
     "name": "stdout",
     "output_type": "stream",
     "text": [
      "123 312\n"
     ]
    }
   ],
   "source": [
    "# translate()\n",
    "# Purpose: Replaces characters in a string based on a mapping table.\n",
    "# It works with str.maketrans() to define the mapping.\n",
    "\n",
    "table = str.maketrans(\"abc\", \"123\")\n",
    "text = \"abc cab\"\n",
    "translation = text.translate(table)\n",
    "print(translation)"
   ]
  },
  {
   "cell_type": "code",
   "execution_count": 38,
   "id": "940bab33",
   "metadata": {},
   "outputs": [
    {
     "name": "stdout",
     "output_type": "stream",
     "text": [
      "Help on built-in function split:\n",
      "\n",
      "split(sep=None, maxsplit=-1) method of builtins.str instance\n",
      "    Return a list of the substrings in the string, using sep as the separator string.\n",
      "\n",
      "      sep\n",
      "        The separator used to split the string.\n",
      "\n",
      "        When set to None (the default value), will split on any whitespace\n",
      "        character (including \\n \\r \\t \\f and spaces) and will discard\n",
      "        empty strings from the result.\n",
      "      maxsplit\n",
      "        Maximum number of splits.\n",
      "        -1 (the default value) means no limit.\n",
      "\n",
      "    Splitting starts at the front of the string and works to the end.\n",
      "\n",
      "    Note, str.split() is mainly useful for data that has been intentionally\n",
      "    delimited.  With natural text that includes punctuation, consider using\n",
      "    the regular expression module.\n",
      "\n"
     ]
    }
   ],
   "source": [
    "help(string.split)"
   ]
  },
  {
   "cell_type": "code",
   "execution_count": 48,
   "id": "7f934d79-d13f-49bf-a7ad-eb193ed04f4d",
   "metadata": {},
   "outputs": [
    {
     "name": "stdout",
     "output_type": "stream",
     "text": [
      "['I', 'am', 'Kashif', 'Maqbool']\n"
     ]
    }
   ],
   "source": [
    "# split()\n",
    "# Purpose: Splits a string into a list based on a delimiter (default: space).\n",
    "# Returns a list of substrings.\n",
    "\n",
    "# splitting example\n",
    "string = \"I am Kashif Maqbool\"\n",
    "result = str.split(string)\n",
    "print(result)"
   ]
  },
  {
   "cell_type": "markdown",
   "id": "f332a84f",
   "metadata": {},
   "source": [
    "## 4. String Slicing"
   ]
  },
  {
   "cell_type": "code",
   "execution_count": 54,
   "id": "6a4109b8",
   "metadata": {},
   "outputs": [
    {
     "data": {
      "text/plain": [
       "'Pakistan'"
      ]
     },
     "execution_count": 54,
     "metadata": {},
     "output_type": "execute_result"
    }
   ],
   "source": [
    "string = 'Pakistan is my country.'\n",
    "string[0:8]"
   ]
  },
  {
   "cell_type": "code",
   "execution_count": 56,
   "id": "a07134a1",
   "metadata": {},
   "outputs": [
    {
     "data": {
      "text/plain": [
       "'Pakistan is my coun'"
      ]
     },
     "execution_count": 56,
     "metadata": {},
     "output_type": "execute_result"
    }
   ],
   "source": [
    "# Reverse Slicing\n",
    "string = 'Pakistan is my country.'\n",
    "string[0:-4]"
   ]
  },
  {
   "cell_type": "code",
   "execution_count": 58,
   "id": "6cd17fd3",
   "metadata": {},
   "outputs": [
    {
     "data": {
      "text/plain": [
       "'Pakistan is my belove'"
      ]
     },
     "execution_count": 58,
     "metadata": {},
     "output_type": "execute_result"
    }
   ],
   "source": [
    "# Reverse Slicing\n",
    "string = 'Pakistan is my beloved country.'\n",
    "string[0:-10]"
   ]
  },
  {
   "cell_type": "code",
   "execution_count": 60,
   "id": "ccea00d9",
   "metadata": {},
   "outputs": [
    {
     "data": {
      "text/plain": [
       "'t'"
      ]
     },
     "execution_count": 60,
     "metadata": {},
     "output_type": "execute_result"
    }
   ],
   "source": [
    "# Slicing down to a single character.\n",
    "string = 'Pakistan is my beloved country.'\n",
    "string[5]\n"
   ]
  },
  {
   "cell_type": "code",
   "execution_count": 62,
   "id": "b448cc95",
   "metadata": {},
   "outputs": [
    {
     "name": "stdout",
     "output_type": "stream",
     "text": [
      "t\n"
     ]
    }
   ],
   "source": [
    "# Slicing down to a single character.\n",
    "string = 'Pakistan is my beloved country.'\n",
    "print(string[5])"
   ]
  },
  {
   "cell_type": "markdown",
   "id": "cb80c0bd",
   "metadata": {},
   "source": [
    "## 5. String Substitutions"
   ]
  },
  {
   "cell_type": "markdown",
   "id": "c1c33117",
   "metadata": {},
   "source": [
    "### Old ways of substitution"
   ]
  },
  {
   "cell_type": "code",
   "execution_count": 68,
   "id": "db0582c1",
   "metadata": {},
   "outputs": [
    {
     "name": "stdout",
     "output_type": "stream",
     "text": [
      "pakistan is my Country\n"
     ]
    }
   ],
   "source": [
    "\n",
    "# method 1\n",
    "string = \"pakistan is my %s\"%\"Country\"\n",
    "print(string)   # OR you can simply type string name to print that string"
   ]
  },
  {
   "cell_type": "code",
   "execution_count": 70,
   "id": "644f98a9",
   "metadata": {},
   "outputs": [
    {
     "data": {
      "text/plain": [
       "'pakistan is my country'"
      ]
     },
     "execution_count": 70,
     "metadata": {},
     "output_type": "execute_result"
    }
   ],
   "source": [
    "# method 2\n",
    "var = \"country\"\n",
    "string = \"pakistan is my %s\" % var\n",
    "string"
   ]
  },
  {
   "cell_type": "code",
   "execution_count": 72,
   "id": "0d89db61",
   "metadata": {},
   "outputs": [
    {
     "data": {
      "text/plain": [
       "'pakistan is my country'"
      ]
     },
     "execution_count": 72,
     "metadata": {},
     "output_type": "execute_result"
    }
   ],
   "source": [
    "# method 3\n",
    "var = \"country\"\n",
    "string = \"pakistan %s my %s\" %('is',var)\n",
    "string"
   ]
  },
  {
   "cell_type": "code",
   "execution_count": 74,
   "id": "33798b56",
   "metadata": {},
   "outputs": [
    {
     "data": {
      "text/plain": [
       "'A + B = C'"
      ]
     },
     "execution_count": 74,
     "metadata": {},
     "output_type": "execute_result"
    }
   ],
   "source": [
    "# we use 's' to denote string\n",
    "string = \"%s + %s = %s\" %('A','B','C')\n",
    "string"
   ]
  },
  {
   "cell_type": "code",
   "execution_count": 87,
   "id": "5d042f24",
   "metadata": {},
   "outputs": [
    {
     "name": "stdout",
     "output_type": "stream",
     "text": [
      "2 + 3 = 5\n",
      "2 + 3 = 5\n"
     ]
    }
   ],
   "source": [
    "# substitutions with integers\n",
    "# we use 'i' to denote integer\n",
    "string = \"%i + %i = %i\" %(2,3,5)          \n",
    "print(string)\n",
    "\n",
    "# but we can also use \"%s\" for the integers\n",
    "stringg = \"%s + %s = %s\" %(3,3,6)\n",
    "print(string)"
   ]
  },
  {
   "cell_type": "code",
   "execution_count": 89,
   "id": "e47c73bc",
   "metadata": {},
   "outputs": [
    {
     "data": {
      "text/plain": [
       "'3.100000'"
      ]
     },
     "execution_count": 89,
     "metadata": {},
     "output_type": "execute_result"
    }
   ],
   "source": [
    "# substitutions with floats\n",
    "# we use 'f' to denote floats\n",
    "string = \"%f\" % (3.1)\n",
    "string\n"
   ]
  },
  {
   "cell_type": "code",
   "execution_count": 91,
   "id": "eb00eee0",
   "metadata": {},
   "outputs": [
    {
     "data": {
      "text/plain": [
       "'3.10'"
      ]
     },
     "execution_count": 91,
     "metadata": {},
     "output_type": "execute_result"
    }
   ],
   "source": [
    "string = \"%.2f\" % (3.1)\n",
    "string"
   ]
  },
  {
   "cell_type": "markdown",
   "id": "7050f814",
   "metadata": {},
   "source": [
    "### New String formatting methodologies"
   ]
  },
  {
   "cell_type": "code",
   "execution_count": 2,
   "id": "9ab46c1f",
   "metadata": {},
   "outputs": [
    {
     "name": "stdout",
     "output_type": "stream",
     "text": [
      "My name is Kashif Maqbool \n"
     ]
    }
   ],
   "source": [
    "print(\"My name is %(name)s \" %{'name':'Kashif Maqbool'})"
   ]
  },
  {
   "cell_type": "code",
   "execution_count": 93,
   "id": "f432ddd7",
   "metadata": {},
   "outputs": [
    {
     "name": "stdout",
     "output_type": "stream",
     "text": [
      "My name is Kashif Maqbool \n"
     ]
    }
   ],
   "source": [
    "print(\"My %(name)s is %(value)s \" %{'name':'name','value':'Kashif Maqbool'})"
   ]
  },
  {
   "cell_type": "code",
   "execution_count": 95,
   "id": "de9a9f38",
   "metadata": {},
   "outputs": [
    {
     "name": "stdout",
     "output_type": "stream",
     "text": [
      "I have told you many times that,'My name is Kashif Maqbool Kashif Maqbool Kashif Maqbool '\n"
     ]
    }
   ],
   "source": [
    "print(\"I have told you many times that,'My name is %(name)s %(name)s %(name)s '\" % {'name':'Kashif Maqbool'})"
   ]
  },
  {
   "cell_type": "code",
   "execution_count": 97,
   "id": "fd3c56a1",
   "metadata": {},
   "outputs": [
    {
     "name": "stdout",
     "output_type": "stream",
     "text": [
      "1 + 2 = 3 \n"
     ]
    }
   ],
   "source": [
    "print(\"%(a)i + %(b)i = %(c)i \" %{'a':1, 'b':2, 'c':3})"
   ]
  },
  {
   "cell_type": "code",
   "execution_count": 99,
   "id": "04a94424",
   "metadata": {},
   "outputs": [
    {
     "data": {
      "text/plain": [
       "'I am as cool as Water,Ice,Cucumber'"
      ]
     },
     "execution_count": 99,
     "metadata": {},
     "output_type": "execute_result"
    }
   ],
   "source": [
    "# Role of .format()\n",
    "# The .format() method in Python replaces the placeholders {} in a string with the values you pass to it.\n",
    "# The numbers {0}, {1}, {2} are positional indexes that refer to the arguments inside .format().\n",
    "\n",
    "\"I am as cool as {0},{1},{2}\".format(\"Water\",\"Ice\",\"Cucumber\")\n"
   ]
  },
  {
   "cell_type": "code",
   "execution_count": 117,
   "id": "51dc264c-95f7-4e41-b519-79e013780b36",
   "metadata": {},
   "outputs": [],
   "source": [
    "# The asterisks (**) in Python are called the unpacking operator when used in this way.\n",
    "# Here, xy is a dictionary with keys \"x\" and \"y\".\n",
    "# The **xy unpacks the dictionary into keyword arguments for the .format() method.\n",
    "# So x=10 and y=20 are passed to format() automatically.\n",
    "\n",
    "# **Quick Recap of * vs. ****\n",
    "# * → unpacks iterables like lists/tuples.\n",
    "# ** → unpacks dictionaries into keyword arguments."
   ]
  },
  {
   "cell_type": "code",
   "execution_count": 101,
   "id": "91164053",
   "metadata": {},
   "outputs": [
    {
     "data": {
      "text/plain": [
       "'I said that x=10 and y=20'"
      ]
     },
     "execution_count": 101,
     "metadata": {},
     "output_type": "execute_result"
    }
   ],
   "source": [
    "xy = {\"x\":10, \"y\":20}\n",
    "\"I said that x={x} and y={y}\".format(**xy)"
   ]
  },
  {
   "cell_type": "code",
   "execution_count": 113,
   "id": "24aea30b",
   "metadata": {},
   "outputs": [
    {
     "data": {
      "text/plain": [
       "'I said that x=10 and y=20'"
      ]
     },
     "execution_count": 113,
     "metadata": {},
     "output_type": "execute_result"
    }
   ],
   "source": [
    "\n",
    "\"I said that x={x} and y={y}\".format(x=10, y=20)\n"
   ]
  },
  {
   "cell_type": "code",
   "execution_count": 103,
   "id": "0a7e5d22",
   "metadata": {},
   "outputs": [
    {
     "data": {
      "text/plain": [
       "'I am as cool as ice, cucumber, good man'"
      ]
     },
     "execution_count": 103,
     "metadata": {},
     "output_type": "execute_result"
    }
   ],
   "source": [
    "\"I am as cool as {1}, {2}, {3}\".format(\"water\",\"ice\",\"cucumber\",\"good man\")"
   ]
  },
  {
   "cell_type": "code",
   "execution_count": 137,
   "id": "33f0d9fd-78e6-463e-89cd-c453e6f19618",
   "metadata": {},
   "outputs": [
    {
     "name": "stdout",
     "output_type": "stream",
     "text": [
      "My name is Kashif Maqbool \n"
     ]
    }
   ],
   "source": [
    "# Practice code\n",
    "print(\"My name is %(name)s \" %{'name':'Kashif Maqbool'})"
   ]
  },
  {
   "cell_type": "code",
   "execution_count": 149,
   "id": "4fef2271-0ef2-453d-96f6-a56968b46c1c",
   "metadata": {},
   "outputs": [
    {
     "name": "stdout",
     "output_type": "stream",
     "text": [
      "I am Rasool Allah (S.A.W) ka Umti, and Mujahid,Insan\n"
     ]
    }
   ],
   "source": [
    "# Practice code\n",
    "print(\"I am {1},{2},{3}\".format(\"Allah ka Banda\",\"Rasool Allah (S.A.W) ka Umti\", \" and Mujahid\",\"Insan\"))"
   ]
  }
 ],
 "metadata": {
  "kernelspec": {
   "display_name": "Python 3 (ipykernel)",
   "language": "python",
   "name": "python3"
  },
  "language_info": {
   "codemirror_mode": {
    "name": "ipython",
    "version": 3
   },
   "file_extension": ".py",
   "mimetype": "text/x-python",
   "name": "python",
   "nbconvert_exporter": "python",
   "pygments_lexer": "ipython3",
   "version": "3.12.2"
  }
 },
 "nbformat": 4,
 "nbformat_minor": 5
}
