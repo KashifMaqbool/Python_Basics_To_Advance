{
 "cells": [
  {
   "cell_type": "markdown",
   "id": "7f6a906c",
   "metadata": {},
   "source": [
    "# How to Write Beautiful Python Code With PEP 8(python enhancement proposal"
   ]
  },
  {
   "cell_type": "markdown",
   "id": "b1a0810e",
   "metadata": {},
   "source": [
    "## link is given as : realpython.com/python-pep8"
   ]
  },
  {
   "cell_type": "markdown",
   "id": "c4d0c036",
   "metadata": {},
   "source": [
    "## 1. Naming conventions"
   ]
  },
  {
   "cell_type": "markdown",
   "id": "ace3a3c1-094d-421b-af83-8922fe0ea312",
   "metadata": {},
   "source": [
    "| Type     | Naming Convention                                                                 | Examples                                      |\n",
    "|----------|-----------------------------------------------------------------------------------|-----------------------------------------------|\n",
    "| Function | Use a lowercase word or words. Separate words by underscores (snake_case).        | `function`, `python_function`                 |\n",
    "| Variable | Use a lowercase single letter, word, or words. Separate words with underscores.   | `x`, `var`, `python_variable`                 |\n",
    "| Class    | Start each word with a capital letter. No underscores (PascalCase / CamelCase).   | `Model`, `PythonClass`                        |\n",
    "| Method   | Lowercase word or words. Separate with underscores (snake_case).                  | `class_method`, `method`                      |\n",
    "| Constant | Uppercase single letter, word, or words. Separate words with underscores.         | `CONSTANT`, `PYTHON_CONSTANT`, `PYTHON_LONG_CONSTANT` |\n",
    "| Module   | Short, lowercase word or words. Underscores allowed.                              | `module.py`, `python_module.py`               |\n",
    "| Package  | Short, lowercase word or words. No underscores preferred.                         | `package`, `pythonpackage`                    |\n"
   ]
  },
  {
   "cell_type": "markdown",
   "id": "b6f1239f-4015-43ab-8424-00c7f2449b64",
   "metadata": {},
   "source": [
    "### Example 1"
   ]
  },
  {
   "cell_type": "code",
   "execution_count": 7,
   "id": "f17cabfa",
   "metadata": {},
   "outputs": [],
   "source": [
    "# 1. never write i and o because these are mistakenly considered as 1 and 0 as in below example it shows that you'r reassign \n",
    "# 3 to zero which is actually 'o'.\n",
    "\n",
    "o = 3\n",
    "i = 5"
   ]
  },
  {
   "cell_type": "markdown",
   "id": "bc093c5b-b119-4964-b4ac-bb71d0f0574f",
   "metadata": {},
   "source": [
    "### Example 2"
   ]
  },
  {
   "cell_type": "code",
   "execution_count": 9,
   "id": "a86204c9",
   "metadata": {},
   "outputs": [
    {
     "name": "stdout",
     "output_type": "stream",
     "text": [
      "Maqbool,Kashif\n"
     ]
    }
   ],
   "source": [
    "# Not Recommended.\n",
    "\n",
    "x = 'Kashif Maqbool'\n",
    "y,z = x.split()\n",
    "print(z, y, sep=',')"
   ]
  },
  {
   "cell_type": "code",
   "execution_count": 10,
   "id": "76ed068f",
   "metadata": {},
   "outputs": [
    {
     "name": "stdout",
     "output_type": "stream",
     "text": [
      "Maqbool,Kashif\n"
     ]
    }
   ],
   "source": [
    "# Recommended \n",
    "\n",
    "name = 'Kashif Maqbool'\n",
    "first_name, last_name = name.split()\n",
    "print(last_name, first_name, sep=',')"
   ]
  },
  {
   "cell_type": "markdown",
   "id": "1001cea5-061a-4e20-b50c-fa1c9b50554d",
   "metadata": {},
   "source": [
    "### Example 3"
   ]
  },
  {
   "cell_type": "code",
   "execution_count": 12,
   "id": "356a9d34",
   "metadata": {},
   "outputs": [],
   "source": [
    "# Not Recommended(this function will create a double or multiply with 2)\n",
    "\n",
    "def db(x):\n",
    "    return x * 2"
   ]
  },
  {
   "cell_type": "code",
   "execution_count": 13,
   "id": "8ba78420",
   "metadata": {},
   "outputs": [],
   "source": [
    "# Recommended\n",
    "\n",
    "def multiply_by_two(x):\n",
    "    return x * 2"
   ]
  },
  {
   "cell_type": "markdown",
   "id": "9a2856f2-7654-4ac1-a85a-5f6e11150f20",
   "metadata": {},
   "source": [
    "## 2. Code Layout"
   ]
  },
  {
   "cell_type": "markdown",
   "id": "2ce0cb73-09c8-4c24-aeb8-e625fedf6268",
   "metadata": {},
   "source": [
    "### Blanck Lines"
   ]
  },
  {
   "cell_type": "markdown",
   "id": "4466e7e3-281d-4a49-8e84-22b4bae0806f",
   "metadata": {},
   "source": [
    "#### Surround top-level functions and classes with two blank lines."
   ]
  },
  {
   "cell_type": "code",
   "execution_count": 17,
   "id": "fb993e67-586f-44a3-9edc-bdd5b1e9d1cb",
   "metadata": {},
   "outputs": [],
   "source": [
    "class FirstClass:\n",
    "    pass\n",
    "\n",
    "\n",
    "class SecondClass:\n",
    "    pass\n",
    "\n",
    "\n",
    "def top_level_function():\n",
    "    return None"
   ]
  },
  {
   "cell_type": "markdown",
   "id": "de47124a-8261-41bf-9ee2-5aa3d392b261",
   "metadata": {},
   "source": [
    "#### Surround method definitions inside classes with a single blank line."
   ]
  },
  {
   "cell_type": "code",
   "execution_count": 19,
   "id": "1e8d8091-1114-4f85-b0f5-784d14bda1f2",
   "metadata": {},
   "outputs": [],
   "source": [
    "class ClassWithMethods:\n",
    "    def first_method(self):\n",
    "        return None\n",
    "\n",
    "    def second_method(self):\n",
    "        return None"
   ]
  },
  {
   "cell_type": "markdown",
   "id": "06bbdee5-df28-4f38-b9c4-0f6f3b58f5e9",
   "metadata": {},
   "source": [
    "#### Use blank lines sparingly inside functions to show clear steps."
   ]
  },
  {
   "cell_type": "code",
   "execution_count": 21,
   "id": "755a86e8-3ece-4435-9d87-4e267ee72110",
   "metadata": {},
   "outputs": [],
   "source": [
    "def calculate_variance(numbers):\n",
    "    sum_numbers = 0\n",
    "    for number in numbers:\n",
    "        sum_numbers = sum_numbers + number\n",
    "    mean = sum_numbers / len(numbers)\n",
    "\n",
    "    sum_squares = 0\n",
    "    for number in numbers:\n",
    "        sum_squares = sum_squares + number**2\n",
    "    mean_squares = sum_squares / len(numbers)\n",
    "\n",
    "    return mean_squares - mean**2"
   ]
  },
  {
   "cell_type": "markdown",
   "id": "ccf5673c-535c-4cdd-a997-a76527acb328",
   "metadata": {},
   "source": [
    "### Maximum Line Length and Line Breaking"
   ]
  },
  {
   "cell_type": "markdown",
   "id": "04f42a32-57d7-4137-9aee-d478d8ecc3aa",
   "metadata": {},
   "source": [
    "<p> PEP 8 suggests lines should be limited to 79 characters. This allows you to have multiple files open next to one another, while also avoiding line wrapping.\n",
    "Of course, keeping statements to 79 characters or fewer isn’t always possible. Therefore, PEP 8 also outlines ways to allow statements to run over several lines.\n",
    "Python will assume line continuation if code is contained within parentheses, brackets, or braces:</p>"
   ]
  },
  {
   "cell_type": "code",
   "execution_count": 24,
   "id": "b7470cce-c70c-47c9-a011-225d033f215b",
   "metadata": {},
   "outputs": [],
   "source": [
    "def function(arg_one, arg_two,\n",
    "             arg_three, arg_four):\n",
    "    return arg_one"
   ]
  },
  {
   "cell_type": "markdown",
   "id": "d19925d4-1625-43a5-bb41-09086a5d2d39",
   "metadata": {},
   "source": [
    "<p> In this example, you moved arg_three and arg_four onto a new line, indented at the same level as the first argument. You can split your code like that because of Python’s implicit line joining inside of parentheses.\n",
    "</p>"
   ]
  },
  {
   "cell_type": "markdown",
   "id": "96d4a075-f3ca-4980-a607-127c3aebc702",
   "metadata": {},
   "source": [
    "<p> If you need to break a line around binary operators, like + and *, then you should do so before the operator. This rule stems from mathematics.\n",
    "Mathematicians agree that breaking before binary operators improves readability. Compare the following two examples.</p>"
   ]
  },
  {
   "cell_type": "code",
   "execution_count": 27,
   "id": "4265f46b-1231-4d85-81a5-bc4b93cadff4",
   "metadata": {},
   "outputs": [
    {
     "data": {
      "text/plain": [
       "4"
      ]
     },
     "execution_count": 27,
     "metadata": {},
     "output_type": "execute_result"
    }
   ],
   "source": [
    "# Recommended\n",
    "\n",
    "first_variable = 5\n",
    "second_variable = 2\n",
    "third_variable = 3\n",
    "\n",
    "total = (first_variable\n",
    "         + second_variable\n",
    "         - third_variable)\n",
    "total"
   ]
  },
  {
   "cell_type": "code",
   "execution_count": 28,
   "id": "e381a2ad-c3e2-4593-aee9-79e36fa75e3f",
   "metadata": {},
   "outputs": [],
   "source": [
    "# Not Recommended\n",
    "total = (first_variable +\n",
    "         second_variable -\n",
    "         third_variable)"
   ]
  },
  {
   "cell_type": "markdown",
   "id": "7652ca99-7cfb-4421-bc91-2cb600e6e65e",
   "metadata": {},
   "source": [
    "## 3. Documentation Strings"
   ]
  },
  {
   "cell_type": "markdown",
   "id": "5a0c9ea9-2970-4427-a36d-8397fd792f1d",
   "metadata": {},
   "source": [
    "<p> Documentation strings, or docstrings, are strings enclosed in triple double quotation marks (\"\"\") or triple single quotation marks (''') \n",
    "that appear on the first line of any function, class, method, or module. You use docstrings to explain and document a specific block of code. They’re an important part of Python, and you can access the docstring of an object using \n",
    "its .__doc__ attribute or the help() function. </p>"
   ]
  },
  {
   "cell_type": "code",
   "execution_count": 31,
   "id": "a2eb0d0b-93e1-487e-aed8-6d4d39b1009e",
   "metadata": {},
   "outputs": [
    {
     "data": {
      "text/plain": [
       "((-0.9999999999999999+1.4142135623730951j), (-1-1.4142135623730951j))"
      ]
     },
     "execution_count": 31,
     "metadata": {},
     "output_type": "execute_result"
    }
   ],
   "source": [
    "def quadratic(a, b, c):\n",
    "    \"\"\"Solve quadratic equation via the quadratic formula.\n",
    "\n",
    "    A quadratic equation has the following form:\n",
    "    ax**2 + bx + c = 0\n",
    "\n",
    "    There always two solutions to a quadratic equation: x_1 & x_2.\n",
    "    \"\"\"\n",
    "    x_1 = (-b + (b**2 - 4 * a * c) ** (1 / 2)) / (2 * a)\n",
    "    x_2 = (-b - (b**2 - 4 * a * c) ** (1 / 2)) / (2 * a)\n",
    "\n",
    "    return x_1, x_2\n",
    "\n",
    "quadratic(2,4,6)"
   ]
  }
 ],
 "metadata": {
  "kernelspec": {
   "display_name": "Python 3 (ipykernel)",
   "language": "python",
   "name": "python3"
  },
  "language_info": {
   "codemirror_mode": {
    "name": "ipython",
    "version": 3
   },
   "file_extension": ".py",
   "mimetype": "text/x-python",
   "name": "python",
   "nbconvert_exporter": "python",
   "pygments_lexer": "ipython3",
   "version": "3.12.2"
  }
 },
 "nbformat": 4,
 "nbformat_minor": 5
}
