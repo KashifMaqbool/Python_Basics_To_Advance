{
 "cells": [
  {
   "cell_type": "markdown",
   "id": "cdafbb84-b8dd-4917-9fd4-bd7bceea5515",
   "metadata": {},
   "source": [
    "# Tuples"
   ]
  },
  {
   "cell_type": "code",
   "execution_count": 1,
   "id": "b263a36e-98b4-4992-8dc3-02117997cae7",
   "metadata": {},
   "outputs": [],
   "source": [
    "t = (1,3,5,6)"
   ]
  },
  {
   "cell_type": "code",
   "execution_count": 3,
   "id": "e68f6f5b-d673-477f-b719-1c4437d1ccba",
   "metadata": {},
   "outputs": [
    {
     "data": {
      "text/plain": [
       "(1, 3, 5, 6)"
      ]
     },
     "execution_count": 3,
     "metadata": {},
     "output_type": "execute_result"
    }
   ],
   "source": [
    "t"
   ]
  },
  {
   "cell_type": "code",
   "execution_count": 5,
   "id": "a1b7bd88-ed61-4fa1-819a-a9422e5d4ad3",
   "metadata": {},
   "outputs": [
    {
     "data": {
      "text/plain": [
       "tuple"
      ]
     },
     "execution_count": 5,
     "metadata": {},
     "output_type": "execute_result"
    }
   ],
   "source": [
    "type(t)"
   ]
  },
  {
   "cell_type": "code",
   "execution_count": 7,
   "id": "0b8b63ae-d117-42f4-9422-72f62fdaec24",
   "metadata": {},
   "outputs": [],
   "source": [
    "# string inside the tuple\n",
    "tup = ('one',2,3)"
   ]
  },
  {
   "cell_type": "code",
   "execution_count": 9,
   "id": "c8c7f6f2-9bfa-4d2b-9120-4f0069d0bae2",
   "metadata": {},
   "outputs": [
    {
     "data": {
      "text/plain": [
       "('one', 2, 3)"
      ]
     },
     "execution_count": 9,
     "metadata": {},
     "output_type": "execute_result"
    }
   ],
   "source": [
    "tup"
   ]
  },
  {
   "cell_type": "markdown",
   "id": "cb6bf284-3dd3-4540-bd63-c12e8f5a17f2",
   "metadata": {},
   "source": [
    "### Indexing in the tuple"
   ]
  },
  {
   "cell_type": "code",
   "execution_count": 11,
   "id": "7a5f5760-d70e-4649-8540-c4341903d359",
   "metadata": {},
   "outputs": [
    {
     "data": {
      "text/plain": [
       "2"
      ]
     },
     "execution_count": 11,
     "metadata": {},
     "output_type": "execute_result"
    }
   ],
   "source": [
    "tup[1]"
   ]
  },
  {
   "cell_type": "code",
   "execution_count": 13,
   "id": "04835f7a-1ef6-4472-b99e-e78193686361",
   "metadata": {},
   "outputs": [
    {
     "data": {
      "text/plain": [
       "3"
      ]
     },
     "execution_count": 13,
     "metadata": {},
     "output_type": "execute_result"
    }
   ],
   "source": [
    "tup[-1]"
   ]
  },
  {
   "cell_type": "markdown",
   "id": "60f9fc54-81bf-4a4b-bf2b-8fef668cb69e",
   "metadata": {},
   "source": [
    "### Count method in tuple to find elements inside the tuple"
   ]
  },
  {
   "cell_type": "code",
   "execution_count": 15,
   "id": "385e9ec7-2988-407e-bb33-8536503a5e70",
   "metadata": {},
   "outputs": [],
   "source": [
    "tup1 = ('alnafi','alnafi', 'python', 'cissp',)"
   ]
  },
  {
   "cell_type": "code",
   "execution_count": 17,
   "id": "b7149105-d247-4254-94da-753d07fcde77",
   "metadata": {},
   "outputs": [
    {
     "data": {
      "text/plain": [
       "2"
      ]
     },
     "execution_count": 17,
     "metadata": {},
     "output_type": "execute_result"
    }
   ],
   "source": [
    "tup1.count('alnafi')"
   ]
  },
  {
   "cell_type": "code",
   "execution_count": 19,
   "id": "a043cd0a-9708-4c23-86a3-d8cd3b69c8f5",
   "metadata": {},
   "outputs": [
    {
     "data": {
      "text/plain": [
       "0"
      ]
     },
     "execution_count": 19,
     "metadata": {},
     "output_type": "execute_result"
    }
   ],
   "source": [
    "tup1.count('Kashif')"
   ]
  },
  {
   "cell_type": "markdown",
   "id": "1a9c84a5-a535-4c8a-a39c-9d1730e6bc8a",
   "metadata": {},
   "source": [
    "### Indexing tuple in python\n",
    "#### To find the index or position of the item or element in the tuple"
   ]
  },
  {
   "cell_type": "code",
   "execution_count": 21,
   "id": "b02ecfe6-a36a-497b-a9d0-c2ea8b74a5b6",
   "metadata": {},
   "outputs": [
    {
     "data": {
      "text/plain": [
       "0"
      ]
     },
     "execution_count": 21,
     "metadata": {},
     "output_type": "execute_result"
    }
   ],
   "source": [
    "tup1.index('alnafi')"
   ]
  },
  {
   "cell_type": "code",
   "execution_count": 23,
   "id": "10ad59f9-ae5b-45ab-bd89-3627f8142d63",
   "metadata": {},
   "outputs": [
    {
     "data": {
      "text/plain": [
       "2"
      ]
     },
     "execution_count": 23,
     "metadata": {},
     "output_type": "execute_result"
    }
   ],
   "source": [
    "tup1.index('python')"
   ]
  },
  {
   "cell_type": "code",
   "execution_count": 25,
   "id": "04b964e1-affe-41e1-aa4f-1290f4ad703f",
   "metadata": {},
   "outputs": [
    {
     "data": {
      "text/plain": [
       "3"
      ]
     },
     "execution_count": 25,
     "metadata": {},
     "output_type": "execute_result"
    }
   ],
   "source": [
    "tup1.index('cissp')"
   ]
  },
  {
   "cell_type": "markdown",
   "id": "0ce82e93-44de-4873-b6aa-e63bd2b22893",
   "metadata": {},
   "source": [
    "### tupples cannot be changed\n",
    "#### these are mostly changed in the security domain e.g banking etc where you want that your data cannot be changed e.g bank card details etc"
   ]
  },
  {
   "cell_type": "code",
   "execution_count": 27,
   "id": "781fa52e-01d9-4ab1-88ce-63a6f0368262",
   "metadata": {},
   "outputs": [
    {
     "ename": "TypeError",
     "evalue": "'tuple' object does not support item assignment",
     "output_type": "error",
     "traceback": [
      "\u001b[0;31m---------------------------------------------------------------------------\u001b[0m",
      "\u001b[0;31mTypeError\u001b[0m                                 Traceback (most recent call last)",
      "Cell \u001b[0;32mIn[27], line 1\u001b[0m\n\u001b[0;32m----> 1\u001b[0m tup1[\u001b[38;5;241m1\u001b[39m] \u001b[38;5;241m=\u001b[39m \u001b[38;5;124m\"\u001b[39m\u001b[38;5;124mKashif Maqbool\u001b[39m\u001b[38;5;124m\"\u001b[39m\n",
      "\u001b[0;31mTypeError\u001b[0m: 'tuple' object does not support item assignment"
     ]
    }
   ],
   "source": [
    "# Now this line of code will show error because tuples are not changable\n",
    "tup1[1] = \"Kashif Maqbool\""
   ]
  },
  {
   "cell_type": "markdown",
   "id": "68349bf2-7bc3-4aac-8261-548aec694117",
   "metadata": {},
   "source": [
    "# Sets "
   ]
  },
  {
   "cell_type": "code",
   "execution_count": 31,
   "id": "b487c6b4-874f-49e4-9ea2-718b26c8e534",
   "metadata": {},
   "outputs": [],
   "source": [
    "myset = set()"
   ]
  },
  {
   "cell_type": "code",
   "execution_count": 33,
   "id": "542bd594-b74f-481a-ae07-5c98abd9fcb3",
   "metadata": {},
   "outputs": [
    {
     "data": {
      "text/plain": [
       "set()"
      ]
     },
     "execution_count": 33,
     "metadata": {},
     "output_type": "execute_result"
    }
   ],
   "source": [
    "myset"
   ]
  },
  {
   "cell_type": "code",
   "execution_count": 35,
   "id": "289d69ea-bdd3-4400-943e-61587f59570f",
   "metadata": {},
   "outputs": [],
   "source": [
    "myset.add(1)"
   ]
  },
  {
   "cell_type": "code",
   "execution_count": 37,
   "id": "b5ee5268-2201-465b-94f6-2b60d5f5e41b",
   "metadata": {},
   "outputs": [
    {
     "data": {
      "text/plain": [
       "{1}"
      ]
     },
     "execution_count": 37,
     "metadata": {},
     "output_type": "execute_result"
    }
   ],
   "source": [
    "myset"
   ]
  },
  {
   "cell_type": "code",
   "execution_count": 39,
   "id": "6d9124d2-538c-4c17-b74f-d0b47dbe5b9e",
   "metadata": {},
   "outputs": [],
   "source": [
    "myset.add(2)"
   ]
  },
  {
   "cell_type": "code",
   "execution_count": 41,
   "id": "8798c131-6563-43a1-84a7-e185978149d0",
   "metadata": {},
   "outputs": [
    {
     "data": {
      "text/plain": [
       "{1, 2}"
      ]
     },
     "execution_count": 41,
     "metadata": {},
     "output_type": "execute_result"
    }
   ],
   "source": [
    "myset"
   ]
  },
  {
   "cell_type": "code",
   "execution_count": 47,
   "id": "74d80137-04e7-40fe-9c40-e19f684ec224",
   "metadata": {},
   "outputs": [],
   "source": [
    "# repeted values cannot be added in the set\n",
    "myset.add(2)"
   ]
  },
  {
   "cell_type": "code",
   "execution_count": 49,
   "id": "0a958e5b-04a8-4339-b392-ad9fbb9cac4e",
   "metadata": {},
   "outputs": [
    {
     "data": {
      "text/plain": [
       "{1, 2}"
      ]
     },
     "execution_count": 49,
     "metadata": {},
     "output_type": "execute_result"
    }
   ],
   "source": [
    "# set will not add '2' twice in it\n",
    "myset "
   ]
  },
  {
   "cell_type": "markdown",
   "id": "c19e4bc4-a8b0-4dc1-8392-8d488f79e4d9",
   "metadata": {},
   "source": [
    "### Set showing only unique values"
   ]
  },
  {
   "cell_type": "code",
   "execution_count": 53,
   "id": "4f3f211b-10a4-4e77-91af-1ebc4aa3af61",
   "metadata": {},
   "outputs": [],
   "source": [
    "mylist = [1,1,1,2,2,2,3,3,3,4,4,4]"
   ]
  },
  {
   "cell_type": "code",
   "execution_count": 55,
   "id": "43c25344-a287-4dc5-b06c-cd2240fe6b78",
   "metadata": {},
   "outputs": [
    {
     "data": {
      "text/plain": [
       "{1, 2, 3, 4}"
      ]
     },
     "execution_count": 55,
     "metadata": {},
     "output_type": "execute_result"
    }
   ],
   "source": [
    "set(mylist)"
   ]
  },
  {
   "cell_type": "markdown",
   "id": "e081ee02-720f-44c4-afaa-2750a6728652",
   "metadata": {},
   "source": [
    "### Set show the values in ordered  form or organize it"
   ]
  },
  {
   "cell_type": "code",
   "execution_count": 57,
   "id": "15e000a5-a5fc-4d82-82d7-d0d0e9d55bac",
   "metadata": {},
   "outputs": [],
   "source": [
    "mylist1 = [3,3,1,1,7,8,9,4,3,5]"
   ]
  },
  {
   "cell_type": "code",
   "execution_count": 61,
   "id": "d45cce71-8812-4fac-90b1-9915f0e0fa91",
   "metadata": {},
   "outputs": [
    {
     "data": {
      "text/plain": [
       "{1, 3, 4, 5, 7, 8, 9}"
      ]
     },
     "execution_count": 61,
     "metadata": {},
     "output_type": "execute_result"
    }
   ],
   "source": [
    "set(mylist1)"
   ]
  },
  {
   "cell_type": "markdown",
   "id": "c1b3f2d8-b69d-45d1-95c9-9505a4df190d",
   "metadata": {},
   "source": [
    "# Booleans "
   ]
  },
  {
   "cell_type": "markdown",
   "id": "7654225b-7fae-46f7-a532-0c9793b60f25",
   "metadata": {},
   "source": [
    "#### Boolean values define two constant obiects which can be either True or False"
   ]
  },
  {
   "cell_type": "code",
   "execution_count": null,
   "id": "df248ab9-d24f-4d3d-bbe6-649253bbfb90",
   "metadata": {},
   "outputs": [],
   "source": [
    "#### boolean written in Capital form"
   ]
  },
  {
   "cell_type": "code",
   "execution_count": 63,
   "id": "1dc2c545-875a-4d66-88c2-b57be353d901",
   "metadata": {},
   "outputs": [
    {
     "data": {
      "text/plain": [
       "True"
      ]
     },
     "execution_count": 63,
     "metadata": {},
     "output_type": "execute_result"
    }
   ],
   "source": [
    "True"
   ]
  },
  {
   "cell_type": "code",
   "execution_count": 65,
   "id": "9d6ac101-8ead-4e61-8690-b763d1b6ed19",
   "metadata": {},
   "outputs": [
    {
     "data": {
      "text/plain": [
       "False"
      ]
     },
     "execution_count": 65,
     "metadata": {},
     "output_type": "execute_result"
    }
   ],
   "source": [
    "False"
   ]
  },
  {
   "cell_type": "code",
   "execution_count": 67,
   "id": "dc4b5201-67ce-41d3-bd2c-413b4ca36315",
   "metadata": {},
   "outputs": [
    {
     "data": {
      "text/plain": [
       "bool"
      ]
     },
     "execution_count": 67,
     "metadata": {},
     "output_type": "execute_result"
    }
   ],
   "source": [
    "type(True)"
   ]
  },
  {
   "cell_type": "code",
   "execution_count": 69,
   "id": "95be4d82-07d0-408e-8a50-6dc026e7837e",
   "metadata": {},
   "outputs": [
    {
     "data": {
      "text/plain": [
       "bool"
      ]
     },
     "execution_count": 69,
     "metadata": {},
     "output_type": "execute_result"
    }
   ],
   "source": [
    "type(False)"
   ]
  },
  {
   "cell_type": "code",
   "execution_count": 71,
   "id": "9bc05323-5b37-4915-99f9-35ba73ba6d1d",
   "metadata": {},
   "outputs": [
    {
     "data": {
      "text/plain": [
       "False"
      ]
     },
     "execution_count": 71,
     "metadata": {},
     "output_type": "execute_result"
    }
   ],
   "source": [
    "1>2"
   ]
  },
  {
   "cell_type": "code",
   "execution_count": 73,
   "id": "ed31fb2c-43cd-4b1c-ac68-a44607f7f024",
   "metadata": {},
   "outputs": [
    {
     "data": {
      "text/plain": [
       "True"
      ]
     },
     "execution_count": 73,
     "metadata": {},
     "output_type": "execute_result"
    }
   ],
   "source": [
    "1 == 1"
   ]
  },
  {
   "cell_type": "code",
   "execution_count": null,
   "id": "ffb3dee2-84e9-4d08-b967-5f73d5fde4d3",
   "metadata": {},
   "outputs": [],
   "source": [
    "#### Giving 'None' to a value"
   ]
  },
  {
   "cell_type": "code",
   "execution_count": 75,
   "id": "5d3e668a-f031-435b-a74d-13eab5cdbc6b",
   "metadata": {},
   "outputs": [
    {
     "ename": "SyntaxError",
     "evalue": "invalid syntax (2792523948.py, line 1)",
     "output_type": "error",
     "traceback": [
      "\u001b[0;36m  Cell \u001b[0;32mIn[75], line 1\u001b[0;36m\u001b[0m\n\u001b[0;31m    a =\u001b[0m\n\u001b[0m        ^\u001b[0m\n\u001b[0;31mSyntaxError\u001b[0m\u001b[0;31m:\u001b[0m invalid syntax\n"
     ]
    }
   ],
   "source": [
    "a = "
   ]
  },
  {
   "cell_type": "code",
   "execution_count": 77,
   "id": "ab21d63b-83d1-4bd8-8217-9ce555a33f53",
   "metadata": {},
   "outputs": [
    {
     "ename": "NameError",
     "evalue": "name 'none' is not defined",
     "output_type": "error",
     "traceback": [
      "\u001b[0;31m---------------------------------------------------------------------------\u001b[0m",
      "\u001b[0;31mNameError\u001b[0m                                 Traceback (most recent call last)",
      "Cell \u001b[0;32mIn[77], line 1\u001b[0m\n\u001b[0;32m----> 1\u001b[0m a \u001b[38;5;241m=\u001b[39m none\n",
      "\u001b[0;31mNameError\u001b[0m: name 'none' is not defined"
     ]
    }
   ],
   "source": [
    "a = none"
   ]
  },
  {
   "cell_type": "code",
   "execution_count": 81,
   "id": "3f417dc7-ddc1-41eb-8ddd-5462831b07f6",
   "metadata": {},
   "outputs": [],
   "source": [
    "a = None"
   ]
  },
  {
   "cell_type": "code",
   "execution_count": 83,
   "id": "8c717a65-7914-4c91-bfff-52d84c7916d8",
   "metadata": {},
   "outputs": [],
   "source": []
  }
 ],
 "metadata": {
  "kernelspec": {
   "display_name": "Python 3 (ipykernel)",
   "language": "python",
   "name": "python3"
  },
  "language_info": {
   "codemirror_mode": {
    "name": "ipython",
    "version": 3
   },
   "file_extension": ".py",
   "mimetype": "text/x-python",
   "name": "python",
   "nbconvert_exporter": "python",
   "pygments_lexer": "ipython3",
   "version": "3.12.2"
  }
 },
 "nbformat": 4,
 "nbformat_minor": 5
}
