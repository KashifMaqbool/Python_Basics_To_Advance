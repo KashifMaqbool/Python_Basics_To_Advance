{
 "cells": [
  {
   "cell_type": "markdown",
   "id": "1ec0e9f4",
   "metadata": {
    "editable": true,
    "slideshow": {
     "slide_type": ""
    },
    "tags": []
   },
   "source": [
    "# Upper() Function"
   ]
  },
  {
   "cell_type": "code",
   "execution_count": 3,
   "id": "e9634fd9",
   "metadata": {},
   "outputs": [],
   "source": [
    "x = 'kashif Maqbool'"
   ]
  },
  {
   "cell_type": "code",
   "execution_count": 5,
   "id": "a438e3a3",
   "metadata": {},
   "outputs": [
    {
     "data": {
      "text/plain": [
       "'KASHIF MAQBOOL'"
      ]
     },
     "execution_count": 5,
     "metadata": {},
     "output_type": "execute_result"
    }
   ],
   "source": [
    "x.upper()"
   ]
  },
  {
   "cell_type": "code",
   "execution_count": 7,
   "id": "7a9f5857",
   "metadata": {},
   "outputs": [
    {
     "data": {
      "text/plain": [
       "'kashif Maqbool'"
      ]
     },
     "execution_count": 7,
     "metadata": {},
     "output_type": "execute_result"
    }
   ],
   "source": [
    "x"
   ]
  },
  {
   "cell_type": "code",
   "execution_count": 9,
   "id": "9e02fa07",
   "metadata": {},
   "outputs": [],
   "source": [
    "x = x.upper()"
   ]
  },
  {
   "cell_type": "code",
   "execution_count": 11,
   "id": "c143996d",
   "metadata": {},
   "outputs": [
    {
     "data": {
      "text/plain": [
       "'KASHIF MAQBOOL'"
      ]
     },
     "execution_count": 11,
     "metadata": {},
     "output_type": "execute_result"
    }
   ],
   "source": [
    "x"
   ]
  },
  {
   "cell_type": "code",
   "execution_count": 13,
   "id": "d7d3d8ef",
   "metadata": {},
   "outputs": [
    {
     "data": {
      "text/plain": [
       "<function str.upper()>"
      ]
     },
     "execution_count": 13,
     "metadata": {},
     "output_type": "execute_result"
    }
   ],
   "source": [
    "# mistake(add paranthesis after the funcniton as .upper())\n",
    "\n",
    "x.upper"
   ]
  },
  {
   "cell_type": "code",
   "execution_count": 15,
   "id": "21d54be6",
   "metadata": {},
   "outputs": [],
   "source": [
    "y = 'maqbool'"
   ]
  },
  {
   "cell_type": "code",
   "execution_count": 17,
   "id": "9b38b560",
   "metadata": {},
   "outputs": [
    {
     "data": {
      "text/plain": [
       "'maqbool'"
      ]
     },
     "execution_count": 17,
     "metadata": {},
     "output_type": "execute_result"
    }
   ],
   "source": [
    "y"
   ]
  },
  {
   "cell_type": "markdown",
   "id": "7a451e89",
   "metadata": {},
   "source": [
    "# lower() function"
   ]
  },
  {
   "cell_type": "code",
   "execution_count": 19,
   "id": "2496d497",
   "metadata": {},
   "outputs": [
    {
     "data": {
      "text/plain": [
       "'maqbool'"
      ]
     },
     "execution_count": 19,
     "metadata": {},
     "output_type": "execute_result"
    }
   ],
   "source": [
    "y.lower()"
   ]
  },
  {
   "cell_type": "code",
   "execution_count": 21,
   "id": "a4897eef",
   "metadata": {},
   "outputs": [
    {
     "data": {
      "text/plain": [
       "<function str.lower()>"
      ]
     },
     "execution_count": 21,
     "metadata": {},
     "output_type": "execute_result"
    }
   ],
   "source": [
    "# mistake(add paranthesis after the funcniton as .lower())\n",
    "\n",
    "y.lower"
   ]
  },
  {
   "cell_type": "markdown",
   "id": "9d4cecc4",
   "metadata": {},
   "source": [
    "# split() function"
   ]
  },
  {
   "cell_type": "code",
   "execution_count": 24,
   "id": "e1eb6f59",
   "metadata": {},
   "outputs": [],
   "source": [
    "z = 'python is amazing'"
   ]
  },
  {
   "cell_type": "code",
   "execution_count": 26,
   "id": "072ed169",
   "metadata": {},
   "outputs": [
    {
     "data": {
      "text/plain": [
       "['python', 'is', 'amazing']"
      ]
     },
     "execution_count": 26,
     "metadata": {},
     "output_type": "execute_result"
    }
   ],
   "source": [
    "# split string into list and split on white spaces specific word or condition is not given\n",
    "\n",
    "z.split()"
   ]
  },
  {
   "cell_type": "code",
   "execution_count": 28,
   "id": "5be694aa",
   "metadata": {},
   "outputs": [
    {
     "data": {
      "text/plain": [
       "['python is ', 'm', 'zing']"
      ]
     },
     "execution_count": 28,
     "metadata": {},
     "output_type": "execute_result"
    }
   ],
   "source": [
    "# Now it will split string on letter 'a'\n",
    "z.split('a')"
   ]
  },
  {
   "cell_type": "code",
   "execution_count": 30,
   "id": "e808d6c8",
   "metadata": {},
   "outputs": [
    {
     "data": {
      "text/plain": [
       "['pytho', ' is amazi', 'g']"
      ]
     },
     "execution_count": 30,
     "metadata": {},
     "output_type": "execute_result"
    }
   ],
   "source": [
    "# Now it will split string on letter 'n'\n",
    "z.split('n')"
   ]
  },
  {
   "cell_type": "markdown",
   "id": "ef21804f-a4bf-4973-bed0-5177f0ad1052",
   "metadata": {},
   "source": [
    "# String Interpolation\n",
    "#### String interpolation is a process substituting values of variables into placeholders in a string.\n",
    "#### It has two methods like 1-> .format()   2-> f-strings({value:width.precision f})"
   ]
  },
  {
   "cell_type": "markdown",
   "id": "78874a13-4b8e-4e6f-b406-aee44248ad4d",
   "metadata": {},
   "source": [
    "### Applying first Method -> .format()"
   ]
  },
  {
   "cell_type": "code",
   "execution_count": 25,
   "id": "4d0e91c9-6e56-4f7e-a216-098d1e2bd012",
   "metadata": {},
   "outputs": [
    {
     "name": "stdout",
     "output_type": "stream",
     "text": [
      "Allah is creator of this\n"
     ]
    }
   ],
   "source": [
    "print(\"Allah is creator of this\")"
   ]
  },
  {
   "cell_type": "code",
   "execution_count": 27,
   "id": "1c14d611-148c-4ec7-907a-b845cd9f2052",
   "metadata": {},
   "outputs": [
    {
     "name": "stdout",
     "output_type": "stream",
     "text": [
      "Allah is creator of this Universe\n"
     ]
    }
   ],
   "source": [
    "print(\"Allah is creator of this {}\".format(\"Universe\"))"
   ]
  },
  {
   "cell_type": "code",
   "execution_count": null,
   "id": "e19261bc-c3d1-48ca-8bfb-8aa8f0f2d339",
   "metadata": {},
   "outputs": [],
   "source": [
    "# Idexing in .format() method"
   ]
  },
  {
   "cell_type": "code",
   "execution_count": 29,
   "id": "e37699f7-0fb9-47de-9a9f-334be052c4e8",
   "metadata": {},
   "outputs": [
    {
     "name": "stdout",
     "output_type": "stream",
     "text": [
      "Allah is creator of this Universe and Allah is Greatest \n"
     ]
    }
   ],
   "source": [
    "print(\"Allah is creator of this {} {} {} {} {} \".format(\"Universe\",\"and\", \"Allah\", \"is\",\"Greatest.\"))"
   ]
  },
  {
   "cell_type": "code",
   "execution_count": 31,
   "id": "600a19c0-7536-4b43-8b3a-80dec2f79266",
   "metadata": {},
   "outputs": [
    {
     "name": "stdout",
     "output_type": "stream",
     "text": [
      "Allah is creator of this Universe Universe Universe Universe Universe \n"
     ]
    }
   ],
   "source": [
    "print(\"Allah is creator of this {0} {0} {0} {0} {0} \".format(\"Universe\",\"and\", \"Allah\", \"is\",\"Greatest.\"))"
   ]
  },
  {
   "cell_type": "code",
   "execution_count": 33,
   "id": "f93ceaf2-8352-4df8-b15c-5bbc441acdd6",
   "metadata": {},
   "outputs": [
    {
     "name": "stdout",
     "output_type": "stream",
     "text": [
      "Allah is creator of this and and and and and \n"
     ]
    }
   ],
   "source": [
    "print(\"Allah is creator of this {1} {1} {1} {1} {1} \".format(\"Universe\",\"and\", \"Allah\", \"is\",\"Greatest.\"))"
   ]
  },
  {
   "cell_type": "code",
   "execution_count": 35,
   "id": "bb69e96b-b23c-4efa-8813-2bd59881e0c6",
   "metadata": {},
   "outputs": [
    {
     "name": "stdout",
     "output_type": "stream",
     "text": [
      "Allah is creator of this Universe and Allah is Greatest. \n"
     ]
    }
   ],
   "source": [
    "print(\"Allah is creator of this {0} {1} {2} {3} {4} \".format(\"Universe\",\"and\", \"Allah\", \"is\",\"Greatest.\"))"
   ]
  },
  {
   "cell_type": "code",
   "execution_count": 41,
   "id": "85b074cb-ab41-4d07-8156-59091443848e",
   "metadata": {},
   "outputs": [
    {
     "name": "stdout",
     "output_type": "stream",
     "text": [
      "The result was : 0.1124859392575928\n"
     ]
    }
   ],
   "source": [
    "# Round off value\n",
    "result = 100/889\n",
    "result\n",
    "print(\"The result was : {}\".format(result))"
   ]
  },
  {
   "cell_type": "code",
   "execution_count": 47,
   "id": "a3f2d515-c28b-4580-a076-120b33be6bfd",
   "metadata": {},
   "outputs": [
    {
     "name": "stdout",
     "output_type": "stream",
     "text": [
      "The result was : 0.1124859392575928\n"
     ]
    }
   ],
   "source": [
    "# Round off value\n",
    "result = 100/889\n",
    "result\n",
    "print(\"The result was : {r}\".format(r=result))"
   ]
  },
  {
   "cell_type": "code",
   "execution_count": 49,
   "id": "a3f0a03e-c519-4555-826d-5558aaa29015",
   "metadata": {},
   "outputs": [
    {
     "name": "stdout",
     "output_type": "stream",
     "text": [
      "The result was : 0.1125\n"
     ]
    }
   ],
   "source": [
    "# Round off value\n",
    "result = 100/889\n",
    "result\n",
    "print(\"The result was : {r:1.4f}\".format(r=result))"
   ]
  },
  {
   "cell_type": "code",
   "execution_count": 51,
   "id": "7e7ae048-2796-4437-a0c6-3e5914e6633e",
   "metadata": {},
   "outputs": [
    {
     "name": "stdout",
     "output_type": "stream",
     "text": [
      "My name is Kashif Maqbool\n"
     ]
    }
   ],
   "source": [
    "name = \"Kashif Maqbool\"\n",
    "name\n",
    "print(\"My name is {}\".format(name)) "
   ]
  },
  {
   "cell_type": "markdown",
   "id": "020afadc-2248-4a03-9e0a-88abe373e76f",
   "metadata": {},
   "source": [
    "### Applying method 2 as f-string"
   ]
  },
  {
   "cell_type": "code",
   "execution_count": 67,
   "id": "fddc3511-eeae-4400-8e1c-2f181500b3be",
   "metadata": {},
   "outputs": [
    {
     "name": "stdout",
     "output_type": "stream",
     "text": [
      "My name is Kashif Maqbool\n"
     ]
    }
   ],
   "source": [
    "name = \"Kashif Maqbool\"\n",
    "name\n",
    "print(f\"My name is {name}\")"
   ]
  },
  {
   "cell_type": "code",
   "execution_count": 69,
   "id": "296b53e4-8bfc-4219-bf48-c59d68318e3e",
   "metadata": {},
   "outputs": [
    {
     "name": "stdout",
     "output_type": "stream",
     "text": [
      "Kashif Maqbool is 24 years old.\n"
     ]
    }
   ],
   "source": [
    "# Indexing in f-String method\n",
    "name = \"Kashif Maqbool\"\n",
    "age = 24\n",
    "print(f\"{name} is {age} years old.\")"
   ]
  }
 ],
 "metadata": {
  "kernelspec": {
   "display_name": "Python 3 (ipykernel)",
   "language": "python",
   "name": "python3"
  },
  "language_info": {
   "codemirror_mode": {
    "name": "ipython",
    "version": 3
   },
   "file_extension": ".py",
   "mimetype": "text/x-python",
   "name": "python",
   "nbconvert_exporter": "python",
   "pygments_lexer": "ipython3",
   "version": "3.12.2"
  }
 },
 "nbformat": 4,
 "nbformat_minor": 5
}
