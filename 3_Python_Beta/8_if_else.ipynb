{
 "cells": [
  {
   "cell_type": "code",
   "execution_count": null,
   "id": "25d7a2b5-75db-43c9-ad86-9e8eae598701",
   "metadata": {},
   "outputs": [],
   "source": [
    "# If-Else Python Beta"
   ]
  },
  {
   "cell_type": "code",
   "execution_count": 1,
   "id": "3203a329-3bfa-474b-9e08-fde07267d023",
   "metadata": {},
   "outputs": [
    {
     "name": "stdout",
     "output_type": "stream",
     "text": [
      "its True\n"
     ]
    }
   ],
   "source": [
    "if True:\n",
    "    print(\"its True\")"
   ]
  },
  {
   "cell_type": "code",
   "execution_count": 3,
   "id": "7febc916-1e01-4a68-83a2-8d64c5172f83",
   "metadata": {},
   "outputs": [
    {
     "name": "stdout",
     "output_type": "stream",
     "text": [
      "You can sleep\n"
     ]
    }
   ],
   "source": [
    "tired = True\n",
    "if tired:\n",
    "    print('You can sleep')\n",
    "else:\n",
    "    print('You can go to work.')"
   ]
  },
  {
   "cell_type": "code",
   "execution_count": 5,
   "id": "2004d0e4-2eea-48f6-9ce8-4e01bd01b717",
   "metadata": {},
   "outputs": [
    {
     "name": "stdout",
     "output_type": "stream",
     "text": [
      "You can go to work.\n"
     ]
    }
   ],
   "source": [
    "tired = False\n",
    "if tired:\n",
    "    print('You can sleep')\n",
    "else:\n",
    "    print('You can go to work.')"
   ]
  },
  {
   "cell_type": "code",
   "execution_count": null,
   "id": "051cb270-61c0-48fd-a60b-8cb287054afa",
   "metadata": {},
   "outputs": [],
   "source": [
    "# Location or GPS related program"
   ]
  },
  {
   "cell_type": "code",
   "execution_count": 9,
   "id": "58dd6322-d07c-4b20-9646-20fbaf712e49",
   "metadata": {},
   "outputs": [
    {
     "name": "stdout",
     "output_type": "stream",
     "text": [
      "Pray your Prayer\n"
     ]
    }
   ],
   "source": [
    "location = 'Masjid'\n",
    "\n",
    "if location == 'Restataurant':\n",
    "    print('Eat at the restaurant.')\n",
    "elif location == 'Bank':\n",
    "    print('Get some money from the ATM.')\n",
    "elif location == 'Bakery':\n",
    "    print('Buy some eggs and Bread')\n",
    "elif location == 'Masjid':\n",
    "    print('Pray your Prayer')\n",
    "else:\n",
    "    print('Go home back')"
   ]
  },
  {
   "cell_type": "code",
   "execution_count": null,
   "id": "a5e41a3a-b937-4607-b3e7-f873dfdf9dfe",
   "metadata": {},
   "outputs": [],
   "source": []
  },
  {
   "cell_type": "code",
   "execution_count": null,
   "id": "7772f54f-e023-4369-ade7-152790701821",
   "metadata": {},
   "outputs": [],
   "source": []
  },
  {
   "cell_type": "code",
   "execution_count": null,
   "id": "c08a4b90-5307-4f98-ab23-b1c3f9c6e0e5",
   "metadata": {},
   "outputs": [],
   "source": []
  },
  {
   "cell_type": "code",
   "execution_count": null,
   "id": "20dd3d94-dbdf-4362-af72-dc319cce135f",
   "metadata": {},
   "outputs": [],
   "source": []
  },
  {
   "cell_type": "code",
   "execution_count": null,
   "id": "2cd8df83-5491-4202-89f8-726d68751826",
   "metadata": {},
   "outputs": [],
   "source": []
  },
  {
   "cell_type": "code",
   "execution_count": null,
   "id": "f26baf46-f487-4965-9a15-afdca60d6711",
   "metadata": {},
   "outputs": [],
   "source": []
  },
  {
   "cell_type": "code",
   "execution_count": null,
   "id": "1d997a37-e807-45a5-a08b-74bc8bf25c1a",
   "metadata": {},
   "outputs": [],
   "source": []
  },
  {
   "cell_type": "code",
   "execution_count": null,
   "id": "d7411943-e807-4979-adc5-810cfe7a38bd",
   "metadata": {},
   "outputs": [],
   "source": []
  },
  {
   "cell_type": "code",
   "execution_count": null,
   "id": "150b8501-bd4c-425a-8255-3f8f880a5383",
   "metadata": {},
   "outputs": [],
   "source": []
  },
  {
   "cell_type": "code",
   "execution_count": null,
   "id": "463bdd90-3f14-493f-bf25-894ca91dbfc5",
   "metadata": {},
   "outputs": [],
   "source": []
  },
  {
   "cell_type": "code",
   "execution_count": null,
   "id": "586cc211-c07c-4bbb-aaf4-df7304f0aff8",
   "metadata": {},
   "outputs": [],
   "source": []
  },
  {
   "cell_type": "code",
   "execution_count": null,
   "id": "eb43dcad-7d76-4b2c-8499-818174fdcb73",
   "metadata": {},
   "outputs": [],
   "source": []
  }
 ],
 "metadata": {
  "kernelspec": {
   "display_name": "Python 3 (ipykernel)",
   "language": "python",
   "name": "python3"
  },
  "language_info": {
   "codemirror_mode": {
    "name": "ipython",
    "version": 3
   },
   "file_extension": ".py",
   "mimetype": "text/x-python",
   "name": "python",
   "nbconvert_exporter": "python",
   "pygments_lexer": "ipython3",
   "version": "3.12.2"
  }
 },
 "nbformat": 4,
 "nbformat_minor": 5
}
