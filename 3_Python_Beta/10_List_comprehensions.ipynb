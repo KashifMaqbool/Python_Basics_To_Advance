{
 "cells": [
  {
   "cell_type": "markdown",
   "id": "7615e631-836f-446b-a891-867634c57626",
   "metadata": {},
   "source": [
    "# Traditional way of writing the lists"
   ]
  },
  {
   "cell_type": "code",
   "execution_count": 38,
   "id": "49eba8df-6502-45f3-ac6f-e236637dbc3b",
   "metadata": {},
   "outputs": [],
   "source": [
    "mystring = \"Kashif Maqbool\""
   ]
  },
  {
   "cell_type": "code",
   "execution_count": 39,
   "id": "88838c0f-37e8-4044-824a-d688295a7403",
   "metadata": {},
   "outputs": [
    {
     "name": "stdout",
     "output_type": "stream",
     "text": [
      "K\n",
      "a\n",
      "s\n",
      "h\n",
      "i\n",
      "f\n",
      " \n",
      "M\n",
      "a\n",
      "q\n",
      "b\n",
      "o\n",
      "o\n",
      "l\n"
     ]
    }
   ],
   "source": [
    "for letters in mystring:\n",
    "    print(letters)"
   ]
  },
  {
   "cell_type": "markdown",
   "id": "81695947-70b3-41e9-8f55-32027b3a0024",
   "metadata": {},
   "source": [
    "### OR"
   ]
  },
  {
   "cell_type": "code",
   "execution_count": 41,
   "id": "fb97b375-99d0-409b-9994-fa4db6d4e8e8",
   "metadata": {},
   "outputs": [
    {
     "data": {
      "text/plain": [
       "['K', 'a', 's', 'h', 'i', 'f', ' ', 'M', 'a', 'q', 'b', 'o', 'o', 'l']"
      ]
     },
     "execution_count": 41,
     "metadata": {},
     "output_type": "execute_result"
    }
   ],
   "source": [
    "mylist = []\n",
    "for x in mystring:\n",
    "    mylist.append(x)\n",
    "mylist"
   ]
  },
  {
   "cell_type": "markdown",
   "id": "6a2a9f32-1d25-49f1-a143-c8ccff89aa9c",
   "metadata": {},
   "source": [
    "# After using List Comprehensions"
   ]
  },
  {
   "cell_type": "code",
   "execution_count": 43,
   "id": "a42d92fb-b0d3-490f-b9b0-18b02e49a12c",
   "metadata": {},
   "outputs": [
    {
     "data": {
      "text/plain": [
       "['K', 'a', 's', 'h', 'i', 'f', ' ', 'M', 'a', 'q', 'b', 'o', 'o', 'l']"
      ]
     },
     "execution_count": 43,
     "metadata": {},
     "output_type": "execute_result"
    }
   ],
   "source": [
    "mylist1 = [letters for letters in mystring]\n",
    "mylist1"
   ]
  },
  {
   "cell_type": "markdown",
   "id": "c22b3c53-e7b1-4afe-a816-40e831839088",
   "metadata": {},
   "source": [
    "### OR"
   ]
  },
  {
   "cell_type": "code",
   "execution_count": 45,
   "id": "d28ece8b-50eb-43ad-a2cf-c9144a73deb0",
   "metadata": {},
   "outputs": [
    {
     "data": {
      "text/plain": [
       "['K', 'a', 's', 'h', 'i', 'f', ' ', 'M', 'a', 'q', 'b', 'o', 'o', 'l']"
      ]
     },
     "execution_count": 45,
     "metadata": {},
     "output_type": "execute_result"
    }
   ],
   "source": [
    "mylist2 = [x for x in mystring]\n",
    "mylist2"
   ]
  },
  {
   "cell_type": "markdown",
   "id": "f18f1f40-873e-43f4-bd15-4e3cb29c2779",
   "metadata": {},
   "source": [
    "### OR"
   ]
  },
  {
   "cell_type": "code",
   "execution_count": 47,
   "id": "20b3faf4-25c8-41e1-8aea-08120e38e57b",
   "metadata": {},
   "outputs": [
    {
     "data": {
      "text/plain": [
       "['P',\n",
       " 'a',\n",
       " 'k',\n",
       " 'i',\n",
       " 's',\n",
       " 't',\n",
       " 'a',\n",
       " 'n',\n",
       " ' ',\n",
       " 'Z',\n",
       " 'i',\n",
       " 'n',\n",
       " 'd',\n",
       " 'a',\n",
       " 'b',\n",
       " 'a',\n",
       " 'd']"
      ]
     },
     "execution_count": 47,
     "metadata": {},
     "output_type": "execute_result"
    }
   ],
   "source": [
    "mylist3 = [letters for letters in 'Pakistan Zindabad']\n",
    "mylist3"
   ]
  },
  {
   "cell_type": "markdown",
   "id": "6064ef74-5300-4e37-a448-45bd086394c0",
   "metadata": {},
   "source": [
    "### OR"
   ]
  },
  {
   "cell_type": "code",
   "execution_count": 49,
   "id": "46b9e027-f9ce-49cc-8e52-eaa6b546fd6e",
   "metadata": {},
   "outputs": [
    {
     "data": {
      "text/plain": [
       "[0, 1, 2, 3, 4, 5, 6, 7, 8, 9]"
      ]
     },
     "execution_count": 49,
     "metadata": {},
     "output_type": "execute_result"
    }
   ],
   "source": [
    "# using range function in the list comprehensions\n",
    "mylist4 = [x for x in range(0,10)]\n",
    "mylist4"
   ]
  },
  {
   "cell_type": "code",
   "execution_count": 50,
   "id": "5c2c074f-0a7d-4429-860f-88fa8d26b762",
   "metadata": {},
   "outputs": [
    {
     "data": {
      "text/plain": [
       "[0, 2, 4, 6, 8]"
      ]
     },
     "execution_count": 50,
     "metadata": {},
     "output_type": "execute_result"
    }
   ],
   "source": [
    "# with if else statement for even numbers\n",
    "mylist4 = [x for x in range(0,10) if x%2 == 0]\n",
    "mylist4"
   ]
  },
  {
   "cell_type": "code",
   "execution_count": 51,
   "id": "911c82e2-0d98-4e71-a923-2b2461a99273",
   "metadata": {},
   "outputs": [
    {
     "data": {
      "text/plain": [
       "[1, 3, 5, 7, 9]"
      ]
     },
     "execution_count": 51,
     "metadata": {},
     "output_type": "execute_result"
    }
   ],
   "source": [
    "# with if else statement for odd numbers\n",
    "mylist5 = [x for x in range(0,10) if x%2 != 0]\n",
    "mylist5"
   ]
  },
  {
   "cell_type": "code",
   "execution_count": 52,
   "id": "6db62b9c-3a59-4b4a-9990-c376f7217302",
   "metadata": {},
   "outputs": [
    {
     "data": {
      "text/plain": [
       "[0, 1, 4, 9, 16, 25, 36, 49, 64, 81]"
      ]
     },
     "execution_count": 52,
     "metadata": {},
     "output_type": "execute_result"
    }
   ],
   "source": [
    "# taking square root of the numbers\n",
    "mylist6 = [x**2 for x in range(0,10)]\n",
    "mylist6"
   ]
  },
  {
   "cell_type": "code",
   "execution_count": 53,
   "id": "86568e7c-ddde-40fa-b383-5e2d668cb6d5",
   "metadata": {},
   "outputs": [
    {
     "data": {
      "text/plain": [
       "[0, 4, 16, 36, 64]"
      ]
     },
     "execution_count": 53,
     "metadata": {},
     "output_type": "execute_result"
    }
   ],
   "source": [
    "# taking square root of the even numbers\n",
    "mylist7 = [x**2 for x in range(0,10) if x%2 == 0]\n",
    "mylist7"
   ]
  },
  {
   "cell_type": "code",
   "execution_count": 54,
   "id": "1a95e62a-216c-4ef4-b976-0eecbae36483",
   "metadata": {},
   "outputs": [
    {
     "data": {
      "text/plain": [
       "[1, 9, 25, 49, 81]"
      ]
     },
     "execution_count": 54,
     "metadata": {},
     "output_type": "execute_result"
    }
   ],
   "source": [
    "# taking square root of the odd numbers\n",
    "mylist8 = [x**2 for x in range(0,10) if x%2 != 0]\n",
    "mylist8"
   ]
  }
 ],
 "metadata": {
  "kernelspec": {
   "display_name": "Python 3 (ipykernel)",
   "language": "python",
   "name": "python3"
  },
  "language_info": {
   "codemirror_mode": {
    "name": "ipython",
    "version": 3
   },
   "file_extension": ".py",
   "mimetype": "text/x-python",
   "name": "python",
   "nbconvert_exporter": "python",
   "pygments_lexer": "ipython3",
   "version": "3.12.2"
  }
 },
 "nbformat": 4,
 "nbformat_minor": 5
}
