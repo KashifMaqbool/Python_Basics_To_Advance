{
 "cells": [
  {
   "cell_type": "markdown",
   "id": "a7df92c5",
   "metadata": {},
   "source": [
    "# Strings in Python (indexing , slicing)"
   ]
  },
  {
   "cell_type": "code",
   "execution_count": 1,
   "id": "5e1fc6ce",
   "metadata": {},
   "outputs": [
    {
     "data": {
      "text/plain": [
       "'Islam'"
      ]
     },
     "execution_count": 1,
     "metadata": {},
     "output_type": "execute_result"
    }
   ],
   "source": [
    "'Islam'"
   ]
  },
  {
   "cell_type": "code",
   "execution_count": 2,
   "id": "87aa2e8d",
   "metadata": {},
   "outputs": [
    {
     "data": {
      "text/plain": [
       "'Islam'"
      ]
     },
     "execution_count": 2,
     "metadata": {},
     "output_type": "execute_result"
    }
   ],
   "source": [
    "\"Islam\""
   ]
  },
  {
   "cell_type": "code",
   "execution_count": 3,
   "id": "fbefecc9",
   "metadata": {},
   "outputs": [
    {
     "data": {
      "text/plain": [
       "'Islam is the relegion of peace'"
      ]
     },
     "execution_count": 3,
     "metadata": {},
     "output_type": "execute_result"
    }
   ],
   "source": [
    "'Islam is the relegion of peace'"
   ]
  },
  {
   "cell_type": "code",
   "execution_count": 4,
   "id": "39062fef",
   "metadata": {},
   "outputs": [
    {
     "data": {
      "text/plain": [
       "'Islam is the relegion of peace'"
      ]
     },
     "execution_count": 4,
     "metadata": {},
     "output_type": "execute_result"
    }
   ],
   "source": [
    "# The spaces used in any string are called as white spaces and also included in string\n",
    "\"Islam is the relegion of peace\""
   ]
  },
  {
   "cell_type": "markdown",
   "id": "29f5439f",
   "metadata": {},
   "source": [
    "### IN and out in python( As I writer as i get answer.) in above examples"
   ]
  },
  {
   "cell_type": "code",
   "execution_count": 5,
   "id": "78cccb00",
   "metadata": {},
   "outputs": [
    {
     "ename": "SyntaxError",
     "evalue": "invalid syntax (<ipython-input-5-ba1ae902d3d5>, line 1)",
     "output_type": "error",
     "traceback": [
      "\u001b[1;36m  File \u001b[1;32m\"<ipython-input-5-ba1ae902d3d5>\"\u001b[1;36m, line \u001b[1;32m1\u001b[0m\n\u001b[1;33m    'I'am going to teach python\u001b[0m\n\u001b[1;37m       ^\u001b[0m\n\u001b[1;31mSyntaxError\u001b[0m\u001b[1;31m:\u001b[0m invalid syntax\n"
     ]
    }
   ],
   "source": [
    "# it will give an error.\n",
    "\n",
    "'I'm going to teach python"
   ]
  },
  {
   "cell_type": "code",
   "execution_count": 6,
   "id": "4caa6500",
   "metadata": {},
   "outputs": [
    {
     "data": {
      "text/plain": [
       "\"I'm going to teach python.\""
      ]
     },
     "execution_count": 6,
     "metadata": {},
     "output_type": "execute_result"
    }
   ],
   "source": [
    "\"I'm going to teach python.\""
   ]
  },
  {
   "cell_type": "markdown",
   "id": "cac9cc3a",
   "metadata": {},
   "source": [
    "### Using print() function"
   ]
  },
  {
   "cell_type": "code",
   "execution_count": 7,
   "id": "f61a695f",
   "metadata": {},
   "outputs": [
    {
     "name": "stdout",
     "output_type": "stream",
     "text": [
      "Islam is the relegion of peace\n"
     ]
    }
   ],
   "source": [
    "print(\"Islam is the relegion of peace\")"
   ]
  },
  {
   "cell_type": "code",
   "execution_count": 8,
   "id": "45df3392",
   "metadata": {},
   "outputs": [
    {
     "name": "stdout",
     "output_type": "stream",
     "text": [
      "Islam is the relegion of peace\n"
     ]
    }
   ],
   "source": [
    "print('Islam is the relegion of peace')"
   ]
  },
  {
   "cell_type": "code",
   "execution_count": 9,
   "id": "1c96eab2",
   "metadata": {},
   "outputs": [
    {
     "data": {
      "text/plain": [
       "'You want to learn python'"
      ]
     },
     "execution_count": 9,
     "metadata": {},
     "output_type": "execute_result"
    }
   ],
   "source": [
    "# you will get last string \n",
    "\n",
    "\"Islam is the relegion of peace.\"\n",
    "\"You want to learn python\""
   ]
  },
  {
   "cell_type": "code",
   "execution_count": 10,
   "id": "1cf8c0b2",
   "metadata": {},
   "outputs": [
    {
     "name": "stdout",
     "output_type": "stream",
     "text": [
      "Islam is the relegion of peace.\n",
      "You want to learn python\n"
     ]
    }
   ],
   "source": [
    "# if you want both strings to be printed then;\n",
    "\n",
    "print(\"Islam is the relegion of peace.\")\n",
    "print(\"You want to learn python\")"
   ]
  },
  {
   "cell_type": "code",
   "execution_count": 11,
   "id": "26249118",
   "metadata": {},
   "outputs": [
    {
     "name": "stdout",
     "output_type": "stream",
     "text": [
      "Islam is the relegion \n",
      " of peace.\n"
     ]
    }
   ],
   "source": [
    "# another way of writing strings into two lines is ecape sequence \n",
    "\n",
    "print(\"Islam is the relegion \\n of peace.\")"
   ]
  },
  {
   "cell_type": "markdown",
   "id": "5143eec9",
   "metadata": {},
   "source": [
    "# Finding Length"
   ]
  },
  {
   "cell_type": "code",
   "execution_count": 12,
   "id": "eaa8dd53",
   "metadata": {},
   "outputs": [
    {
     "data": {
      "text/plain": [
       "5"
      ]
     },
     "execution_count": 12,
     "metadata": {},
     "output_type": "execute_result"
    }
   ],
   "source": [
    "len('Islam')"
   ]
  },
  {
   "cell_type": "code",
   "execution_count": 13,
   "id": "a8b70ea5",
   "metadata": {},
   "outputs": [
    {
     "data": {
      "text/plain": [
       "4"
      ]
     },
     "execution_count": 13,
     "metadata": {},
     "output_type": "execute_result"
    }
   ],
   "source": [
    "len(\"I am\")"
   ]
  },
  {
   "cell_type": "code",
   "execution_count": 1,
   "id": "9eeb4e35",
   "metadata": {},
   "outputs": [
    {
     "data": {
      "text/plain": [
       "14"
      ]
     },
     "execution_count": 1,
     "metadata": {},
     "output_type": "execute_result"
    }
   ],
   "source": [
    "len(\"kashif Maqbool\")"
   ]
  },
  {
   "cell_type": "markdown",
   "id": "07543918",
   "metadata": {},
   "source": [
    "# Indexing"
   ]
  },
  {
   "cell_type": "code",
   "execution_count": 4,
   "id": "cd2e5f6b",
   "metadata": {},
   "outputs": [],
   "source": [
    "myString = \"Islam is the relegion of Peace.\""
   ]
  },
  {
   "cell_type": "code",
   "execution_count": 6,
   "id": "d9d05b27",
   "metadata": {},
   "outputs": [
    {
     "data": {
      "text/plain": [
       "'Islam is the relegion of Peace.'"
      ]
     },
     "execution_count": 6,
     "metadata": {},
     "output_type": "execute_result"
    }
   ],
   "source": [
    "myString"
   ]
  },
  {
   "cell_type": "code",
   "execution_count": 8,
   "id": "e07714da",
   "metadata": {},
   "outputs": [
    {
     "data": {
      "text/plain": [
       "'i'"
      ]
     },
     "execution_count": 8,
     "metadata": {},
     "output_type": "execute_result"
    }
   ],
   "source": [
    "myString[6]"
   ]
  },
  {
   "cell_type": "code",
   "execution_count": 10,
   "id": "7a802378",
   "metadata": {},
   "outputs": [
    {
     "data": {
      "text/plain": [
       "'t'"
      ]
     },
     "execution_count": 10,
     "metadata": {},
     "output_type": "execute_result"
    }
   ],
   "source": [
    "myString[9]"
   ]
  },
  {
   "cell_type": "code",
   "execution_count": 12,
   "id": "0ce687af",
   "metadata": {},
   "outputs": [
    {
     "data": {
      "text/plain": [
       "'s'"
      ]
     },
     "execution_count": 12,
     "metadata": {},
     "output_type": "execute_result"
    }
   ],
   "source": [
    "myString[7]"
   ]
  },
  {
   "cell_type": "code",
   "execution_count": 14,
   "id": "8fd86fb1",
   "metadata": {},
   "outputs": [
    {
     "data": {
      "text/plain": [
       "' '"
      ]
     },
     "execution_count": 14,
     "metadata": {},
     "output_type": "execute_result"
    }
   ],
   "source": [
    "# Reverse Indexing(Negative Integers)\n",
    "\n",
    "myString[5]"
   ]
  },
  {
   "cell_type": "code",
   "execution_count": 8,
   "id": "f46719e7",
   "metadata": {},
   "outputs": [],
   "source": [
    "mystring = 'Islam'"
   ]
  },
  {
   "cell_type": "code",
   "execution_count": 10,
   "id": "57695eb6",
   "metadata": {},
   "outputs": [
    {
     "data": {
      "text/plain": [
       "'l'"
      ]
     },
     "execution_count": 10,
     "metadata": {},
     "output_type": "execute_result"
    }
   ],
   "source": [
    "mystring[2]"
   ]
  },
  {
   "cell_type": "code",
   "execution_count": 9,
   "id": "20077cca",
   "metadata": {},
   "outputs": [
    {
     "data": {
      "text/plain": [
       "'a'"
      ]
     },
     "execution_count": 9,
     "metadata": {},
     "output_type": "execute_result"
    }
   ],
   "source": [
    "mystring[-2]"
   ]
  },
  {
   "cell_type": "code",
   "execution_count": 11,
   "id": "c2dc04e7",
   "metadata": {},
   "outputs": [
    {
     "data": {
      "text/plain": [
       "'I'"
      ]
     },
     "execution_count": 11,
     "metadata": {},
     "output_type": "execute_result"
    }
   ],
   "source": [
    "# As \"I\" is on both 0 and -5 both positions\n",
    "\n",
    "mystring[0]"
   ]
  },
  {
   "cell_type": "code",
   "execution_count": 12,
   "id": "42146e36",
   "metadata": {},
   "outputs": [
    {
     "data": {
      "text/plain": [
       "'I'"
      ]
     },
     "execution_count": 12,
     "metadata": {},
     "output_type": "execute_result"
    }
   ],
   "source": [
    "mystring[-5]"
   ]
  },
  {
   "cell_type": "markdown",
   "id": "c128cd52",
   "metadata": {},
   "source": [
    "# Slicing"
   ]
  },
  {
   "cell_type": "code",
   "execution_count": 18,
   "id": "e941016e",
   "metadata": {},
   "outputs": [],
   "source": [
    "string = \"Muhammad\""
   ]
  },
  {
   "cell_type": "code",
   "execution_count": 20,
   "id": "ec057d3d",
   "metadata": {},
   "outputs": [
    {
     "data": {
      "text/plain": [
       "'hammad'"
      ]
     },
     "execution_count": 20,
     "metadata": {},
     "output_type": "execute_result"
    }
   ],
   "source": [
    "string[2:8]"
   ]
  },
  {
   "cell_type": "code",
   "execution_count": 22,
   "id": "b2f07f3e",
   "metadata": {},
   "outputs": [
    {
     "data": {
      "text/plain": [
       "'hammad'"
      ]
     },
     "execution_count": 22,
     "metadata": {},
     "output_type": "execute_result"
    }
   ],
   "source": [
    "# another way of above method( print from last position to last)\n",
    "\n",
    "string[2:]"
   ]
  },
  {
   "cell_type": "code",
   "execution_count": 24,
   "id": "a89c51fb",
   "metadata": {
    "scrolled": true
   },
   "outputs": [
    {
     "data": {
      "text/plain": [
       "'Mu'"
      ]
     },
     "execution_count": 24,
     "metadata": {},
     "output_type": "execute_result"
    }
   ],
   "source": [
    "# print before second position\n",
    "\n",
    "string[:2]"
   ]
  },
  {
   "cell_type": "code",
   "execution_count": 26,
   "id": "fe996689",
   "metadata": {},
   "outputs": [],
   "source": [
    "string = \"Kashif_Maqbool\""
   ]
  },
  {
   "cell_type": "code",
   "execution_count": 28,
   "id": "88ba7229",
   "metadata": {},
   "outputs": [
    {
     "data": {
      "text/plain": [
       "'Ksi_abo'"
      ]
     },
     "execution_count": 28,
     "metadata": {},
     "output_type": "execute_result"
    }
   ],
   "source": [
    "# jumping of two indexes or more\n",
    "# [Start:Stop:Jumping]\n",
    "\n",
    "string[: : 2]"
   ]
  },
  {
   "cell_type": "code",
   "execution_count": 20,
   "id": "218eb4a3",
   "metadata": {},
   "outputs": [
    {
     "data": {
      "text/plain": [
       "'Kh_qo'"
      ]
     },
     "execution_count": 20,
     "metadata": {},
     "output_type": "execute_result"
    }
   ],
   "source": [
    "string[: : 3]"
   ]
  },
  {
   "cell_type": "code",
   "execution_count": 21,
   "id": "a62b03ad",
   "metadata": {},
   "outputs": [
    {
     "data": {
      "text/plain": [
       "'ahf'"
      ]
     },
     "execution_count": 21,
     "metadata": {},
     "output_type": "execute_result"
    }
   ],
   "source": [
    "# [start: stop\" jumping]\n",
    "\n",
    "string[1:7:2]"
   ]
  },
  {
   "cell_type": "code",
   "execution_count": 25,
   "id": "a1f15a89",
   "metadata": {},
   "outputs": [
    {
     "data": {
      "text/plain": [
       "'loqMfha'"
      ]
     },
     "execution_count": 25,
     "metadata": {},
     "output_type": "execute_result"
    }
   ],
   "source": [
    "# Reversing(interview question)\n",
    "\n",
    "string[::-2]"
   ]
  },
  {
   "cell_type": "code",
   "execution_count": 30,
   "id": "dc3c53eb-dba2-47d1-aa0b-b11c4be2a85d",
   "metadata": {},
   "outputs": [
    {
     "data": {
      "text/plain": [
       "'zwtqnkheb'"
      ]
     },
     "execution_count": 30,
     "metadata": {},
     "output_type": "execute_result"
    }
   ],
   "source": [
    "abcd = \"abcdefghijklmnopqrstuvwxyz\"\n",
    "abcd[::-3]"
   ]
  },
  {
   "cell_type": "markdown",
   "id": "4ce73ee3",
   "metadata": {},
   "source": [
    "# Immutability in Stirngs"
   ]
  },
  {
   "cell_type": "code",
   "execution_count": 32,
   "id": "bd686a5d",
   "metadata": {},
   "outputs": [],
   "source": [
    "# means no changing in the strings after creation but you can use concatenation for changing in string.\n",
    "\n",
    "name = 'Kashif'"
   ]
  },
  {
   "cell_type": "code",
   "execution_count": 34,
   "id": "047fc6b3",
   "metadata": {},
   "outputs": [
    {
     "ename": "TypeError",
     "evalue": "'str' object does not support item assignment",
     "output_type": "error",
     "traceback": [
      "\u001b[0;31m---------------------------------------------------------------------------\u001b[0m",
      "\u001b[0;31mTypeError\u001b[0m                                 Traceback (most recent call last)",
      "Cell \u001b[0;32mIn[34], line 1\u001b[0m\n\u001b[0;32m----> 1\u001b[0m name[\u001b[38;5;241m1\u001b[39m] \u001b[38;5;241m=\u001b[39m \u001b[38;5;124m'\u001b[39m\u001b[38;5;124mMaqbool\u001b[39m\u001b[38;5;124m'\u001b[39m\n",
      "\u001b[0;31mTypeError\u001b[0m: 'str' object does not support item assignment"
     ]
    }
   ],
   "source": [
    "name[1] = 'Maqbool'"
   ]
  },
  {
   "cell_type": "markdown",
   "id": "f1e0f274",
   "metadata": {},
   "source": [
    "## Addition using concatenation"
   ]
  },
  {
   "cell_type": "code",
   "execution_count": 38,
   "id": "64195aa4",
   "metadata": {},
   "outputs": [],
   "source": [
    "# Methods\n",
    "\n",
    "last_letter = name[1:]"
   ]
  },
  {
   "cell_type": "code",
   "execution_count": 40,
   "id": "3f7ecf19",
   "metadata": {},
   "outputs": [
    {
     "data": {
      "text/plain": [
       "'ashif'"
      ]
     },
     "execution_count": 40,
     "metadata": {},
     "output_type": "execute_result"
    }
   ],
   "source": [
    "last_letter"
   ]
  },
  {
   "cell_type": "code",
   "execution_count": 42,
   "id": "94d310cf",
   "metadata": {},
   "outputs": [
    {
     "data": {
      "text/plain": [
       "'Kashif'"
      ]
     },
     "execution_count": 42,
     "metadata": {},
     "output_type": "execute_result"
    }
   ],
   "source": [
    "\"K\" + last_letter"
   ]
  },
  {
   "cell_type": "code",
   "execution_count": 44,
   "id": "90593e0a",
   "metadata": {},
   "outputs": [
    {
     "data": {
      "text/plain": [
       "'Iashif'"
      ]
     },
     "execution_count": 44,
     "metadata": {},
     "output_type": "execute_result"
    }
   ],
   "source": [
    "'I' + last_letter"
   ]
  },
  {
   "cell_type": "code",
   "execution_count": 1,
   "id": "ae9afc29",
   "metadata": {},
   "outputs": [],
   "source": [
    "a = \"Islam\" "
   ]
  },
  {
   "cell_type": "code",
   "execution_count": 3,
   "id": "968e3075",
   "metadata": {},
   "outputs": [],
   "source": [
    "a = a + \" means peace.\""
   ]
  },
  {
   "cell_type": "code",
   "execution_count": 5,
   "id": "1e1fd06b",
   "metadata": {},
   "outputs": [
    {
     "name": "stdout",
     "output_type": "stream",
     "text": [
      "Islam means peace.\n"
     ]
    }
   ],
   "source": [
    "print(a)"
   ]
  },
  {
   "cell_type": "markdown",
   "id": "53dbf216",
   "metadata": {},
   "source": [
    "## Multiplication using concatenation"
   ]
  },
  {
   "cell_type": "code",
   "execution_count": 8,
   "id": "6973a0be",
   "metadata": {},
   "outputs": [],
   "source": [
    "# example 1\n",
    "\n",
    "number = 4"
   ]
  },
  {
   "cell_type": "code",
   "execution_count": 9,
   "id": "5a27f938",
   "metadata": {},
   "outputs": [
    {
     "data": {
      "text/plain": [
       "20"
      ]
     },
     "execution_count": 9,
     "metadata": {},
     "output_type": "execute_result"
    }
   ],
   "source": [
    "number * 5"
   ]
  },
  {
   "cell_type": "code",
   "execution_count": 10,
   "id": "b125184d",
   "metadata": {},
   "outputs": [],
   "source": [
    "# example 2\n",
    "\n",
    "letter = 'a'"
   ]
  },
  {
   "cell_type": "code",
   "execution_count": 11,
   "id": "8a8d1f22",
   "metadata": {},
   "outputs": [
    {
     "data": {
      "text/plain": [
       "'aaaaa'"
      ]
     },
     "execution_count": 11,
     "metadata": {},
     "output_type": "execute_result"
    }
   ],
   "source": [
    "letter *5"
   ]
  },
  {
   "cell_type": "code",
   "execution_count": 12,
   "id": "4e9c2b31",
   "metadata": {},
   "outputs": [
    {
     "data": {
      "text/plain": [
       "10"
      ]
     },
     "execution_count": 12,
     "metadata": {},
     "output_type": "execute_result"
    }
   ],
   "source": [
    "# example 3\n",
    "\n",
    "5 + 5"
   ]
  },
  {
   "cell_type": "code",
   "execution_count": 13,
   "id": "013f8cc7",
   "metadata": {},
   "outputs": [
    {
     "data": {
      "text/plain": [
       "'55'"
      ]
     },
     "execution_count": 13,
     "metadata": {},
     "output_type": "execute_result"
    }
   ],
   "source": [
    "'5' + '5'"
   ]
  }
 ],
 "metadata": {
  "kernelspec": {
   "display_name": "Python 3 (ipykernel)",
   "language": "python",
   "name": "python3"
  },
  "language_info": {
   "codemirror_mode": {
    "name": "ipython",
    "version": 3
   },
   "file_extension": ".py",
   "mimetype": "text/x-python",
   "name": "python",
   "nbconvert_exporter": "python",
   "pygments_lexer": "ipython3",
   "version": "3.12.2"
  }
 },
 "nbformat": 4,
 "nbformat_minor": 5
}
