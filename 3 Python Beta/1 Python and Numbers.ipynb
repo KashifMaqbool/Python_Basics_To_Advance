{
 "cells": [
  {
   "cell_type": "markdown",
   "id": "b80633e6",
   "metadata": {},
   "source": [
    "# Assigning values to variables"
   ]
  },
  {
   "cell_type": "code",
   "execution_count": 4,
   "id": "811a8766",
   "metadata": {},
   "outputs": [],
   "source": [
    "kashif_maqbool = 99"
   ]
  },
  {
   "cell_type": "code",
   "execution_count": 6,
   "id": "6ca3140b",
   "metadata": {},
   "outputs": [
    {
     "data": {
      "text/plain": [
       "99"
      ]
     },
     "execution_count": 6,
     "metadata": {},
     "output_type": "execute_result"
    }
   ],
   "source": [
    "kashif_maqbool"
   ]
  },
  {
   "cell_type": "markdown",
   "id": "6270373c",
   "metadata": {},
   "source": [
    "# Rules for variables"
   ]
  },
  {
   "cell_type": "code",
   "execution_count": 8,
   "id": "2b7b89d8",
   "metadata": {},
   "outputs": [
    {
     "ename": "SyntaxError",
     "evalue": "invalid syntax (3703485418.py, line 2)",
     "output_type": "error",
     "traceback": [
      "\u001b[0;36m  Cell \u001b[0;32mIn[8], line 2\u001b[0;36m\u001b[0m\n\u001b[0;31m    Kashif Maqbool = 99\u001b[0m\n\u001b[0m           ^\u001b[0m\n\u001b[0;31mSyntaxError\u001b[0m\u001b[0;31m:\u001b[0m invalid syntax\n"
     ]
    }
   ],
   "source": [
    "# no space only underscore\n",
    "Kashif Maqbool = 99"
   ]
  },
  {
   "cell_type": "code",
   "execution_count": 10,
   "id": "ba9648e6",
   "metadata": {},
   "outputs": [],
   "source": [
    "kashif_maqbool = 99"
   ]
  },
  {
   "cell_type": "code",
   "execution_count": 12,
   "id": "5f713d27",
   "metadata": {},
   "outputs": [
    {
     "ename": "SyntaxError",
     "evalue": "cannot assign to literal here. Maybe you meant '==' instead of '='? (2858250755.py, line 3)",
     "output_type": "error",
     "traceback": [
      "\u001b[0;36m  Cell \u001b[0;32mIn[12], line 3\u001b[0;36m\u001b[0m\n\u001b[0;31m    99 = kashif_Maqbool\u001b[0m\n\u001b[0m    ^\u001b[0m\n\u001b[0;31mSyntaxError\u001b[0m\u001b[0;31m:\u001b[0m cannot assign to literal here. Maybe you meant '==' instead of '='?\n"
     ]
    }
   ],
   "source": [
    "# name not start with a number\n",
    "\n",
    "99 = kashif_Maqbool"
   ]
  },
  {
   "cell_type": "code",
   "execution_count": 14,
   "id": "4527f191",
   "metadata": {},
   "outputs": [],
   "source": [
    "# not use keywords which have special meanings in python because it will create problem later in code.\n",
    "\n",
    "list = 99\n",
    "str = 100"
   ]
  },
  {
   "cell_type": "code",
   "execution_count": 16,
   "id": "dc5d4463",
   "metadata": {},
   "outputs": [
    {
     "ename": "SyntaxError",
     "evalue": "invalid syntax (3029565246.py, line 3)",
     "output_type": "error",
     "traceback": [
      "\u001b[0;36m  Cell \u001b[0;32mIn[16], line 3\u001b[0;36m\u001b[0m\n\u001b[0;31m    $dollar = 225\u001b[0m\n\u001b[0m    ^\u001b[0m\n\u001b[0;31mSyntaxError\u001b[0m\u001b[0;31m:\u001b[0m invalid syntax\n"
     ]
    }
   ],
   "source": [
    "# and also not used special characters in defining vaiables\n",
    "\n",
    "$dollar = 225"
   ]
  },
  {
   "cell_type": "markdown",
   "id": "240ecbd8",
   "metadata": {},
   "source": [
    "# Dynamic Typing in python"
   ]
  },
  {
   "cell_type": "code",
   "execution_count": 18,
   "id": "c22b2feb",
   "metadata": {},
   "outputs": [],
   "source": [
    "# e.g. syntax\n",
    "\n",
    "kashif = 1\n",
    "kashif_website = ['name', 'relegion']"
   ]
  },
  {
   "cell_type": "code",
   "execution_count": 20,
   "id": "ca6167ef",
   "metadata": {},
   "outputs": [],
   "source": [
    "# every time updates value until you restart kernel\n",
    "\n",
    "a=10"
   ]
  },
  {
   "cell_type": "code",
   "execution_count": 22,
   "id": "e64e0dcd",
   "metadata": {},
   "outputs": [
    {
     "data": {
      "text/plain": [
       "10"
      ]
     },
     "execution_count": 22,
     "metadata": {},
     "output_type": "execute_result"
    }
   ],
   "source": [
    "a"
   ]
  },
  {
   "cell_type": "code",
   "execution_count": 24,
   "id": "9c192545",
   "metadata": {},
   "outputs": [
    {
     "data": {
      "text/plain": [
       "20"
      ]
     },
     "execution_count": 24,
     "metadata": {},
     "output_type": "execute_result"
    }
   ],
   "source": [
    "a+a"
   ]
  },
  {
   "cell_type": "code",
   "execution_count": 26,
   "id": "015931e8",
   "metadata": {},
   "outputs": [],
   "source": [
    "# run this row and then run below row e.g. a and you will always get updated value of 'a' and this is an example of dynamic \n",
    "# typing in python.\n",
    "\n",
    "a= a+a"
   ]
  },
  {
   "cell_type": "code",
   "execution_count": 28,
   "id": "7c0f0db6",
   "metadata": {},
   "outputs": [
    {
     "data": {
      "text/plain": [
       "20"
      ]
     },
     "execution_count": 28,
     "metadata": {},
     "output_type": "execute_result"
    }
   ],
   "source": [
    "a"
   ]
  },
  {
   "cell_type": "code",
   "execution_count": 2,
   "id": "35f56fb4",
   "metadata": {},
   "outputs": [
    {
     "ename": "NameError",
     "evalue": "name 'a' is not defined",
     "output_type": "error",
     "traceback": [
      "\u001b[0;31m---------------------------------------------------------------------------\u001b[0m",
      "\u001b[0;31mNameError\u001b[0m                                 Traceback (most recent call last)",
      "Cell \u001b[0;32mIn[2], line 3\u001b[0m\n\u001b[1;32m      1\u001b[0m \u001b[38;5;66;03m# Now restart kernel and run 'a' again and this time it will give error that first define 'a' variable\u001b[39;00m\n\u001b[0;32m----> 3\u001b[0m a\n",
      "\u001b[0;31mNameError\u001b[0m: name 'a' is not defined"
     ]
    }
   ],
   "source": [
    "# Now restart kernel and run 'a' again and this time it will give error that first define 'a' variable\n",
    "\n",
    "a"
   ]
  },
  {
   "cell_type": "markdown",
   "id": "a1b32ba7",
   "metadata": {},
   "source": [
    "# Static Typing in python"
   ]
  },
  {
   "cell_type": "code",
   "execution_count": 4,
   "id": "801c6167",
   "metadata": {},
   "outputs": [
    {
     "ename": "SyntaxError",
     "evalue": "invalid syntax (4182630597.py, line 1)",
     "output_type": "error",
     "traceback": [
      "\u001b[0;36m  Cell \u001b[0;32mIn[4], line 1\u001b[0;36m\u001b[0m\n\u001b[0;31m    int kashif = 1;\u001b[0m\n\u001b[0m        ^\u001b[0m\n\u001b[0;31mSyntaxError\u001b[0m\u001b[0;31m:\u001b[0m invalid syntax\n"
     ]
    }
   ],
   "source": [
    "int kashif = 1;\n",
    "kashif_website = \"name\";"
   ]
  },
  {
   "cell_type": "markdown",
   "id": "3f850bb1",
   "metadata": {},
   "source": [
    "# type() function in python to find data type"
   ]
  },
  {
   "cell_type": "code",
   "execution_count": 6,
   "id": "85757899",
   "metadata": {},
   "outputs": [],
   "source": [
    "a= 10"
   ]
  },
  {
   "cell_type": "code",
   "execution_count": 8,
   "id": "945a8fb5",
   "metadata": {},
   "outputs": [
    {
     "data": {
      "text/plain": [
       "int"
      ]
     },
     "execution_count": 8,
     "metadata": {},
     "output_type": "execute_result"
    }
   ],
   "source": [
    "type(a)"
   ]
  },
  {
   "cell_type": "code",
   "execution_count": 10,
   "id": "81286c56",
   "metadata": {},
   "outputs": [],
   "source": [
    "b = 2.0"
   ]
  },
  {
   "cell_type": "code",
   "execution_count": 12,
   "id": "150e95f3",
   "metadata": {},
   "outputs": [
    {
     "data": {
      "text/plain": [
       "float"
      ]
     },
     "execution_count": 12,
     "metadata": {},
     "output_type": "execute_result"
    }
   ],
   "source": [
    "type(b)"
   ]
  },
  {
   "cell_type": "code",
   "execution_count": 14,
   "id": "a073bd42",
   "metadata": {},
   "outputs": [],
   "source": [
    "kashif_web = 20\n",
    "kashif_android = 30\n",
    "kashif_total = kashif_web + kashif_android"
   ]
  },
  {
   "cell_type": "code",
   "execution_count": 16,
   "id": "f7313d9b",
   "metadata": {},
   "outputs": [
    {
     "data": {
      "text/plain": [
       "50"
      ]
     },
     "execution_count": 16,
     "metadata": {},
     "output_type": "execute_result"
    }
   ],
   "source": [
    "kashif_total"
   ]
  },
  {
   "cell_type": "code",
   "execution_count": null,
   "id": "d4c7662e",
   "metadata": {},
   "outputs": [],
   "source": []
  }
 ],
 "metadata": {
  "kernelspec": {
   "display_name": "Python 3 (ipykernel)",
   "language": "python",
   "name": "python3"
  },
  "language_info": {
   "codemirror_mode": {
    "name": "ipython",
    "version": 3
   },
   "file_extension": ".py",
   "mimetype": "text/x-python",
   "name": "python",
   "nbconvert_exporter": "python",
   "pygments_lexer": "ipython3",
   "version": "3.12.2"
  }
 },
 "nbformat": 4,
 "nbformat_minor": 5
}
