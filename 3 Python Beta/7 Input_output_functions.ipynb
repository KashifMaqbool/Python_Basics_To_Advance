{
 "cells": [
  {
   "cell_type": "markdown",
   "id": "84800627-d56a-4abb-94c0-06494b7cb040",
   "metadata": {},
   "source": [
    "# File Writing"
   ]
  },
  {
   "cell_type": "markdown",
   "id": "d9ca6aa9-2304-4d2b-b609-178a70a766b9",
   "metadata": {},
   "source": [
    "### File writing fuction and Writing Data inside it"
   ]
  },
  {
   "cell_type": "code",
   "execution_count": 30,
   "id": "74380cbe-4adc-4647-982f-42ab1296d40a",
   "metadata": {},
   "outputs": [
    {
     "name": "stdout",
     "output_type": "stream",
     "text": [
      "Overwriting 7.1_myfile.txt\n"
     ]
    }
   ],
   "source": [
    "%%writefile 7.1_myfile.txt\n",
    "MY name is kashif Maqbool.\n",
    "I am 23 years old.\n",
    "I study COMPUTER SCIENCE."
   ]
  },
  {
   "cell_type": "markdown",
   "id": "29385153-8cdc-4bdf-8e97-1edda010765a",
   "metadata": {},
   "source": [
    "### Opening file and reading its data"
   ]
  },
  {
   "cell_type": "code",
   "execution_count": 33,
   "id": "c83a3632-d7d5-48db-abcb-93d20388d98d",
   "metadata": {},
   "outputs": [],
   "source": [
    "myfile = open(\"7.1_myfile.txt\")"
   ]
  },
  {
   "cell_type": "code",
   "execution_count": 35,
   "id": "8d4c818a-d541-4ce5-a118-f17d064881d0",
   "metadata": {},
   "outputs": [
    {
     "data": {
      "text/plain": [
       "'MY name is kashif Maqbool.\\nI am 23 years old.\\nI study COMPUTER SCIENCE.\\n'"
      ]
     },
     "execution_count": 35,
     "metadata": {},
     "output_type": "execute_result"
    }
   ],
   "source": [
    "myfile.read()\n",
    "# here in output backslash with n (\\n) is used for the next line"
   ]
  },
  {
   "cell_type": "code",
   "execution_count": 37,
   "id": "994fdd7c-c237-49d8-a608-8b456f505c47",
   "metadata": {},
   "outputs": [],
   "source": [
    "#### now cursor is at the end of text inside the file e.g. empty space. If we now try to \n",
    "#### read file it will give us the empty string"
   ]
  },
  {
   "cell_type": "code",
   "execution_count": 39,
   "id": "fbe79e63-b054-4c0f-abdd-0c8df531851e",
   "metadata": {},
   "outputs": [
    {
     "data": {
      "text/plain": [
       "''"
      ]
     },
     "execution_count": 39,
     "metadata": {},
     "output_type": "execute_result"
    }
   ],
   "source": [
    "myfile.read()"
   ]
  },
  {
   "cell_type": "code",
   "execution_count": 41,
   "id": "fa859101-c537-4249-b344-fc4aa3179486",
   "metadata": {},
   "outputs": [],
   "source": [
    "#### to read the file again, first we have to seek it."
   ]
  },
  {
   "cell_type": "code",
   "execution_count": 43,
   "id": "1b3c1bc4-fa96-41cd-b9f2-d67098dccfe2",
   "metadata": {},
   "outputs": [
    {
     "data": {
      "text/plain": [
       "0"
      ]
     },
     "execution_count": 43,
     "metadata": {},
     "output_type": "execute_result"
    }
   ],
   "source": [
    "myfile.seek(0)"
   ]
  },
  {
   "cell_type": "code",
   "execution_count": 45,
   "id": "8ad1a279-9eb6-4bf9-af25-2e5d96e52859",
   "metadata": {},
   "outputs": [],
   "source": [
    "#### now use read method again"
   ]
  },
  {
   "cell_type": "code",
   "execution_count": 47,
   "id": "3c1ff5c9-1d4b-4349-8d67-0933b15803fb",
   "metadata": {},
   "outputs": [
    {
     "data": {
      "text/plain": [
       "'MY name is kashif Maqbool.\\nI am 23 years old.\\nI study COMPUTER SCIENCE.\\n'"
      ]
     },
     "execution_count": 47,
     "metadata": {},
     "output_type": "execute_result"
    }
   ],
   "source": [
    "myfile.read()"
   ]
  },
  {
   "cell_type": "code",
   "execution_count": 49,
   "id": "98cf981c-0821-425f-88e8-c4c6d2349161",
   "metadata": {},
   "outputs": [
    {
     "data": {
      "text/plain": [
       "0"
      ]
     },
     "execution_count": 49,
     "metadata": {},
     "output_type": "execute_result"
    }
   ],
   "source": [
    "myfile.seek(0)"
   ]
  },
  {
   "cell_type": "markdown",
   "id": "ab3a3205-5755-4525-a01a-eedc4dd3dd96",
   "metadata": {},
   "source": [
    "### Reading line by line"
   ]
  },
  {
   "cell_type": "code",
   "execution_count": 52,
   "id": "dab4b43b-ef63-4494-8c56-6961e068fe9b",
   "metadata": {},
   "outputs": [
    {
     "data": {
      "text/plain": [
       "'MY name is kashif Maqbool.\\n'"
      ]
     },
     "execution_count": 52,
     "metadata": {},
     "output_type": "execute_result"
    }
   ],
   "source": [
    "myfile.readline()"
   ]
  },
  {
   "cell_type": "code",
   "execution_count": 54,
   "id": "1d51a649-8ae5-4b42-8ee2-029c83d3cbec",
   "metadata": {},
   "outputs": [],
   "source": [
    "#### now cursor is at end of first line. next time it will generate second line."
   ]
  },
  {
   "cell_type": "code",
   "execution_count": 56,
   "id": "55a1daac-1efc-4ee8-be8d-69a237259c53",
   "metadata": {},
   "outputs": [
    {
     "data": {
      "text/plain": [
       "'I am 23 years old.\\n'"
      ]
     },
     "execution_count": 56,
     "metadata": {},
     "output_type": "execute_result"
    }
   ],
   "source": [
    "myfile.readline()"
   ]
  },
  {
   "cell_type": "code",
   "execution_count": 58,
   "id": "3a814ca1-6e0a-44cd-bfe8-296f0e515de3",
   "metadata": {},
   "outputs": [
    {
     "data": {
      "text/plain": [
       "'I study COMPUTER SCIENCE.\\n'"
      ]
     },
     "execution_count": 58,
     "metadata": {},
     "output_type": "execute_result"
    }
   ],
   "source": [
    "myfile.readline()"
   ]
  },
  {
   "cell_type": "code",
   "execution_count": 60,
   "id": "a2fa4a48-5b98-44a9-a837-ce4ed398531e",
   "metadata": {},
   "outputs": [
    {
     "data": {
      "text/plain": [
       "0"
      ]
     },
     "execution_count": 60,
     "metadata": {},
     "output_type": "execute_result"
    }
   ],
   "source": [
    "myfile.seek(0)"
   ]
  },
  {
   "cell_type": "markdown",
   "id": "fbf25c70-f7ef-49e8-85eb-713b33de0d88",
   "metadata": {},
   "source": [
    "### Reading all lines together."
   ]
  },
  {
   "cell_type": "code",
   "execution_count": 63,
   "id": "a481efd4-50b2-4081-a84f-e90b7f53ed24",
   "metadata": {},
   "outputs": [
    {
     "data": {
      "text/plain": [
       "['MY name is kashif Maqbool.\\n',\n",
       " 'I am 23 years old.\\n',\n",
       " 'I study COMPUTER SCIENCE.\\n']"
      ]
     },
     "execution_count": 63,
     "metadata": {},
     "output_type": "execute_result"
    }
   ],
   "source": [
    "myfile.readlines()"
   ]
  },
  {
   "cell_type": "markdown",
   "id": "a6bcb975-eedb-47e3-a211-34ed8aa61f3e",
   "metadata": {},
   "source": [
    "### Finding directory of created file"
   ]
  },
  {
   "cell_type": "code",
   "execution_count": 66,
   "id": "28ae49b8-da34-48d1-bb36-cd5ab9c7316e",
   "metadata": {},
   "outputs": [
    {
     "ename": "NameError",
     "evalue": "name 'pwd' is not defined",
     "output_type": "error",
     "traceback": [
      "\u001b[0;31m---------------------------------------------------------------------------\u001b[0m",
      "\u001b[0;31mNameError\u001b[0m                                 Traceback (most recent call last)",
      "Cell \u001b[0;32mIn[66], line 2\u001b[0m\n\u001b[1;32m      1\u001b[0m \u001b[38;5;66;03m#### pwd means Python working directory\u001b[39;00m\n\u001b[0;32m----> 2\u001b[0m pwd\n",
      "\u001b[0;31mNameError\u001b[0m: name 'pwd' is not defined"
     ]
    }
   ],
   "source": [
    "#### pwd means Python working directory\n",
    "pwd"
   ]
  }
 ],
 "metadata": {
  "kernelspec": {
   "display_name": "Python 3 (ipykernel)",
   "language": "python",
   "name": "python3"
  },
  "language_info": {
   "codemirror_mode": {
    "name": "ipython",
    "version": 3
   },
   "file_extension": ".py",
   "mimetype": "text/x-python",
   "name": "python",
   "nbconvert_exporter": "python",
   "pygments_lexer": "ipython3",
   "version": "3.12.2"
  }
 },
 "nbformat": 4,
 "nbformat_minor": 5
}
