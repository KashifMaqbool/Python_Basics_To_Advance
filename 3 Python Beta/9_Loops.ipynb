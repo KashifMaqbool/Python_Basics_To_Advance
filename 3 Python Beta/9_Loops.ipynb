{
 "cells": [
  {
   "cell_type": "markdown",
   "id": "4325461e-f196-49df-bbcc-9685488e372e",
   "metadata": {},
   "source": [
    "# Loops"
   ]
  },
  {
   "cell_type": "markdown",
   "id": "b777c318-8d9d-46f5-86c0-fbb89aab0df9",
   "metadata": {},
   "source": [
    "## 1. For Loop"
   ]
  },
  {
   "cell_type": "markdown",
   "id": "37497e09-840a-4d46-accf-f293e84e3930",
   "metadata": {},
   "source": [
    "#### Iterating the numbers"
   ]
  },
  {
   "cell_type": "code",
   "execution_count": 1,
   "id": "e793ec5b-c484-4226-b0d3-155fecedd7e1",
   "metadata": {},
   "outputs": [],
   "source": [
    "# by using list\n",
    "mylist = [1,2,3,4,5,6,7,8,9,10]"
   ]
  },
  {
   "cell_type": "code",
   "execution_count": 3,
   "id": "ac0c87ca-9b2c-45d0-84c5-22f9f861e13c",
   "metadata": {},
   "outputs": [
    {
     "name": "stdout",
     "output_type": "stream",
     "text": [
      "1\n",
      "2\n",
      "3\n",
      "4\n",
      "5\n",
      "6\n",
      "7\n",
      "8\n",
      "9\n",
      "10\n"
     ]
    }
   ],
   "source": [
    "for num in mylist:\n",
    "    print(num)"
   ]
  },
  {
   "cell_type": "code",
   "execution_count": 15,
   "id": "bd57048e-b881-46eb-af37-25b825855a90",
   "metadata": {},
   "outputs": [
    {
     "name": "stdout",
     "output_type": "stream",
     "text": [
      "1\n",
      "2\n",
      "3\n"
     ]
    }
   ],
   "source": [
    "# by using tuple\n",
    "mytuple = (1,2,3)\n",
    "for digits in mytuple:\n",
    "    print(digits)"
   ]
  },
  {
   "cell_type": "code",
   "execution_count": 21,
   "id": "7b055f30-f224-4f10-a71f-439669bf2dff",
   "metadata": {},
   "outputs": [
    {
     "data": {
      "text/plain": [
       "5"
      ]
     },
     "execution_count": 21,
     "metadata": {},
     "output_type": "execute_result"
    }
   ],
   "source": [
    "# by using tuples inside the list\n",
    "tup_list = [(1,2),(3,4),(5,6),(7,8),(9,10)]\n",
    "len(tup_list)"
   ]
  },
  {
   "cell_type": "code",
   "execution_count": 25,
   "id": "bbb6e31d-6d06-4bba-a374-9a42e9320fe0",
   "metadata": {},
   "outputs": [
    {
     "name": "stdout",
     "output_type": "stream",
     "text": [
      "1\n",
      "2\n",
      "3\n",
      "4\n",
      "5\n",
      "6\n",
      "7\n",
      "8\n",
      "9\n",
      "10\n"
     ]
    }
   ],
   "source": [
    "for (a,b) in tup_list:\n",
    "    print(a)\n",
    "    print(b)"
   ]
  },
  {
   "cell_type": "code",
   "execution_count": 29,
   "id": "4f230483-46e2-4248-9d8b-b0b31d4737f5",
   "metadata": {},
   "outputs": [
    {
     "data": {
      "text/plain": [
       "5"
      ]
     },
     "execution_count": 29,
     "metadata": {},
     "output_type": "execute_result"
    }
   ],
   "source": [
    "tup_list1 = [(1,2,'a'),(3,4,'b'),(5,6,'c'),(7,8,'d'),(9,10,'e')]\n",
    "len(tup_list1)"
   ]
  },
  {
   "cell_type": "code",
   "execution_count": 35,
   "id": "94a2e205-257c-4dfa-8f69-d0daf55e79fd",
   "metadata": {},
   "outputs": [
    {
     "name": "stdout",
     "output_type": "stream",
     "text": [
      "1 2 a\n",
      "3 4 b\n",
      "5 6 c\n",
      "7 8 d\n",
      "9 10 e\n"
     ]
    }
   ],
   "source": [
    "for (a,b,c) in tup_list1:\n",
    "    print(a,b,c)\n",
    "    #print(a)\n",
    "    #print(b)\n",
    "    #print(c)"
   ]
  },
  {
   "cell_type": "code",
   "execution_count": 37,
   "id": "d7c9baa8-dcb2-4cc9-935f-249d491263ef",
   "metadata": {},
   "outputs": [
    {
     "name": "stdout",
     "output_type": "stream",
     "text": [
      "('kI', 1)\n",
      "('k2', 2)\n",
      "('k3', 3)\n"
     ]
    }
   ],
   "source": [
    "# by using dictionary\n",
    "mydict = {'kI': 1, 'k2' :2, 'k3': 3}\n",
    "for item in mydict.items() :\n",
    "    print (item)"
   ]
  },
  {
   "cell_type": "markdown",
   "id": "75fe9142-9399-4368-9c7f-a6eb36a968d5",
   "metadata": {},
   "source": [
    "#### checking for the even numbers"
   ]
  },
  {
   "cell_type": "code",
   "execution_count": 7,
   "id": "35c4a44f-ba89-4bf6-a5b7-00fdd828155e",
   "metadata": {},
   "outputs": [
    {
     "name": "stdout",
     "output_type": "stream",
     "text": [
      "Odd Number : 1\n",
      "2\n",
      "Odd Number : 3\n",
      "4\n",
      "Odd Number : 5\n",
      "6\n",
      "Odd Number : 7\n",
      "8\n",
      "Odd Number : 9\n",
      "10\n"
     ]
    }
   ],
   "source": [
    "for num in mylist:\n",
    "    if num % 2 == 0:\n",
    "        print(num)\n",
    "    else:\n",
    "        print('Odd Number :', num)"
   ]
  },
  {
   "cell_type": "markdown",
   "id": "6ed6e697-39a1-4cd0-be37-0e2da1b864fe",
   "metadata": {},
   "source": [
    "#### sum of the list"
   ]
  },
  {
   "cell_type": "code",
   "execution_count": 11,
   "id": "b9b7cd9f-58a6-4f68-bc5a-81652060ff93",
   "metadata": {},
   "outputs": [
    {
     "name": "stdout",
     "output_type": "stream",
     "text": [
      "1\n",
      "3\n",
      "6\n",
      "10\n",
      "15\n",
      "21\n",
      "28\n",
      "36\n",
      "45\n",
      "55\n"
     ]
    }
   ],
   "source": [
    "list_sum = 0\n",
    "for num in mylist:\n",
    "    list_sum = list_sum + num\n",
    "    print(list_sum)"
   ]
  },
  {
   "cell_type": "code",
   "execution_count": null,
   "id": "fd8ee6f9-831f-4e45-b95e-7c82c0dd404b",
   "metadata": {},
   "outputs": [],
   "source": [
    "# Iterating string"
   ]
  },
  {
   "cell_type": "code",
   "execution_count": 13,
   "id": "900ba74d-c251-48b2-acb0-84821577f8f0",
   "metadata": {},
   "outputs": [
    {
     "name": "stdout",
     "output_type": "stream",
     "text": [
      "Kashif Maqbool\n"
     ]
    }
   ],
   "source": [
    "mystring = [\"Kashif Maqbool\"]\n",
    "for letter in mystring:\n",
    "    print(letter)"
   ]
  },
  {
   "cell_type": "markdown",
   "id": "ac0bc0f0-cd45-4dd7-9937-2515471433ac",
   "metadata": {},
   "source": [
    "## 2. while loop"
   ]
  },
  {
   "cell_type": "code",
   "execution_count": null,
   "id": "0fdb3c63-e768-462d-be10-4b76ae35eb04",
   "metadata": {},
   "outputs": [],
   "source": [
    "##### while loop can be used for hacking purposes."
   ]
  },
  {
   "cell_type": "code",
   "execution_count": 26,
   "id": "c5a316dd-952e-4b14-ba93-f863aa2b45a4",
   "metadata": {},
   "outputs": [
    {
     "name": "stdout",
     "output_type": "stream",
     "text": [
      "The current value of x is : 0\n",
      "The current value of x is : 1\n",
      "The current value of x is : 2\n",
      "The current value of x is : 3\n",
      "The current value of x is : 4\n",
      "The current value of x is : 5\n",
      "The current value of x is : 6\n",
      "The current value of x is : 7\n",
      "The current value of x is : 8\n",
      "The current value of x is : 9\n",
      "The current value of x is : 10\n",
      "x is not less than 10.\n"
     ]
    }
   ],
   "source": [
    "x = 0\n",
    "while x <= 10:\n",
    "    print(f'The current value of x is : {x}')\n",
    "    x = x + 1\n",
    "else:\n",
    "    print(\"x is not less than 10.\")"
   ]
  },
  {
   "cell_type": "code",
   "execution_count": null,
   "id": "56bfa19c-8bb7-489f-a196-6d63cd8fe14b",
   "metadata": {},
   "outputs": [],
   "source": []
  },
  {
   "cell_type": "code",
   "execution_count": null,
   "id": "e80b7962-fde1-4840-9418-9ba4bf7de481",
   "metadata": {},
   "outputs": [],
   "source": []
  }
 ],
 "metadata": {
  "kernelspec": {
   "display_name": "Python 3 (ipykernel)",
   "language": "python",
   "name": "python3"
  },
  "language_info": {
   "codemirror_mode": {
    "name": "ipython",
    "version": 3
   },
   "file_extension": ".py",
   "mimetype": "text/x-python",
   "name": "python",
   "nbconvert_exporter": "python",
   "pygments_lexer": "ipython3",
   "version": "3.12.2"
  }
 },
 "nbformat": 4,
 "nbformat_minor": 5
}
