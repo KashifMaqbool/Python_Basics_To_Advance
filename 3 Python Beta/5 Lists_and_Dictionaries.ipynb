{
 "cells": [
  {
   "cell_type": "code",
   "execution_count": 1,
   "id": "5af4e718-2434-4ba7-88f0-4f5db8481d58",
   "metadata": {},
   "outputs": [],
   "source": [
    "# Operations on the lists"
   ]
  },
  {
   "cell_type": "code",
   "execution_count": 2,
   "id": "99562061-95a7-43db-a070-745bc4618ac4",
   "metadata": {},
   "outputs": [
    {
     "name": "stdout",
     "output_type": "stream",
     "text": [
      "['Kashif', 5, 'Maqbool', 9]\n"
     ]
    }
   ],
   "source": [
    "my_list = [\"Kashif\", 5, \"Maqbool\", 9]\n",
    "print(my_list)"
   ]
  },
  {
   "cell_type": "code",
   "execution_count": 3,
   "id": "d59d563a-e582-4346-a3e8-a40ad8ea3542",
   "metadata": {},
   "outputs": [
    {
     "data": {
      "text/plain": [
       "4"
      ]
     },
     "execution_count": 3,
     "metadata": {},
     "output_type": "execute_result"
    }
   ],
   "source": [
    "# Lenght of my list\n",
    "len(my_list)"
   ]
  },
  {
   "cell_type": "code",
   "execution_count": 4,
   "id": "0910aa43-a5b7-43ec-83e5-e1ab6704968c",
   "metadata": {},
   "outputs": [
    {
     "data": {
      "text/plain": [
       "'Kashif'"
      ]
     },
     "execution_count": 4,
     "metadata": {},
     "output_type": "execute_result"
    }
   ],
   "source": [
    "# indexing on the list\n",
    "my_list[0]"
   ]
  },
  {
   "cell_type": "code",
   "execution_count": 5,
   "id": "34975d6d-6e19-4d52-b4e2-82e53469b6dd",
   "metadata": {},
   "outputs": [
    {
     "data": {
      "text/plain": [
       "['Kashif', 5, 'Maqbool', 9]"
      ]
     },
     "execution_count": 5,
     "metadata": {},
     "output_type": "execute_result"
    }
   ],
   "source": [
    "my_list[0 : ]"
   ]
  },
  {
   "cell_type": "code",
   "execution_count": 6,
   "id": "3aa2af76-0fcd-408b-b79b-c5b9288afb1f",
   "metadata": {},
   "outputs": [
    {
     "data": {
      "text/plain": [
       "5"
      ]
     },
     "execution_count": 6,
     "metadata": {},
     "output_type": "execute_result"
    }
   ],
   "source": [
    "my_list[1]"
   ]
  },
  {
   "cell_type": "code",
   "execution_count": 7,
   "id": "df5604ec-fa0d-47e7-ab77-70a012632b4b",
   "metadata": {},
   "outputs": [],
   "source": [
    "# Adding the two lists"
   ]
  },
  {
   "cell_type": "code",
   "execution_count": 8,
   "id": "4523c9a5-a8e9-449b-8ac1-8cd0dcd6d0bd",
   "metadata": {},
   "outputs": [
    {
     "data": {
      "text/plain": [
       "['This is second list']"
      ]
     },
     "execution_count": 8,
     "metadata": {},
     "output_type": "execute_result"
    }
   ],
   "source": [
    "my_list1 = [\"This is second list\"]\n",
    "my_list1"
   ]
  },
  {
   "cell_type": "code",
   "execution_count": 9,
   "id": "fdf22f5e-6945-48f7-b56d-e99c3d4923bf",
   "metadata": {},
   "outputs": [
    {
     "data": {
      "text/plain": [
       "['Kashif', 5, 'Maqbool', 9, 'This is second list']"
      ]
     },
     "execution_count": 9,
     "metadata": {},
     "output_type": "execute_result"
    }
   ],
   "source": [
    "my_list + my_list1"
   ]
  },
  {
   "cell_type": "code",
   "execution_count": 10,
   "id": "03842e8e-5c2f-454a-8755-d0b53eef8e06",
   "metadata": {},
   "outputs": [],
   "source": [
    "newlist = my_list + my_list1"
   ]
  },
  {
   "cell_type": "code",
   "execution_count": 11,
   "id": "5d6963c1-1b14-4ad1-beb4-cd40b7b60e44",
   "metadata": {},
   "outputs": [
    {
     "data": {
      "text/plain": [
       "['Kashif', 5, 'Maqbool', 9, 'This is second list']"
      ]
     },
     "execution_count": 11,
     "metadata": {},
     "output_type": "execute_result"
    }
   ],
   "source": [
    "newlist"
   ]
  },
  {
   "cell_type": "code",
   "execution_count": 12,
   "id": "4452fdcf-6fea-4c03-b5d2-9d969c7aac4c",
   "metadata": {},
   "outputs": [],
   "source": [
    "newlist[0] = \"Kashif Maqbool\""
   ]
  },
  {
   "cell_type": "code",
   "execution_count": 13,
   "id": "6fb103e5-444f-4163-b5b5-d78f72e5f0f6",
   "metadata": {},
   "outputs": [
    {
     "data": {
      "text/plain": [
       "['Kashif Maqbool', 5, 'Maqbool', 9, 'This is second list']"
      ]
     },
     "execution_count": 13,
     "metadata": {},
     "output_type": "execute_result"
    }
   ],
   "source": [
    "newlist"
   ]
  },
  {
   "cell_type": "code",
   "execution_count": 14,
   "id": "a3a5a033-d84f-4405-abdc-9db3c42484d7",
   "metadata": {},
   "outputs": [],
   "source": [
    "# Adding new elements in the list by usinng .append() method"
   ]
  },
  {
   "cell_type": "code",
   "execution_count": 15,
   "id": "e0ca7701-758f-4de0-a4c3-85cb44a6205d",
   "metadata": {},
   "outputs": [],
   "source": [
    "newlist.append(\"Element added by append method\")"
   ]
  },
  {
   "cell_type": "code",
   "execution_count": 16,
   "id": "b045460f-e174-4ad5-974d-2829c12a0005",
   "metadata": {},
   "outputs": [
    {
     "data": {
      "text/plain": [
       "['Kashif Maqbool',\n",
       " 5,\n",
       " 'Maqbool',\n",
       " 9,\n",
       " 'This is second list',\n",
       " 'Element added by append method']"
      ]
     },
     "execution_count": 16,
     "metadata": {},
     "output_type": "execute_result"
    }
   ],
   "source": [
    "newlist"
   ]
  },
  {
   "cell_type": "code",
   "execution_count": 17,
   "id": "6e33b4b7-d20e-4e86-abb4-5e4b35f09bfd",
   "metadata": {},
   "outputs": [],
   "source": [
    "# Deleting element from the list\n",
    "#### This method will pop or delete the last element you added in your list"
   ]
  },
  {
   "cell_type": "code",
   "execution_count": 18,
   "id": "d7088d4d-7c12-442d-bb5e-a1f7e77bdce2",
   "metadata": {},
   "outputs": [
    {
     "data": {
      "text/plain": [
       "<function list.pop(index=-1, /)>"
      ]
     },
     "execution_count": 18,
     "metadata": {},
     "output_type": "execute_result"
    }
   ],
   "source": [
    "newlist.pop"
   ]
  },
  {
   "cell_type": "code",
   "execution_count": 19,
   "id": "f8bf3d83-5b5d-438b-8d45-b33db8667146",
   "metadata": {},
   "outputs": [
    {
     "data": {
      "text/plain": [
       "'Element added by append method'"
      ]
     },
     "execution_count": 19,
     "metadata": {},
     "output_type": "execute_result"
    }
   ],
   "source": [
    "newlist.pop()"
   ]
  },
  {
   "cell_type": "code",
   "execution_count": 20,
   "id": "2c9e24c4-9de7-4944-938b-8eb036624c82",
   "metadata": {},
   "outputs": [
    {
     "data": {
      "text/plain": [
       "['Kashif Maqbool', 5, 'Maqbool', 9, 'This is second list']"
      ]
     },
     "execution_count": 20,
     "metadata": {},
     "output_type": "execute_result"
    }
   ],
   "source": [
    "newlist"
   ]
  },
  {
   "cell_type": "code",
   "execution_count": 21,
   "id": "05ffbfa2-570c-445b-ad18-317379e10344",
   "metadata": {},
   "outputs": [],
   "source": [
    "# Some times you have to design program in which you have to save the deleted item. you can perform this by this way"
   ]
  },
  {
   "cell_type": "code",
   "execution_count": 22,
   "id": "fa0a9bb9-6db2-48fd-87ac-f3b90c9f09c2",
   "metadata": {},
   "outputs": [],
   "source": [
    "popeditem = newlist.pop()"
   ]
  },
  {
   "cell_type": "code",
   "execution_count": 23,
   "id": "632f9ced-854d-47ba-8334-2273608ee452",
   "metadata": {},
   "outputs": [
    {
     "data": {
      "text/plain": [
       "'This is second list'"
      ]
     },
     "execution_count": 23,
     "metadata": {},
     "output_type": "execute_result"
    }
   ],
   "source": [
    "popeditem"
   ]
  },
  {
   "cell_type": "code",
   "execution_count": 24,
   "id": "126ff710-980a-4ebe-8418-774240d8d9f2",
   "metadata": {},
   "outputs": [],
   "source": [
    "# deleting or popping the first item by indexing"
   ]
  },
  {
   "cell_type": "code",
   "execution_count": 25,
   "id": "46c3cfb0-4f49-4f89-b520-308da8659873",
   "metadata": {},
   "outputs": [
    {
     "data": {
      "text/plain": [
       "'Kashif Maqbool'"
      ]
     },
     "execution_count": 25,
     "metadata": {},
     "output_type": "execute_result"
    }
   ],
   "source": [
    "newlist.pop(0)"
   ]
  },
  {
   "cell_type": "code",
   "execution_count": 26,
   "id": "d19b6643-af4e-4e8f-8441-1aa58e998d4b",
   "metadata": {},
   "outputs": [
    {
     "data": {
      "text/plain": [
       "[5, 'Maqbool', 9]"
      ]
     },
     "execution_count": 26,
     "metadata": {},
     "output_type": "execute_result"
    }
   ],
   "source": [
    "newlist"
   ]
  },
  {
   "cell_type": "code",
   "execution_count": 27,
   "id": "bf76847d-f352-432f-a055-802172c36aa6",
   "metadata": {},
   "outputs": [],
   "source": [
    "# Sorting the lists"
   ]
  },
  {
   "cell_type": "code",
   "execution_count": 65,
   "id": "7c514d4d-4fa0-4c16-bed8-1d5e8d8fd864",
   "metadata": {},
   "outputs": [],
   "source": [
    "letter_list = ['a', 'c', 'd','b']\n",
    "num_list = [1,2,5,3,9,8,7] "
   ]
  },
  {
   "cell_type": "code",
   "execution_count": 67,
   "id": "0904bad4-1a5b-4418-b691-d6844bb9e138",
   "metadata": {},
   "outputs": [
    {
     "data": {
      "text/plain": [
       "[1, 2, 3, 5, 7, 8, 9]"
      ]
     },
     "execution_count": 67,
     "metadata": {},
     "output_type": "execute_result"
    }
   ],
   "source": [
    "num_list.sort()\n",
    "num_list"
   ]
  },
  {
   "cell_type": "code",
   "execution_count": 69,
   "id": "7b5ce401-a5da-4344-832b-084e5a12a1c2",
   "metadata": {},
   "outputs": [
    {
     "data": {
      "text/plain": [
       "['b', 'd', 'c', 'a']"
      ]
     },
     "execution_count": 69,
     "metadata": {},
     "output_type": "execute_result"
    }
   ],
   "source": [
    "# reversing the list\n",
    "letter_list.reverse()\n",
    "letter_list"
   ]
  },
  {
   "cell_type": "code",
   "execution_count": 74,
   "id": "1ac65f03-1126-45f5-a8eb-4cf561ef7d13",
   "metadata": {},
   "outputs": [],
   "source": [
    "# to find the methods of the lists write the list name and put a \".\" after it and then press tab button and the all metheods will be shown\n",
    "# as shown in the figure\n",
    "# letter_list."
   ]
  },
  {
   "cell_type": "code",
   "execution_count": null,
   "id": "d6a617fb-fe5b-44a6-9aed-80e43716057a",
   "metadata": {},
   "outputs": [],
   "source": [
    "# Operations on the Dictionaries"
   ]
  },
  {
   "cell_type": "code",
   "execution_count": 76,
   "id": "308631e8-75af-469a-a471-6eda7779a89f",
   "metadata": {},
   "outputs": [],
   "source": [
    "dictionary = {'key1':'value1', 'key2':'value2'}"
   ]
  },
  {
   "cell_type": "code",
   "execution_count": 78,
   "id": "c15008e2-f7f8-4df1-9f05-8e0a0c3ff088",
   "metadata": {},
   "outputs": [
    {
     "data": {
      "text/plain": [
       "{'key1': 'value1', 'key2': 'value2'}"
      ]
     },
     "execution_count": 78,
     "metadata": {},
     "output_type": "execute_result"
    }
   ],
   "source": [
    "dictionary"
   ]
  },
  {
   "cell_type": "code",
   "execution_count": 80,
   "id": "114e22e3-57f7-4b03-bf0d-5e47fe84bd04",
   "metadata": {},
   "outputs": [
    {
     "data": {
      "text/plain": [
       "'value1'"
      ]
     },
     "execution_count": 80,
     "metadata": {},
     "output_type": "execute_result"
    }
   ],
   "source": [
    "dictionary['key1']"
   ]
  },
  {
   "cell_type": "code",
   "execution_count": 84,
   "id": "da80912e-1d90-42b9-8188-5c46590690cd",
   "metadata": {},
   "outputs": [
    {
     "data": {
      "text/plain": [
       "'value2'"
      ]
     },
     "execution_count": 84,
     "metadata": {},
     "output_type": "execute_result"
    }
   ],
   "source": [
    "dictionary['key2']"
   ]
  },
  {
   "cell_type": "code",
   "execution_count": 88,
   "id": "56427897-779b-4b4b-845f-0e4cf31cfc78",
   "metadata": {},
   "outputs": [],
   "source": [
    "prices_lookup = {'pencil':100 , 'journal':200, 'box': 200.21}"
   ]
  },
  {
   "cell_type": "code",
   "execution_count": 90,
   "id": "a1ef7129-6d26-4440-aed9-1b4b996615fc",
   "metadata": {},
   "outputs": [
    {
     "data": {
      "text/plain": [
       "{'pencil': 100, 'journal': 200, 'box': 200.21}"
      ]
     },
     "execution_count": 90,
     "metadata": {},
     "output_type": "execute_result"
    }
   ],
   "source": [
    "prices_lookup"
   ]
  },
  {
   "cell_type": "code",
   "execution_count": 92,
   "id": "7aacb390-b11d-4f28-9529-74f1aef82f6c",
   "metadata": {},
   "outputs": [
    {
     "data": {
      "text/plain": [
       "100"
      ]
     },
     "execution_count": 92,
     "metadata": {},
     "output_type": "execute_result"
    }
   ],
   "source": [
    "prices_lookup['pencil']"
   ]
  },
  {
   "cell_type": "code",
   "execution_count": 94,
   "id": "78ad7259-8ef3-4be1-821a-c5e5576655fa",
   "metadata": {},
   "outputs": [
    {
     "data": {
      "text/plain": [
       "200"
      ]
     },
     "execution_count": 94,
     "metadata": {},
     "output_type": "execute_result"
    }
   ],
   "source": [
    "prices_lookup['journal']"
   ]
  },
  {
   "cell_type": "code",
   "execution_count": 98,
   "id": "0422e2f0-a3ad-419b-afbb-529a969c76a5",
   "metadata": {},
   "outputs": [],
   "source": [
    "dic = {'product 1':100, 'product 2':[3,3,5,6,9.8], 'product 3':{'product':550}}"
   ]
  },
  {
   "cell_type": "code",
   "execution_count": 100,
   "id": "31252f34-e643-4907-9821-180b45553beb",
   "metadata": {},
   "outputs": [
    {
     "data": {
      "text/plain": [
       "100"
      ]
     },
     "execution_count": 100,
     "metadata": {},
     "output_type": "execute_result"
    }
   ],
   "source": [
    "dic['product 1']"
   ]
  },
  {
   "cell_type": "code",
   "execution_count": 104,
   "id": "0ab50827-2e0d-4ec1-8941-874b2398b945",
   "metadata": {},
   "outputs": [
    {
     "data": {
      "text/plain": [
       "[3, 3, 5, 6, 9.8]"
      ]
     },
     "execution_count": 104,
     "metadata": {},
     "output_type": "execute_result"
    }
   ],
   "source": [
    "dic['product 2']"
   ]
  },
  {
   "cell_type": "code",
   "execution_count": 122,
   "id": "a315e6da-536d-4ea0-aae9-06c4c6784a83",
   "metadata": {},
   "outputs": [
    {
     "data": {
      "text/plain": [
       "550"
      ]
     },
     "execution_count": 122,
     "metadata": {},
     "output_type": "execute_result"
    }
   ],
   "source": [
    "dic['product 3']"
   ]
  },
  {
   "cell_type": "code",
   "execution_count": 124,
   "id": "b217b064-c74d-4124-97e9-4ff6b5e61821",
   "metadata": {},
   "outputs": [
    {
     "data": {
      "text/plain": [
       "6"
      ]
     },
     "execution_count": 124,
     "metadata": {},
     "output_type": "execute_result"
    }
   ],
   "source": [
    "# accessing the items of list inside the dictionary\n",
    "dic['product 2'][3]"
   ]
  },
  {
   "cell_type": "code",
   "execution_count": 132,
   "id": "9f453029-84d1-4877-9b53-e76b8fe8724d",
   "metadata": {},
   "outputs": [],
   "source": [
    "dict1 = {'key1': ['ali', 'usman', 'abubakr']}"
   ]
  },
  {
   "cell_type": "code",
   "execution_count": 134,
   "id": "2aec3b5f-ee8c-4505-8cc5-1c98f77c1a22",
   "metadata": {},
   "outputs": [
    {
     "data": {
      "text/plain": [
       "{'key1': ['ali', 'usman', 'abubakr']}"
      ]
     },
     "execution_count": 134,
     "metadata": {},
     "output_type": "execute_result"
    }
   ],
   "source": [
    "dict1"
   ]
  },
  {
   "cell_type": "code",
   "execution_count": 136,
   "id": "74fce3d8-beb2-445b-9234-c3b6fa6282a7",
   "metadata": {},
   "outputs": [
    {
     "data": {
      "text/plain": [
       "'abubakr'"
      ]
     },
     "execution_count": 136,
     "metadata": {},
     "output_type": "execute_result"
    }
   ],
   "source": [
    "dict1['key1'][2]"
   ]
  },
  {
   "cell_type": "code",
   "execution_count": 138,
   "id": "e661215a-5b83-4e08-ad9f-8d900304d69e",
   "metadata": {},
   "outputs": [],
   "source": [
    "name = dict1['key1'][2]"
   ]
  },
  {
   "cell_type": "code",
   "execution_count": 140,
   "id": "8b20985d-ec3c-49fb-a4b5-08c4ef8d0659",
   "metadata": {},
   "outputs": [
    {
     "data": {
      "text/plain": [
       "'abubakr'"
      ]
     },
     "execution_count": 140,
     "metadata": {},
     "output_type": "execute_result"
    }
   ],
   "source": [
    "name"
   ]
  },
  {
   "cell_type": "code",
   "execution_count": 142,
   "id": "23a4a91f-f7d9-4fe6-8196-8b2091052c85",
   "metadata": {},
   "outputs": [
    {
     "data": {
      "text/plain": [
       "'ABUBAKR'"
      ]
     },
     "execution_count": 142,
     "metadata": {},
     "output_type": "execute_result"
    }
   ],
   "source": [
    "name.upper()"
   ]
  },
  {
   "cell_type": "code",
   "execution_count": null,
   "id": "900bee9b-3d1a-4b42-a424-cc9a323adbb2",
   "metadata": {},
   "outputs": [],
   "source": [
    "# OR we can do this procedure in single line of code"
   ]
  },
  {
   "cell_type": "code",
   "execution_count": 144,
   "id": "84fe77c0-2948-4e4e-988b-a4c142f6b8e2",
   "metadata": {},
   "outputs": [
    {
     "data": {
      "text/plain": [
       "'ABUBAKR'"
      ]
     },
     "execution_count": 144,
     "metadata": {},
     "output_type": "execute_result"
    }
   ],
   "source": [
    "dict1['key1'][2].upper()"
   ]
  },
  {
   "cell_type": "code",
   "execution_count": 146,
   "id": "33d81476-144f-47aa-8118-e422a7b0dd93",
   "metadata": {},
   "outputs": [
    {
     "data": {
      "text/plain": [
       "{'key1': ['ali', 'usman', 'abubakr']}"
      ]
     },
     "execution_count": 146,
     "metadata": {},
     "output_type": "execute_result"
    }
   ],
   "source": [
    "dict1"
   ]
  },
  {
   "cell_type": "code",
   "execution_count": null,
   "id": "f8c437e2-8279-471a-8687-fb91e1511ecc",
   "metadata": {},
   "outputs": [],
   "source": [
    "# Inserting a key value pair inside the dictionary"
   ]
  },
  {
   "cell_type": "code",
   "execution_count": 148,
   "id": "c9285f21-4cf6-4465-a135-78bb4b1d16fc",
   "metadata": {},
   "outputs": [],
   "source": [
    "dict1['k2'] = 25"
   ]
  },
  {
   "cell_type": "code",
   "execution_count": 150,
   "id": "29ef7fb8-383c-4d7e-ab8f-297ddc6b47f5",
   "metadata": {},
   "outputs": [
    {
     "data": {
      "text/plain": [
       "{'key1': ['ali', 'usman', 'abubakr'], 'k2': 25}"
      ]
     },
     "execution_count": 150,
     "metadata": {},
     "output_type": "execute_result"
    }
   ],
   "source": [
    "dict1"
   ]
  },
  {
   "cell_type": "code",
   "execution_count": null,
   "id": "63fadd3c-53c0-4ecd-b3b6-57691711e1e5",
   "metadata": {},
   "outputs": [],
   "source": [
    "# Displaying keys, values and items in the dictionary"
   ]
  },
  {
   "cell_type": "code",
   "execution_count": 152,
   "id": "148bd13d-0f2c-425a-9cfd-fafed1b7cabd",
   "metadata": {},
   "outputs": [
    {
     "data": {
      "text/plain": [
       "dict_keys(['key1', 'k2'])"
      ]
     },
     "execution_count": 152,
     "metadata": {},
     "output_type": "execute_result"
    }
   ],
   "source": [
    "dict1.keys()"
   ]
  },
  {
   "cell_type": "code",
   "execution_count": 154,
   "id": "37b48ac8-97c1-4769-9ce0-16e177587fe6",
   "metadata": {},
   "outputs": [
    {
     "data": {
      "text/plain": [
       "dict_values([['ali', 'usman', 'abubakr'], 25])"
      ]
     },
     "execution_count": 154,
     "metadata": {},
     "output_type": "execute_result"
    }
   ],
   "source": [
    "dict1.values()"
   ]
  },
  {
   "cell_type": "code",
   "execution_count": 156,
   "id": "15a7d86c-35c7-43dc-85ef-96267762f938",
   "metadata": {},
   "outputs": [
    {
     "data": {
      "text/plain": [
       "dict_items([('key1', ['ali', 'usman', 'abubakr']), ('k2', 25)])"
      ]
     },
     "execution_count": 156,
     "metadata": {},
     "output_type": "execute_result"
    }
   ],
   "source": [
    "dict1.items() "
   ]
  }
 ],
 "metadata": {
  "kernelspec": {
   "display_name": "Python 3 (ipykernel)",
   "language": "python",
   "name": "python3"
  },
  "language_info": {
   "codemirror_mode": {
    "name": "ipython",
    "version": 3
   },
   "file_extension": ".py",
   "mimetype": "text/x-python",
   "name": "python",
   "nbconvert_exporter": "python",
   "pygments_lexer": "ipython3",
   "version": "3.12.2"
  }
 },
 "nbformat": 4,
 "nbformat_minor": 5
}
