{
 "cells": [
  {
   "cell_type": "markdown",
   "id": "b8b16ca1-d06b-49c9-aed8-c036df65c0f3",
   "metadata": {},
   "source": [
    "# Methods\n",
    "<p> Methods are built in objects in python </p>"
   ]
  },
  {
   "cell_type": "markdown",
   "id": "cec5356a-a25d-4c42-ae6d-da2a61c67853",
   "metadata": {},
   "source": [
    "## List Methods"
   ]
  },
  {
   "cell_type": "code",
   "execution_count": 30,
   "id": "5bd8fdc4-ccab-4ae8-a9cb-bb14b0dc77f0",
   "metadata": {},
   "outputs": [
    {
     "data": {
      "text/plain": [
       "[1, 2, 3, 4, 5, 6, 7, 8, 9, 10]"
      ]
     },
     "execution_count": 30,
     "metadata": {},
     "output_type": "execute_result"
    }
   ],
   "source": [
    "mylist = [1,2,3,4,5,6,7,8,9,10]\n",
    "mylist"
   ]
  },
  {
   "cell_type": "code",
   "execution_count": 31,
   "id": "245aad4f-4f92-4d57-ab21-edca6be599e2",
   "metadata": {},
   "outputs": [
    {
     "data": {
      "text/plain": [
       "[1, 2, 3, 4, 5, 6, 7, 8, 9, 10, 11]"
      ]
     },
     "execution_count": 31,
     "metadata": {},
     "output_type": "execute_result"
    }
   ],
   "source": [
    "mylist.append(11)\n",
    "mylist"
   ]
  },
  {
   "cell_type": "code",
   "execution_count": 32,
   "id": "3c913d37-93d1-4e25-a84f-9a89352be5d4",
   "metadata": {},
   "outputs": [
    {
     "data": {
      "text/plain": [
       "[1, 2, 3, 4, 5, 6, 7, 8, 9, 10]"
      ]
     },
     "execution_count": 32,
     "metadata": {},
     "output_type": "execute_result"
    }
   ],
   "source": [
    "mylist.pop()\n",
    "mylist"
   ]
  },
  {
   "cell_type": "markdown",
   "id": "f9e1f3d8-7ef4-49b9-9361-0afe08c90404",
   "metadata": {},
   "source": [
    "## Seeking help about methods via command(Shift + tab)"
   ]
  },
  {
   "cell_type": "code",
   "execution_count": 34,
   "id": "b2c98319-1215-4ab7-ba2d-69694657e206",
   "metadata": {},
   "outputs": [
    {
     "data": {
      "text/plain": [
       "<function list.pop(index=-1, /)>"
      ]
     },
     "execution_count": 34,
     "metadata": {},
     "output_type": "execute_result"
    }
   ],
   "source": [
    "# after writing the method name just click shift button with the tab and it will show the summary of the methods.\n",
    "mylist.pop"
   ]
  },
  {
   "cell_type": "markdown",
   "id": "7a6573b3-a2b1-4d1b-9727-baef6cf760b1",
   "metadata": {},
   "source": [
    "## Seeking help about methods via \"help()\" method"
   ]
  },
  {
   "cell_type": "code",
   "execution_count": 36,
   "id": "f4af18dc-74f2-48d2-b8f3-ebec0f65c300",
   "metadata": {},
   "outputs": [
    {
     "name": "stdout",
     "output_type": "stream",
     "text": [
      "Help on built-in function index:\n",
      "\n",
      "index(value, start=0, stop=9223372036854775807, /) method of builtins.list instance\n",
      "    Return first index of value.\n",
      "\n",
      "    Raises ValueError if the value is not present.\n",
      "\n"
     ]
    }
   ],
   "source": [
    "help(mylist.index)"
   ]
  },
  {
   "cell_type": "code",
   "execution_count": 37,
   "id": "3ad89291-1d7c-4f8c-818d-abb05d44082a",
   "metadata": {},
   "outputs": [
    {
     "name": "stdout",
     "output_type": "stream",
     "text": [
      "Help on built-in function append:\n",
      "\n",
      "append(object, /) method of builtins.list instance\n",
      "    Append object to the end of the list.\n",
      "\n"
     ]
    }
   ],
   "source": [
    "help(mylist.append)"
   ]
  },
  {
   "cell_type": "code",
   "execution_count": 44,
   "id": "cb2702ac-978a-43ff-99b4-0daca3196f79",
   "metadata": {},
   "outputs": [
    {
     "name": "stdout",
     "output_type": "stream",
     "text": [
      "Help on class AssertionError in module builtins:\n",
      "\n",
      "class AssertionError(Exception)\n",
      " |  Assertion failed.\n",
      " |\n",
      " |  Method resolution order:\n",
      " |      AssertionError\n",
      " |      Exception\n",
      " |      BaseException\n",
      " |      object\n",
      " |\n",
      " |  Methods defined here:\n",
      " |\n",
      " |  __init__(self, /, *args, **kwargs)\n",
      " |      Initialize self.  See help(type(self)) for accurate signature.\n",
      " |\n",
      " |  ----------------------------------------------------------------------\n",
      " |  Static methods defined here:\n",
      " |\n",
      " |  __new__(*args, **kwargs) from builtins.type\n",
      " |      Create and return a new object.  See help(type) for accurate signature.\n",
      " |\n",
      " |  ----------------------------------------------------------------------\n",
      " |  Methods inherited from BaseException:\n",
      " |\n",
      " |  __delattr__(self, name, /)\n",
      " |      Implement delattr(self, name).\n",
      " |\n",
      " |  __getattribute__(self, name, /)\n",
      " |      Return getattr(self, name).\n",
      " |\n",
      " |  __reduce__(...)\n",
      " |      Helper for pickle.\n",
      " |\n",
      " |  __repr__(self, /)\n",
      " |      Return repr(self).\n",
      " |\n",
      " |  __setattr__(self, name, value, /)\n",
      " |      Implement setattr(self, name, value).\n",
      " |\n",
      " |  __setstate__(...)\n",
      " |\n",
      " |  __str__(self, /)\n",
      " |      Return str(self).\n",
      " |\n",
      " |  add_note(...)\n",
      " |      Exception.add_note(note) --\n",
      " |      add a note to the exception\n",
      " |\n",
      " |  with_traceback(...)\n",
      " |      Exception.with_traceback(tb) --\n",
      " |      set self.__traceback__ to tb and return self.\n",
      " |\n",
      " |  ----------------------------------------------------------------------\n",
      " |  Data descriptors inherited from BaseException:\n",
      " |\n",
      " |  __cause__\n",
      " |      exception cause\n",
      " |\n",
      " |  __context__\n",
      " |      exception context\n",
      " |\n",
      " |  __dict__\n",
      " |\n",
      " |  __suppress_context__\n",
      " |\n",
      " |  __traceback__\n",
      " |\n",
      " |  args\n",
      "\n"
     ]
    }
   ],
   "source": [
    "help(AssertionError)"
   ]
  },
  {
   "cell_type": "markdown",
   "id": "b3471f9e-3f0e-45bb-b8b8-5b0449a73961",
   "metadata": {},
   "source": [
    "## Python Documentation\n",
    "<p> You should definetely explore the python documentation for changes and updates in the newer versions.\n",
    "     Is is also helpful for understanding about python libraries </p>"
   ]
  }
 ],
 "metadata": {
  "kernelspec": {
   "display_name": "Python 3 (ipykernel)",
   "language": "python",
   "name": "python3"
  },
  "language_info": {
   "codemirror_mode": {
    "name": "ipython",
    "version": 3
   },
   "file_extension": ".py",
   "mimetype": "text/x-python",
   "name": "python",
   "nbconvert_exporter": "python",
   "pygments_lexer": "ipython3",
   "version": "3.12.2"
  }
 },
 "nbformat": 4,
 "nbformat_minor": 5
}
