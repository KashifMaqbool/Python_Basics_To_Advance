{
 "cells": [
  {
   "cell_type": "markdown",
   "id": "832f6f1c-b2b9-4451-b560-7850d828b6e8",
   "metadata": {},
   "source": [
    "# 1. CSV Module"
   ]
  },
  {
   "cell_type": "markdown",
   "id": "791fadfd-ddb2-4889-9024-8b83321f7125",
   "metadata": {},
   "source": [
    "#### CSV Files\n",
    "\n",
    "CSV files follow a particular way of storing data:\n",
    "\n",
    "- Each element is separated either by a **comma (,)**, **space ( )**, **colon (:)**, etc.  \n",
    "- This helps store tables of data in a convenient format.  \n",
    "- Using the **csv** module, you can easily read and write tabular data.  \n",
    "- It takes the I/O format obtained from `open()` a step further by parsing it to be readily readable, reducing coding steps from the user’s end.  \n"
   ]
  },
  {
   "cell_type": "markdown",
   "id": "cae21bf2-76c3-4eec-8dbc-b94b6fccd68e",
   "metadata": {},
   "source": [
    "## 1.1 Writing Data in csv file"
   ]
  },
  {
   "cell_type": "code",
   "execution_count": 17,
   "id": "f7ea87a0-cc08-4bba-bb07-bc5fd116de70",
   "metadata": {},
   "outputs": [],
   "source": [
    "import csv\n",
    "\n",
    "file = \"5.1reg_no.csv\"\n",
    "\n",
    "data = [\n",
    "    (\"Registration_No\", \"Names\"),\n",
    "    (1, \"Kashif Maqbool\"),\n",
    "    (2, \"Haseeb Jawad\"),\n",
    "    (3, \"Pingla\")\n",
    "]\n",
    "\n",
    "# Use 'with' to handle file safely\n",
    "with open(file, 'w', newline=\"\") as f:  # newline issue in windows not in mac.\n",
    "                                        # So, it will be ok if not using newline function in macbook.\n",
    "    writer = csv.writer(f)\n",
    "    for row in data:\n",
    "        writer.writerow(row)  # Each row is written with each element\n"
   ]
  },
  {
   "cell_type": "markdown",
   "id": "cc858845-7c88-4d37-b8c6-da34403969b1",
   "metadata": {},
   "source": [
    "## 1.2 Reading Data from csv file"
   ]
  },
  {
   "cell_type": "code",
   "execution_count": 18,
   "id": "f74777f9-d2c2-4ab8-9425-3b077741658f",
   "metadata": {},
   "outputs": [
    {
     "name": "stdout",
     "output_type": "stream",
     "text": [
      "['Registration_No', 'Names']\n",
      "['1', 'Kashif Maqbool']\n",
      "['2', 'Haseeb Jawad']\n",
      "['3', 'Pingla']\n"
     ]
    }
   ],
   "source": [
    "import csv\n",
    "\n",
    "file = \"5.1reg_no.csv\"\n",
    "\n",
    "with open(file, 'r') as f:\n",
    "    reader = csv.reader(f)\n",
    "\n",
    "    header = next(reader)\n",
    "    print(header)\n",
    "\n",
    "    for row in reader:\n",
    "        print(row)\n"
   ]
  },
  {
   "cell_type": "code",
   "execution_count": null,
   "id": "f22a7494-ddac-4b84-81ef-c862e66ed330",
   "metadata": {},
   "outputs": [],
   "source": []
  },
  {
   "cell_type": "code",
   "execution_count": null,
   "id": "b4bbf6fe-8bc9-4d34-8076-76c3ffa6d987",
   "metadata": {},
   "outputs": [],
   "source": []
  },
  {
   "cell_type": "code",
   "execution_count": null,
   "id": "5d8a539a-d853-4c98-8aa4-7c4647be431d",
   "metadata": {},
   "outputs": [],
   "source": []
  },
  {
   "cell_type": "code",
   "execution_count": null,
   "id": "ac3ba710-4b43-4ec1-996a-dcb8f211401e",
   "metadata": {},
   "outputs": [],
   "source": []
  },
  {
   "cell_type": "code",
   "execution_count": null,
   "id": "a784d24d-0543-4778-a4f8-f22fb0390975",
   "metadata": {},
   "outputs": [],
   "source": []
  },
  {
   "cell_type": "code",
   "execution_count": null,
   "id": "0b01d837-74d0-470f-a633-cc26928566a8",
   "metadata": {},
   "outputs": [],
   "source": []
  },
  {
   "cell_type": "code",
   "execution_count": null,
   "id": "b53300fa-ed92-4678-8e12-ff747cb424d6",
   "metadata": {},
   "outputs": [],
   "source": []
  }
 ],
 "metadata": {
  "kernelspec": {
   "display_name": "Python 3 (ipykernel)",
   "language": "python",
   "name": "python3"
  },
  "language_info": {
   "codemirror_mode": {
    "name": "ipython",
    "version": 3
   },
   "file_extension": ".py",
   "mimetype": "text/x-python",
   "name": "python",
   "nbconvert_exporter": "python",
   "pygments_lexer": "ipython3",
   "version": "3.13.0"
  }
 },
 "nbformat": 4,
 "nbformat_minor": 5
}
