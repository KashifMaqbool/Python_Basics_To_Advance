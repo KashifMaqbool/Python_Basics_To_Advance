{
 "cells": [
  {
   "cell_type": "markdown",
   "id": "7b367096-a22d-4e8f-9d40-ba7a685429dd",
   "metadata": {},
   "source": [
    "# 1. Subprocess Module"
   ]
  },
  {
   "cell_type": "markdown",
   "id": "96f5e565-0da2-4dd8-b889-ebcd527ce3b4",
   "metadata": {},
   "source": [
    "## 1.1 Example 1"
   ]
  },
  {
   "cell_type": "code",
   "execution_count": 43,
   "id": "518eed30-281e-42d9-8bd9-0ecabff5304d",
   "metadata": {},
   "outputs": [
    {
     "name": "stdout",
     "output_type": "stream",
     "text": [
      "1_Datetime_Module.ipynb\n",
      "2_Operating_System_Module.ipynb\n",
      "3_Inspect_Module.ipynb\n",
      "4.1database.db\n",
      "4_sqlite_module.ipynb\n",
      "5.1reg_no.csv\n",
      "5_csv_module.ipynb\n",
      "6_Subprocess_module.ipynb\n"
     ]
    },
    {
     "data": {
      "text/plain": [
       "0"
      ]
     },
     "execution_count": 43,
     "metadata": {},
     "output_type": "execute_result"
    }
   ],
   "source": [
    "# Imoport Module\n",
    "import subprocess\n",
    "\n",
    "# Returns the list of files in current directory\n",
    "subprocess.call(['ls'], shell = True ) "
   ]
  },
  {
   "cell_type": "markdown",
   "id": "d4d305a9-cfff-4508-9bd5-2df90e8e8a6a",
   "metadata": {},
   "source": [
    "## 1.2 Example 2"
   ]
  },
  {
   "cell_type": "code",
   "execution_count": 45,
   "id": "9227acc1-538f-4f7f-864e-00a8d475077c",
   "metadata": {},
   "outputs": [
    {
     "name": "stdout",
     "output_type": "stream",
     "text": [
      "b'1_Datetime_Module.ipynb\\n2_Operating_System_Module.ipynb\\n3_Inspect_Module.ipynb\\n4.1database.db\\n4_sqlite_module.ipynb\\n5.1reg_no.csv\\n5_csv_module.ipynb\\n6_Subprocess_module.ipynb\\n'\n",
      "\n",
      "1_Datetime_Module.ipynb\n",
      "2_Operating_System_Module.ipynb\n",
      "3_Inspect_Module.ipynb\n",
      "4.1database.db\n",
      "4_sqlite_module.ipynb\n",
      "5.1reg_no.csv\n",
      "5_csv_module.ipynb\n",
      "6_Subprocess_module.ipynb\n",
      "\n"
     ]
    }
   ],
   "source": [
    "# Imoport Module\n",
    "import subprocess\n",
    "\n",
    "# List files in the current directory\n",
    "output = subprocess.check_output(['ls'], shell = True) \n",
    "print(output)\n",
    "print(\"\")\n",
    "\n",
    "# Convert from bytes to string for readability\n",
    "print(output.decode(\"utf-8\"))"
   ]
  },
  {
   "cell_type": "markdown",
   "id": "de54a697-474b-4b44-a5fe-291aacb2d9de",
   "metadata": {},
   "source": [
    "## 1.3 Example 3: calling a .csv file as subprocess"
   ]
  },
  {
   "cell_type": "code",
   "execution_count": 47,
   "id": "d3c3931b-5bef-4039-a1a6-7e263375eead",
   "metadata": {},
   "outputs": [
    {
     "name": "stdout",
     "output_type": "stream",
     "text": [
      "Registration_No,Name\n",
      "1,Kashif Maqbool\n",
      "2,Haseeb Jawad\n",
      "3,Pingla\n",
      "\n"
     ]
    }
   ],
   "source": [
    "import csv\n",
    "\n",
    "file = \"6.1_subprocess_exmaple.csv\"\n",
    "\n",
    "data = [\n",
    "    [\"Registration_No\", \"Name\"],\n",
    "    [1, \"Kashif Maqbool\"],\n",
    "    [2, \"Haseeb Jawad\"],\n",
    "    [3, \"Pingla\"]\n",
    "]\n",
    "\n",
    "with open(file, 'w', newline='') as f:\n",
    "    writer = csv.writer(f)\n",
    "    writer.writerows(data)   # writes all rows at once\n",
    "\n",
    "\n",
    "# Calling this file as subprocess.\n",
    "import subprocess\n",
    "process = subprocess.check_output(['cat','6.1_subprocess_exmaple.csv'])\n",
    "print(process.decode('utf-8'))"
   ]
  },
  {
   "cell_type": "markdown",
   "id": "31fa2cea-7b4e-4678-9bd4-9851b01b4044",
   "metadata": {},
   "source": [
    "## 1.4 Example 4: calling a .txt file as subprocess"
   ]
  },
  {
   "cell_type": "code",
   "execution_count": 49,
   "id": "25974542-48a7-4a91-bc8f-2d687005378c",
   "metadata": {},
   "outputs": [
    {
     "name": "stdout",
     "output_type": "stream",
     "text": [
      "My name is Kashif Maqbool.\n",
      "I am 24 years old.\n",
      "I am a Student.\n",
      "\n"
     ]
    }
   ],
   "source": [
    "# Creating a txt file and writing data in it.\n",
    "file = '6.2_subprocess_exmaple2.txt'\n",
    "data = [\"My name is Kashif Maqbool.\", \"I am 24 years old.\", \"I am a Student.\"]\n",
    "\n",
    "with open(file, 'w') as g:\n",
    "    for value in data:\n",
    "        g.write(value)\n",
    "        g.write('\\n')\n",
    "g.close()\n",
    "\n",
    "import subprocess\n",
    "process = subprocess.check_output(['cat','6.2_subprocess_exmaple2.txt'])\n",
    "print(process.decode('utf-8'))\n"
   ]
  },
  {
   "cell_type": "markdown",
   "id": "23288a6e-5f7c-4803-911e-30459fbde976",
   "metadata": {},
   "source": [
    "## 1.5 Example 5: calling a .py file as subprocess. \n",
    "##### This .py file will read data from another file."
   ]
  },
  {
   "cell_type": "code",
   "execution_count": 79,
   "id": "46582cb1-b656-4292-b9de-1aa56af84fdd",
   "metadata": {},
   "outputs": [
    {
     "name": "stdout",
     "output_type": "stream",
     "text": [
      "['Registration_No', 'Names']\n",
      "['1', 'Kashif Maqbool']\n",
      "['2', 'Haseeb Jawad']\n",
      "['3', 'Pingla']\n",
      "\n"
     ]
    }
   ],
   "source": [
    "import subprocess\n",
    "\n",
    "file = '6.3_subprocess_example3.py'\n",
    "process = subprocess.check_output(['python3', file] )\n",
    "print(process.decode('utf-8'))"
   ]
  },
  {
   "cell_type": "markdown",
   "id": "f47ebd2c-8ef1-47fb-9730-72f8202044bd",
   "metadata": {},
   "source": [
    "## 1.6 Example 6: opening chrome or any app via subprocess "
   ]
  },
  {
   "cell_type": "code",
   "execution_count": 89,
   "id": "2c8565f3-f33f-488c-8fbe-18a15678d2b3",
   "metadata": {},
   "outputs": [
    {
     "data": {
      "text/plain": [
       "<Popen: returncode: None args: ['/Applications/Google Chrome.app/Contents/Ma...>"
      ]
     },
     "execution_count": 89,
     "metadata": {},
     "output_type": "execute_result"
    },
    {
     "name": "stdout",
     "output_type": "stream",
     "text": [
      "Opening in existing browser session.\n"
     ]
    }
   ],
   "source": [
    "import subprocess\n",
    "\n",
    "file = \"/Applications/Google Chrome.app/Contents/MacOS/Google Chrome\"\n",
    "process = subprocess.Popen([file])\n",
    "process"
   ]
  },
  {
   "cell_type": "markdown",
   "id": "59886f19-ee8c-451c-8c9b-d3ee4d74bc79",
   "metadata": {},
   "source": [
    "## 1.6 Example 6: opening chrome with specific website by giving link"
   ]
  },
  {
   "cell_type": "code",
   "execution_count": 91,
   "id": "6d04bd03-dd13-4247-9f27-e3d4049dccd9",
   "metadata": {},
   "outputs": [
    {
     "data": {
      "text/plain": [
       "<Popen: returncode: None args: ['/Applications/Google Chrome.app/Contents/Ma...>"
      ]
     },
     "execution_count": 91,
     "metadata": {},
     "output_type": "execute_result"
    },
    {
     "name": "stdout",
     "output_type": "stream",
     "text": [
      "Opening in existing browser session.\n"
     ]
    }
   ],
   "source": [
    "import subprocess\n",
    "\n",
    "file = \"/Applications/Google Chrome.app/Contents/MacOS/Google Chrome\"\n",
    "url = \"https://www.google.com\"\n",
    "process = subprocess.Popen([file, url])\n",
    "process"
   ]
  }
 ],
 "metadata": {
  "kernelspec": {
   "display_name": "Python 3 (ipykernel)",
   "language": "python",
   "name": "python3"
  },
  "language_info": {
   "codemirror_mode": {
    "name": "ipython",
    "version": 3
   },
   "file_extension": ".py",
   "mimetype": "text/x-python",
   "name": "python",
   "nbconvert_exporter": "python",
   "pygments_lexer": "ipython3",
   "version": "3.13.0"
  }
 },
 "nbformat": 4,
 "nbformat_minor": 5
}
