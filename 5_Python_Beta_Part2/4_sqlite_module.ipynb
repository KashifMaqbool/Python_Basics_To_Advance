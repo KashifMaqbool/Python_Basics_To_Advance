{
 "cells": [
  {
   "cell_type": "markdown",
   "id": "0d2e3de8-c874-47b3-988c-e26a792a848f",
   "metadata": {},
   "source": [
    "# 1. sqlite3 Module"
   ]
  },
  {
   "cell_type": "markdown",
   "id": "a7a24b4d-67e7-4992-b5f7-b9ef276af683",
   "metadata": {},
   "source": [
    "#### SQL and Databases with Python\n",
    "\n",
    "SQL is a querying language used to interact with databases. Using SQL, you can create simple yet powerful queries to access, manipulate, and retrieve data.\n",
    "\n",
    "---\n",
    "\n",
    "#### Python and SQLite3\n",
    "- Python has an internal library called **sqlite3** that lets you:\n",
    "  - Create databases\n",
    "  - Add data\n",
    "  - Manipulate and access data through Python code\n",
    "\n",
    "---\n",
    "\n",
    "#### Installation\n",
    "You can install **sqlite3** using the following commands:\n",
    "\n",
    "1. `conda install sqlite3`  \n",
    "2. `conda install -c blaze sqlite3`  \n",
    "3. `pip install sqlite3`  \n",
    "4. `sudo install sqlite3`  \n",
    "\n",
    "---\n",
    "\n",
    "#### Common SQLite3 Methods in Python\n",
    "\n",
    "| Method                   | Description                                                                 |\n",
    "|---------------------------|-----------------------------------------------------------------------------|\n",
    "| `sqlite3.connect()`      | Establishes a connection to an SQLite database from Python                  |\n",
    "| `connection.cursor()`    | Returns a cursor object from the connection object                          |\n",
    "| `cursor.execute()`       | Executes an SQL command using the `execute()` method of a cursor object     |\n",
    "| `cursor.fetchall()`      | Fetches all records after executing a `SELECT` query                        |\n",
    "| `cursor.close()`         | Closes the SQLite cursor object                                             |\n",
    "| `sqlite3.close()`        | Closes the SQLite database connection                                       |\n"
   ]
  },
  {
   "cell_type": "markdown",
   "id": "a5183bea-3009-4929-a038-3459c3e7e00b",
   "metadata": {},
   "source": [
    "## 1.1 Connection Creation Function"
   ]
  },
  {
   "cell_type": "code",
   "execution_count": 1,
   "id": "15733a6e-fce9-4b0b-a11e-cd039956048b",
   "metadata": {},
   "outputs": [],
   "source": [
    "import sqlite3\n",
    "from sqlite3 import Error\n",
    "\n",
    "def create_connection(db_file_name):\n",
    "    \"\"\"\n",
    "    Create a database connection with sqlite3 database specified by db_file_name.\n",
    "    \"\"\"\n",
    "    conn = None\n",
    "    try:\n",
    "        conn = sqlite3.connect(db_file_name)\n",
    "        print(\"The sqlite connection has been established.\")\n",
    "        return conn\n",
    "    except Error as e:\n",
    "        print(e)\n",
    "    return conn"
   ]
  },
  {
   "cell_type": "markdown",
   "id": "4c2cec72-cc7e-4c32-ac43-4f858b967f86",
   "metadata": {},
   "source": [
    "## 1.2 Connection Close Function"
   ]
  },
  {
   "cell_type": "code",
   "execution_count": 2,
   "id": "74269bc0-2d2d-4a1b-8e83-057143a9dede",
   "metadata": {},
   "outputs": [],
   "source": [
    "def close_connection(conn):\n",
    "    \"\"\"Close connection with the database.\"\"\"\n",
    "    if conn:\n",
    "        conn.close()\n",
    "        print(\"The sqlite3 Connection is Closed\")"
   ]
  },
  {
   "cell_type": "markdown",
   "id": "675e223e-7d93-4bd0-ba2b-250b7ad768d2",
   "metadata": {},
   "source": [
    "## 1.3 Table Creation in DB via Statement"
   ]
  },
  {
   "cell_type": "code",
   "execution_count": 3,
   "id": "fc2b4436-2bb0-473f-adc1-6c7742618e90",
   "metadata": {},
   "outputs": [],
   "source": [
    "def create_table_db(conn, create_sql_table):\n",
    "    \"\"\"Create table in database from create_sql_table statement.\"\"\"\n",
    "    try:\n",
    "        cur = conn.cursor()\n",
    "        cur.execute(create_sql_table)\n",
    "    except Error as e:\n",
    "        print(e)"
   ]
  },
  {
   "cell_type": "markdown",
   "id": "e9b021d7-1e23-43a6-9e22-971c58c6eee1",
   "metadata": {},
   "source": [
    "## 1.4 Implementing Table creation by using above functions"
   ]
  },
  {
   "cell_type": "code",
   "execution_count": 4,
   "id": "480a84c8-cc9a-414d-93c1-df849150c46a",
   "metadata": {},
   "outputs": [],
   "source": [
    "def table_create():\n",
    "    database = r\"/Users/kashifmaqbool/Python for AI/5_Python_Beta_Part2/4.1database.db\"\n",
    "\n",
    "    # SQL query\n",
    "    table = \"\"\" CREATE TABLE IF NOT EXISTS STUDENTS(\n",
    "                id integer PRIMARY KEY,\n",
    "                name text NOT NULL,\n",
    "                gpa real,\n",
    "                admission_date text\n",
    "    ); \"\"\"\n",
    "\n",
    "    conn = create_connection(database)\n",
    "\n",
    "    if conn is not None:\n",
    "        create_table_db(conn, table)\n",
    "        print(\"Table is Created.\")\n",
    "    else:\n",
    "        print(\"Error! Cannot create database connection\")\n",
    "\n",
    "    close_connection(conn)\n"
   ]
  },
  {
   "cell_type": "markdown",
   "id": "9d7d0007-0156-4583-9327-0c68df12a18d",
   "metadata": {},
   "source": [
    "#### Creating a Database and Table\n",
    "- The code creates a database named **database.db**  \n",
    "- It then runs SQL queries to create a table called **students** with the following columns:\n",
    "  - `ID`\n",
    "  - `Name`\n",
    "  - `GPA`\n",
    "  - `Admission Date`\n",
    "\n",
    "So far, an empty table named **students** has been created.\n"
   ]
  },
  {
   "cell_type": "markdown",
   "id": "295bbf68-6ac6-41ee-905a-46d614f7cad5",
   "metadata": {},
   "source": [
    "## 1.5 Function of Adding Students in table"
   ]
  },
  {
   "cell_type": "code",
   "execution_count": 5,
   "id": "04186c1d-64a7-4873-bc47-e4a1914764c3",
   "metadata": {
    "scrolled": true
   },
   "outputs": [],
   "source": [
    "def add_student(conn, student):\n",
    "    \"\"\"Create a new student entry into student table.\"\"\"\n",
    "    sql = \"\"\"INSERT INTO STUDENTS(name, gpa, admission_date)\n",
    "             VALUES (?, ?, ?)\"\"\"\n",
    "    \n",
    "    cur = conn.cursor()\n",
    "    cur.execute(sql, student)\n",
    "    conn.commit()  # important: save changes\n",
    "    return cur.lastrowid"
   ]
  },
  {
   "cell_type": "markdown",
   "id": "affccda2-931d-448c-a18f-a4069356cae9",
   "metadata": {},
   "source": [
    "## 1.6 Running the whole program in main function"
   ]
  },
  {
   "cell_type": "code",
   "execution_count": 9,
   "id": "222c8c00-8044-42d1-8ae5-fa5565167aef",
   "metadata": {},
   "outputs": [],
   "source": [
    "def main_function():\n",
    "    database = r\"/Users/kashifmaqbool/Python for AI/5_Python_Beta_Part2/4.1database.db\"\n",
    "\n",
    "    # Make sure table exists first\n",
    "    conn = create_connection(database)\n",
    "    create_table_db(conn, \"\"\"CREATE TABLE IF NOT EXISTS STUDENTS(\n",
    "                                id integer PRIMARY KEY,\n",
    "                                name text NOT NULL,\n",
    "                                gpa real,\n",
    "                                admission_date text\n",
    "                            );\"\"\")\n",
    "    \n",
    "    with conn:\n",
    "        std = ['Haseeb Jawad', 3.1, '10/06/2023']\n",
    "        std_id = add_student(conn, std)\n",
    "        print(\"The student ID is : \", std_id)\n",
    "    \n",
    "    close_connection(conn)"
   ]
  },
  {
   "cell_type": "code",
   "execution_count": 10,
   "id": "9fa57b80-09e8-49be-81b0-521919dd51c8",
   "metadata": {},
   "outputs": [
    {
     "name": "stdout",
     "output_type": "stream",
     "text": [
      "The sqlite connection has been established.\n",
      "The student ID is :  2\n",
      "The sqlite3 Connection is Closed\n"
     ]
    }
   ],
   "source": [
    "main_function()"
   ]
  },
  {
   "cell_type": "markdown",
   "id": "f4ec2132-0338-4967-b2e9-d45c04b35e78",
   "metadata": {},
   "source": [
    "## 1.7 Read data in table"
   ]
  },
  {
   "cell_type": "code",
   "execution_count": 11,
   "id": "62d6e12f-bb72-43c1-a160-2c9e87e119c9",
   "metadata": {},
   "outputs": [
    {
     "name": "stdout",
     "output_type": "stream",
     "text": [
      "The sqlite connection has been established.\n",
      "Total rows are: 2\n",
      "The sqlite3 Connection is Closed\n",
      "[(1, 'Kashif Maqbool', 3.0, '11/09/2025'), (2, 'Haseeb Jawad', 3.1, '10/06/2023')]\n"
     ]
    }
   ],
   "source": [
    "database = r\"/Users/kashifmaqbool/Python for AI/5_Python_Beta_Part2/4.1database.db\"\n",
    "\n",
    "# Create Connection\n",
    "conn = create_connection(database)\n",
    "records = []  # define before try\n",
    "\n",
    "try:\n",
    "    cur = conn.cursor()\n",
    "    sql_string = \"SELECT * FROM STUDENTS\"\n",
    "    cur.execute(sql_string)\n",
    "    \n",
    "    records = cur.fetchall()\n",
    "    print(\"Total rows are:\", len(records))\n",
    "\n",
    "except sqlite3.Error as e:\n",
    "    print(\"Failed to load data:\", e)\n",
    "\n",
    "finally:\n",
    "    if cur:\n",
    "        cur.close()\n",
    "    close_connection(conn)\n",
    "\n",
    "print(records)"
   ]
  },
  {
   "cell_type": "markdown",
   "id": "499280c5-b908-4abe-a153-c6fe636013fd",
   "metadata": {},
   "source": [
    "#### Next Steps\n",
    "- Add entries into the table\n",
    "- Access, manipulate, or delete data as needed\n",
    "\n",
    "---\n",
    "\n",
    "#### Key Takeaway\n",
    "To make the most out of databases, you need a good understanding of SQL to create powerful queries for interaction.\n",
    "\n",
    "📖 **Reference:** [SQL Quick Reference – W3Schools](https://www.w3schools.com/sql/sql_quickref.asp)"
   ]
  }
 ],
 "metadata": {
  "kernelspec": {
   "display_name": "Python 3 (ipykernel)",
   "language": "python",
   "name": "python3"
  },
  "language_info": {
   "codemirror_mode": {
    "name": "ipython",
    "version": 3
   },
   "file_extension": ".py",
   "mimetype": "text/x-python",
   "name": "python",
   "nbconvert_exporter": "python",
   "pygments_lexer": "ipython3",
   "version": "3.13.0"
  }
 },
 "nbformat": 4,
 "nbformat_minor": 5
}
