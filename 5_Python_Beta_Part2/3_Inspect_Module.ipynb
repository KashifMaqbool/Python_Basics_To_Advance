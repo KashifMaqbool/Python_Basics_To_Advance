{
 "cells": [
  {
   "cell_type": "markdown",
   "id": "1e719a5b-2cf2-416a-96a1-f0216b189b85",
   "metadata": {},
   "source": [
    "# 1. Introspection"
   ]
  },
  {
   "cell_type": "markdown",
   "id": "6c23e867-cf6f-4d1e-96ad-3de6989090cd",
   "metadata": {},
   "source": [
    "#### Introspection (Inspect) Module\n",
    "- Introspection in Python helps determine the type of an object, its attributes, and methods at runtime.  \n",
    "- It is useful for understanding the structure of data and retrieving specific attributes or methods tied to an object.  \n",
    "- The `inspect` module allows a user to perform these actions on any Python object or variable.  \n",
    "- You can use inspection methods on modules, classes, functions, and objects.  \n",
    "\n",
    "#### Basic Methods vs Inspect Module\n",
    "- You can perform introspection with basic methods or use the `inspect` module.  \n",
    "- Let’s first see examples of internal methods to assess types and available methods of objects.  \n",
    "- In Python, everything is an object, so we can use `type()` and `dir()` on any variable to determine its type and associated methods, respectively.  \n",
    "- We will also use the `id()` method, which returns a unique ID that Python uses to reference each variable created. "
   ]
  },
  {
   "cell_type": "markdown",
   "id": "ae1c13c5-5b1c-491b-b73f-a5961452b519",
   "metadata": {},
   "source": [
    "## 1.1 Basic Methods"
   ]
  },
  {
   "cell_type": "code",
   "execution_count": 4,
   "id": "ea449095-f808-497a-9ab1-a0ad7c439583",
   "metadata": {},
   "outputs": [
    {
     "name": "stdout",
     "output_type": "stream",
     "text": [
      "Get Id, type, methods and attributes for the Student Class.\n",
      "140624261527856\n",
      "<class 'type'>\n",
      "['__class__', '__delattr__', '__dict__', '__dir__', '__doc__', '__eq__', '__firstlineno__', '__format__', '__ge__', '__getattribute__', '__getstate__', '__gt__', '__hash__', '__init__', '__init_subclass__', '__le__', '__lt__', '__module__', '__ne__', '__new__', '__reduce__', '__reduce_ex__', '__repr__', '__setattr__', '__sizeof__', '__static_attributes__', '__str__', '__subclasshook__', '__weakref__', 'get_age', 'get_name', 'set_age', 'set_name']\n",
      "\n",
      "\n",
      "Get Id, type, methods and attributes for a variable containing string value.\n",
      "4552900528\n",
      "<class 'str'>\n",
      "['__add__', '__class__', '__contains__', '__delattr__', '__dir__', '__doc__', '__eq__', '__format__', '__ge__', '__getattribute__', '__getitem__', '__getnewargs__', '__getstate__', '__gt__', '__hash__', '__init__', '__init_subclass__', '__iter__', '__le__', '__len__', '__lt__', '__mod__', '__mul__', '__ne__', '__new__', '__reduce__', '__reduce_ex__', '__repr__', '__rmod__', '__rmul__', '__setattr__', '__sizeof__', '__str__', '__subclasshook__', 'capitalize', 'casefold', 'center', 'count', 'encode', 'endswith', 'expandtabs', 'find', 'format', 'format_map', 'index', 'isalnum', 'isalpha', 'isascii', 'isdecimal', 'isdigit', 'isidentifier', 'islower', 'isnumeric', 'isprintable', 'isspace', 'istitle', 'isupper', 'join', 'ljust', 'lower', 'lstrip', 'maketrans', 'partition', 'removeprefix', 'removesuffix', 'replace', 'rfind', 'rindex', 'rjust', 'rpartition', 'rsplit', 'rstrip', 'split', 'splitlines', 'startswith', 'strip', 'swapcase', 'title', 'translate', 'upper', 'zfill']\n",
      "\n",
      "\n",
      "Get Id, type, methods and attributes for a variable containing float value.\n",
      "4552010000\n",
      "<class 'float'>\n",
      "['__abs__', '__add__', '__bool__', '__ceil__', '__class__', '__delattr__', '__dir__', '__divmod__', '__doc__', '__eq__', '__float__', '__floor__', '__floordiv__', '__format__', '__ge__', '__getattribute__', '__getformat__', '__getnewargs__', '__getstate__', '__gt__', '__hash__', '__init__', '__init_subclass__', '__int__', '__le__', '__lt__', '__mod__', '__mul__', '__ne__', '__neg__', '__new__', '__pos__', '__pow__', '__radd__', '__rdivmod__', '__reduce__', '__reduce_ex__', '__repr__', '__rfloordiv__', '__rmod__', '__rmul__', '__round__', '__rpow__', '__rsub__', '__rtruediv__', '__setattr__', '__sizeof__', '__str__', '__sub__', '__subclasshook__', '__truediv__', '__trunc__', 'as_integer_ratio', 'conjugate', 'fromhex', 'hex', 'imag', 'is_integer', 'real']\n"
     ]
    }
   ],
   "source": [
    "my_name = \"Kashif Maqbool\"\n",
    "my_age = 23.5\n",
    "\n",
    "class Student:\n",
    "    def __init__(self, name, age):\n",
    "        self.__name = name  # Private\n",
    "        self.__age = age    # Private\n",
    "\n",
    "    # Getters\n",
    "    def get_name(self):\n",
    "        return self.__name\n",
    "\n",
    "    def get_age(self):\n",
    "        return self.__age\n",
    "\n",
    "    # Setters\n",
    "    def set_name(self, new_name):\n",
    "        if type(new_name) == str and new_name != \" \":\n",
    "            self.__name = new_name\n",
    "        else:\n",
    "            print(\"Name should be in characters and should not be empty.\")\n",
    "\n",
    "    def set_age(self, new_age):\n",
    "        if (new_age > 0)  and  (type(new_age) == int)  and  (new_age != \" \"):\n",
    "            self.__age = new_age\n",
    "        else:\n",
    "            print(\"Age should not be less than and equal to zero and also should be integer.\")\n",
    "            \n",
    "        \n",
    "obj = Student(\"Kashif Maqbool\", 23)\n",
    "\n",
    "\n",
    "print(\"Get Id, type, methods and attributes for the Student Class.\")\n",
    "print(id(Student))\n",
    "print(type(Student))\n",
    "print(dir(Student))\n",
    "\n",
    "print(\"\")\n",
    "print(\"\")\n",
    "\n",
    "print(\"Get Id, type, methods and attributes for a variable containing string value.\")\n",
    "print(id(my_name))\n",
    "print(type(my_name))\n",
    "print(dir(my_name))\n",
    "\n",
    "print(\"\")\n",
    "print(\"\")\n",
    "\n",
    "print(\"Get Id, type, methods and attributes for a variable containing float value.\")\n",
    "print(id(my_age))\n",
    "print(type(my_age))\n",
    "print(dir(my_age))"
   ]
  },
  {
   "cell_type": "markdown",
   "id": "f65cc8af-fa4d-4540-8fc7-47c92d508031",
   "metadata": {},
   "source": [
    "#### Basic Methods\n",
    "- All user-defined methods and internal methods associated with classes, strings, and float values can be listed using the `dir()` method.  \n",
    "- Similarly, `id()` returns the unique ID value that Python creates for each variable, and `type()` returns the respective type.  "
   ]
  },
  {
   "cell_type": "markdown",
   "id": "14bfea1b-84da-4bcc-8dd1-9db5c5535fab",
   "metadata": {},
   "source": [
    "## 1.2 Inspect Module"
   ]
  },
  {
   "cell_type": "markdown",
   "id": "c526aa75-f7d0-422c-86f8-004fd5f68630",
   "metadata": {},
   "source": [
    "#### Inspect Module\n",
    "\n",
    "The **inspect module** in Python allows introspection of objects. Below are the commonly available attributes for different types of objects:\n",
    "\n",
    "---\n",
    "\n",
    "#### Attributes by Type\n",
    "\n",
    "| **Type**   | **Attribute**   | **Description**                                                                 |\n",
    "|------------|-----------------|---------------------------------------------------------------------------------|\n",
    "| **Module** | `__doc__`       | Documentation string                                                            |\n",
    "|            | `__file__`      | Filename (missing for built-in modules)                                         |\n",
    "| **Class**  | `__doc__`       | Documentation string                                                            |\n",
    "|            | `__name__`      | Name with which this class was defined                                          |\n",
    "|            | `__qualname__`  | Qualified name                                                                  |\n",
    "|            | `__module__`    | Name of the module in which this class was defined                              |\n",
    "| **Method** | `__doc__`       | Documentation string                                                            |\n",
    "|            | `__name__`      | Name with which this method was defined                                         |\n",
    "|            | `__qualname__`  | Qualified name                                                                  |\n",
    "|            | `__func__`      | Function object containing implementation of method                             |\n",
    "|            | `__self__`      | Instance to which this method is bound, or `None`                               |\n",
    "|            | `__module__`    | Name of the module in which this method was defined                             |\n",
    "| **Function** | `__doc__`     | Documentation string                                                            |\n",
    "|            | `__name__`      | Name with which this function was defined                                       |\n",
    "|            | `__qualname__`  | Qualified name                                                                  |\n",
    "|            | `__code__`      | Code object containing compiled function bytecode                               |\n",
    "|            | `__defaults__`  | Tuple of any default values for positional or keyword parameters                |\n",
    "|            | `__kwdefaults__`| Mapping of any default values for keyword-only parameters                       |\n",
    "|            | `__globals__`   | Global namespace in which this function was defined                             |\n",
    "|            | `__annotations__` | Mapping of parameter names to annotations; `\"return\"` key is reserved for return annotations |\n",
    "|            | `__module__`    | Name of the module in which this function was defined                           |\n"
   ]
  },
  {
   "cell_type": "code",
   "execution_count": 35,
   "id": "68ac677a-6e36-40cc-bd77-6e0fa945ca06",
   "metadata": {},
   "outputs": [
    {
     "name": "stdout",
     "output_type": "stream",
     "text": [
      "Getting members of the Class Student:\n",
      "\n",
      " [('__class__', <class 'type'>), ('__delattr__', <slot wrapper '__delattr__' of 'object' objects>), ('__dict__', mappingproxy({'__module__': '__main__', '__firstlineno__': 8, '__init__': <function Student.__init__ at 0x10f6eed40>, 'get_name': <function Student.get_name at 0x10f6ee980>, 'get_age': <function Student.get_age at 0x10f6ecd60>, 'set_name': <function Student.set_name at 0x10f6ed080>, 'set_age': <function Student.set_age at 0x10f6ec180>, '__static_attributes__': ('__age', '__name'), '__dict__': <attribute '__dict__' of 'Student' objects>, '__weakref__': <attribute '__weakref__' of 'Student' objects>, '__doc__': None})), ('__dir__', <method '__dir__' of 'object' objects>), ('__doc__', None), ('__eq__', <slot wrapper '__eq__' of 'object' objects>), ('__firstlineno__', 8), ('__format__', <method '__format__' of 'object' objects>), ('__ge__', <slot wrapper '__ge__' of 'object' objects>), ('__getattribute__', <slot wrapper '__getattribute__' of 'object' objects>), ('__getstate__', <method '__getstate__' of 'object' objects>), ('__gt__', <slot wrapper '__gt__' of 'object' objects>), ('__hash__', <slot wrapper '__hash__' of 'object' objects>), ('__init__', <function Student.__init__ at 0x10f6eed40>), ('__init_subclass__', <built-in method __init_subclass__ of type object at 0x7fe5a1f31630>), ('__le__', <slot wrapper '__le__' of 'object' objects>), ('__lt__', <slot wrapper '__lt__' of 'object' objects>), ('__module__', '__main__'), ('__ne__', <slot wrapper '__ne__' of 'object' objects>), ('__new__', <built-in method __new__ of type object at 0x10c63c2d8>), ('__reduce__', <method '__reduce__' of 'object' objects>), ('__reduce_ex__', <method '__reduce_ex__' of 'object' objects>), ('__repr__', <slot wrapper '__repr__' of 'object' objects>), ('__setattr__', <slot wrapper '__setattr__' of 'object' objects>), ('__sizeof__', <method '__sizeof__' of 'object' objects>), ('__static_attributes__', ('__age', '__name')), ('__str__', <slot wrapper '__str__' of 'object' objects>), ('__subclasshook__', <built-in method __subclasshook__ of type object at 0x7fe5a1f31630>), ('__weakref__', <attribute '__weakref__' of 'Student' objects>), ('get_age', <function Student.get_age at 0x10f6ecd60>), ('get_name', <function Student.get_name at 0x10f6ee980>), ('set_age', <function Student.set_age at 0x10f6ec180>), ('set_name', <function Student.set_name at 0x10f6ed080>)]\n",
      "\n",
      "\n",
      "Checking os is a module: True\n",
      "\n",
      "\n",
      "Checking my_name variable is a module: False\n",
      "\n",
      "\n",
      "Checking Student is a class: True\n",
      "\n",
      "\n",
      "CHECKING ISMETHOD VS ISFUNCTION COMAPRISON:\n",
      "ismethod(): \n",
      "-----------\n",
      "1. show_name_age():  False \n",
      "2. Student.get_age(): False \n",
      "3. lambd:  False \n",
      "4. obj.set_name(): True\n",
      "\n",
      "isfunction(): \n",
      "-----------\n",
      "1. show_name_age:  True \n",
      "2. Student.get_age True \n",
      "3. lambd:  True \n",
      "4. obj.set_name(): False\n"
     ]
    }
   ],
   "source": [
    "import inspect\n",
    "import os\n",
    "\n",
    "# my_name variable having a string stored in it\n",
    "my_name = \"Kashif Maqbool\"\n",
    "\n",
    "# Student Class with its functions, methods and objects etc\n",
    "class Student:\n",
    "    def __init__(self, name, age):\n",
    "        self.__name = name  # Private\n",
    "        self.__age = age    # Private\n",
    "\n",
    "    # Getters\n",
    "    def get_name(self):\n",
    "        return self.__name\n",
    "\n",
    "    def get_age(self):\n",
    "        return self.__age\n",
    "\n",
    "    # Setters\n",
    "    def set_name(self, new_name):\n",
    "        if type(new_name) == str and new_name != \" \":\n",
    "            self.__name = new_name\n",
    "        else:\n",
    "            print(\"Name should be in characters and should not be empty.\")\n",
    "\n",
    "    def set_age(self, new_age):\n",
    "        if (new_age > 0)  and  (type(new_age) == int)  and  (new_age != \" \"):\n",
    "            self.__age = new_age\n",
    "        else:\n",
    "            print(\"Age should not be less than and equal to zero and also should be integer.\")\n",
    "             \n",
    "obj = Student(\"Kashif Maqbool\", 23)\n",
    "obj.set_name(\"Pingla\")\n",
    "\n",
    "\n",
    "# Lambda function(Temporary function used for temporary time)\n",
    "lambd = lambda x: x*x\n",
    "\n",
    "\n",
    "# Normal python user-defined function/method\n",
    "def show_name_age(first_name:str, last_name:str, age:float):\n",
    "    print(\"{} {} is {} years old\".format(first_name, last_name, age))\n",
    "\n",
    "\n",
    "\n",
    "# Applying inspect module\n",
    "print(\"Getting members of the Class Student:\\n\\n\", inspect.getmembers(Student))\n",
    "print(\"\\n\\nChecking os is a module:\",inspect.ismodule(os))\n",
    "print(\"\\n\\nChecking my_name variable is a module:\",inspect.ismodule(my_name))\n",
    "print(\"\\n\\nChecking Student is a class:\",inspect.isclass(Student))\n",
    "\n",
    "print(\"\\n\\nChecking ismethod vs isfunction comaprison:\".upper())\n",
    "print(\"ismethod(): \\n-----------\\n1. show_name_age(): \", inspect.ismethod(show_name_age),\n",
    "                               \"\\n2. Student.get_age():\", inspect.ismethod(Student.get_name),\n",
    "                               \"\\n3. lambd: \", inspect.ismethod(lambd),\n",
    "                               \"\\n4. obj.set_name():\",inspect.ismethod(obj.set_name))\n",
    "print(\"\")\n",
    "\n",
    "print(\"isfunction(): \\n-----------\\n1. show_name_age: \", inspect.isfunction(show_name_age),\n",
    "                                 \"\\n2. Student.get_age\", inspect.isfunction(Student.get_name),\n",
    "                                 \"\\n3. lambd: \", inspect.isfunction(lambd),\n",
    "                                 \"\\n4. obj.set_name():\",inspect.isfunction(obj.set_name))                         "
   ]
  },
  {
   "cell_type": "markdown",
   "id": "570ab4ce-36dc-4557-9e74-969f21129c4f",
   "metadata": {},
   "source": [
    "### 1.2.1 Inspect.signature() Method"
   ]
  },
  {
   "cell_type": "markdown",
   "id": "d87ef3bc-ab8e-400d-be31-50151f917bb0",
   "metadata": {},
   "source": [
    "#### Inspect Module\n",
    "- The `inspect` module provides more detailed introspection.  \n",
    "- For example, the `signature()` method returns a callable object that allows us to inspect the parameters of a function, its type, etc.  \n",
    "- It takes a function as an argument and returns an object.  \n",
    "- The returned object can be accessed to retrieve the parameters of the function.  "
   ]
  },
  {
   "cell_type": "code",
   "execution_count": 39,
   "id": "3cbbcfaa-31e7-4be6-9f9d-99c740211242",
   "metadata": {},
   "outputs": [
    {
     "name": "stdout",
     "output_type": "stream",
     "text": [
      "OrderedDict({'first_name': <Parameter \"first_name: str\">, 'last_name': <Parameter \"last_name: str\">, 'age': <Parameter \"age: float\">})\n",
      "\n",
      "<class 'str'>\n",
      "<class 'float'>\n"
     ]
    }
   ],
   "source": [
    "import inspect\n",
    "\n",
    "# Normal python user-defined function/method\n",
    "def show_name_age(first_name:str, last_name:str, age:float):\n",
    "    print(\"{} {} is {} years old\".format(first_name, last_name, age))\n",
    "\n",
    "# Signature of a method: accesses parameters and their infered or fixed data types\n",
    "sign = inspect.signature(show_name_age)\n",
    "print(sign.parameters)  # returns a dictionary with parameters as keys : and description as values\n",
    "print(\"\")\n",
    "print(sign.parameters['first_name'].annotation)  # returns the type of parameter\n",
    "print(sign.parameters['age'].annotation)"
   ]
  }
 ],
 "metadata": {
  "kernelspec": {
   "display_name": "Python 3 (ipykernel)",
   "language": "python",
   "name": "python3"
  },
  "language_info": {
   "codemirror_mode": {
    "name": "ipython",
    "version": 3
   },
   "file_extension": ".py",
   "mimetype": "text/x-python",
   "name": "python",
   "nbconvert_exporter": "python",
   "pygments_lexer": "ipython3",
   "version": "3.13.0"
  }
 },
 "nbformat": 4,
 "nbformat_minor": 5
}
