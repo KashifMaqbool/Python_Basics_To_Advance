{
 "cells": [
  {
   "cell_type": "markdown",
   "id": "9d90da27-5d23-44ec-ae26-8e5c8be7fdc5",
   "metadata": {},
   "source": [
    "# 1. absolute function\n",
    "##### denoted as abs()."
   ]
  },
  {
   "cell_type": "markdown",
   "id": "61c0915e-a250-4ae8-9335-c0545466a069",
   "metadata": {},
   "source": [
    "### for intergers"
   ]
  },
  {
   "cell_type": "code",
   "execution_count": 1,
   "id": "630826cb-1835-422d-9b1b-39702b5e9896",
   "metadata": {},
   "outputs": [
    {
     "name": "stdout",
     "output_type": "stream",
     "text": [
      "Absolute value of 4 is  4\n"
     ]
    }
   ],
   "source": [
    "integer = 4\n",
    "print('Absolute value of 4 is ',abs(integer))"
   ]
  },
  {
   "cell_type": "code",
   "execution_count": 2,
   "id": "1a5d430c",
   "metadata": {},
   "outputs": [
    {
     "name": "stdout",
     "output_type": "stream",
     "text": [
      "Absolute value of 25 is  25\n"
     ]
    }
   ],
   "source": [
    "integer = -25\n",
    "print('Absolute value of 25 is ',abs(-25))"
   ]
  },
  {
   "cell_type": "markdown",
   "id": "4f820bca-2f9b-44ac-aed8-8dcae7ffff93",
   "metadata": {},
   "source": [
    "### for floating values"
   ]
  },
  {
   "cell_type": "code",
   "execution_count": 3,
   "id": "ddd128c7",
   "metadata": {},
   "outputs": [
    {
     "name": "stdout",
     "output_type": "stream",
     "text": [
      "The absolute value of -3.14 is 3.14\n"
     ]
    }
   ],
   "source": [
    "floating = -3.14\n",
    "print('The absolute value of -3.14 is',abs(floating))"
   ]
  },
  {
   "cell_type": "markdown",
   "id": "512f0fd0-cffa-42fa-976f-604edb9bcf68",
   "metadata": {},
   "source": [
    "### for complex numbers"
   ]
  },
  {
   "cell_type": "code",
   "execution_count": 4,
   "id": "9ae4150c",
   "metadata": {},
   "outputs": [
    {
     "name": "stdout",
     "output_type": "stream",
     "text": [
      "The absolute value of  (4+1j)  is  4.123105625617661\n"
     ]
    }
   ],
   "source": [
    "complex = (4+1j)\n",
    "print('The absolute value of ',complex,' is ',abs(complex))"
   ]
  },
  {
   "cell_type": "markdown",
   "id": "9e024982-0dad-487d-bd90-7d67729cb205",
   "metadata": {},
   "source": [
    "# 2. boolean function\n",
    "#### also denoted as bool()."
   ]
  },
  {
   "cell_type": "code",
   "execution_count": 5,
   "id": "0289fefa",
   "metadata": {},
   "outputs": [
    {
     "name": "stdout",
     "output_type": "stream",
     "text": [
      "[]  is False\n"
     ]
    }
   ],
   "source": [
    "test = []\n",
    "print(test,' is', bool(test))"
   ]
  },
  {
   "cell_type": "code",
   "execution_count": 6,
   "id": "88b10ec3",
   "metadata": {},
   "outputs": [
    {
     "name": "stdout",
     "output_type": "stream",
     "text": [
      "()  is False\n"
     ]
    }
   ],
   "source": [
    "test = ()\n",
    "print(test,' is', bool(test))"
   ]
  },
  {
   "cell_type": "code",
   "execution_count": 7,
   "id": "96f36978",
   "metadata": {},
   "outputs": [
    {
     "name": "stdout",
     "output_type": "stream",
     "text": [
      "{}  is False\n"
     ]
    }
   ],
   "source": [
    "test = {}\n",
    "print(test,' is', bool(test))"
   ]
  },
  {
   "cell_type": "code",
   "execution_count": 8,
   "id": "93dd307b",
   "metadata": {},
   "outputs": [
    {
     "name": "stdout",
     "output_type": "stream",
     "text": [
      "{0}  is True\n"
     ]
    }
   ],
   "source": [
    "test = {0}\n",
    "print(test,' is', bool(test))"
   ]
  },
  {
   "cell_type": "code",
   "execution_count": 9,
   "id": "36ca1fb4",
   "metadata": {},
   "outputs": [
    {
     "name": "stdout",
     "output_type": "stream",
     "text": [
      "0.0  is  False\n"
     ]
    }
   ],
   "source": [
    "test = 0.0\n",
    "print(test,' is ', bool(test))"
   ]
  },
  {
   "cell_type": "code",
   "execution_count": 10,
   "id": "f0dfa5b6",
   "metadata": {},
   "outputs": [
    {
     "name": "stdout",
     "output_type": "stream",
     "text": [
      "None  is  False\n"
     ]
    }
   ],
   "source": [
    "test = None\n",
    "print(test,' is ', bool(test))"
   ]
  },
  {
   "cell_type": "code",
   "execution_count": 11,
   "id": "cdad872f",
   "metadata": {},
   "outputs": [
    {
     "name": "stdout",
     "output_type": "stream",
     "text": [
      "True  is  True\n"
     ]
    }
   ],
   "source": [
    "test = True\n",
    "print(test,' is ', bool(test))"
   ]
  },
  {
   "cell_type": "code",
   "execution_count": 12,
   "id": "95b5fb8c",
   "metadata": {},
   "outputs": [
    {
     "name": "stdout",
     "output_type": "stream",
     "text": [
      "False  is  False\n"
     ]
    }
   ],
   "source": [
    "test = False\n",
    "print(test,' is ', bool(test))"
   ]
  },
  {
   "cell_type": "code",
   "execution_count": 13,
   "id": "de60cdac",
   "metadata": {},
   "outputs": [
    {
     "name": "stdout",
     "output_type": "stream",
     "text": [
      "Kashif Maqbool  is  True\n"
     ]
    }
   ],
   "source": [
    "test = 'Kashif Maqbool'\n",
    "print(test,' is ', bool(test))"
   ]
  },
  {
   "cell_type": "markdown",
   "id": "a233c621-a24b-44e6-8f42-22410b346039",
   "metadata": {},
   "source": [
    "# 3. dir function\n",
    "#### also known as dir() and it returns the attributes of given object."
   ]
  },
  {
   "cell_type": "code",
   "execution_count": 14,
   "id": "8caa57d1",
   "metadata": {},
   "outputs": [
    {
     "name": "stdout",
     "output_type": "stream",
     "text": [
      "['__add__', '__class__', '__class_getitem__', '__contains__', '__delattr__', '__delitem__', '__dir__', '__doc__', '__eq__', '__format__', '__ge__', '__getattribute__', '__getitem__', '__getstate__', '__gt__', '__hash__', '__iadd__', '__imul__', '__init__', '__init_subclass__', '__iter__', '__le__', '__len__', '__lt__', '__mul__', '__ne__', '__new__', '__reduce__', '__reduce_ex__', '__repr__', '__reversed__', '__rmul__', '__setattr__', '__setitem__', '__sizeof__', '__str__', '__subclasshook__', 'append', 'clear', 'copy', 'count', 'extend', 'index', 'insert', 'pop', 'remove', 'reverse', 'sort']\n"
     ]
    }
   ],
   "source": [
    "number = [1,3,2,3,4,4]\n",
    "print(dir(number))"
   ]
  }
 ],
 "metadata": {
  "kernelspec": {
   "display_name": "Python 3 (ipykernel)",
   "language": "python",
   "name": "python3"
  },
  "language_info": {
   "codemirror_mode": {
    "name": "ipython",
    "version": 3
   },
   "file_extension": ".py",
   "mimetype": "text/x-python",
   "name": "python",
   "nbconvert_exporter": "python",
   "pygments_lexer": "ipython3",
   "version": "3.13.0"
  }
 },
 "nbformat": 4,
 "nbformat_minor": 5
}
