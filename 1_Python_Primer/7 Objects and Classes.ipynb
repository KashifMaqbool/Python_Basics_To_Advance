{
 "cells": [
  {
   "cell_type": "markdown",
   "id": "b0da23de-f330-46e3-9d2d-8cd613720216",
   "metadata": {},
   "source": [
    "# Creating classes"
   ]
  },
  {
   "cell_type": "code",
   "execution_count": null,
   "id": "22eacd67-b650-45bb-a6da-3f931f762aa6",
   "metadata": {},
   "outputs": [],
   "source": [
    "# Explanation\n",
    "# Relation Between Class, Object, and Function\n",
    "# Class contains functions (methods).\n",
    "# Object is created from the class.\n",
    "# We call the functions through the object to perform actions."
   ]
  },
  {
   "cell_type": "code",
   "execution_count": null,
   "id": "2c4ac8cf",
   "metadata": {},
   "outputs": [],
   "source": [
    "class Things:\n",
    "    pass\n",
    "class inanimate(Things):\n",
    "    pass\n",
    "class animate(Things):\n",
    "    pass\n",
    "class crossWalk(inanimate):\n",
    "    pass\n",
    "class Animals(animate):\n",
    "    pass\n",
    "class Mammals(Animals):\n",
    "    pass\n",
    "class Giraffee(Mammals):\n",
    "    pass"
   ]
  },
  {
   "cell_type": "code",
   "execution_count": null,
   "id": "7da10120",
   "metadata": {},
   "outputs": [],
   "source": [
    "# Creating objects and adding objects to classes"
   ]
  },
  {
   "cell_type": "code",
   "execution_count": 3,
   "id": "fc929162",
   "metadata": {},
   "outputs": [],
   "source": [
    "class Animals():\n",
    "    pass\n",
    "class Mammals(Animals):\n",
    "    pass\n",
    "class giraffe(Mammals):\n",
    "    pass\n",
    "kashif = Mammals()    # This is an object of Mammals class in the class of giraffe.\n",
    "# print(\"Object is running.\")"
   ]
  },
  {
   "cell_type": "code",
   "execution_count": 5,
   "id": "5d2114fa-495d-4eed-b2a9-13ae89951b0a",
   "metadata": {},
   "outputs": [
    {
     "name": "stdout",
     "output_type": "stream",
     "text": [
      "object is runnning\n"
     ]
    }
   ],
   "source": [
    "print(\"object is runnning\")"
   ]
  },
  {
   "cell_type": "code",
   "execution_count": null,
   "id": "12152668-5d29-4d59-90d7-c1aa7367efb3",
   "metadata": {},
   "outputs": [],
   "source": []
  },
  {
   "cell_type": "code",
   "execution_count": 4,
   "id": "3fdd0ab4",
   "metadata": {},
   "outputs": [
    {
     "name": "stdout",
     "output_type": "stream",
     "text": [
      "Yes! I can eat.\n",
      "Yes! I can drink.\n",
      "Yes! I can walk.\n"
     ]
    }
   ],
   "source": [
    "class kashif():\n",
    "    def eat():\n",
    "        print(\"Yes! I can eat.\")\n",
    "    def walk():\n",
    "        print(\"Yes! I can walk.\")\n",
    "    def drink():\n",
    "        print(\"Yes! I can drink.\")\n",
    "        \n",
    "    eat()\n",
    "    drink()\n",
    "    walk()"
   ]
  },
  {
   "cell_type": "code",
   "execution_count": 5,
   "id": "66e2bea3",
   "metadata": {},
   "outputs": [
    {
     "name": "stdout",
     "output_type": "stream",
     "text": [
      "Yes! I can eat.\n",
      "Yes! I can drink.\n",
      "Yes! I can walk.\n"
     ]
    }
   ],
   "source": [
    "class Kashif:\n",
    "    def eat(self):\n",
    "        print(\"Yes! I can eat.\")\n",
    "    \n",
    "    def walk(self):\n",
    "        print(\"Yes! I can walk.\")\n",
    "    \n",
    "    def drink(self):\n",
    "        print(\"Yes! I can drink.\")\n",
    "obj = Kashif()\n",
    "obj.eat()\n",
    "obj.drink()\n",
    "obj.walk()"
   ]
  },
  {
   "cell_type": "code",
   "execution_count": null,
   "id": "cf9ef100",
   "metadata": {},
   "outputs": [],
   "source": []
  },
  {
   "cell_type": "code",
   "execution_count": null,
   "id": "7ac5359e",
   "metadata": {},
   "outputs": [],
   "source": []
  }
 ],
 "metadata": {
  "kernelspec": {
   "display_name": "Python 3 (ipykernel)",
   "language": "python",
   "name": "python3"
  },
  "language_info": {
   "codemirror_mode": {
    "name": "ipython",
    "version": 3
   },
   "file_extension": ".py",
   "mimetype": "text/x-python",
   "name": "python",
   "nbconvert_exporter": "python",
   "pygments_lexer": "ipython3",
   "version": "3.13.0"
  }
 },
 "nbformat": 4,
 "nbformat_minor": 5
}
