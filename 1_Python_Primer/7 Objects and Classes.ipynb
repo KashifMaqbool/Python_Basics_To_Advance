{
 "cells": [
  {
   "cell_type": "markdown",
   "id": "b0da23de-f330-46e3-9d2d-8cd613720216",
   "metadata": {},
   "source": [
    "# Creating classes"
   ]
  },
  {
   "cell_type": "code",
   "execution_count": null,
   "id": "22eacd67-b650-45bb-a6da-3f931f762aa6",
   "metadata": {},
   "outputs": [],
   "source": [
    "# Explanation\n",
    "# Relation Between Class, Object, and Function\n",
    "# Class contains functions (methods).\n",
    "# Object is created from the class.\n",
    "# We call the functions through the object to perform actions."
   ]
  },
  {
   "cell_type": "code",
   "execution_count": null,
   "id": "2c4ac8cf",
   "metadata": {},
   "outputs": [],
   "source": [
    "class Things:\n",
    "    pass\n",
    "class inanimate(Things):\n",
    "    pass\n",
    "class animate(Things):\n",
    "    pass\n",
    "class crossWalk(inanimate):\n",
    "    pass\n",
    "class Animals(animate):\n",
    "    pass\n",
    "class Mammals(Animals):\n",
    "    pass\n",
    "class Giraffee(Mammals):\n",
    "    pass"
   ]
  },
  {
   "cell_type": "code",
   "execution_count": null,
   "id": "7da10120",
   "metadata": {},
   "outputs": [],
   "source": [
    "# Creating objects and adding objects to classes"
   ]
  },
  {
   "cell_type": "code",
   "execution_count": 22,
   "id": "fc929162",
   "metadata": {},
   "outputs": [
    {
     "name": "stdout",
     "output_type": "stream",
     "text": [
      "Object is running.\n"
     ]
    }
   ],
   "source": [
    "class Animals():\n",
    "    pass\n",
    "class Mammals(Animals):\n",
    "    pass\n",
    "class giraffe(Mammals):\n",
    "    pass\n",
    "kashif = Mammals()    # This is an object of Mammals class in the class of giraffe.\n",
    "print(\"Object is running.\")"
   ]
  },
  {
   "cell_type": "code",
   "execution_count": 11,
   "id": "3fdd0ab4",
   "metadata": {},
   "outputs": [
    {
     "name": "stdout",
     "output_type": "stream",
     "text": [
      "Yes! I can eat.\n",
      "Yes! I can drink.\n",
      "Yes! I can walk.\n"
     ]
    }
   ],
   "source": [
    "class kashif():\n",
    "    def eat():\n",
    "        print(\"Yes! I can eat.\")\n",
    "    def walk():\n",
    "        print(\"Yes! I can walk.\")\n",
    "    def drink():\n",
    "        print(\"Yes! I can drink.\")\n",
    "        \n",
    "    eat()\n",
    "    drink()\n",
    "    walk()"
   ]
  },
  {
   "cell_type": "code",
   "execution_count": 41,
   "id": "3ecfee27",
   "metadata": {},
   "outputs": [
    {
     "ename": "TypeError",
     "evalue": "'Mammals' object is not callable",
     "output_type": "error",
     "traceback": [
      "\u001b[0;31m---------------------------------------------------------------------------\u001b[0m",
      "\u001b[0;31mTypeError\u001b[0m                                 Traceback (most recent call last)",
      "Cell \u001b[0;32mIn[41], line 1\u001b[0m\n\u001b[0;32m----> 1\u001b[0m \u001b[38;5;28;01mclass\u001b[39;00m \u001b[38;5;21;01mkashif\u001b[39;00m():\n\u001b[1;32m      2\u001b[0m     \u001b[38;5;28;01mdef\u001b[39;00m \u001b[38;5;21meat\u001b[39m():\n\u001b[1;32m      3\u001b[0m         \u001b[38;5;28mprint\u001b[39m(\u001b[38;5;124m\"\u001b[39m\u001b[38;5;124mYes! I can eat.\u001b[39m\u001b[38;5;124m\"\u001b[39m)\n",
      "Cell \u001b[0;32mIn[41], line 9\u001b[0m, in \u001b[0;36mkashif\u001b[0;34m()\u001b[0m\n\u001b[1;32m      6\u001b[0m \u001b[38;5;28;01mdef\u001b[39;00m \u001b[38;5;21mdrink\u001b[39m():\n\u001b[1;32m      7\u001b[0m     \u001b[38;5;28mprint\u001b[39m(\u001b[38;5;124m\"\u001b[39m\u001b[38;5;124mYes! I can drink.\u001b[39m\u001b[38;5;124m\"\u001b[39m)\n\u001b[0;32m----> 9\u001b[0m \u001b[38;5;28mobject\u001b[39m\u001b[38;5;241m=\u001b[39m kashif()\n\u001b[1;32m     10\u001b[0m \u001b[38;5;28mobject\u001b[39m\u001b[38;5;241m.\u001b[39meat()\n\u001b[1;32m     11\u001b[0m \u001b[38;5;28mobject\u001b[39m\u001b[38;5;241m.\u001b[39mdrink()\n",
      "\u001b[0;31mTypeError\u001b[0m: 'Mammals' object is not callable"
     ]
    }
   ],
   "source": [
    "class kashif():\n",
    "    def eat():\n",
    "        print(\"Yes! I can eat.\")\n",
    "    def walk():\n",
    "        print(\"Yes! I can walk.\")\n",
    "    def drink():\n",
    "        print(\"Yes! I can drink.\")\n",
    "       \n",
    "    object= kashif()\n",
    "    object.eat()\n",
    "    object.drink()\n",
    "    object.walk()"
   ]
  },
  {
   "cell_type": "code",
   "execution_count": null,
   "id": "66e2bea3",
   "metadata": {},
   "outputs": [],
   "source": [
    "class Kashif:\n",
    "    def eat(self):\n",
    "        print(\"Yes! I can eat.\")\n",
    "    \n",
    "    def walk(self):\n",
    "        print(\"Yes! I can walk.\")\n",
    "    \n",
    "    def drink(self):\n",
    "        print(\"Yes! I can drink.\")\n",
    "    obj = Kashif()\n",
    "    obj.eat()\n",
    "    obj.drink()\n",
    "    obj.walk()"
   ]
  },
  {
   "cell_type": "code",
   "execution_count": null,
   "id": "cf9ef100",
   "metadata": {},
   "outputs": [],
   "source": []
  },
  {
   "cell_type": "code",
   "execution_count": null,
   "id": "7ac5359e",
   "metadata": {},
   "outputs": [],
   "source": []
  }
 ],
 "metadata": {
  "kernelspec": {
   "display_name": "Python 3 (ipykernel)",
   "language": "python",
   "name": "python3"
  },
  "language_info": {
   "codemirror_mode": {
    "name": "ipython",
    "version": 3
   },
   "file_extension": ".py",
   "mimetype": "text/x-python",
   "name": "python",
   "nbconvert_exporter": "python",
   "pygments_lexer": "ipython3",
   "version": "3.12.2"
  }
 },
 "nbformat": 4,
 "nbformat_minor": 5
}
