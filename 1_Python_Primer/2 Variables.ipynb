{
 "cells": [
  {
   "cell_type": "code",
   "execution_count": null,
   "id": "eb7edada",
   "metadata": {},
   "outputs": [],
   "source": [
    "6+9"
   ]
  },
  {
   "cell_type": "code",
   "execution_count": null,
   "id": "e3ef0ee6",
   "metadata": {},
   "outputs": [],
   "source": [
    "Ali_Coin= 28\n",
    "_Ahmad=8\n",
    "Ali_Coin/(_Ahmad+Ali_Coin)"
   ]
  },
  {
   "cell_type": "code",
   "execution_count": null,
   "id": "379eb7ff",
   "metadata": {},
   "outputs": [],
   "source": [
    "(3*(99403/89)-847983)+8399739"
   ]
  },
  {
   "cell_type": "code",
   "execution_count": 5,
   "id": "951a4483",
   "metadata": {},
   "outputs": [
    {
     "ename": "SyntaxError",
     "evalue": "invalid syntax (1915822041.py, line 2)",
     "output_type": "error",
     "traceback": [
      "\u001b[0;36m  Cell \u001b[0;32mIn[5], line 2\u001b[0;36m\u001b[0m\n\u001b[0;31m    Ahmad=\u001b[0m\n\u001b[0m           ^\u001b[0m\n\u001b[0;31mSyntaxError\u001b[0m\u001b[0;31m:\u001b[0m invalid syntax\n"
     ]
    }
   ],
   "source": [
    "# We cannot assign a space to a variable.\n",
    "Ahmad= "
   ]
  },
  {
   "cell_type": "code",
   "execution_count": 7,
   "id": "0fd4b538",
   "metadata": {},
   "outputs": [
    {
     "ename": "SyntaxError",
     "evalue": "cannot assign to literal here. Maybe you meant '==' instead of '='? (2701431278.py, line 2)",
     "output_type": "error",
     "traceback": [
      "\u001b[0;36m  Cell \u001b[0;32mIn[7], line 2\u001b[0;36m\u001b[0m\n\u001b[0;31m    190 = Ali\u001b[0m\n\u001b[0m    ^\u001b[0m\n\u001b[0;31mSyntaxError\u001b[0m\u001b[0;31m:\u001b[0m cannot assign to literal here. Maybe you meant '==' instead of '='?\n"
     ]
    }
   ],
   "source": [
    "# We cannot Start a variable with number.\n",
    "190 = Ali"
   ]
  },
  {
   "cell_type": "code",
   "execution_count": null,
   "id": "9b53a2a4",
   "metadata": {},
   "outputs": [],
   "source": [
    "# Giving Comments in Notebook\n",
    "How to Give comments in jupyter notebook.\n",
    "Simple select entire line and press control + /"
   ]
  },
  {
   "cell_type": "code",
   "execution_count": null,
   "id": "db3083a2",
   "metadata": {},
   "outputs": [],
   "source": []
  }
 ],
 "metadata": {
  "kernelspec": {
   "display_name": "Python 3 (ipykernel)",
   "language": "python",
   "name": "python3"
  },
  "language_info": {
   "codemirror_mode": {
    "name": "ipython",
    "version": 3
   },
   "file_extension": ".py",
   "mimetype": "text/x-python",
   "name": "python",
   "nbconvert_exporter": "python",
   "pygments_lexer": "ipython3",
   "version": "3.13.0"
  }
 },
 "nbformat": 4,
 "nbformat_minor": 5
}
