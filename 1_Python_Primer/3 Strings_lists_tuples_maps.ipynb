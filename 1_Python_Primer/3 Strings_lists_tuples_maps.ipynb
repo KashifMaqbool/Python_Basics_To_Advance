{
 "cells": [
  {
   "cell_type": "code",
   "execution_count": 4,
   "id": "f74d8dcf",
   "metadata": {},
   "outputs": [
    {
     "name": "stdout",
     "output_type": "stream",
     "text": [
      "Badshah\n"
     ]
    }
   ],
   "source": [
    "Allah = \"Badshah\"\n",
    "print(Allah)\n",
    "\n",
    "# Syntax Error showing code because quotes must be present on both sides of your string.\n",
    "\n",
    "# Allah = \"Badshah!\n",
    "# print (Allah)"
   ]
  },
  {
   "cell_type": "code",
   "execution_count": 6,
   "id": "2d4c97bf",
   "metadata": {},
   "outputs": [
    {
     "name": "stdout",
     "output_type": "stream",
     "text": [
      "Badshah\n",
      "of whole\n",
      "the world\n",
      " \n",
      "Allah\n",
      "is \n",
      "the \n",
      "creator of universe\n"
     ]
    }
   ],
   "source": [
    "# We can use three quotes to write a sentence in two or more lines.\n",
    "Allaha= '''Badshah\n",
    "of whole\n",
    "the world'''\n",
    "print(Allaha)\n",
    "\n",
    "print(\" \")\n",
    "\n",
    "# But the quotes will have\n",
    "Allah = '''Allah\n",
    "is \n",
    "the \n",
    "creator of universe'''\n",
    "print (Allah)"
   ]
  },
  {
   "cell_type": "code",
   "execution_count": null,
   "id": "38afc700",
   "metadata": {},
   "outputs": [],
   "source": [
    "# Problems in Strings"
   ]
  },
  {
   "cell_type": "code",
   "execution_count": 8,
   "id": "07b39b8c",
   "metadata": {},
   "outputs": [
    {
     "name": "stdout",
     "output_type": "stream",
     "text": [
      "would't and shouldn't\n",
      "would't and shouldn't\n"
     ]
    }
   ],
   "source": [
    "# Problems in Strings. whenever python see a quotes it consider code as a string.\n",
    "# 1. Use three quotes to write a string of such words.\n",
    "String= '''would't and shouldn't'''\n",
    "String1= \"would't and shouldn't\"\n",
    "print(String)\n",
    "print(String1)"
   ]
  },
  {
   "cell_type": "code",
   "execution_count": 10,
   "id": "b407b18b-8a74-4390-94e3-26534cf072cb",
   "metadata": {},
   "outputs": [
    {
     "name": "stdout",
     "output_type": "stream",
     "text": [
      "would't and shouldn't\n"
     ]
    }
   ],
   "source": [
    "# 2. adding backslash or escaping.\n",
    "String= \"would\\'t and shouldn\\'t\"\n",
    "print(String)"
   ]
  },
  {
   "cell_type": "code",
   "execution_count": 12,
   "id": "1f283bd0",
   "metadata": {},
   "outputs": [
    {
     "name": "stdout",
     "output_type": "stream",
     "text": [
      "you would't do that's thing.\n"
     ]
    }
   ],
   "source": [
    "String= 'you would\\'t do that\\'s thing.'\n",
    "print(String)"
   ]
  },
  {
   "cell_type": "code",
   "execution_count": 14,
   "id": "291c1f9c",
   "metadata": {},
   "outputs": [
    {
     "name": "stdout",
     "output_type": "stream",
     "text": [
      "He said,\"He should't do that's assignment.\"\n"
     ]
    }
   ],
   "source": [
    "String= '''He said,\"He should't do that's assignment.\"'''\n",
    "print(String)"
   ]
  },
  {
   "cell_type": "code",
   "execution_count": 16,
   "id": "c00db244",
   "metadata": {},
   "outputs": [
    {
     "name": "stdout",
     "output_type": "stream",
     "text": [
      "He said,\"He should't do that's assignment.\"\n"
     ]
    }
   ],
   "source": [
    "# python will not consider the quotes as ending quotes after the backslash. \n",
    "String= \"He said,\\\"He should\\'t do that\\'s assignment.\\\"\"\n",
    "print(String)"
   ]
  },
  {
   "cell_type": "code",
   "execution_count": 18,
   "id": "be30cf61",
   "metadata": {},
   "outputs": [
    {
     "name": "stdout",
     "output_type": "stream",
     "text": [
      "He said,\"He should't do that's assignment.\"\n"
     ]
    }
   ],
   "source": [
    "String= 'He said,\"He should\\'t do that\\'s assignment.\"'\n",
    "print(String)"
   ]
  },
  {
   "cell_type": "code",
   "execution_count": null,
   "id": "0c2702f0",
   "metadata": {},
   "outputs": [],
   "source": [
    "# Embedding Value in Strings"
   ]
  },
  {
   "cell_type": "code",
   "execution_count": 20,
   "id": "5590b932",
   "metadata": {},
   "outputs": [
    {
     "name": "stdout",
     "output_type": "stream",
     "text": [
      "I have scored 389 points.\n"
     ]
    }
   ],
   "source": [
    "myScore= 389\n",
    "String= \"I have scored %s points.\"\n",
    "print(String % myScore)"
   ]
  },
  {
   "cell_type": "code",
   "execution_count": 22,
   "id": "6f1534a1",
   "metadata": {},
   "outputs": [
    {
     "name": "stdout",
     "output_type": "stream",
     "text": [
      "My CGPA is 3.14.\n"
     ]
    }
   ],
   "source": [
    "CGPA=3.14\n",
    "String = \"My CGPA is %s.\"\n",
    "print(String % CGPA)"
   ]
  },
  {
   "cell_type": "code",
   "execution_count": 24,
   "id": "8e3abec5",
   "metadata": {},
   "outputs": [
    {
     "name": "stdout",
     "output_type": "stream",
     "text": [
      "He said that 80 percent is needed to Take admission and I said that 90 Percent is needed for taking admission.\n"
     ]
    }
   ],
   "source": [
    "String = \"He said that %s percent is needed to Take admission and I said that %s Percent is needed for taking admission.\"\n",
    "print(String %(80, 90))"
   ]
  },
  {
   "cell_type": "code",
   "execution_count": 26,
   "id": "c7457623",
   "metadata": {},
   "outputs": [
    {
     "name": "stdout",
     "output_type": "stream",
     "text": [
      "He said that 80 percent is needed to Take admission and\n",
      "I said that 90 percent is needed for taking admission.\n"
     ]
    }
   ],
   "source": [
    "String = '''He said that %s percent is needed to Take admission and\n",
    "I said that %s percent is needed for taking admission.'''\n",
    "print(String %(80, 90))"
   ]
  },
  {
   "cell_type": "code",
   "execution_count": 28,
   "id": "ecf74a45",
   "metadata": {},
   "outputs": [
    {
     "name": "stdout",
     "output_type": "stream",
     "text": [
      "I have 10 dollars and 10 cents.\n",
      " \n",
      "I have 10 dollars and 10 cents.\n"
     ]
    }
   ],
   "source": [
    "insert = 10\n",
    "insert2 = 10\n",
    "string = \"I have %s dollars and %s cents.\"\n",
    "print(string %(insert,insert2))\n",
    "\n",
    "# OR\n",
    "print(\" \")\n",
    "\n",
    "string = \"I have %s dollars and %s cents.\"\n",
    "print(string %(10,10))\n"
   ]
  },
  {
   "cell_type": "code",
   "execution_count": null,
   "id": "9ef02d13",
   "metadata": {},
   "outputs": [],
   "source": [
    "# Multiplying Strings"
   ]
  },
  {
   "cell_type": "code",
   "execution_count": null,
   "id": "8e37665c",
   "metadata": {},
   "outputs": [],
   "source": [
    "\n",
    "print(5*'kashif Maqbool')"
   ]
  },
  {
   "cell_type": "code",
   "execution_count": 40,
   "id": "8c61cbd1",
   "metadata": {},
   "outputs": [
    {
     "name": "stdout",
     "output_type": "stream",
     "text": [
      "                          Govt.High School,\n",
      "                          Hujra Shah Muqeem,\n",
      "                          12 September,2022.\n",
      "\n",
      "\n",
      "Dear Sir,\n",
      "\n",
      "     It is stated that I am suffered from fever since last\n",
      "day.Kindly grant me a sick leave because I cannot come to school\n",
      "due to this fever.\n",
      "      I shall be very thankful to you.\n",
      "\n",
      "\n",
      "                          Your's Obediently\n",
      "                               X.Y.Z.\n"
     ]
    }
   ],
   "source": [
    "spaces = ' '* 25\n",
    "string = ' '* 5\n",
    "string2 = ' '*30\n",
    "print('%s Govt.High School,'%spaces)\n",
    "print('%s Hujra Shah Muqeem,'%spaces)\n",
    "print('%s 12 September,2022.'%spaces)\n",
    "print()\n",
    "print()\n",
    "print('Dear Sir,')\n",
    "print()\n",
    "print('''%sIt is stated that I am suffered from fever since last\n",
    "day.Kindly grant me a sick leave because I cannot come to school\n",
    "due to this fever.'''%string)\n",
    "print('%s I shall be very thankful to you.' %string)\n",
    "print()\n",
    "print()\n",
    "print('%s Your\\'s Obediently' %spaces)\n",
    "print('%s X.Y.Z.'%string2)"
   ]
  },
  {
   "cell_type": "code",
   "execution_count": 56,
   "id": "20fe42d2",
   "metadata": {},
   "outputs": [
    {
     "name": "stdout",
     "output_type": "stream",
     "text": [
      " Karachi  Karachi  Karachi  Karachi  Karachi  Karachi  Karachi  Karachi  Karachi  Karachi \n"
     ]
    }
   ],
   "source": [
    "print(10*' Karachi ')"
   ]
  },
  {
   "cell_type": "code",
   "execution_count": 48,
   "id": "a6f890ca",
   "metadata": {},
   "outputs": [
    {
     "name": "stdout",
     "output_type": "stream",
     "text": [
      "The Principal,\n",
      "\n",
      "Dear Sir,\n",
      "      I am very sick today and I\n",
      "cannot come ot school today.\n",
      "Kindly grant me a school leave.\n",
      "                               Yours Obediently\n",
      "                               X.Y.Z\n"
     ]
    }
   ],
   "source": [
    "string = \" \" * 5\n",
    "string1 = \" \"* 20\n",
    "string3 = \" \"* 30\n",
    "print(\"The Principal,\")\n",
    "print()\n",
    "print(\"Dear Sir,\")\n",
    "print('''%s I am very sick today and I\n",
    "cannot come ot school today.\n",
    "Kindly grant me a school leave.''' %string)\n",
    "print(\"%s Yours Obediently\" %string3)\n",
    "print(\"%s X.Y.Z\" %string3)"
   ]
  },
  {
   "cell_type": "code",
   "execution_count": null,
   "id": "f9350862",
   "metadata": {},
   "outputs": [],
   "source": [
    "# Strings vs Lists"
   ]
  },
  {
   "cell_type": "code",
   "execution_count": 64,
   "id": "004ffd99",
   "metadata": {},
   "outputs": [
    {
     "name": "stdout",
     "output_type": "stream",
     "text": [
      "Ali, Ahmad, Naeem, Rana, Haseeb, Kashif\n"
     ]
    }
   ],
   "source": [
    "sharfoo_list= 'Ali, Ahmad, Naeem, Rana, Haseeb, Kashif'\n",
    "print(sharfoo_list)"
   ]
  },
  {
   "cell_type": "code",
   "execution_count": 66,
   "id": "08d4a649",
   "metadata": {},
   "outputs": [
    {
     "name": "stdout",
     "output_type": "stream",
     "text": [
      "['Ali', 'Ahmad', 'Naeem', 'Rana', 'Haseeb', 'Kashif']\n",
      "\n",
      "Haseeb\n"
     ]
    }
   ],
   "source": [
    "sharfoo_list=['Ali', 'Ahmad', 'Naeem', 'Rana', 'Haseeb', 'Kashif']\n",
    "print(sharfoo_list)\n",
    "print()\n",
    "print(sharfoo_list[4])\n"
   ]
  },
  {
   "cell_type": "code",
   "execution_count": 68,
   "id": "75fa08ac",
   "metadata": {},
   "outputs": [
    {
     "name": "stdout",
     "output_type": "stream",
     "text": [
      "['Orange', 'Fruit', 'Apple']\n"
     ]
    }
   ],
   "source": [
    "String_list=['Mango','Orange','Fruit','Apple','Melon','Banana']\n",
    "print(String_list[1:4])"
   ]
  },
  {
   "cell_type": "code",
   "execution_count": 70,
   "id": "335e2e68",
   "metadata": {},
   "outputs": [
    {
     "name": "stdout",
     "output_type": "stream",
     "text": [
      "['Mango', 5, 'Orange', 4, 6, 'Fruit', 'Apple', 'Melon', 'Banana']\n",
      "[5, 'Orange', 4]\n"
     ]
    }
   ],
   "source": [
    "Numbers_and_Strings=['Mango',5,'Orange',4,6,'Fruit','Apple','Melon','Banana']\n",
    "print(Numbers_and_Strings)\n",
    "print(Numbers_and_Strings[1:4])"
   ]
  },
  {
   "cell_type": "code",
   "execution_count": 76,
   "id": "058b64ca",
   "metadata": {},
   "outputs": [
    {
     "name": "stdout",
     "output_type": "stream",
     "text": [
      "1,5,6,3 ['Mango', 5, 'Orange', 4, 6, 'Fruit', 'Apple', 'Melon', 'Banana']\n",
      "\n",
      "1,5,6,3\n",
      "['Mango', 5, 'Orange', 4, 6, 'Fruit', 'Apple', 'Melon', 'Banana']\n",
      "\n",
      "['Mango', 5, 'Orange', 4, 6, 'Fruit', 'Apple', 'Melon', 'Banana']\n",
      "\n",
      "['1,5,6,3', ['Mango', 5, 'Orange', 4, 6, 'Fruit', 'Apple', 'Melon', 'Banana']]\n"
     ]
    }
   ],
   "source": [
    "Numbers='1,5,6,3'\n",
    "String=['Mango',5,'Orange',4,6,'Fruit','Apple','Melon','Banana']\n",
    "print(Numbers,String)\n",
    "print()\n",
    "\n",
    "List=[Numbers,String]\n",
    "print(List[0])\n",
    "print()\n",
    "\n",
    "print(List[1])\n",
    "print()\n",
    "print(List)"
   ]
  },
  {
   "cell_type": "code",
   "execution_count": null,
   "id": "cf53165e",
   "metadata": {},
   "outputs": [],
   "source": [
    "# Insertion and deletion in lists"
   ]
  },
  {
   "cell_type": "code",
   "execution_count": 80,
   "id": "dc88a3d5",
   "metadata": {},
   "outputs": [
    {
     "name": "stdout",
     "output_type": "stream",
     "text": [
      "['Thor', 'Iron Man', 'Black Widow', 'Tony Stark', 'Hemidall', 'Hulk', 'Banner', 'Nick Fury', 'Natasha']\n",
      "['Thor', 'Iron Man', 'Black Widow', 'Tony Stark', 'Hemidall', 'Hulk', 'Banner', 'Nick Fury']\n"
     ]
    }
   ],
   "source": [
    "Avengers_List=['Thor','Iron Man','Black Widow','Tony Stark','Hemidall','Hulk','Banner']\n",
    "Avengers_List.append('Nick Fury')\n",
    "Avengers_List.append(\"Natasha\")\n",
    "print(Avengers_List)\n",
    "print(Avengers_List[0:8])"
   ]
  },
  {
   "cell_type": "code",
   "execution_count": 82,
   "id": "117fc97f",
   "metadata": {},
   "outputs": [
    {
     "name": "stdout",
     "output_type": "stream",
     "text": [
      "[1,5,6,3] ['Mango', 5, 'Orange', 4, 6, 'Fruit', 'Apple', 'Melon', 'Banana']\n",
      "['[1,5,6,3]', ['Mango', 5, 'Orange', 4, 6, 'Fruit', 'Apple', 'Melon', 'Banana'], '[All are Delicious Fruits.]', '[mandrake]', '[hemlock]', '[swamp gas]']\n"
     ]
    }
   ],
   "source": [
    "Numbers='[1,5,6,3]'\n",
    "String=['Mango',5,'Orange',4,6,'Fruit','Apple','Melon','Banana']\n",
    "print(Numbers,String)\n",
    "List=[Numbers,String]\n",
    "List.append('[All are Delicious Fruits.]')\n",
    "List.append('[mandrake]')\n",
    "List.append('[hemlock]')\n",
    "List.append('[swamp gas]')\n",
    "print(List)"
   ]
  },
  {
   "cell_type": "code",
   "execution_count": 92,
   "id": "6eab9dcf",
   "metadata": {},
   "outputs": [
    {
     "name": "stdout",
     "output_type": "stream",
     "text": [
      "[1, 5, 6, 3] ['Mango', 5, 'Orange', 4, 6, 'Fruit', 'Apple', 'Melon', 'Banana']\n",
      "[[1, 5, 6, 3], ['Mango', 5, 'Orange', 4, 6, 'Fruit', 'Apple', 'Melon', 'Banana'], ['All are Delicious Fruits.'], ['mandrake'], ['hemlock'], ['swamp gas']]\n",
      "[[1, 5, 6, 3], ['Mango', 5, 'Orange', 4, 6, 'Fruit', 'Apple', 'Melon', 'Banana'], ['All are Delicious Fruits.'], ['mandrake'], ['swamp gas']]\n"
     ]
    }
   ],
   "source": [
    "Numbers=[1,5,6,3]\n",
    "String=['Mango',5,'Orange',4,6,'Fruit','Apple','Melon','Banana']\n",
    "print(Numbers,String)\n",
    "List=[Numbers,String]\n",
    "List.append(['All are Delicious Fruits.'])\n",
    "List.append(['mandrake'])\n",
    "List.append(['hemlock'])\n",
    "List.append(['swamp gas'])\n",
    "print(List)\n",
    "del List[4]     #['hemlock']\n",
    "print(List)"
   ]
  },
  {
   "cell_type": "code",
   "execution_count": 94,
   "id": "bd884b40",
   "metadata": {},
   "outputs": [
    {
     "name": "stdout",
     "output_type": "stream",
     "text": [
      "['Iron Man', 'Black Widow', 'Tony Stark', 'Hemidall', 'Hulk', 'Banner', 'Maqbool Ahmad', 'Kashif Maqbool']\n"
     ]
    }
   ],
   "source": [
    "Avengers_List=['Thor','Iron Man','Black Widow','Tony Stark','Hemidall','Hulk','Banner']\n",
    "del Avengers_List [0]\n",
    "Avengers_List.append('Maqbool Ahmad')\n",
    "Avengers_List.append('Kashif Maqbool')\n",
    "print(Avengers_List)\n"
   ]
  },
  {
   "cell_type": "code",
   "execution_count": 96,
   "id": "226d0bb6",
   "metadata": {},
   "outputs": [
    {
     "name": "stdout",
     "output_type": "stream",
     "text": [
      "['1,3,4,5'] ['Ahmad', 6, 7, 'Noor', 'Mubashir', 'Razaq']\n",
      "[['1,3,4,5'], ['Ahmad', 6, 7, 'Noor', 'Mubashir', 'Razaq'], ['kashif Maqbool']]\n",
      "[['1,3,4,5'], ['Ahmad', 6, 7, 'Noor', 'Mubashir', 'Razaq']]\n",
      "['Ahmad', 6, 7, 'Noor', 'Mubashir', 'Razaq']\n"
     ]
    }
   ],
   "source": [
    "list1 = ['1,3,4,5']\n",
    "list2 = ['Ahmad',6,7,'Noor','Mubashir', 'Razaq']\n",
    "print(list1,list2)\n",
    "list3 = [list1, list2]\n",
    "list3.append(['kashif Maqbool'])\n",
    "print(list3)\n",
    "del list3[2]\n",
    "print(list3)\n",
    "print(list3[1])"
   ]
  },
  {
   "cell_type": "code",
   "execution_count": null,
   "id": "fb14d91f",
   "metadata": {},
   "outputs": [],
   "source": [
    "# Lists Arithmetic\n",
    "# Adding Lists"
   ]
  },
  {
   "cell_type": "code",
   "execution_count": 98,
   "id": "b3109c39",
   "metadata": {},
   "outputs": [
    {
     "name": "stdout",
     "output_type": "stream",
     "text": [
      "[2, 4, 5, 'I', 'want', 'an', 'Apple.']\n"
     ]
    }
   ],
   "source": [
    "List1 = [2,4,5]\n",
    "List2 = ['I','want','an','Apple.']\n",
    "print(List1+List2)"
   ]
  },
  {
   "cell_type": "code",
   "execution_count": 100,
   "id": "e6777121",
   "metadata": {},
   "outputs": [
    {
     "name": "stdout",
     "output_type": "stream",
     "text": [
      "[2, 4, 5, 'I', 'want', 'an', 'Apple.']\n",
      "['I', 'want', 'a', 'Apple.']\n"
     ]
    }
   ],
   "source": [
    "List1 = [2,4,5]\n",
    "List2 = ['I','want','an','Apple.']\n",
    "List3 =List1+List2\n",
    "print(List3)\n",
    "List2[2] = 'a'\n",
    "print(List2)\n"
   ]
  },
  {
   "cell_type": "code",
   "execution_count": 102,
   "id": "0d8536e4",
   "metadata": {},
   "outputs": [
    {
     "name": "stdout",
     "output_type": "stream",
     "text": [
      "[2, 4, 5, 2, 4, 5, 2, 4, 5, 2, 4, 5, 2, 4, 5]\n"
     ]
    }
   ],
   "source": [
    "# Multiplication of lists\n",
    "List1 = [2,4,5]\n",
    "List2 =List1 * 5\n",
    "print(List2)\n"
   ]
  },
  {
   "cell_type": "code",
   "execution_count": 104,
   "id": "64c855b7",
   "metadata": {},
   "outputs": [
    {
     "name": "stdout",
     "output_type": "stream",
     "text": [
      "['Allaha', 'Allaha', 'Allaha', 'Allaha', 'Allaha']\n"
     ]
    }
   ],
   "source": [
    "List1 = ['Allaha']\n",
    "List2 =List1 * 5\n",
    "print(List2)"
   ]
  },
  {
   "cell_type": "code",
   "execution_count": 106,
   "id": "309a402b",
   "metadata": {},
   "outputs": [
    {
     "name": "stdout",
     "output_type": "stream",
     "text": [
      "['Allaha', 'Allaha', 'Allaha', 'Allaha', 'Allaha', 'Allaha', 'Allaha', 'Allaha', 'Allaha', 'Allaha']\n"
     ]
    }
   ],
   "source": [
    "List1 = ['Allaha']\n",
    "print(List1 * 10)"
   ]
  },
  {
   "cell_type": "code",
   "execution_count": 108,
   "id": "0e781c08",
   "metadata": {},
   "outputs": [
    {
     "ename": "TypeError",
     "evalue": "unsupported operand type(s) for /: 'list' and 'int'",
     "output_type": "error",
     "traceback": [
      "\u001b[0;31m---------------------------------------------------------------------------\u001b[0m",
      "\u001b[0;31mTypeError\u001b[0m                                 Traceback (most recent call last)",
      "Cell \u001b[0;32mIn[108], line 3\u001b[0m\n\u001b[1;32m      1\u001b[0m \u001b[38;5;66;03m# How can you divide a list. It doesn't make any sense.So, it will give an error.\u001b[39;00m\n\u001b[1;32m      2\u001b[0m List1\u001b[38;5;241m=\u001b[39m [\u001b[38;5;241m2\u001b[39m,\u001b[38;5;241m4\u001b[39m]\n\u001b[0;32m----> 3\u001b[0m List2 \u001b[38;5;241m=\u001b[39mList1\u001b[38;5;241m/\u001b[39m\u001b[38;5;241m3\u001b[39m\n\u001b[1;32m      4\u001b[0m \u001b[38;5;28mprint\u001b[39m(List2)\n",
      "\u001b[0;31mTypeError\u001b[0m: unsupported operand type(s) for /: 'list' and 'int'"
     ]
    }
   ],
   "source": [
    "# How can you divide a list. It doesn't make any sense.So, it will give an error.\n",
    "List1= [2,4]\n",
    "List2 =List1/3\n",
    "print(List2)"
   ]
  },
  {
   "cell_type": "code",
   "execution_count": 110,
   "id": "4c3382b4",
   "metadata": {},
   "outputs": [
    {
     "ename": "TypeError",
     "evalue": "unsupported operand type(s) for -: 'list' and 'int'",
     "output_type": "error",
     "traceback": [
      "\u001b[0;31m---------------------------------------------------------------------------\u001b[0m",
      "\u001b[0;31mTypeError\u001b[0m                                 Traceback (most recent call last)",
      "Cell \u001b[0;32mIn[110], line 3\u001b[0m\n\u001b[1;32m      1\u001b[0m \u001b[38;5;66;03m# How can you subtract a list. It doesn't make any sense.So, it will give an error.\u001b[39;00m\n\u001b[1;32m      2\u001b[0m List1\u001b[38;5;241m=\u001b[39m [\u001b[38;5;124m'\u001b[39m\u001b[38;5;124mKashif Maqbool\u001b[39m\u001b[38;5;124m'\u001b[39m]\n\u001b[0;32m----> 3\u001b[0m \u001b[38;5;28mprint\u001b[39m(List1 \u001b[38;5;241m-\u001b[39m \u001b[38;5;241m4\u001b[39m)\n",
      "\u001b[0;31mTypeError\u001b[0m: unsupported operand type(s) for -: 'list' and 'int'"
     ]
    }
   ],
   "source": [
    "# How can you subtract a list. It doesn't make any sense.So, it will give an error.\n",
    "List1= ['Kashif Maqbool']\n",
    "print(List1 - 4)"
   ]
  },
  {
   "cell_type": "code",
   "execution_count": null,
   "id": "dc6fc818",
   "metadata": {},
   "outputs": [],
   "source": [
    "# Tuples in Python:\n",
    "#     Simply that we cannot perform operations like insertion, deletion and replacement of values in tuples as this can only\n",
    "#     we can perform in lists."
   ]
  },
  {
   "cell_type": "code",
   "execution_count": 112,
   "id": "66c32e8f",
   "metadata": {},
   "outputs": [
    {
     "name": "stdout",
     "output_type": "stream",
     "text": [
      "8\n"
     ]
    }
   ],
   "source": [
    "tuples = (3,4,5,6,9,8)\n",
    "print(tuples[5])"
   ]
  },
  {
   "cell_type": "code",
   "execution_count": 114,
   "id": "402f2ce3",
   "metadata": {},
   "outputs": [
    {
     "name": "stdout",
     "output_type": "stream",
     "text": [
      "('Noman', 'Ali', 'Ahmad', 'Nemat')\n"
     ]
    }
   ],
   "source": [
    "Kashif = ('Noman','Ali','Ahmad','Nemat')\n",
    "print(Kashif)"
   ]
  },
  {
   "cell_type": "code",
   "execution_count": 118,
   "id": "d90ef5e2-7300-4376-80fd-81208245ff4f",
   "metadata": {},
   "outputs": [
    {
     "ename": "TypeError",
     "evalue": "'tuple' object does not support item assignment",
     "output_type": "error",
     "traceback": [
      "\u001b[0;31m---------------------------------------------------------------------------\u001b[0m",
      "\u001b[0;31mTypeError\u001b[0m                                 Traceback (most recent call last)",
      "Cell \u001b[0;32mIn[118], line 2\u001b[0m\n\u001b[1;32m      1\u001b[0m Kashif \u001b[38;5;241m=\u001b[39m (\u001b[38;5;124m'\u001b[39m\u001b[38;5;124mNoman\u001b[39m\u001b[38;5;124m'\u001b[39m,\u001b[38;5;124m'\u001b[39m\u001b[38;5;124mAli\u001b[39m\u001b[38;5;124m'\u001b[39m,\u001b[38;5;124m'\u001b[39m\u001b[38;5;124mAhmad\u001b[39m\u001b[38;5;124m'\u001b[39m,\u001b[38;5;124m'\u001b[39m\u001b[38;5;124mNemat\u001b[39m\u001b[38;5;124m'\u001b[39m)\n\u001b[0;32m----> 2\u001b[0m Kashif[\u001b[38;5;241m2\u001b[39m] \u001b[38;5;241m=\u001b[39m \u001b[38;5;124m'\u001b[39m\u001b[38;5;124mMaqbool\u001b[39m\u001b[38;5;124m'\u001b[39m\n\u001b[1;32m      3\u001b[0m \u001b[38;5;28mprint\u001b[39m(Kashif)\n",
      "\u001b[0;31mTypeError\u001b[0m: 'tuple' object does not support item assignment"
     ]
    }
   ],
   "source": [
    "# Tuples does not support replacement of values\n",
    "Kashif = ('Noman','Ali','Ahmad','Nemat')\n",
    "Kashif[2] = 'Maqbool'\n",
    "print(Kashif)"
   ]
  },
  {
   "cell_type": "code",
   "execution_count": null,
   "id": "933b8114",
   "metadata": {},
   "outputs": [],
   "source": [
    "# Maps in Python\n"
   ]
  },
  {
   "cell_type": "code",
   "execution_count": null,
   "id": "608c90e9",
   "metadata": {},
   "outputs": [],
   "source": [
    "# showing key and value in a list\n",
    "Map_Food = ['Ali, Roti','Nauma, Custurd','Ahmad,Daal','Arslan,Milk']\n",
    "print(Map_Food)"
   ]
  },
  {
   "cell_type": "code",
   "execution_count": 120,
   "id": "aa47e6df",
   "metadata": {},
   "outputs": [
    {
     "name": "stdout",
     "output_type": "stream",
     "text": [
      "{'Ali': 'Custord', 'Ahmed': 'Rice', 'Haseeb': 'Roti', 'Nauman': 'Kheer'}\n"
     ]
    }
   ],
   "source": [
    "# showing key and value in map\n",
    "map_food = {'Ali':'Custord',\n",
    "            'Ahmed':'Rice',\n",
    "            'Haseeb':'Roti',\n",
    "            'Nauman':'Kheer'}\n",
    "print(map_food)\n"
   ]
  },
  {
   "cell_type": "code",
   "execution_count": null,
   "id": "123d662a",
   "metadata": {},
   "outputs": [],
   "source": [
    "Map_Food = {'Ali':'Roti',\n",
    "            'Nauma':'Custurd',\n",
    "            'Ahmad':'Daal',\n",
    "            'Arslan':'Milk'}\n",
    "print(Map_Food['Ali'])"
   ]
  },
  {
   "cell_type": "code",
   "execution_count": null,
   "id": "1719d4e7",
   "metadata": {},
   "outputs": [],
   "source": [
    "# Delete values in a Map\n",
    "Favorite_Sport = {'Neelam':'Cricket',\n",
    "                 'Ayesha':'Football',\n",
    "                 'Manahil':'BaseBall',\n",
    "                 'Naureen':'Hockey'}\n",
    "del Favorite_Sport['Neelam']\n",
    "print(Favorite_Sport)\n"
   ]
  },
  {
   "cell_type": "code",
   "execution_count": null,
   "id": "f56a8dcb",
   "metadata": {},
   "outputs": [],
   "source": [
    "Favorite_Sport = {'Neelam':'Cricket',\n",
    "                 'Ayesha':'Football',\n",
    "                 'Manahil':'BaseBall',\n",
    "                 'Naureen':'Hockey'}\n",
    "Favorite_Sport['Manahil']='Cycling'\n",
    "print(Favorite_Sport)"
   ]
  },
  {
   "cell_type": "code",
   "execution_count": 128,
   "id": "1acf1903",
   "metadata": {},
   "outputs": [
    {
     "name": "stdout",
     "output_type": "stream",
     "text": [
      "{'Ali': 'bread', 'Ahmad': 'cornFloor', 'Riaz': 'Pizza', 'Razaq': 'rice'}\n",
      "\n",
      "{'Ahmad': 'cornFloor', 'Riaz': 'Pizza', 'Razaq': 'rice'}\n",
      "\n",
      "Pizza\n",
      "\n",
      "Lussi\n",
      "{'Ahmad': 'cornFloor', 'Riaz': 'Lussi', 'Razaq': 'rice'}\n",
      "{'Ali': 'Burger'}\n"
     ]
    }
   ],
   "source": [
    "# Delete and update values in a map\n",
    "FoodMap = { \n",
    "    'Ali':'bread',\n",
    "    'Ahmad':'cornFloor',\n",
    "    'Riaz':'Pizza',\n",
    "    'Razaq':'rice'\n",
    "}\n",
    "print(FoodMap)\n",
    "print()\n",
    "del FoodMap['Ali']\n",
    "print(FoodMap)\n",
    "print()\n",
    "print(FoodMap['Riaz'])\n",
    "print()\n",
    "FoodMap['Riaz'] = 'Lussi'\n",
    "print(FoodMap['Riaz'])\n",
    "print(FoodMap)\n",
    "\n",
    "# Adding key and values in a Map\n",
    "FoodMap = {'Ali':'Burger'}\n",
    "print(FoodMap)\n"
   ]
  },
  {
   "cell_type": "code",
   "execution_count": null,
   "id": "b4af63d7",
   "metadata": {},
   "outputs": [],
   "source": []
  }
 ],
 "metadata": {
  "kernelspec": {
   "display_name": "Python 3 (ipykernel)",
   "language": "python",
   "name": "python3"
  },
  "language_info": {
   "codemirror_mode": {
    "name": "ipython",
    "version": 3
   },
   "file_extension": ".py",
   "mimetype": "text/x-python",
   "name": "python",
   "nbconvert_exporter": "python",
   "pygments_lexer": "ipython3",
   "version": "3.12.2"
  }
 },
 "nbformat": 4,
 "nbformat_minor": 5
}
