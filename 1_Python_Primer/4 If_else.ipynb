{
 "cells": [
  {
   "cell_type": "markdown",
   "id": "eb4614d3-f074-43c3-b70d-317219543fb3",
   "metadata": {},
   "source": [
    "# If conditon in python"
   ]
  },
  {
   "cell_type": "code",
   "execution_count": 1,
   "id": "019b93ba",
   "metadata": {
    "scrolled": true
   },
   "outputs": [
    {
     "name": "stdout",
     "output_type": "stream",
     "text": [
      "You are not allowed to vote.\n"
     ]
    }
   ],
   "source": [
    "age = 18\r\n",
    "if age <= 18:\r\n",
    "    print(\"You are not allowed to vote.\")"
   ]
  },
  {
   "cell_type": "code",
   "execution_count": 2,
   "id": "0d58c440",
   "metadata": {},
   "outputs": [
    {
     "name": "stdout",
     "output_type": "stream",
     "text": [
      "you are eligible to marriage.\n",
      "you can marry to a Beautiful Girl.\n",
      "Why aren't you marrying till?\n"
     ]
    }
   ],
   "source": [
    "age = 24\r\n",
    "if age>=23:\r\n",
    "    print('you are eligible to marriage.')\r\n",
    "    print('you can marry to a Beautiful Girl.')\r\n",
    "    print('Why aren\\'t you marrying till?')\r\n"
   ]
  },
  {
   "cell_type": "code",
   "execution_count": 3,
   "id": "1d6858b1",
   "metadata": {},
   "outputs": [
    {
     "ename": "IndentationError",
     "evalue": "unexpected indent (3130178804.py, line 6)",
     "output_type": "error",
     "traceback": [
      "  \u001b[36mCell\u001b[39m\u001b[36m \u001b[39m\u001b[32mIn[3]\u001b[39m\u001b[32m, line 6\u001b[39m\n\u001b[31m    \u001b[39m\u001b[31mprint(\"sounds good\")  # indentation error occurs in this line of code.\u001b[39m\n    ^\n\u001b[31mIndentationError\u001b[39m\u001b[31m:\u001b[39m unexpected indent\n"
     ]
    }
   ],
   "source": [
    "# Be careful about the indentation errors in the code\n",
    "age = 45\n",
    "if age>34:\n",
    "    print(\"you are eligible for giving exams.\")\n",
    "    print(\"you are too old to do this job.\")\n",
    "        print(\"sounds good\")  # indentation error occurs in this line of code."
   ]
  },
  {
   "cell_type": "code",
   "execution_count": 4,
   "id": "7e5bd4ad",
   "metadata": {},
   "outputs": [
    {
     "name": "stdout",
     "output_type": "stream",
     "text": [
      "you are eligible for giving exams.\n",
      "you are too old to do this job.\n",
      "sounds good\n"
     ]
    }
   ],
   "source": [
    "# Also be careful about the arrangements of blocks in python.Block is a group of statements.\r\n",
    "age = 45\r\n",
    "if age>34:\r\n",
    "    print(\"you are eligible for giving exams.\")\r\n",
    "    print(\"you are too old to do this job.\")\r\n",
    "    print(\"sounds good\")"
   ]
  },
  {
   "cell_type": "markdown",
   "id": "e0cdf0a5-6ae8-4f35-96c9-cd5964f3a98b",
   "metadata": {},
   "source": [
    "# If-else condition in python\n",
    "##### Here summarize the concept of operators"
   ]
  },
  {
   "cell_type": "code",
   "execution_count": 5,
   "id": "ebe922b3",
   "metadata": {},
   "outputs": [
    {
     "name": "stdout",
     "output_type": "stream",
     "text": [
      "you can take my jokes.\n"
     ]
    }
   ],
   "source": [
    "age = 20\n",
    "if age == 20:\n",
    "    print(\"you can take my jokes.\")\n",
    "else:\n",
    "    print(\"you cannot take my jokes.\")"
   ]
  },
  {
   "cell_type": "code",
   "execution_count": 6,
   "id": "567803bd",
   "metadata": {},
   "outputs": [
    {
     "name": "stdout",
     "output_type": "stream",
     "text": [
      "you are funny.\n"
     ]
    }
   ],
   "source": [
    "# short form of else-if is elif.\n",
    "age = 40 \n",
    "if age == 20:\n",
    "    print(\"you can take my jokes.\")\n",
    "elif age == 30:\n",
    "    print(\"you cannot take my jokes.\")\n",
    "elif age == 40:\n",
    "    print(\"you are funny.\")\n",
    "else:\n",
    "    print(\"Thanks!\")"
   ]
  },
  {
   "cell_type": "markdown",
   "id": "d826ea9e-a989-4bb6-98bb-e9503dccfc5f",
   "metadata": {},
   "source": [
    "### Combining the operators"
   ]
  },
  {
   "cell_type": "code",
   "execution_count": 7,
   "id": "01cb3bed",
   "metadata": {},
   "outputs": [
    {
     "name": "stdout",
     "output_type": "stream",
     "text": [
      "you are too old.\n"
     ]
    }
   ],
   "source": [
    "age = 41\n",
    "if age>=20 and age<=25:\n",
    "    print(\"you can take my jokes.\")\n",
    "elif age>=26 and age<=35:\n",
    "    print(\"you cannot take my jokes.\")\n",
    "elif age>=36 and age<=40:\n",
    "    print(\"you are funny.\")\n",
    "elif age>=41:\n",
    "    print(\"you are too old.\")\n",
    "else:\n",
    "    print(\"Thanks!\")"
   ]
  },
  {
   "cell_type": "markdown",
   "id": "2426b540-9d96-4a17-90ad-0735cb940876",
   "metadata": {},
   "source": [
    "### Variables with no value."
   ]
  },
  {
   "cell_type": "code",
   "execution_count": 8,
   "id": "f758ef9c",
   "metadata": {},
   "outputs": [
    {
     "name": "stdout",
     "output_type": "stream",
     "text": [
      "The vaiable do not have any value.\n"
     ]
    }
   ],
   "source": [
    "value = None\n",
    "if value == None:\n",
    "    print(\"The vaiable do not have any value.\")"
   ]
  },
  {
   "cell_type": "markdown",
   "id": "3ddc37a7-8ea6-489b-8caf-392b490d96f1",
   "metadata": {},
   "source": [
    "### Strings into Numbers."
   ]
  },
  {
   "cell_type": "code",
   "execution_count": 9,
   "id": "7e8360e4",
   "metadata": {},
   "outputs": [
    {
     "name": "stdout",
     "output_type": "stream",
     "text": [
      "This is my age :  25\n"
     ]
    }
   ],
   "source": [
    "# This will not give any output\n",
    "age = '10'\n",
    "if age == 10:\n",
    "    print(age)\n",
    "\n",
    "# this will give output\n",
    "myage = '25'\n",
    "if myage == '25':\n",
    "    print(\"This is my age : \", myage)"
   ]
  },
  {
   "cell_type": "code",
   "execution_count": 10,
   "id": "3b64198f",
   "metadata": {},
   "outputs": [
    {
     "name": "stdout",
     "output_type": "stream",
     "text": [
      "10\n"
     ]
    }
   ],
   "source": [
    "# here we convert a string into a number.\n",
    "age = '10'\n",
    "converted_age = int(age)\n",
    "if converted_age == 10:\n",
    "    print(converted_age)"
   ]
  },
  {
   "cell_type": "code",
   "execution_count": 11,
   "id": "fff87f13",
   "metadata": {},
   "outputs": [
    {
     "name": "stdout",
     "output_type": "stream",
     "text": [
      "10.5\n"
     ]
    }
   ],
   "source": [
    "# To convert decimal string into decimal numbers we use float data type.\n",
    "age = '10.5'\n",
    "converted_age = float(age)\n",
    "if converted_age == 10.5:\n",
    "    print(converted_age)"
   ]
  },
  {
   "cell_type": "markdown",
   "id": "e29ead56-b263-43b7-a453-9aa942988ef4",
   "metadata": {},
   "source": [
    "### Number into a string."
   ]
  },
  {
   "cell_type": "code",
   "execution_count": 12,
   "id": "d738d24f",
   "metadata": {},
   "outputs": [
    {
     "name": "stdout",
     "output_type": "stream",
     "text": [
      "10\n"
     ]
    }
   ],
   "source": [
    "age = 10\n",
    "converted_age = str(age)\n",
    "if converted_age == '10':\n",
    "    print(converted_age)"
   ]
  }
 ],
 "metadata": {
  "kernelspec": {
   "display_name": "Python 3 (ipykernel)",
   "language": "python",
   "name": "python3"
  },
  "language_info": {
   "codemirror_mode": {
    "name": "ipython",
    "version": 3
   },
   "file_extension": ".py",
   "mimetype": "text/x-python",
   "name": "python",
   "nbconvert_exporter": "python",
   "pygments_lexer": "ipython3",
   "version": "3.13.0"
  }
 },
 "nbformat": 4,
 "nbformat_minor": 5
}
