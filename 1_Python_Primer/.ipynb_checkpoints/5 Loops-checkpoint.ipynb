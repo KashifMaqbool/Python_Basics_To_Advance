{
 "cells": [
  {
   "cell_type": "code",
   "execution_count": 1,
   "id": "787b9499",
   "metadata": {},
   "outputs": [],
   "source": [
    "# For Loops and rnage function"
   ]
  },
  {
   "cell_type": "code",
   "execution_count": 2,
   "id": "3c5bc715",
   "metadata": {},
   "outputs": [
    {
     "name": "stdout",
     "output_type": "stream",
     "text": [
      "Allaha\n",
      "Allaha\n",
      "Allaha\n",
      "Allaha\n",
      "Allaha\n"
     ]
    }
   ],
   "source": [
    "# without for loop.\n",
    "print(\"Allah\")\n",
    "print(\"Allah\")\n",
    "print(\"Allah\")\n",
    "print(\"Allah\")\n",
    "print(\"Allah\")"
   ]
  },
  {
   "cell_type": "code",
   "execution_count": 3,
   "id": "f3c16d7a",
   "metadata": {},
   "outputs": [
    {
     "name": "stdout",
     "output_type": "stream",
     "text": [
      "Allah\n",
      "Allah\n",
      "Allah\n",
      "Allah\n",
      "Allah\n"
     ]
    }
   ],
   "source": [
    "# using for loop and range function.\n",
    "for x in range(0,5):\n",
    "    print(\"Allah\")"
   ]
  },
  {
   "cell_type": "code",
   "execution_count": 3,
   "id": "02e30d21",
   "metadata": {},
   "outputs": [
    {
     "name": "stdout",
     "output_type": "stream",
     "text": [
      "[0, 1, 2, 3, 4, 5, 6, 7, 8, 9, 10, 11, 12, 13, 14]\n"
     ]
    }
   ],
   "source": [
    "# using range function in list\n",
    "print(list(range(0,15)))\n"
   ]
  },
  {
   "cell_type": "code",
   "execution_count": 11,
   "id": "4bde9391",
   "metadata": {},
   "outputs": [
    {
     "name": "stdout",
     "output_type": "stream",
     "text": [
      "Salam 0 \n",
      "Salam 1 \n",
      "Salam 2 \n",
      "Salam 3 \n",
      "Salam 4 \n"
     ]
    }
   ],
   "source": [
    "for i in range(0,5):\n",
    "    print(\"Salam %s \" %i)"
   ]
  },
  {
   "cell_type": "code",
   "execution_count": 12,
   "id": "9f5853b6",
   "metadata": {},
   "outputs": [
    {
     "name": "stdout",
     "output_type": "stream",
     "text": [
      "Salam 0 \n",
      "Salam 1 \n",
      "Salam 2 \n",
      "Salam 3 \n",
      "Salam 4 \n"
     ]
    }
   ],
   "source": [
    "# without using for loop and range function code will be like that.\n",
    "x = 0\n",
    "print(\"Salam %s \" %x)\n",
    "x = 1\n",
    "print(\"Salam %s \" %x)\n",
    "x = 2\n",
    "print(\"Salam %s \" %x)\n",
    "x = 3\n",
    "print(\"Salam %s \" %x)\n",
    "x = 4\n",
    "print(\"Salam %s \" %x)"
   ]
  },
  {
   "cell_type": "code",
   "execution_count": 13,
   "id": "73f4482b",
   "metadata": {},
   "outputs": [
    {
     "name": "stdout",
     "output_type": "stream",
     "text": [
      "Ahmad\n",
      "Ali\n",
      "Kashif\n",
      "Haseeb\n",
      "Saad\n"
     ]
    }
   ],
   "source": [
    "# Using list to implement for loop without range function.\n",
    "list = ['Ahmad', 'Ali', 'Kashif','Haseeb','Saad']\n",
    "for i in list:\n",
    "    print(i)"
   ]
  },
  {
   "cell_type": "code",
   "execution_count": 14,
   "id": "b10b9b60",
   "metadata": {},
   "outputs": [
    {
     "name": "stdout",
     "output_type": "stream",
     "text": [
      "Ahmad\n",
      "Ali\n",
      "Kashif\n",
      "Haseeb\n",
      "Saad\n"
     ]
    }
   ],
   "source": [
    "# without using looop our code will be like this.\n",
    "list = ['Ahmad', 'Ali', 'Kashif','Haseeb','Saad']\n",
    "print(list[0])\n",
    "print(list[1])\n",
    "print(list[2])\n",
    "print(list[3])\n",
    "print(list[4])"
   ]
  },
  {
   "cell_type": "code",
   "execution_count": null,
   "id": "ffb55226",
   "metadata": {},
   "outputs": [],
   "source": [
    "# printing list twice"
   ]
  },
  {
   "cell_type": "code",
   "execution_count": 15,
   "id": "8fcb18eb",
   "metadata": {},
   "outputs": [
    {
     "name": "stdout",
     "output_type": "stream",
     "text": [
      "Ahmad\n",
      "Ahmad\n",
      "Ali\n",
      "Ali\n",
      "Kashif\n",
      "Kashif\n"
     ]
    }
   ],
   "source": [
    "list = ['Ahmad', 'Ali', 'Kashif']\n",
    "for i in list:\n",
    "    print(i)\n",
    "    print(i)"
   ]
  },
  {
   "cell_type": "code",
   "execution_count": 16,
   "id": "c124bf21",
   "metadata": {},
   "outputs": [],
   "source": [
    "# but spaces or indentation needs to be consistent.\n"
   ]
  },
  {
   "cell_type": "code",
   "execution_count": 17,
   "id": "0054feee",
   "metadata": {},
   "outputs": [
    {
     "name": "stdout",
     "output_type": "stream",
     "text": [
      "Ahmad\n",
      "Ali\n"
     ]
    }
   ],
   "source": [
    "list = ['Ahmad', 'Ali', 'Kashif']\n",
    "for i in list:\n",
    "    print(i)\n",
    "    if i == 'Ali':\n",
    "        break\n",
    "        "
   ]
  },
  {
   "cell_type": "code",
   "execution_count": 19,
   "id": "ec53e4cd",
   "metadata": {},
   "outputs": [
    {
     "name": "stdout",
     "output_type": "stream",
     "text": [
      "Ali\n",
      "Ahmad\n",
      "Akbar\n",
      "Mulla\n"
     ]
    }
   ],
   "source": [
    "list = ['Ali', 'Ahmad','Akbar','Mulla']\n",
    "for i in list:\n",
    "    print(i)\n",
    "    if i=='Akbar':\n",
    "        continue"
   ]
  },
  {
   "cell_type": "code",
   "execution_count": 21,
   "id": "134c353e",
   "metadata": {},
   "outputs": [
    {
     "name": "stdout",
     "output_type": "stream",
     "text": [
      "Ahmad\n",
      "Ahmad\n",
      "Ali\n",
      "Ali\n"
     ]
    }
   ],
   "source": [
    "list = ['Ahmad', 'Ali', 'Kashif']\n",
    "for i in list:\n",
    "    print(i)\n",
    "    if i == 'Ali':\n",
    "        break\n",
    "    for j in list:\n",
    "        print(j)\n",
    "        if j=='Ali':\n",
    "            break"
   ]
  },
  {
   "cell_type": "code",
   "execution_count": 18,
   "id": "16520d45",
   "metadata": {},
   "outputs": [],
   "source": [
    "# Using While Loop in Python.\n"
   ]
  },
  {
   "cell_type": "code",
   "execution_count": 5,
   "id": "7819c00f",
   "metadata": {},
   "outputs": [
    {
     "name": "stdout",
     "output_type": "stream",
     "text": [
      "46 81\n",
      "47 82\n",
      "48 83\n",
      "49 84\n",
      "50 85\n"
     ]
    }
   ],
   "source": [
    "x = 45\n",
    "y = 80\n",
    "while x < 50 and y < 100:\n",
    "    x = x + 1\n",
    "    y = y + 1\n",
    "    print(x, y)\n"
   ]
  },
  {
   "cell_type": "code",
   "execution_count": 1,
   "id": "99954b55",
   "metadata": {},
   "outputs": [
    {
     "name": "stdout",
     "output_type": "stream",
     "text": [
      "1\n",
      "2\n",
      "3\n",
      "4\n",
      "5\n"
     ]
    }
   ],
   "source": [
    "i = 1\n",
    "while i < 6:\n",
    "    print(i)\n",
    "    i=i+1"
   ]
  },
  {
   "cell_type": "code",
   "execution_count": 27,
   "id": "c01f188f",
   "metadata": {},
   "outputs": [
    {
     "name": "stdout",
     "output_type": "stream",
     "text": [
      "2\n",
      "3\n",
      "4\n",
      "5\n",
      "6\n",
      "7\n",
      "8\n",
      "9\n",
      "10\n",
      "11\n",
      "12\n",
      "13\n",
      "14\n"
     ]
    }
   ],
   "source": [
    "i=2\n",
    "while i<20:\n",
    "    print(i)\n",
    "    i=i+1\n",
    "    if i==15:\n",
    "        break\n",
    "    "
   ]
  },
  {
   "cell_type": "code",
   "execution_count": null,
   "id": "c580a2cb",
   "metadata": {},
   "outputs": [],
   "source": []
  }
 ],
 "metadata": {
  "kernelspec": {
   "display_name": "Python 3 (ipykernel)",
   "language": "python",
   "name": "python3"
  },
  "language_info": {
   "codemirror_mode": {
    "name": "ipython",
    "version": 3
   },
   "file_extension": ".py",
   "mimetype": "text/x-python",
   "name": "python",
   "nbconvert_exporter": "python",
   "pygments_lexer": "ipython3",
   "version": "3.12.2"
  }
 },
 "nbformat": 4,
 "nbformat_minor": 5
}
