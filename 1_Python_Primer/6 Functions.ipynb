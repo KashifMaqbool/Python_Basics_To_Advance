{
 "cells": [
  {
   "cell_type": "markdown",
   "id": "1567ea58-7846-4147-b4c1-7695930b2b06",
   "metadata": {},
   "source": [
    "# Functions.\n",
    "#### List Range Functions (build in functions)."
   ]
  },
  {
   "cell_type": "code",
   "execution_count": 1,
   "id": "8c7a151f",
   "metadata": {},
   "outputs": [
    {
     "data": {
      "text/plain": [
       "[0, 1, 2, 3, 4]"
      ]
     },
     "execution_count": 1,
     "metadata": {},
     "output_type": "execute_result"
    }
   ],
   "source": [
    "list(range(0,5))"
   ]
  },
  {
   "cell_type": "markdown",
   "id": "4b2801b0-44ac-4106-b74c-52d3173ae85b",
   "metadata": {},
   "source": [
    "## Creating Functions"
   ]
  },
  {
   "cell_type": "code",
   "execution_count": 2,
   "id": "d0b9518a",
   "metadata": {},
   "outputs": [
    {
     "name": "stdout",
     "output_type": "stream",
     "text": [
      "My name is Kashif Maqbool Joiya\n"
     ]
    }
   ],
   "source": [
    "def function1():\n",
    "    print(\"My name is Kashif Maqbool.\")\n",
    "\n",
    "# Creating and Calling function\n",
    "def func():\n",
    "    print(\"My name is Kashif Maqbool Joiya\")\n",
    "func()"
   ]
  },
  {
   "cell_type": "markdown",
   "id": "e6f745ea-5cfa-440c-a1f8-52e045f7082d",
   "metadata": {},
   "source": [
    "## Calling a Function"
   ]
  },
  {
   "cell_type": "code",
   "execution_count": 3,
   "id": "3e5313d6",
   "metadata": {},
   "outputs": [
    {
     "name": "stdout",
     "output_type": "stream",
     "text": [
      "My name is Kashif Maqbool.\n"
     ]
    }
   ],
   "source": [
    "def function():\n",
    "    print(\"My name is Kashif Maqbool.\")\n",
    "function()"
   ]
  },
  {
   "cell_type": "markdown",
   "id": "a82b4893-b357-4b08-83d6-df79022fe071",
   "metadata": {},
   "source": [
    "## Parameters and arguments"
   ]
  },
  {
   "cell_type": "code",
   "execution_count": 4,
   "id": "3f29e7a1",
   "metadata": {},
   "outputs": [
    {
     "ename": "SyntaxError",
     "evalue": "expected ':' (2050340947.py, line 1)",
     "output_type": "error",
     "traceback": [
      "  \u001b[36mCell\u001b[39m\u001b[36m \u001b[39m\u001b[32mIn[4]\u001b[39m\u001b[32m, line 1\u001b[39m\n\u001b[31m    \u001b[39m\u001b[31mdef function(fname)                     # fname is used as parameter in this code\u001b[39m\n                                            ^\n\u001b[31mSyntaxError\u001b[39m\u001b[31m:\u001b[39m expected ':'\n"
     ]
    }
   ],
   "source": [
    "def function(fname)                     # fname is used as parameter in this code\n",
    "    print(\"Your name is \"  + fname)\n",
    "    \n",
    "function(\"Kashif Maqbool\")              # Kashif Maqbool, Haseeb Jawad and Pingla is used as arguments in this code\n",
    "function(\"Haseeb Jawad\")\n",
    "function(\"Pingla\")"
   ]
  },
  {
   "cell_type": "markdown",
   "id": "34989632-03d6-4120-bb44-ac0f47d36bd1",
   "metadata": {},
   "source": [
    "### Number of Arguments and parameters"
   ]
  },
  {
   "cell_type": "code",
   "execution_count": 5,
   "id": "074683db",
   "metadata": {},
   "outputs": [
    {
     "name": "stdout",
     "output_type": "stream",
     "text": [
      "My name is kashifMaqbool\n",
      "My name is HaseebJawad\n",
      "My name is Haseeb KhanKhalil-Ur-Rehman\n"
     ]
    }
   ],
   "source": [
    "def function(fname, lname):\n",
    "    print(\"My name is \"+fname+lname)\n",
    "    \n",
    "function('kashif','Maqbool')\n",
    "function('Haseeb','Jawad')\n",
    "function('Haseeb Khan','Khalil-Ur-Rehman')"
   ]
  },
  {
   "cell_type": "code",
   "execution_count": 6,
   "id": "788e2b2d",
   "metadata": {},
   "outputs": [
    {
     "name": "stdout",
     "output_type": "stream",
     "text": [
      "kashif Maqbool && Haseeb Jawad\n"
     ]
    }
   ],
   "source": [
    "# if you pass two parameters than number of arguments should be same.\n",
    "\n",
    "def function(fname,lname):\n",
    "    print(fname+lname)\n",
    "    \n",
    "function(\"kashif Maqbool && \",'Haseeb Jawad')\n",
    "\n",
    "#function(\"kashif\", \"Maqbool\",'Haseeb' ,'Jawad')\n",
    "# Error because function is expecting two arguments."
   ]
  },
  {
   "cell_type": "markdown",
   "id": "6692e9a6-4a6f-4788-b5a9-58a4f7f3435f",
   "metadata": {},
   "source": [
    "### arbitrary arguments"
   ]
  },
  {
   "cell_type": "code",
   "execution_count": 7,
   "id": "469cdd73",
   "metadata": {},
   "outputs": [
    {
     "name": "stdout",
     "output_type": "stream",
     "text": [
      "My name is Haseeb\n"
     ]
    }
   ],
   "source": [
    "def function(*fname):\n",
    "    print(\"My name is \" + fname[2])\n",
    "function('kashif','Maqbool','Haseeb','Jawad')"
   ]
  },
  {
   "cell_type": "markdown",
   "id": "cd31a98e-72c8-4a74-a3d4-beeff54fa0b4",
   "metadata": {},
   "source": [
    "### passing list as an arguments"
   ]
  },
  {
   "cell_type": "code",
   "execution_count": 12,
   "id": "537944b3",
   "metadata": {},
   "outputs": [
    {
     "name": "stdout",
     "output_type": "stream",
     "text": [
      "Kashif\n",
      "Maqbool\n",
      "Haseeb\n",
      "Jawad\n"
     ]
    }
   ],
   "source": [
    "def function(fname):\n",
    "    for x in fname:\n",
    "        print(x)\n",
    "    \n",
    "name = ['Kashif','Maqbool','Haseeb','Jawad']\n",
    "function(name)"
   ]
  },
  {
   "cell_type": "code",
   "execution_count": null,
   "id": "efccabbe-7e87-4796-8671-008befa6dfdb",
   "metadata": {},
   "outputs": [],
   "source": [
    "## Return Values"
   ]
  },
  {
   "cell_type": "code",
   "execution_count": null,
   "id": "b8a1ce9e",
   "metadata": {},
   "outputs": [],
   "source": [
    "def function(fname):\n",
    "    return 4*fname\n",
    "\n",
    "print(function(8))\n",
    "print(function(13))\n",
    "print(function(17))"
   ]
  },
  {
   "cell_type": "markdown",
   "id": "1c10f2b6-403d-4322-ad84-40ac9fbd1071",
   "metadata": {},
   "source": [
    "# Modules"
   ]
  },
  {
   "cell_type": "code",
   "execution_count": 9,
   "id": "7b4c802b",
   "metadata": {},
   "outputs": [
    {
     "name": "stdout",
     "output_type": "stream",
     "text": [
      "Wed Sep 10 10:08:39 2025\n"
     ]
    }
   ],
   "source": [
    "import time\n",
    "print(time.asctime())"
   ]
  },
  {
   "cell_type": "code",
   "execution_count": 10,
   "id": "7c54e84a",
   "metadata": {},
   "outputs": [],
   "source": [
    "# Another module example"
   ]
  },
  {
   "cell_type": "code",
   "execution_count": 11,
   "id": "8f91786d",
   "metadata": {},
   "outputs": [
    {
     "name": "stdout",
     "output_type": "stream",
     "text": [
      "What is this 21, 22 and 23 headache!\n"
     ]
    }
   ],
   "source": [
    "age = 20\n",
    "if age>=14 and age<=25:\n",
    "    print(\"What is this 21, 22 and 23 headache!\")\n",
    "else:\n",
    "    print(\"Huh!\")"
   ]
  }
 ],
 "metadata": {
  "kernelspec": {
   "display_name": "Python 3 (ipykernel)",
   "language": "python",
   "name": "python3"
  },
  "language_info": {
   "codemirror_mode": {
    "name": "ipython",
    "version": 3
   },
   "file_extension": ".py",
   "mimetype": "text/x-python",
   "name": "python",
   "nbconvert_exporter": "python",
   "pygments_lexer": "ipython3",
   "version": "3.13.0"
  }
 },
 "nbformat": 4,
 "nbformat_minor": 5
}
