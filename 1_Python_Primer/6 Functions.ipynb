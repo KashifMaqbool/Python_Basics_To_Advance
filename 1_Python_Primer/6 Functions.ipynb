{
 "cells": [
  {
   "cell_type": "code",
   "execution_count": 1,
   "id": "94324d9a",
   "metadata": {},
   "outputs": [],
   "source": [
    "# Functions.\n",
    "# List Range Functions (build in functions)."
   ]
  },
  {
   "cell_type": "code",
   "execution_count": 2,
   "id": "8c7a151f",
   "metadata": {},
   "outputs": [
    {
     "data": {
      "text/plain": [
       "[0, 1, 2, 3, 4]"
      ]
     },
     "execution_count": 2,
     "metadata": {},
     "output_type": "execute_result"
    }
   ],
   "source": [
    "list(range(0,5))"
   ]
  },
  {
   "cell_type": "code",
   "execution_count": 6,
   "id": "d0b9518a",
   "metadata": {},
   "outputs": [
    {
     "name": "stdout",
     "output_type": "stream",
     "text": [
      "My name is Kashif Maqbool Joiya\n"
     ]
    }
   ],
   "source": [
    "# Creating Functions\n",
    "\n",
    "def function1():\n",
    "    print(\"My name is Kashif Maqbool.\")\n",
    "\n",
    "# Creating and Calling function\n",
    "def func():\n",
    "    print(\"My name is Kashif Maqbool Joiya\")\n",
    "func()"
   ]
  },
  {
   "cell_type": "code",
   "execution_count": 2,
   "id": "3e5313d6",
   "metadata": {},
   "outputs": [
    {
     "name": "stdout",
     "output_type": "stream",
     "text": [
      "My name is Kashif Maqbool.\n"
     ]
    }
   ],
   "source": [
    "# Calling a Function\n",
    "\n",
    "def function():\n",
    "    print(\"My name is Kashif Maqbool.\")\n",
    "function()"
   ]
  },
  {
   "cell_type": "code",
   "execution_count": 23,
   "id": "3f29e7a1",
   "metadata": {},
   "outputs": [
    {
     "name": "stdout",
     "output_type": "stream",
     "text": [
      "Your name is Kashif Maqbool\n",
      "Your name is Haseeb Jawad\n",
      "Your name is Pingla\n"
     ]
    }
   ],
   "source": [
    "# Parameters and arguments\n",
    "\n",
    "def function(fname)                     # fname is used as parameter in this code\n",
    "    print(\"Your name is \"  + fname)\n",
    "    \n",
    "function(\"Kashif Maqbool\")              # Kashif Maqbool, Haseeb Jawad and Pingla is used as arguments in this code\n",
    "function(\"Haseeb Jawad\")\n",
    "function(\"Pingla\")"
   ]
  },
  {
   "cell_type": "code",
   "execution_count": 26,
   "id": "074683db",
   "metadata": {},
   "outputs": [
    {
     "name": "stdout",
     "output_type": "stream",
     "text": [
      "My name is kashifMaqbool\n",
      "My name is HaseebJawad\n",
      "My name is Haseeb KhanKhalil-Ur-Rehman\n"
     ]
    }
   ],
   "source": [
    "# Number of Arguments and parameters\n",
    "\n",
    "def function(fname, lname):\n",
    "    print(\"My name is \"+fname+lname)\n",
    "    \n",
    "function('kashif','Maqbool')\n",
    "function('Haseeb','Jawad')\n",
    "function('Haseeb Khan','Khalil-Ur-Rehman')"
   ]
  },
  {
   "cell_type": "code",
   "execution_count": 12,
   "id": "788e2b2d",
   "metadata": {},
   "outputs": [
    {
     "name": "stdout",
     "output_type": "stream",
     "text": [
      "kashif Maqbool && Haseeb Jawad\n"
     ]
    }
   ],
   "source": [
    "# if you pass two parameters than number of arguments should be same.\n",
    "\n",
    "def function(fname,lname):\n",
    "    print(fname+lname)\n",
    "    \n",
    "function(\"kashif Maqbool && \",'Haseeb Jawad')\n",
    "\n",
    "#function(\"kashif\", \"Maqbool\",'Haseeb' ,'Jawad')\n",
    "# Error because function is expecting two arguments."
   ]
  },
  {
   "cell_type": "code",
   "execution_count": 32,
   "id": "469cdd73",
   "metadata": {},
   "outputs": [
    {
     "name": "stdout",
     "output_type": "stream",
     "text": [
      "My name is Haseeb\n"
     ]
    }
   ],
   "source": [
    "# arbitrary arguments\n",
    "\n",
    "def function(*fname):\n",
    "    print(\"My name is \" + fname[2])\n",
    "function('kashif','Maqbool','Haseeb','Jawad')"
   ]
  },
  {
   "cell_type": "code",
   "execution_count": 38,
   "id": "537944b3",
   "metadata": {},
   "outputs": [
    {
     "name": "stdout",
     "output_type": "stream",
     "text": [
      "Kashif\n",
      "Maqbool\n",
      "Haseeb\n",
      "Jawad\n"
     ]
    }
   ],
   "source": [
    "# passing list as an arguments\n",
    "\n",
    "def function(fname):\n",
    "    for x in fname:\n",
    "        print(x)\n",
    "    \n",
    "    name = ['Kashif','Maqbool','Haseeb','Jawad']\n",
    "function(name)"
   ]
  },
  {
   "cell_type": "code",
   "execution_count": 52,
   "id": "b8a1ce9e",
   "metadata": {},
   "outputs": [
    {
     "name": "stdout",
     "output_type": "stream",
     "text": [
      "32\n",
      "52\n",
      "68\n"
     ]
    }
   ],
   "source": [
    "# Return Values\n",
    "\n",
    "def function(fname):\n",
    "    return 4*fname\n",
    "\n",
    "print(function(8))\n",
    "print(function(13))\n",
    "print(function(17))"
   ]
  },
  {
   "cell_type": "code",
   "execution_count": 11,
   "id": "943d88b0",
   "metadata": {},
   "outputs": [],
   "source": [
    "# Modules"
   ]
  },
  {
   "cell_type": "code",
   "execution_count": 8,
   "id": "7b4c802b",
   "metadata": {},
   "outputs": [
    {
     "name": "stdout",
     "output_type": "stream",
     "text": [
      "Mon Jun 12 08:11:59 2023\n"
     ]
    }
   ],
   "source": [
    "import time\n",
    "print(time.asctime())"
   ]
  },
  {
   "cell_type": "code",
   "execution_count": 14,
   "id": "7c54e84a",
   "metadata": {},
   "outputs": [],
   "source": [
    "# Another module example"
   ]
  },
  {
   "cell_type": "code",
   "execution_count": 9,
   "id": "8f91786d",
   "metadata": {},
   "outputs": [
    {
     "name": "stdout",
     "output_type": "stream",
     "text": [
      "What is this 21, 22 and 23 headache!\n"
     ]
    }
   ],
   "source": [
    "age = 20\n",
    "if age>=14 and age<=25:\n",
    "    print(\"What is this 21, 22 and 23 headache!\")\n",
    "else:\n",
    "    print(\"Huh!\")"
   ]
  },
  {
   "cell_type": "code",
   "execution_count": null,
   "id": "854159ac",
   "metadata": {},
   "outputs": [],
   "source": []
  }
 ],
 "metadata": {
  "kernelspec": {
   "display_name": "Python 3 (ipykernel)",
   "language": "python",
   "name": "python3"
  },
  "language_info": {
   "codemirror_mode": {
    "name": "ipython",
    "version": 3
   },
   "file_extension": ".py",
   "mimetype": "text/x-python",
   "name": "python",
   "nbconvert_exporter": "python",
   "pygments_lexer": "ipython3",
   "version": "3.12.2"
  }
 },
 "nbformat": 4,
 "nbformat_minor": 5
}
